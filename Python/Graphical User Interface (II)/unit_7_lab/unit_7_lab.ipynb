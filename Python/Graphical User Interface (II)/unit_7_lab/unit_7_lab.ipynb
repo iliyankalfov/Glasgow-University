{
 "cells": [
  {
   "cell_type": "markdown",
   "metadata": {
    "ExecuteTime": {
     "end_time": "2020-11-21T22:44:54.628127Z",
     "start_time": "2020-11-21T22:44:54.612546Z"
    }
   },
   "source": [
    "# Lab 7\n",
    "<br>\n",
    "\n",
    "# Graphical User Interface (II)\n",
    "\n",
    "---\n",
    "##### CS1P. Semester 2. Python 3.x\n",
    " ---"
   ]
  },
  {
   "cell_type": "markdown",
   "metadata": {
    "ExecuteTime": {
     "end_time": "2020-11-21T22:06:57.135040Z",
     "start_time": "2020-11-21T22:06:57.116260Z"
    }
   },
   "source": [
    "## Purpose of the lab\n",
    "\n",
    "This lab will test your skills on\n",
    "* errors and exceptions\n",
    "* problem solving\n",
    "* program planning\n",
    "* graphical user interface\n",
    "\n",
    "<br>\n",
    "\n",
    "\n",
    "For additional reference outside the lecture notes, this [article](https://coderslegacy.com/python/python-gui/) might come in handy. It covers all the widgets for the Tkinter library with examples."
   ]
  },
  {
   "cell_type": "markdown",
   "metadata": {},
   "source": [
    "**NOTES**\n",
    "\n",
    " <div class=\"alert alert-info\"> \n",
    "    The GUI images in this lab was generated on a windows machine. You may observe minor visual changes on different platforms. For instance, when I ran the code on my linux machine with a 4K screen display, the GUI appeared tiny (small DPI scaling).\n",
    "</div>"
   ]
  },
  {
   "cell_type": "markdown",
   "metadata": {},
   "source": [
    "# A. Currency converter\n",
    "\n",
    "In this task, you will implement a currency converter. The idea is to have a radio\n",
    "button for each of a range of currencies (as many as you want), and use the entry widget to enter an amount of money in whichever currency is currently selected by the buttons. Then selecting the buttons converts to other currencies.  Below is an example image to get you started.\n",
    "\n",
    "<img src=\"imgs/converter.png\" width=60%>\n",
    "\n",
    "**NOTES:**\n",
    "\n",
    "* For simplicity, the GUI above only has two currencies. You can add as many currencies as you want.\n",
    "* You can also change the layout and appearance of your GUI. The above image is just a starting point.\n",
    "* You might want to use string formatting to display results to two decimal places.\n",
    "* You need to think of the obvious errors that can arise while a user is interacting with your GUI and handle them correctly. \n",
    "* What if a user enters an amount and selects output currency button without selecting an input currency button? What if an output button is selected without an input amount? How would you handle these cases?\n",
    "* What else can go wrong? How would you handle it within your program?"
   ]
  },
  {
   "cell_type": "code",
   "execution_count": 69,
   "metadata": {},
   "outputs": [],
   "source": []
  },
  {
   "cell_type": "markdown",
   "metadata": {
    "ExecuteTime": {
     "end_time": "2020-12-07T17:11:32.769151Z",
     "start_time": "2020-12-07T17:11:32.753727Z"
    }
   },
   "source": [
    "<br>\n",
    "\n",
    "# B. GUI for generating poems\n",
    "\n",
    "In this task, you will write a GUI application for generating poetry. At the very least, your application should look similar to the image below. However, you are free to improve the visual aspects, for instance you may wish to add more colors.\n",
    "\n",
    "<img src=\"imgs/poem.png\" width=90%>\n",
    "\n",
    "Further, your application should do all of the following:\n",
    "\n",
    "1. The user should be required to enter the correct number of words in each `Entry` widget:\n",
    "    * At least three nouns\n",
    "    * At least three verbs\n",
    "    * At least three adjectives\n",
    "    * At least three prepositions\n",
    "    * At least one adverb\n",
    "    \n",
    "2. If too few words are entered into any of the Entry widgets, then a descriptive error message should be displayed in the area where the generated poem is shown.\n",
    "\n",
    "3. The program should check the user inputs unique words into each `Entry` widget. For example, if the user enters the same noun into the noun `Entry` widget twice, then the application should display an error message when the user tries to generate the poem.\n",
    "\n",
    "4. The program should randomly select three nouns, three verbs, three adjectives and three prepositions as well as one adverb from the user input.\n",
    "\n",
    "5. Using the randomly selected words, the program should generate and display a poem with the following structure inspired by [Clifford Pickover](https://en.wikipedia.org/wiki/Clifford_A._Pickover):\n",
    "\n",
    "    `{A/An} {adj1} {noun1}`\n",
    "\n",
    "    `{A/An} {adj1} {noun1} {verb1} {prep1} the {adj2} {noun2} {adverb1}, the {noun1} {verb2} the {noun2} {verb3} {prep2} {a/an} {adj3} {noun3}.`\n",
    "\n",
    "6. Here, `adj` stands for adjective and `prep` for preposition. Each time your program run, it should generate a new poem.\n",
    "\n",
    "7. [**Optional**] Make the GUI robust by detecting and handling as many errors as possible. Possible things to think of include:\n",
    "    * type of each word is a string\n",
    "    * the words are not separated by anything other than comma\n",
    "    "
   ]
  },
  {
   "cell_type": "code",
   "execution_count": null,
   "metadata": {},
   "outputs": [],
   "source": []
  },
  {
   "cell_type": "code",
   "execution_count": 1,
   "metadata": {},
   "outputs": [],
   "source": []
  },
  {
   "cell_type": "code",
   "execution_count": 2,
   "metadata": {},
   "outputs": [],
   "source": []
  },
  {
   "cell_type": "code",
   "execution_count": null,
   "metadata": {},
   "outputs": [],
   "source": []
  },
  {
   "cell_type": "markdown",
   "metadata": {},
   "source": [
    "# C. [Optional] Simulating an ATM\n",
    "\n",
    "The objective of this task is to write a program that (somewhat) simulates the operation of an ATM (Automated Teller Machine). Make sure to write a plan for the\n",
    "program before starting to write any code.\n",
    "\n",
    "**To do this exercise you will need to know about pickling. You will find more guidance on this below.**\n",
    "\n",
    "Bank account details are held in a file accounts.pck, which contains the pickled form of a dictionary with a certain structure which will be explained later. When the program is started, a dictionary storing bank account details is loaded from this file. The program then expects an account number to be entered (simulating the reading of a bank card), followed by a PIN. If the PIN is correct, a menu of options is offered, consisting of:\n",
    "\n",
    "* `w` – withdraw money\n",
    "* `d` – deposit money\n",
    "* `b` – display current balance\n",
    "* `m` – produce a mini-statement (details of the last 6 transactions)\n",
    "* `c` – cancel request\n",
    "\n",
    "When the transaction is complete, the program again expects an account number. This\n",
    "process continues until the account number `0` is entered, at which point the dictionary of account details is dumped to a new file called *new_accounts.pck*, and the program terminates. (It would be more realistic to dump the account details back to the original file, but this would make program development more problematic – the file might become corrupted because of programming errors.)\n",
    "\n",
    "The effect of choosing each of the options is as follows:\n",
    "\n",
    "* `w`: the program expects to input a floating-point number, representing the amount to be withdrawn. If this does not exceed the balance in the account, this amount is\n",
    "  subtracted from the balance, and the list of the last 6 transactions is updated,\n",
    "  otherwise an error message is displayed.\n",
    "\n",
    "* `d`: the program expects to input a floating-point number, representing the amount to be deposited. This amount is added to the balance, and the list of the last 6\n",
    "  transactions is updated.\n",
    "\n",
    "* `b`: the current balance in the account is displayed.\n",
    "\n",
    "* `m`: a \"mini-statement\", consisting of the last 6 transactions, together with the current balance, is displayed.\n",
    "\n",
    "* `c`: the transaction is cancelled (i.e., nothing is done to this account)\n",
    "    \n",
    "### Data structures\n",
    "\n",
    "The main data structure is a dictionary with account numbers (represented by strings) as keys, and account details as values. **You must use this structure, otherwise you will not be able to use the data in accounts.pck**.\n",
    "\n",
    "Details of an account are stored in a dictionary with the following keys and values.\n",
    "\n",
    "* \"pin\": the PIN, as a string\n",
    "\n",
    "* \"balance\": the account balance, as a floating point number\n",
    "\n",
    "* \"transactions\": a list of the last 6 transactions\n",
    "    \n",
    "One transaction is stored as a dictionary with the following keys and values:\n",
    "\n",
    "* \"date\": the date and time of the transaction, as a string\n",
    "\n",
    "* \"nature\": a string, \"w\" for a withdrawal or \"d\" for a deposit\n",
    "\n",
    "* \"amount\": the amount of the withdrawal or deposit, as a floating point number\n",
    "    \n",
    "### What you are given\n",
    "\n",
    "When you set up the exercise from the Lab 7 files on Moodle, you will obtain:\n",
    "\n",
    "*   a file `accounts.pck`\n",
    "\n",
    "* a file `date.py`, which you can import as a module; it provides the function *getDate()*  which obtains the current date and time and formats them into a string\n",
    "\n",
    "* a file `display.py`, which you can use to display the account details from a file such as `accounts.pck`. This is useful for testing.\n"
   ]
  },
  {
   "cell_type": "code",
   "execution_count": 17,
   "metadata": {},
   "outputs": [],
   "source": [
    "import pickle\n",
    "\n",
    "# you can run this cell should you wish \n",
    "# to reset accounts.pck to its default setting.\n",
    "\n",
    "# This also shows how to write a data structure to a pickle file\n",
    "\n",
    "# new_accounts = {'12345678': {'pin': '4321', 'balance': 122.0, 'transactions': []}, \n",
    "#'98765432': {'pin': '2222', 'balance': 0, 'transactions': []}, \n",
    "# '86421357': {'pin': '1357', 'balance': 40, 'transactions': []}}\n",
    "\n",
    "accounts = {'12345678': {'pin': '4321', 'balance': 122.0, \n",
    "'transactions': [{'date': '18-12-2017, 17:37:01', 'nature': 'd', 'amount': 40.0}, \n",
    "{'date': '18-12-2017, 17:37:11', 'nature': 'w', 'amount': 18.0}]}, \n",
    "            '98765432': {'pin': '2222', 'balance': 0, 'transactions': []}, \n",
    "            '86421357': {'pin': '1357', 'balance': 40, 'transactions': []}}\n",
    "\n",
    "with open( \"accounts.pck\", \"wb\" ) as f:\n",
    "    pickle.dump(accounts, f)"
   ]
  },
  {
   "cell_type": "code",
   "execution_count": 18,
   "metadata": {},
   "outputs": [
    {
     "name": "stdout",
     "output_type": "stream",
     "text": [
      "12345678 {'pin': '4321', 'balance': 122.0, 'transactions': [{'date': '18-12-2017, 17:37:01', 'nature': 'd', 'amount': 40.0}, {'date': '18-12-2017, 17:37:11', 'nature': 'w', 'amount': 18.0}]}\n",
      "98765432 {'pin': '2222', 'balance': 0, 'transactions': []}\n",
      "86421357 {'pin': '1357', 'balance': 40, 'transactions': []}\n",
      "<class 'dict'>\n"
     ]
    }
   ],
   "source": [
    "import pickle\n",
    "\n",
    "# == read in the dictionary stored within \n",
    "# accounts.pck into a variable named bank\n",
    "# notice the type of bank is a dictionary\n",
    "# == this is what pickling is best used for,\n",
    "# to preserve the type of a data structure within a file\n",
    "with open(\"accounts.pck\",\"rb\") as f:\n",
    "    bank = pickle.load(f)\n",
    "\n",
    "# Now bank stores the banking details \n",
    "# as a dictionary which you can then use within your program\n",
    "\n",
    "for key, value in bank.items():\n",
    "    print(key, value)\n",
    "print(type(bank))"
   ]
  },
  {
   "cell_type": "markdown",
   "metadata": {},
   "source": [
    "If you want to know more about pickling, check out this [article](https://wiki.python.org/moin/UsingPickle). Note that this is outside the scope of CS1P."
   ]
  },
  {
   "cell_type": "markdown",
   "metadata": {},
   "source": [
    "## C.1 Implementing the program without mini-statements\n",
    "\n",
    " It is advisable to develop this program incrementally, testing at each stage. A possible strategy is as follows.\n",
    "\n",
    "1. Write code to load the dictionary of account details from *accounts.pck* and dump it to *new_accounts.pck*. You will need to import the pickle module. Use *display.py* to check that this works. This will also let you see the details of the accounts in *accounts.pck*, which will be useful for testing later.\n",
    "\n",
    "2. Implement the main loop of the program (i.e., terminating when account number 0 is entered) but without checking the account number or processing any options.\n",
    "\n",
    "3. Write code to check that the account number is valid, and to input and check the PIN\n",
    "\n",
    "4. Write code to input an option and process it, at first just outputting confirmation of which option was chosen.\n",
    "\n",
    "5. Implement the \"display balance\" option and test it.\n",
    "\n",
    "6. Implement the \"deposit\" and \"withdraw\" options, and test them.\n",
    "\n",
    "For simplicity, assume that data is always entered in the correct format."
   ]
  },
  {
   "cell_type": "code",
   "execution_count": null,
   "metadata": {},
   "outputs": [],
   "source": []
  },
  {
   "cell_type": "markdown",
   "metadata": {},
   "source": [
    "## C.2:  Mini-statements\n",
    "\n",
    "Extend your code from C.1 so that the option of producing a mini-statement is\n",
    "implemented. Below is a sample input and output.\n",
    "\n",
    "<img src=\"imgs/transaction.png\" width=50%>"
   ]
  },
  {
   "cell_type": "code",
   "execution_count": null,
   "metadata": {},
   "outputs": [],
   "source": []
  },
  {
   "cell_type": "markdown",
   "metadata": {},
   "source": [
    "## C.3:  Adding a GUI\n",
    "\n",
    "Implement a GUI for your program. Make sure to draw the layout of what you want your GUI to look like. Will you choose buttons? What type? Where will you place your Labels? Where and how will the output message be displayed? This will require significant restructuring, although the core of the implementation of each option will remain the same."
   ]
  },
  {
   "cell_type": "code",
   "execution_count": null,
   "metadata": {},
   "outputs": [],
   "source": []
  },
  {
   "cell_type": "code",
   "execution_count": null,
   "metadata": {},
   "outputs": [],
   "source": []
  }
 ],
 "metadata": {
  "kernelspec": {
   "display_name": "Python 3",
   "language": "python",
   "name": "python3"
  },
  "language_info": {
   "codemirror_mode": {
    "name": "ipython",
    "version": 3
   },
   "file_extension": ".py",
   "mimetype": "text/x-python",
   "name": "python",
   "nbconvert_exporter": "python",
   "pygments_lexer": "ipython3",
   "version": "3.8.5"
  },
  "latex_envs": {
   "LaTeX_envs_menu_present": true,
   "autoclose": false,
   "autocomplete": true,
   "bibliofile": "biblio.bib",
   "cite_by": "apalike",
   "current_citInitial": 1,
   "eqLabelWithNumbers": true,
   "eqNumInitial": 1,
   "hotkeys": {
    "equation": "Ctrl-E",
    "itemize": "Ctrl-I"
   },
   "labels_anchors": false,
   "latex_user_defs": false,
   "report_style_numbering": false,
   "user_envs_cfg": false
  },
  "toc": {
   "base_numbering": 1,
   "nav_menu": {},
   "number_sections": false,
   "sideBar": true,
   "skip_h1_title": false,
   "title_cell": "Table of Contents",
   "title_sidebar": "Contents",
   "toc_cell": false,
   "toc_position": {},
   "toc_section_display": true,
   "toc_window_display": false
  }
 },
 "nbformat": 4,
 "nbformat_minor": 4
}
