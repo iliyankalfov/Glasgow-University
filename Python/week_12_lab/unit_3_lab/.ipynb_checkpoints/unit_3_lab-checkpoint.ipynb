{
 "cells": [
  {
   "cell_type": "markdown",
   "metadata": {
    "ExecuteTime": {
     "end_time": "2020-11-21T22:44:54.628127Z",
     "start_time": "2020-11-21T22:44:54.612546Z"
    }
   },
   "source": [
    "# Lab 3\n",
    "<br>\n",
    "\n",
    "# Searching and Sorting Algorithms\n",
    "---\n",
    "\n",
    "##### CS1P. Semester 2. Python 3.x\n",
    "\n",
    " ---"
   ]
  },
  {
   "cell_type": "markdown",
   "metadata": {
    "ExecuteTime": {
     "end_time": "2020-11-21T22:06:57.135040Z",
     "start_time": "2020-11-21T22:06:57.116260Z"
    }
   },
   "source": [
    "## Purpose of the lab\n",
    "\n",
    "The purpose of this lab is to improve your problem solving skills, while solidifying your knowledge on files and recursion. The problems will also test your knowledge on \n",
    "* searching algorithms, \n",
    "* sorting algorithms, and \n",
    "* analysing the time complexity of your program.\n",
    "\n",
    "Note that the problems are not arranged according to order of difficulty. The A part is on searching, while the B part is on sorting."
   ]
  },
  {
   "cell_type": "code",
   "execution_count": 1,
   "metadata": {
    "ExecuteTime": {
     "end_time": "2021-01-24T17:45:45.968575Z",
     "start_time": "2021-01-24T17:45:45.955445Z"
    }
   },
   "outputs": [],
   "source": [
    "from utils.tick import tick"
   ]
  },
  {
   "cell_type": "markdown",
   "metadata": {
    "ExecuteTime": {
     "end_time": "2020-11-29T10:30:26.755384Z",
     "start_time": "2020-11-29T10:30:26.735540Z"
    }
   },
   "source": []
  },
  {
   "cell_type": "markdown",
   "metadata": {
    "ExecuteTime": {
     "end_time": "2020-12-07T04:42:09.318796Z",
     "start_time": "2020-12-07T04:42:09.288081Z"
    }
   },
   "source": [
    "## A. Searching"
   ]
  },
  {
   "cell_type": "markdown",
   "metadata": {},
   "source": [
    "## A.1 Recursive binary search\n",
    "\n",
    "In the lecture, we studied an implementation of binary search that uses iterations (i.e., loops). Given a sorted list and a search value, your task is to implement a recursive version of binary search (`binary_recursive`) that outputs the index of the search value if it is in the list, or `None` otherwise.\n",
    "\n",
    "<img src=\"imgs/bsearch.jpg\" width=70%>"
   ]
  },
  {
   "cell_type": "code",
   "execution_count": 2,
   "metadata": {
    "ExecuteTime": {
     "end_time": "2021-01-24T17:45:48.221347Z",
     "start_time": "2021-01-24T17:45:48.181713Z"
    }
   },
   "outputs": [
    {
     "data": {
      "text/plain": [
       "4"
      ]
     },
     "execution_count": 2,
     "metadata": {},
     "output_type": "execute_result"
    }
   ],
   "source": [
    "def binary_recursive(l,val,lower=0,upper=0):\n",
    "    if upper == 0:\n",
    "        upper = len(l)-1\n",
    "    if val in l:\n",
    "        middle = (lower + upper)//2\n",
    "        if l[middle] == val:\n",
    "            return middle\n",
    "        elif l[middle]>val:\n",
    "            return binary_recursive(l,val,lower,middle-1) \n",
    "        elif l[middle]<val:\n",
    "            return binary_recursive(l,val,middle+1,upper)\n",
    "    else:\n",
    "        return None\n",
    "binary_recursive([2,3,5,6,7,9,10],7)\n"
   ]
  },
  {
   "cell_type": "code",
   "execution_count": 9,
   "metadata": {
    "ExecuteTime": {
     "end_time": "2021-01-24T17:45:56.209384Z",
     "start_time": "2021-01-24T17:45:56.170282Z"
    }
   },
   "outputs": [
    {
     "data": {
      "text/html": [
       " <h3> <font color=\"green\"> ✓ Correct </font> </h3>"
      ],
      "text/plain": [
       "<IPython.core.display.HTML object>"
      ]
     },
     "metadata": {},
     "output_type": "display_data"
    }
   ],
   "source": [
    "with tick():\n",
    "    assert binary_recursive([2,3,5,6,7,9,10], 10) == 6\n",
    "    assert binary_recursive([2,3,7,7,7,9,10], 7) == 3\n",
    "    assert binary_recursive([5,6,8,9,10], 5) == 0\n",
    "    assert binary_recursive([2,3,10], 7) == None\n",
    "    assert binary_recursive([4,5,5,7,8,9,10], 10) == 6\n",
    "    assert binary_recursive([2,3,4,7,7,9,10,11,11,11], 11) == 7\n",
    "    assert binary_recursive([], 3) == None\n",
    "    assert binary_recursive([1,1,1,1,1,1,1,2,3,7,8,9,10,11,12], 1) == 3\n",
    "    assert binary_recursive([1,2,3,7,7,9,9,9,9,9,9,9,9,10,11], 9) == 7\n",
    "    assert binary_recursive([9,9,9,9,9,9,9,9,9,9,9,9,9,9,9,9,9,9], 9) == 8"
   ]
  },
  {
   "cell_type": "markdown",
   "metadata": {
    "ExecuteTime": {
     "end_time": "2020-12-07T09:43:57.015320Z",
     "start_time": "2020-12-07T09:43:56.980053Z"
    }
   },
   "source": [
    "## A.2 First and last occurrence in binary search\n",
    " \n",
    "(a) Building on your recursive version of binary search from above, implement a function `first_and_last` that returns the indexes of both the first occurrence and the last occurrence of an integer in a sorted list of integers. What is the time complexity of your implementation?\n",
    "\n",
    "**Examples**\n",
    "```Python3\n",
    "lst = [1, 3, 6, 7, 7, 7 ,88, 103, 426]\n",
    "\n",
    "first_and_last(lst, 7)\n",
    ">>> [3, 5]\n",
    "\n",
    "first_and_last(lst, 6)\n",
    ">>> [2, 2]\n",
    "\n",
    "first_and_last(lst, 10)\n",
    ">>> [None, None]\n",
    "```\n",
    "\n",
    "**Explanation**\n",
    "* The first occurrence of integer `7` is in index `3` and the last occurrence is in index `5`. So we output `[3, 5]`.\n",
    "* Integer `6` appears only once in the list, so its first and last occurrence is in index `2`. Thus, we output `[2, 2]`.\n",
    "* Integer `10` is not in the list, so we output `[None, None]`."
   ]
  },
  {
   "cell_type": "code",
   "execution_count": 13,
   "metadata": {
    "ExecuteTime": {
     "end_time": "2021-01-24T17:57:55.233757Z",
     "start_time": "2021-01-24T17:57:55.207684Z"
    }
   },
   "outputs": [
    {
     "data": {
      "text/plain": [
       "[7, 9]"
      ]
     },
     "execution_count": 13,
     "metadata": {},
     "output_type": "execute_result"
    }
   ],
   "source": [
    "def first_and_last(l,val):\n",
    "    index = binary_recursive(l,val)\n",
    "    first_index = index\n",
    "    last_index = index\n",
    "    if index != None:\n",
    "        i=1\n",
    "        while (index - i) >= 0 and l[index - i] == l[index]:\n",
    "            first_index = index - i\n",
    "            i+=1\n",
    "        y=1\n",
    "        while (index + y) <= len(l)-1 and l[index + y] == l[index]:\n",
    "            last_index = index + y\n",
    "            y+=1\n",
    "    return [first_index, last_index]\n",
    "first_and_last([2,3,4,7,7,9,10,11,11,11], 11)"
   ]
  },
  {
   "cell_type": "code",
   "execution_count": 14,
   "metadata": {
    "ExecuteTime": {
     "end_time": "2021-01-24T17:57:56.213643Z",
     "start_time": "2021-01-24T17:57:56.180088Z"
    }
   },
   "outputs": [
    {
     "data": {
      "text/html": [
       " <h3> <font color=\"green\"> ✓ Correct </font> </h3>"
      ],
      "text/plain": [
       "<IPython.core.display.HTML object>"
      ]
     },
     "metadata": {},
     "output_type": "display_data"
    }
   ],
   "source": [
    "with tick():\n",
    "    assert first_and_last([2,3,5,6,7,9,10], 10) == [6,6]\n",
    "    assert first_and_last([2,3,7,7,7,9,10], 7) == [2,4]\n",
    "    assert first_and_last([5,6,8,9,10], 5) == [0,0]\n",
    "    assert first_and_last([2,3,10], 7) == [None, None]\n",
    "    assert first_and_last([4,5,5,7,8,9,10], 10) == [6,6]\n",
    "    assert first_and_last([2,3,4,7,7,9,10,11,11,11], 11) == [7,9]\n",
    "    assert first_and_last([], 7) == [None, None]\n",
    "    assert first_and_last([1,1,1,1,1,1,1,2,3,7,8,9,10,11,12], 1) == [0,6]\n",
    "    assert first_and_last([1,2,3,7,7,9,9,9,9,9,9,9,9,10,11], 9) == [5,12]\n",
    "    assert first_and_last([9,9,9,9,9,9,9,9,9,9,9,9,9,9,9,9,9,9], 9) == [0,17]\n"
   ]
  },
  {
   "cell_type": "markdown",
   "metadata": {
    "ExecuteTime": {
     "end_time": "2020-12-07T11:18:24.870164Z",
     "start_time": "2020-12-07T11:18:24.847194Z"
    }
   },
   "source": [
    "## B. Sorting"
   ]
  },
  {
   "cell_type": "markdown",
   "metadata": {
    "ExecuteTime": {
     "end_time": "2020-12-07T11:18:24.870164Z",
     "start_time": "2020-12-07T11:18:24.847194Z"
    }
   },
   "source": [
    "## B.1 Find runner-up score\n",
    "\n",
    "Write a function `runner_up` that finds the runner-up score, given a list of scores. Test that function is working as expected.\n",
    "\n",
    "**Examples:**\n",
    "```Python\n",
    "runner_up([2,6,3,5,6,3,4,6,6])\n",
    ">>> 5\n",
    "```\n",
    "```Python\n",
    "runner_up([-5,-3,5,5,5,-5])\n",
    ">>> -3\n",
    "```\n",
    "\n",
    "**Note:**\n",
    "1. Do NOT assume that the scores are sorted.\n",
    "1. You are not allowed to use any Python built-in function.\n",
    "2. You can assume that the smallest score in the list is `-100`.\n",
    "3. What is the time complexity of your function? ($O(n)$ is desirable)."
   ]
  },
  {
   "cell_type": "code",
   "execution_count": 7,
   "metadata": {
    "ExecuteTime": {
     "end_time": "2021-01-05T14:30:09.227439Z",
     "start_time": "2021-01-05T14:30:09.200174Z"
    }
   },
   "outputs": [
    {
     "data": {
      "text/plain": [
       "1"
      ]
     },
     "execution_count": 7,
     "metadata": {},
     "output_type": "execute_result"
    }
   ],
   "source": [
    "import random\n",
    "# your solution comes here\n",
    "def quick_sort(l):\n",
    "    if len(l)<2:\n",
    "        return l\n",
    "    lesser, equal, bigger = [],[],[]\n",
    "    pivot = random.choice(l)\n",
    "    for elt in l:\n",
    "        if elt < pivot:\n",
    "            lesser.append(elt)\n",
    "        elif elt == pivot:\n",
    "            equal.append(elt)\n",
    "        elif elt > pivot:\n",
    "            bigger.append(elt)\n",
    "    return quick_sort(lesser) + equal + quick_sort(bigger)\n",
    "\n",
    "def runner_up(l):\n",
    "    new_l = quick_sort(l)\n",
    "    index = len(new_l)-1\n",
    "    runner_up_index = index\n",
    "    i = 1\n",
    "    while index - i > 0 and new_l[index - i] == new_l[index]:\n",
    "        runner_up_index = index - i\n",
    "        i+=1\n",
    "    return new_l[runner_up_index-1]\n",
    "\n",
    "runner_up([1,2,2,1,1,2,2,1,1,])\n",
    "        "
   ]
  },
  {
   "cell_type": "markdown",
   "metadata": {
    "ExecuteTime": {
     "end_time": "2020-11-29T10:30:26.755384Z",
     "start_time": "2020-11-29T10:30:26.735540Z"
    }
   },
   "source": []
  },
  {
   "cell_type": "markdown",
   "metadata": {
    "ExecuteTime": {
     "end_time": "2020-11-29T10:30:26.755384Z",
     "start_time": "2020-11-29T10:30:26.735540Z"
    }
   },
   "source": [
    "## B.2  Most popular age\n",
    "The file `students.txt` is a record of `n=10,000` students enrolled in a University's undergraduate programme, along with their age (the image below displays the record of the first 10 students in the txt file). The programme coordinator would like to know the most popular age in this record. Your task is as follows:\n",
    "1. Write a function that reads in the file and returns the ages in a list.\n",
    "2. Write a function `most_popular_age` that takes the ages as a parameter, and returns the most popular age in the list.\n",
    "3. What is the time complexity of your `most_popular_age` function? Ignore the time it takes to read in the .txt file.\n",
    "\n",
    "<img src=\"imgs/students.png\" width=\"90%\">\n",
    "\n",
    "<br>\n",
    "\n",
    "**NOTE:**\n",
    "1. Assume the minimum age is `17` and maximum age is `25`.\n",
    "2. To save computer memory, think of how you can extract each student's age without storing their names.\n",
    "3. Do NOT use the built-in sorting function -- it will take $O(n \\log n)$ time (in theory).\n",
    "4. Consider using [counting sort](https://en.wikipedia.org/wiki/Counting_sort). You can also check out the lecture notes for a descriptive image of how counting sort works.\n",
    "\n",
    "It is important to highlight that Python's built-in sorting function (Tim sort) is very efficient and the implementation has been optimised, especially for lists that are almost sorted. However, for some category of problems and input, using .sort() is not always ideal. The purpose of this task is to help you think of a different approach to solving the problem at hand using other sorting algorithms. "
   ]
  },
  {
   "cell_type": "code",
   "execution_count": 94,
   "metadata": {
    "ExecuteTime": {
     "end_time": "2021-01-24T18:46:47.704834Z",
     "start_time": "2021-01-24T18:46:46.588617Z"
    }
   },
   "outputs": [
    {
     "data": {
      "text/plain": [
       "22"
      ]
     },
     "execution_count": 94,
     "metadata": {},
     "output_type": "execute_result"
    }
   ],
   "source": [
    "def read_list(filename):\n",
    "    ages = []\n",
    "    with open(filename) as file:\n",
    "        line = file.readline().strip().split()\n",
    "        ages.append(int(line[len(line)-1]))\n",
    "        while len(line) > 0:\n",
    "            line = file.readline().strip().split()\n",
    "            if len(line) > 0:\n",
    "                ages.append(int(line[len(line)-1]))\n",
    "    return ages        \n",
    "\n",
    "def countSort(arr):\n",
    "    count = [0 for i in range(10_000)] \n",
    "    for i in arr: \n",
    "        count[i] += 1\n",
    "    \n",
    "    max_count = max(count)\n",
    "    for i in range(len(count)):\n",
    "        if count[i] == max_count:\n",
    "            return i\n",
    "        \n",
    "\n",
    "ages = read_list(\"students.txt\")\n",
    "def most_popular_age(ages):\n",
    "    age = countSort(ages)\n",
    "    return age\n",
    "        \n",
    "most_popular_age(ages)"
   ]
  },
  {
   "cell_type": "markdown",
   "metadata": {},
   "source": [
    "## B.3 In-place version of quick sort \n",
    "The version of quick sort that was implemented in the lecture copies over the element into a new list during partitioning, which takes up space. In this task, you will implement an optimised version of quick sort (the in-place version). We say an implementation of a sorting algorithm is **in-place** if no additional lists are created during the sorting process.\n",
    "\n",
    "You should follow the [Lomuto partitioning method](https://en.wikipedia.org/wiki/Quicksort#Algorithm). Steps for an in-place quick sort using the Lomuto partitioning method is given below:\n",
    "\n",
    "* Select the last element as your pivot.\n",
    "* The partition function should partition the sub-list and then return the index location where the pivot gets placed, so you can then call partition on each side of the pivot.\n",
    "* If an element is lower than the pivot, you should swap it with a larger element on the left-side of the sub-list.\n",
    "* Greater elements should remain where they are.\n",
    "* At the end of the partitioning, the pivot should be swapped with the first element of the right partition, consisting of all larger elements, of the sub-list.\n",
    "* To ensure that you don't swap a small element with another small element, use an index to keep track of the small elements that have already been swapped into their \"place\".\n",
    "\n",
    "![QuickSort](imgs/Lomuto_animated.gif \"quicksort\")\n",
    "\n",
    "*Gif credit*: [Wikipedia](https://upload.wikimedia.org/wikipedia/commons/8/84/Lomuto_animated.gif)"
   ]
  },
  {
   "cell_type": "code",
   "execution_count": 100,
   "metadata": {
    "ExecuteTime": {
     "end_time": "2021-01-05T14:40:11.930774Z",
     "start_time": "2021-01-05T14:40:11.901753Z"
    }
   },
   "outputs": [
    {
     "name": "stdout",
     "output_type": "stream",
     "text": [
      "[1, 2, 2, 3, 4]\n"
     ]
    }
   ],
   "source": [
    "# in your partitioning function\n",
    "# you need to always select the last element as pivot\n",
    "# think of how you can throw in a flavour of randomness \n",
    "# to enforce a total time complexity of O(nlogn)\n",
    "def partition(l,low,high):\n",
    "    pivot = l[high]\n",
    "    i = low\n",
    "    for j in range(low,high):\n",
    "        if l[j] < pivot:\n",
    "            l[j], l[i] = l[i], l[j]\n",
    "            i = i + 1\n",
    "    l[i], l[high] = l[high], l[i]\n",
    "    return i\n",
    "\n",
    "def quick_sort(l,low,high):\n",
    "    if low < high:\n",
    "        p = partition(l,low,high)\n",
    "        quick_sort(l,low,p-1)\n",
    "        quick_sort(l,p+1,high)\n",
    "        \n",
    "        \n",
    "l = [1,3,2,4,2]\n",
    "quick_sort(l,0,len(l)-1)\n",
    "print(l)\n",
    "    "
   ]
  },
  {
   "cell_type": "markdown",
   "metadata": {
    "ExecuteTime": {
     "end_time": "2020-12-07T18:09:01.387380Z",
     "start_time": "2020-12-07T18:09:01.367174Z"
    }
   },
   "source": []
  },
  {
   "cell_type": "markdown",
   "metadata": {},
   "source": [
    "---\n",
    "Something very easy to conclude the lab problems :)\n",
    "\n",
    "---\n",
    "\n",
    "## B.4 Sort Alphabets\n",
    "\n",
    "Using your in-place quick sort implementation from above, write a function `sort_alphabet` that takes a string and returns the string with its letters in alphabetical order.\n",
    "\n",
    "**Examples:**\n",
    "\n",
    "```Python\n",
    "sort_alphabet(\"computing\")\n",
    ">>> \"cgimnoptu\"\n",
    "```\n",
    "<br>\n",
    "\n",
    "```Python\n",
    "sort_alphabet(\"programming\")\n",
    ">>> 'aggimmnoprr'\n",
    "```"
   ]
  },
  {
   "cell_type": "code",
   "execution_count": 105,
   "metadata": {
    "ExecuteTime": {
     "end_time": "2021-01-24T19:04:08.892519Z",
     "start_time": "2021-01-24T19:04:08.873980Z"
    }
   },
   "outputs": [
    {
     "name": "stdout",
     "output_type": "stream",
     "text": [
      "abc\n"
     ]
    }
   ],
   "source": [
    "def sort_alphabet(string):\n",
    "    new_l = [ord(elt) for elt in string]\n",
    "    quick_sort(new_l,0,len(new_l)-1)\n",
    "    new_l = [chr(elt) for elt in new_l]\n",
    "    return \"\".join(new_l)"
   ]
  },
  {
   "cell_type": "code",
   "execution_count": 106,
   "metadata": {
    "ExecuteTime": {
     "end_time": "2021-01-24T19:04:09.246651Z",
     "start_time": "2021-01-24T19:04:09.230961Z"
    }
   },
   "outputs": [
    {
     "data": {
      "text/html": [
       " <h3> <font color=\"green\"> ✓ Correct </font> </h3>"
      ],
      "text/plain": [
       "<IPython.core.display.HTML object>"
      ]
     },
     "metadata": {},
     "output_type": "display_data"
    }
   ],
   "source": [
    "with tick():\n",
    "    assert sort_alphabet(\"computing\") == \"cgimnoptu\"\n",
    "    assert sort_alphabet(\"programming\") == \"aggimmnoprr\"\n",
    "    assert sort_alphabet(\"\") == \"\"\n",
    "    assert sort_alphabet(\"glasgow\") == \"agglosw\"\n",
    "    assert sort_alphabet(\"netflix\") == \"efilntx\"\n",
    "    assert sort_alphabet(\"kayak\") == \"aakky\""
   ]
  },
  {
   "cell_type": "code",
   "execution_count": null,
   "metadata": {
    "ExecuteTime": {
     "end_time": "2021-01-24T19:04:09.246651Z",
     "start_time": "2021-01-24T19:04:09.230961Z"
    }
   },
   "outputs": [],
   "source": []
  },
  {
   "cell_type": "markdown",
   "metadata": {
    "ExecuteTime": {
     "end_time": "2021-01-24T19:04:09.246651Z",
     "start_time": "2021-01-24T19:04:09.230961Z"
    }
   },
   "source": [
    "<br>\n",
    "\n",
    "---\n",
    "\n",
    "<br>\n",
    "\n",
    "# C [Optional problems from external sites]"
   ]
  },
  {
   "cell_type": "markdown",
   "metadata": {
    "ExecuteTime": {
     "end_time": "2021-01-24T19:04:09.246651Z",
     "start_time": "2021-01-24T19:04:09.230961Z"
    }
   },
   "source": [
    "Hello enthusiastic programmers,\n",
    "\n",
    "I wish I could design problems for this part, but I am teaching CS1P for the first time and I am already spending a lot of time moving all the lecture materials to jupyter notebook for your comfort (previous years have used power points and pdfs). \n",
    "\n",
    "However, some of you have asked that I suggest specific problems from external sites that you can work on after you finish parts A and B. Below are some suggestions. Please note that your tutors may not be able to help you with challenges in this section. \n",
    "\n",
    "All of these problems are going to test your understanding of sorting, searching and complexity. Be prepared: your initial solution may not pass all the test cases on the corresponding site (for instance, you could encounter runtime error). When this happens, analyse the time complexity of your program, identify the bottle neck, and rewrite it with an improvement in mind. \n",
    "\n",
    "Have fun!"
   ]
  },
  {
   "cell_type": "markdown",
   "metadata": {
    "ExecuteTime": {
     "end_time": "2021-01-24T19:04:09.246651Z",
     "start_time": "2021-01-24T19:04:09.230961Z"
    }
   },
   "source": [
    "### C.1 [Closest numbers](https://www.hackerrank.com/challenges/closest-numbers/problem)"
   ]
  },
  {
   "cell_type": "code",
   "execution_count": null,
   "metadata": {},
   "outputs": [],
   "source": []
  },
  {
   "cell_type": "markdown",
   "metadata": {
    "ExecuteTime": {
     "end_time": "2021-01-24T19:04:09.246651Z",
     "start_time": "2021-01-24T19:04:09.230961Z"
    }
   },
   "source": [
    "### C.2 [Pairs](https://www.hackerrank.com/challenges/pairs/problem)\n",
    "\n",
    "This is categorised to have a medium difficulty, but I think you should find it easy, especially if you managed to solve the B.3 problem in Lab 2 in $O(n)$ time."
   ]
  },
  {
   "cell_type": "code",
   "execution_count": null,
   "metadata": {},
   "outputs": [],
   "source": []
  },
  {
   "cell_type": "markdown",
   "metadata": {
    "ExecuteTime": {
     "end_time": "2021-01-24T19:04:09.246651Z",
     "start_time": "2021-01-24T19:04:09.230961Z"
    }
   },
   "source": [
    "### C.4 [Count Luck](https://www.hackerrank.com/challenges/count-luck/problem)"
   ]
  },
  {
   "cell_type": "code",
   "execution_count": null,
   "metadata": {},
   "outputs": [],
   "source": []
  }
 ],
 "metadata": {
  "kernelspec": {
   "display_name": "Python 3",
   "language": "python",
   "name": "python3"
  },
  "language_info": {
   "codemirror_mode": {
    "name": "ipython",
    "version": 3
   },
   "file_extension": ".py",
   "mimetype": "text/x-python",
   "name": "python",
   "nbconvert_exporter": "python",
   "pygments_lexer": "ipython3",
   "version": "3.8.3"
  },
  "toc": {
   "base_numbering": 1,
   "nav_menu": {},
   "number_sections": false,
   "sideBar": true,
   "skip_h1_title": false,
   "title_cell": "Table of Contents",
   "title_sidebar": "Contents",
   "toc_cell": false,
   "toc_position": {},
   "toc_section_display": true,
   "toc_window_display": false
  }
 },
 "nbformat": 4,
 "nbformat_minor": 4
}
