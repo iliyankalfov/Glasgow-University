{
 "cells": [
  {
   "cell_type": "markdown",
   "metadata": {
    "ExecuteTime": {
     "end_time": "2020-11-21T22:44:54.628127Z",
     "start_time": "2020-11-21T22:44:54.612546Z"
    }
   },
   "source": [
    "# Lab 2\n",
    "<br>\n",
    "\n",
    "# Introduction to Time Complexity\n",
    "---\n",
    "<br>\n",
    "\n",
    "##### **Dr Sofiat Olaosebikan**\n",
    "##### School of Computing Science\n",
    "##### University of Glasgow\n",
    "<br>\n",
    "\n",
    "##### CS1P. Semester 2. Python 3.x\n",
    " ---"
   ]
  },
  {
   "cell_type": "markdown",
   "metadata": {
    "ExecuteTime": {
     "end_time": "2020-11-21T22:06:57.135040Z",
     "start_time": "2020-11-21T22:06:57.116260Z"
    }
   },
   "source": [
    "## Purpose of the lab\n",
    "\n",
    "In this lab:\n",
    "* You will calculate the time complexity of chunks of code with respect to their big-O notation. \n",
    "* You will identify the bottle neck in a code for a given problem (i.e., the part of the code that is slowing it down) and come up with a new solution to improve the overall time complexity.\n",
    "* Finally, you will write codes to solve a problem using two different approaches, each with different time complexity.\n",
    "\n",
    "You will find that the problems in this lab are not *that* difficult. The idea is not for you to learn how to solve difficult problems one way, but to start reasoning about your choice of data structure as you plan your solution, as well as their methods, and be aware of how this can affect the overall complexity of your program.\n",
    "\n",
    "---\n",
    "\n",
    "I have decided to leave out part C in this lab (and perhaps the remaining labs, we will see!). Rather than restrict you to my selection of problems, why not head over to [HackerRank](https://www.hackerrank.com/dashboard) or [projecteuler.net](https://projecteuler.net/archives) for more challenging problems. HackerRank is particularly useful. Give it a try!\n",
    "\n",
    "---"
   ]
  },
  {
   "cell_type": "code",
   "execution_count": 13,
   "metadata": {
    "ExecuteTime": {
     "end_time": "2021-01-19T17:04:31.352403Z",
     "start_time": "2021-01-19T17:04:31.336578Z"
    }
   },
   "outputs": [],
   "source": [
    "from utils.tick import tick"
   ]
  },
  {
   "cell_type": "markdown",
   "metadata": {
    "ExecuteTime": {
     "end_time": "2020-11-21T22:06:57.135040Z",
     "start_time": "2020-11-21T22:06:57.116260Z"
    }
   },
   "source": [
    "## A. Calculating time complexities\n",
    "\n",
    "In what follows, your task is to write down the time complexity of each line in the code, and use this to calculate the total time complexity of the program. \n",
    "\n",
    "<div class=\"alert alert-info\"> <b>Note:</b> You are expected to analyse the code as it is. You do not have to run it! </div>\n",
    "    "
   ]
  },
  {
   "cell_type": "markdown",
   "metadata": {
    "ExecuteTime": {
     "end_time": "2020-11-24T14:54:21.290214Z",
     "start_time": "2020-11-24T14:54:21.282639Z"
    }
   },
   "source": [
    "### A.1\n",
    "```Python\n",
    "# A is a list with n elements, where n >= 2\n",
    "\n",
    "print(A[0])\n",
    "print(A[n//2])\n",
    "print(A[n-1])\n",
    "```"
   ]
  },
  {
   "cell_type": "code",
   "execution_count": null,
   "metadata": {
    "ExecuteTime": {
     "end_time": "2020-11-24T14:54:21.290214Z",
     "start_time": "2020-11-24T14:54:21.282639Z"
    }
   },
   "outputs": [],
   "source": [
    "# your answer comes here\n",
    "O(1)+O(1)+O(1) = O(1)"
   ]
  },
  {
   "cell_type": "markdown",
   "metadata": {
    "ExecuteTime": {
     "end_time": "2020-11-23T21:50:24.988906Z",
     "start_time": "2020-11-23T21:50:24.951279Z"
    }
   },
   "source": [
    "### A.2\n",
    "```Python\n",
    "b = 0\n",
    "\n",
    "for j in range(0, n, 3):\n",
    "    b = b + j**2\n",
    "```"
   ]
  },
  {
   "cell_type": "code",
   "execution_count": null,
   "metadata": {
    "ExecuteTime": {
     "end_time": "2020-11-23T21:50:24.988906Z",
     "start_time": "2020-11-23T21:50:24.951279Z"
    }
   },
   "outputs": [],
   "source": [
    "# your answer comes here\n",
    "O(1) + O(n) + O(1) = O(n)"
   ]
  },
  {
   "cell_type": "markdown",
   "metadata": {
    "ExecuteTime": {
     "end_time": "2020-11-23T21:50:24.988906Z",
     "start_time": "2020-11-23T21:50:24.951279Z"
    }
   },
   "source": [
    "### A.3\n",
    "```Python\n",
    "a = []\n",
    "for i in range(1, n):\n",
    "    new_list = [j for j in range(i)]\n",
    "    a.append(new_list)\n",
    "```"
   ]
  },
  {
   "cell_type": "code",
   "execution_count": 111,
   "metadata": {
    "ExecuteTime": {
     "end_time": "2020-11-24T14:54:21.290214Z",
     "start_time": "2020-11-24T14:54:21.282639Z"
    }
   },
   "outputs": [],
   "source": [
    "# your answer comes here\n",
    "O(1) + [O(n) * O(n)] + O(1) = O(1) + O(n^2) = O(n^2)"
   ]
  },
  {
   "cell_type": "markdown",
   "metadata": {
    "ExecuteTime": {
     "end_time": "2020-11-23T21:51:34.453204Z",
     "start_time": "2020-11-23T21:51:34.442696Z"
    }
   },
   "source": [
    "### A.4\n",
    "```Python\n",
    "i, pairs = n, []\n",
    "while i > 1:\n",
    "    for j in range(n):\n",
    "        pairs.append((i, j))\n",
    "    i = i// 2\n",
    "```"
   ]
  },
  {
   "cell_type": "code",
   "execution_count": null,
   "metadata": {
    "ExecuteTime": {
     "end_time": "2020-11-23T21:51:34.453204Z",
     "start_time": "2020-11-23T21:51:34.442696Z"
    }
   },
   "outputs": [],
   "source": [
    "# your answer comes here\n",
    "O(1) + [O(log n) * O(n)] + O(1) + O(1) = O(1) + O(n log n) = O(n log n)"
   ]
  },
  {
   "cell_type": "markdown",
   "metadata": {
    "ExecuteTime": {
     "end_time": "2020-11-23T21:51:34.453204Z",
     "start_time": "2020-11-23T21:51:34.442696Z"
    }
   },
   "source": [
    "### A.5\n",
    "```Python\n",
    "# A and B are lists, both with n elements\n",
    "\n",
    "def extract_elts(A, B):\n",
    "    result = []\n",
    "    set_B = set(A)\n",
    "    for elt in A:\n",
    "        if elt**2 in set_B:\n",
    "            result.append(elt)\n",
    "    return result\n",
    "```"
   ]
  },
  {
   "cell_type": "code",
   "execution_count": 110,
   "metadata": {
    "ExecuteTime": {
     "end_time": "2020-11-24T14:47:37.060756Z",
     "start_time": "2020-11-24T14:47:37.054432Z"
    }
   },
   "outputs": [],
   "source": [
    "# your answer comes here\n",
    "O(1) + O(1) + [O(n) * O(1)] + O(1) = O(n)"
   ]
  },
  {
   "cell_type": "markdown",
   "metadata": {
    "ExecuteTime": {
     "end_time": "2020-11-24T08:48:20.647305Z",
     "start_time": "2020-11-24T08:48:20.627093Z"
    }
   },
   "source": [
    "### A.6\n",
    "```Python\n",
    "# A and B are lists, both with n elements\n",
    "\n",
    "def remove_elts(A, B):   \n",
    "    set_B = set(A)  \n",
    "    for elt in A:  \n",
    "        if elt in B:\n",
    "            B.remove(elt) \n",
    "    return B\n",
    "```"
   ]
  },
  {
   "cell_type": "code",
   "execution_count": null,
   "metadata": {
    "ExecuteTime": {
     "end_time": "2020-11-24T08:48:20.647305Z",
     "start_time": "2020-11-24T08:48:20.627093Z"
    }
   },
   "outputs": [],
   "source": [
    "# your answer comes here\n",
    "O(1) + [O(n) * O(n)] = O(n^2)"
   ]
  },
  {
   "cell_type": "markdown",
   "metadata": {
    "ExecuteTime": {
     "end_time": "2020-11-24T08:48:20.647305Z",
     "start_time": "2020-11-24T08:48:20.627093Z"
    }
   },
   "source": [
    "### A.7\n",
    "```Python\n",
    "# A and B are lists, both with n elements\n",
    "\n",
    "def discard_elts(A, B):\n",
    "    set_B = set(A)\n",
    "    for elt in A:\n",
    "        set_B.discard(elt)\n",
    "    return B\n",
    "```"
   ]
  },
  {
   "cell_type": "code",
   "execution_count": null,
   "metadata": {
    "ExecuteTime": {
     "end_time": "2020-11-24T08:48:20.647305Z",
     "start_time": "2020-11-24T08:48:20.627093Z"
    }
   },
   "outputs": [],
   "source": [
    "# your answer comes here\n",
    "O(1) + O(n) * O(1) + O(1)= O(n)"
   ]
  },
  {
   "cell_type": "markdown",
   "metadata": {
    "ExecuteTime": {
     "end_time": "2020-11-24T08:48:20.647305Z",
     "start_time": "2020-11-24T08:48:20.627093Z"
    }
   },
   "source": [
    "### A.8\n",
    "```Python\n",
    "def divisors(num):\n",
    "    # returns the divisors of num\n",
    "    num_divisors = []\n",
    "    for i in range(1, num):\n",
    "        if num % i == 0:\n",
    "            num_divisors.append(i)\n",
    "    return num_divisors\n",
    "\n",
    "# construct a dictionary with numbers between 2 and n as keys\n",
    "# where each key is pointing to a list of its divisors\n",
    "divisors_dict = {k: [] for k in range(2, n+1)}\n",
    "for k in divisors_dict:\n",
    "    divisors_dict[k] = divisors(k)\n",
    "    \n",
    "```"
   ]
  },
  {
   "cell_type": "code",
   "execution_count": 114,
   "metadata": {
    "ExecuteTime": {
     "end_time": "2020-11-24T15:26:46.064365Z",
     "start_time": "2020-11-24T15:26:46.061719Z"
    }
   },
   "outputs": [],
   "source": [
    "# your answer comes here\n",
    "O(n) + O(n) * [O(1) + O(n)] = O(n) + O(n^2) = O(n^2)"
   ]
  },
  {
   "cell_type": "markdown",
   "metadata": {
    "ExecuteTime": {
     "end_time": "2020-11-21T22:06:57.135040Z",
     "start_time": "2020-11-21T22:06:57.116260Z"
    }
   },
   "source": [
    "---\n",
    "<br>\n",
    "\n",
    "# B.\n",
    "\n",
    "In the next task, you will analyse the time complexity of a solution to the given problem, identify how the code can be improved and write a new solution with an improved time complexity. In **B.2** and **B.3**, you will write codes to solve a problem using different approaches, each with different time complexity.\n",
    "\n",
    "<br>\n",
    "\n",
    "## B.1 Analysing and improving\n",
    "Given an array of integers with length $n$, the task if to find an element of the array such that the sum of all elements to the left is equal to the sum of all elements to the right. For example:\n",
    "* Given the array `[4,5,12,3,3,3]`, `12` is between two subarrays that sum to 9; `[4,5]` and `[3,3,3]`. \n",
    "* If we are given an array of length one, say `[6]`, then `6` satisfies the rule as left and right sum to 0. \n",
    "\n",
    "The function `balancedSums1(arr)` returns \"YES\" if there is an element satisfying the condition or \"NO\" otherwise.\n",
    "\n",
    "<br>\n",
    "\n",
    "Your task is as follows:\n",
    "1. What is the time complexity of `balancedSums1(arr)`?\n",
    "2. Identify the bottleneck (i.e., the portion of the code that increased the complexity) of `balancedSums1(arr)`, and give a justification for this.\n",
    "3. Write a new function `balancedSums2(arr)` with an improved time complexity."
   ]
  },
  {
   "cell_type": "code",
   "execution_count": 1,
   "metadata": {
    "ExecuteTime": {
     "end_time": "2021-01-09T19:31:42.321606Z",
     "start_time": "2021-01-09T19:31:42.310500Z"
    }
   },
   "outputs": [
    {
     "name": "stdout",
     "output_type": "stream",
     "text": [
      "YES\n"
     ]
    }
   ],
   "source": [
    "def balancedSums1(arr):\n",
    "    # we add [0] to the head and tail incase arr has length 1\n",
    "    new_arr = [0] + arr + [0]\n",
    "    # the addition extends arr, so we begin from elt at position 1\n",
    "    for i in range(1, len(arr)+1): #O(n) complexity\n",
    "        # sublist of elements to the left of position i\n",
    "        left_array = new_arr[:i]   \n",
    "        # sublist of elements to the right of position i\n",
    "        right_array = new_arr[i+1:]\n",
    "        # if the sum of these sublists is equal, we are done\n",
    "        if sum(left_array) == sum(right_array): \n",
    "            return \"YES\"\n",
    "    return \"NO\"\n",
    "\n",
    "print(balancedSums1([4,5,12,3,3,3]))"
   ]
  },
  {
   "cell_type": "code",
   "execution_count": 24,
   "metadata": {
    "ExecuteTime": {
     "end_time": "2021-01-19T17:04:44.053139Z",
     "start_time": "2021-01-19T17:04:44.036370Z"
    }
   },
   "outputs": [
    {
     "data": {
      "text/html": [
       " <h3> <font color=\"green\"> ✓ Correct </font> </h3>"
      ],
      "text/plain": [
       "<IPython.core.display.HTML object>"
      ]
     },
     "metadata": {},
     "output_type": "display_data"
    }
   ],
   "source": [
    "with tick():\n",
    "    assert balancedSums1([1]) == \"YES\"\n",
    "    assert balancedSums1([1,2,3,3]) == \"YES\"\n",
    "    assert balancedSums1([8,1,2,2]) == \"NO\"\n",
    "    assert balancedSums1([1,2,3]) == \"NO\"\n",
    "    assert balancedSums1([1,4,1,5,1,5,0]) == \"YES\"\n",
    "    assert balancedSums1([2,0,0,0]) == \"YES\"\n",
    "    assert balancedSums1([0,0,2,0]) == \"YES\"\n",
    "    assert balancedSums1([5,4,6,2,9,11,21,20,1,2,3]) == \"NO\"\n",
    "    assert balancedSums1([5,5,5]) == \"YES\""
   ]
  },
  {
   "cell_type": "code",
   "execution_count": 23,
   "metadata": {
    "ExecuteTime": {
     "end_time": "2021-01-05T14:11:48.619356Z",
     "start_time": "2021-01-05T14:11:48.606191Z"
    }
   },
   "outputs": [
    {
     "name": "stdout",
     "output_type": "stream",
     "text": [
      "YES\n"
     ]
    }
   ],
   "source": [
    "# Your improved solution comes here\n",
    "def balancedSums1(arr):\n",
    "    i = 0\n",
    "    while i != len(arr): #O(log n) complexity\n",
    "        if sum(arr[:i]) == sum(arr[i+1:]):\n",
    "            return \"YES\"\n",
    "        i += 1\n",
    "    return \"NO\"\n",
    "print(balancedSums1([4,5,12,3,3,3]))"
   ]
  },
  {
   "cell_type": "markdown",
   "metadata": {},
   "source": [
    "## B.2 \n",
    "Write a function that takes a list of integers, and returns `True` if the list contains unique elements and `False` otherwise. For example, `list A` is unique (since no element is repeated) and `list B` is not (since 1 appeared three times).\n",
    "\n",
    "`A = [1,9,2,7,4,3,5,8,10,15,12]`\n",
    "\n",
    "`B = [2,1,5,6,4,1,2,4,8,10,1,2]`\n",
    "\n",
    "You should implement a solution for this problem in three different ways, each with time complexity:\n",
    "1. $O(n^2)$\n",
    "2. $O(n \\log n)$\n",
    "3. $O(n)$\n",
    "\n",
    "<div class=\"alert alert-info\">  <b>Note :</b> Do not assume that the list is sorted. Also, there are multiple solutions here, and you are only expected to come up with at least one solution under each complexity. </div>"
   ]
  },
  {
   "cell_type": "code",
   "execution_count": 2,
   "metadata": {
    "ExecuteTime": {
     "end_time": "2021-01-19T17:11:33.279378Z",
     "start_time": "2021-01-19T17:11:33.266793Z"
    }
   },
   "outputs": [],
   "source": [
    "A = [1,9,2,7,4,3,5,8,10,15,12]\n",
    "B = [2,1,5,6,4,1,2,4,8,10,1,2]"
   ]
  },
  {
   "cell_type": "code",
   "execution_count": 38,
   "metadata": {
    "ExecuteTime": {
     "end_time": "2021-01-19T17:11:33.577154Z",
     "start_time": "2021-01-19T17:11:33.570800Z"
    }
   },
   "outputs": [
    {
     "data": {
      "text/plain": [
       "False"
      ]
     },
     "execution_count": 38,
     "metadata": {},
     "output_type": "execute_result"
    }
   ],
   "source": [
    "# solution for O(n^2) time complexity\n",
    "def uniqueness_n_squared(A):\n",
    "    for i in range(len(A)):\n",
    "        for y in range(i+1,len(A)):\n",
    "            if A[i]==A[y]:\n",
    "                return False\n",
    "    return True\n",
    "\n",
    "f(B)"
   ]
  },
  {
   "cell_type": "code",
   "execution_count": 43,
   "metadata": {
    "ExecuteTime": {
     "end_time": "2021-01-19T17:11:33.577154Z",
     "start_time": "2021-01-19T17:11:33.570800Z"
    }
   },
   "outputs": [
    {
     "data": {
      "text/plain": [
       "True"
      ]
     },
     "execution_count": 43,
     "metadata": {},
     "output_type": "execute_result"
    }
   ],
   "source": [
    "# solution for O(nlogn) time complexity\n",
    "def uniqueness_nlogn(A):\n",
    "    A.sort()\n",
    "    for i in range(len(A)):\n",
    "        if i+1 <= len(A)-1:\n",
    "            if A[i] == A[i+1]:\n",
    "                return False\n",
    "    return True\n",
    "\n",
    "uniqueness_nlogn(A)"
   ]
  },
  {
   "cell_type": "code",
   "execution_count": 9,
   "metadata": {
    "ExecuteTime": {
     "end_time": "2021-01-19T17:11:33.577154Z",
     "start_time": "2021-01-19T17:11:33.570800Z"
    }
   },
   "outputs": [
    {
     "name": "stdout",
     "output_type": "stream",
     "text": [
      "True\n"
     ]
    }
   ],
   "source": [
    "from collections import defaultdict\n",
    "# solution for O(n) time complexity\n",
    "def uniqueness_n(A):\n",
    "    dictionary = defaultdict(int)\n",
    "    for elt in A:\n",
    "        dictionary[elt] += 1\n",
    "    for key in dictionary:\n",
    "        if dictionary[key] != 1:\n",
    "            return False\n",
    "    return True\n",
    "\n",
    "print(uniqueness_n(A))"
   ]
  },
  {
   "cell_type": "markdown",
   "metadata": {},
   "source": [
    "## B.3\n",
    "Given a list and a target element, write a function `twoSum(target, A)` that returns, in sorted order, the index of two elements in the list that sums to the target element. \n",
    "\n",
    "**Example**:\n",
    "\n",
    "```Python\n",
    "target = 6\n",
    "A = [3, 4, 5, 2, 8]\n",
    "twoSum(target, A)\n",
    ">>> [1, 3]\n",
    "```\n",
    "**Explanation**: Elements `4` and `2` sum to `6`. Moreover, their position in `A` is `1` and `3` respectively.\n",
    "\n",
    "You should implement a solution for this problem in three different ways, each with time complexity:\n",
    "1. $O(n^2)$\n",
    "2. $O(n \\log n)$\n",
    "3. $O(n)$\n",
    "\n",
    "<div class=\"alert alert-info\">  <b>Note :</b> You can assume that there is always a unique solution, i.e., no two distinct pairs of elements in the list sum to the target element. </div>"
   ]
  },
  {
   "cell_type": "code",
   "execution_count": 12,
   "metadata": {
    "ExecuteTime": {
     "end_time": "2021-01-09T19:39:08.310108Z",
     "start_time": "2021-01-09T19:39:08.286788Z"
    }
   },
   "outputs": [
    {
     "name": "stdout",
     "output_type": "stream",
     "text": [
      "[1, 3]\n"
     ]
    }
   ],
   "source": [
    "# solution for O(n^2) complexity\n",
    "def twoSum(target, l):\n",
    "    for i in range(len(l)):\n",
    "        for y in range(i+1,len(l)):\n",
    "            if target == (l[i] + l[y]):\n",
    "                return [i]+[y]\n",
    "            \n",
    "print(twoSum(6, [3, 4, 5, 2, 8]))"
   ]
  },
  {
   "cell_type": "code",
   "execution_count": 2,
   "metadata": {
    "ExecuteTime": {
     "end_time": "2021-01-09T19:39:08.310108Z",
     "start_time": "2021-01-09T19:39:08.286788Z"
    }
   },
   "outputs": [
    {
     "name": "stdout",
     "output_type": "stream",
     "text": [
      "[1, 3]\n"
     ]
    }
   ],
   "source": [
    "# solution for O(nlogn) complexity\n",
    "def twoSum(target, l):\n",
    "    i = 0\n",
    "    while i < len(l):\n",
    "        for y in range(i+1, len(l)):\n",
    "            if target == (l[i]+l[y]):\n",
    "                return [i]+[y]\n",
    "        i += 1\n",
    "print(twoSum(6, [3, 4, 5, 2, 8]))"
   ]
  },
  {
   "cell_type": "code",
   "execution_count": 14,
   "metadata": {
    "ExecuteTime": {
     "end_time": "2021-01-09T19:39:08.310108Z",
     "start_time": "2021-01-09T19:39:08.286788Z"
    }
   },
   "outputs": [
    {
     "name": "stdout",
     "output_type": "stream",
     "text": [
      "[1, 3]\n"
     ]
    }
   ],
   "source": [
    "from collections import defaultdict\n",
    "# solution for O(n) complexity\n",
    "def twoSum(target, l):\n",
    "    dictionary = defaultdict(int)\n",
    "    for i in range(len(l)):\n",
    "        dictionary[l[i]] = i\n",
    "    for i in range(len(l)):\n",
    "        if (target - l[i]) in dictionary and i != dictionary[target-l[i]]:\n",
    "            return [i] + [dictionary[target-l[i]]]\n",
    "\n",
    "print(twoSum(6, [3, 4, 5, 2, 8]))"
   ]
  },
  {
   "cell_type": "code",
   "execution_count": 15,
   "metadata": {
    "ExecuteTime": {
     "end_time": "2021-01-09T19:39:08.310108Z",
     "start_time": "2021-01-09T19:39:08.286788Z"
    }
   },
   "outputs": [
    {
     "data": {
      "text/html": [
       " <h3> <font color=\"green\"> ✓ Correct </font> </h3>"
      ],
      "text/plain": [
       "<IPython.core.display.HTML object>"
      ]
     },
     "metadata": {},
     "output_type": "display_data"
    }
   ],
   "source": [
    "# Below are some test cases you can use \n",
    "# to validate that each of your implementations\n",
    "# are correct\n",
    "\n",
    "with tick():\n",
    "    assert twoSum(6, [3,4,5,2,8]) == [1, 3]\n",
    "    assert twoSum(4, [1,3,4,5,6]) == [0, 1]\n",
    "    assert twoSum(4, [1,4,3,5,2]) == [0, 2]\n",
    "    assert twoSum(4, [2,2,4,3]) == [0, 1]\n",
    "    assert twoSum(8, [4,6,5,2,7,8]) == [1,3]\n",
    "    assert twoSum(9, [1,3,4,6,7,9]) == [1,3]\n",
    "    assert twoSum(8, [1,3,4,4,6,8]) == [2,3]\n",
    "    assert twoSum(3, [1,2]) == [0, 1]\n",
    "    assert twoSum(200, [150,24,79,50,88,345,3]) == [0, 3]\n",
    "    assert twoSum(101, [722, 600, 905, 54, 47,]) == [3,4]    \n"
   ]
  }
 ],
 "metadata": {
  "kernelspec": {
   "display_name": "Python 3",
   "language": "python",
   "name": "python3"
  },
  "language_info": {
   "codemirror_mode": {
    "name": "ipython",
    "version": 3
   },
   "file_extension": ".py",
   "mimetype": "text/x-python",
   "name": "python",
   "nbconvert_exporter": "python",
   "pygments_lexer": "ipython3",
   "version": "3.8.3"
  },
  "toc": {
   "base_numbering": 1,
   "nav_menu": {},
   "number_sections": false,
   "sideBar": true,
   "skip_h1_title": true,
   "title_cell": "Table of Contents",
   "title_sidebar": "Contents",
   "toc_cell": false,
   "toc_position": {},
   "toc_section_display": true,
   "toc_window_display": false
  }
 },
 "nbformat": 4,
 "nbformat_minor": 4
}
