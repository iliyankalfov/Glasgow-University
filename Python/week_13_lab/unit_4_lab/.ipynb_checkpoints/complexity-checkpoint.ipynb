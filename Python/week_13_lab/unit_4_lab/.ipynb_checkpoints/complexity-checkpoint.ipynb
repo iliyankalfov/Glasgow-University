{
 "cells": [
  {
   "cell_type": "markdown",
   "metadata": {
    "ExecuteTime": {
     "end_time": "2020-11-21T22:44:54.628127Z",
     "start_time": "2020-11-21T22:44:54.612546Z"
    }
   },
   "source": [
    "# CS1P. Unit 12. Lab problems\n",
    "---\n",
    "<br>\n",
    "\n",
    "#### Dr Sofiat Olaosebikan\n",
    "##### School of Computing Science\n",
    "##### University of Glasgow\n",
    "<br>\n",
    "\n",
    "#### Python 3.x\n",
    " ---"
   ]
  },
  {
   "cell_type": "code",
   "execution_count": null,
   "metadata": {
    "ExecuteTime": {
     "end_time": "2020-11-21T22:44:54.628127Z",
     "start_time": "2020-11-21T22:44:54.612546Z"
    }
   },
   "outputs": [],
   "source": [
    "from utils.tick import tick"
   ]
  },
  {
   "cell_type": "markdown",
   "metadata": {
    "ExecuteTime": {
     "end_time": "2020-11-21T22:06:57.135040Z",
     "start_time": "2020-11-21T22:06:57.116260Z"
    }
   },
   "source": [
    "### Purpose of the lab"
   ]
  },
  {
   "cell_type": "markdown",
   "metadata": {
    "ExecuteTime": {
     "end_time": "2020-11-21T22:06:57.135040Z",
     "start_time": "2020-11-21T22:06:57.116260Z"
    }
   },
   "source": [
    "## A. Calculating time complexities\n",
    "\n",
    "In what follows, your task is to write down the time complexity of each line in the code, and use this to calculate the total time complexity of the program. \n",
    "\n",
    "<div class=\"alert alert-info\"> <b>Note:</b> You are expected to analyse the code as it is. You do not have to run it! </div>\n",
    "    "
   ]
  },
  {
   "cell_type": "markdown",
   "metadata": {
    "ExecuteTime": {
     "end_time": "2020-11-23T21:50:24.988906Z",
     "start_time": "2020-11-23T21:50:24.951279Z"
    }
   },
   "source": [
    "### A.1\n",
    "```Python\n",
    "\n",
    "a, b = [], 0\n",
    "for i in range(1, n):\n",
    "    new_list = [j for j in range(i)]\n",
    "    a.append(new_list)\n",
    "\n",
    "for j in range(0, n, 3):\n",
    "    b = b + j**2\n",
    "```"
   ]
  },
  {
   "cell_type": "code",
   "execution_count": 111,
   "metadata": {
    "ExecuteTime": {
     "end_time": "2020-11-24T14:54:21.290214Z",
     "start_time": "2020-11-24T14:54:21.282639Z"
    }
   },
   "outputs": [],
   "source": [
    "# your answer comes here"
   ]
  },
  {
   "cell_type": "code",
   "execution_count": 112,
   "metadata": {
    "ExecuteTime": {
     "end_time": "2020-11-24T14:54:22.155146Z",
     "start_time": "2020-11-24T14:54:22.141499Z"
    }
   },
   "outputs": [],
   "source": [
    "a, b = [], 0 # O(1)\n",
    "for i in range(1, n): # O(n)\n",
    "    new_list = [j for j in range(i)] # O(n)\n",
    "    a.append(new_list) # O(1)\n",
    "    \n",
    "for j in range(0, n, 3): # O(n/3)\n",
    "    b = b + j**2  # O(1)\n",
    "\n",
    "# total complexity is \n",
    "# O(1) + O(n) * O(n) + O(n/3) = O(n^2)"
   ]
  },
  {
   "cell_type": "markdown",
   "metadata": {
    "ExecuteTime": {
     "end_time": "2020-11-23T21:51:34.453204Z",
     "start_time": "2020-11-23T21:51:34.442696Z"
    }
   },
   "source": [
    "### A.2\n",
    "```Python\n",
    "i, pairs = n, []\n",
    "while i > 1:\n",
    "    for j in range(n):\n",
    "        pairs.append((i, j))\n",
    "    i //= 2\n",
    "```"
   ]
  },
  {
   "cell_type": "code",
   "execution_count": null,
   "metadata": {
    "ExecuteTime": {
     "end_time": "2020-11-23T21:51:34.453204Z",
     "start_time": "2020-11-23T21:51:34.442696Z"
    }
   },
   "outputs": [],
   "source": [
    "# your answer comes here"
   ]
  },
  {
   "cell_type": "code",
   "execution_count": null,
   "metadata": {
    "ExecuteTime": {
     "end_time": "2020-11-24T08:48:10.209733Z",
     "start_time": "2020-11-24T08:48:10.192720Z"
    }
   },
   "outputs": [],
   "source": [
    "i, pairs = n, [] # O(1)\n",
    "while i > 1: # O(log n), each iteration decreases by a factor of 2\n",
    "    for j in range(n): # O(n)\n",
    "        pairs.append((i, j)) # O(1)\n",
    "    i //= 2  # O(1)\n",
    "\n",
    "# total time complexity is \n",
    "# O(1) + O(log n) * O(n)\n",
    "# = O(n log n)\n",
    "    "
   ]
  },
  {
   "cell_type": "markdown",
   "metadata": {
    "ExecuteTime": {
     "end_time": "2020-11-23T21:51:34.453204Z",
     "start_time": "2020-11-23T21:51:34.442696Z"
    }
   },
   "source": [
    "### A.3\n",
    "```Python\n",
    "# A and B are lists, both with n elements\n",
    "\n",
    "def extract_elts(A, B):\n",
    "    result = []\n",
    "    set_B = set(A)\n",
    "    for elt in A:\n",
    "        if elt**2 in set_B:\n",
    "            result.append(elt)\n",
    "    return result\n",
    "```"
   ]
  },
  {
   "cell_type": "code",
   "execution_count": 110,
   "metadata": {
    "ExecuteTime": {
     "end_time": "2020-11-24T14:47:37.060756Z",
     "start_time": "2020-11-24T14:47:37.054432Z"
    }
   },
   "outputs": [],
   "source": [
    "# your answer comes here"
   ]
  },
  {
   "cell_type": "code",
   "execution_count": 113,
   "metadata": {
    "ExecuteTime": {
     "end_time": "2020-11-24T15:04:18.505534Z",
     "start_time": "2020-11-24T15:04:18.494513Z"
    }
   },
   "outputs": [],
   "source": [
    "def extract_elts(A, B):\n",
    "    result = []  # O(1)\n",
    "    set_B = set(A)  # set construction is O(n)\n",
    "    for elt in A:   # O(n)\n",
    "        if elt**2 in set_B:  # set membership test is O(1)\n",
    "            result.append(elt) # O(1)\n",
    "    return result\n",
    "\n",
    "# total complexity is \n",
    "# O(1) + O(n) + O(n) = O(n)"
   ]
  },
  {
   "cell_type": "markdown",
   "metadata": {
    "ExecuteTime": {
     "end_time": "2020-11-24T08:48:20.647305Z",
     "start_time": "2020-11-24T08:48:20.627093Z"
    }
   },
   "source": [
    "### A.4\n",
    "```Python\n",
    "# A and B are lists, both with n elements\n",
    "\n",
    "def remove_elts(A, B):   \n",
    "    set_B = set(A)  \n",
    "    for elt in A:  \n",
    "        if elt in B:\n",
    "            B.remove(elt) \n",
    "    return B\n",
    "```"
   ]
  },
  {
   "cell_type": "code",
   "execution_count": null,
   "metadata": {
    "ExecuteTime": {
     "end_time": "2020-11-24T08:48:20.647305Z",
     "start_time": "2020-11-24T08:48:20.627093Z"
    }
   },
   "outputs": [],
   "source": [
    "# your answer comes here"
   ]
  },
  {
   "cell_type": "code",
   "execution_count": null,
   "metadata": {
    "ExecuteTime": {
     "end_time": "2020-11-24T08:48:30.861002Z",
     "start_time": "2020-11-24T08:48:30.841401Z"
    }
   },
   "outputs": [],
   "source": [
    "def remove_elts(A, B):   \n",
    "    set_B = set(A)  # set construction is O(n)\n",
    "    for elt in A:   # O(n)\n",
    "        if elt in B:  # list membership test is O(n)\n",
    "            B.remove(elt) # list removal is O(n)\n",
    "    return B\n",
    "\n",
    "# total complexity is \n",
    "# O(n) + O(n) * [O(n) + O(n)] \n",
    "# = O(n) * O(n) \n",
    "# = O(n^2)"
   ]
  },
  {
   "cell_type": "markdown",
   "metadata": {
    "ExecuteTime": {
     "end_time": "2020-11-24T08:48:20.647305Z",
     "start_time": "2020-11-24T08:48:20.627093Z"
    }
   },
   "source": [
    "### A.5\n",
    "```Python\n",
    "# A and B are lists, both with n elements\n",
    "\n",
    "def discard_elts(A, B):\n",
    "    set_B = set(A)\n",
    "    for elt in A:\n",
    "        B.discard(elt)\n",
    "    return B\n",
    "```"
   ]
  },
  {
   "cell_type": "code",
   "execution_count": null,
   "metadata": {
    "ExecuteTime": {
     "end_time": "2020-11-24T08:48:20.647305Z",
     "start_time": "2020-11-24T08:48:20.627093Z"
    }
   },
   "outputs": [],
   "source": [
    "# your answer comes here"
   ]
  },
  {
   "cell_type": "code",
   "execution_count": 66,
   "metadata": {
    "ExecuteTime": {
     "end_time": "2020-11-24T08:48:30.861002Z",
     "start_time": "2020-11-24T08:48:30.841401Z"
    }
   },
   "outputs": [],
   "source": [
    "def discard_elts(A, B):\n",
    "    set_B = set(A) # set construction is O(n)\n",
    "    for elt in A:   # O(n)\n",
    "        set_B.discard(elt) # set discard is O(1)\n",
    "    return set_B\n",
    "\n",
    "# tota complexity is O(n) + O(n) = O(n)"
   ]
  },
  {
   "cell_type": "markdown",
   "metadata": {
    "ExecuteTime": {
     "end_time": "2020-11-24T08:48:20.647305Z",
     "start_time": "2020-11-24T08:48:20.627093Z"
    }
   },
   "source": [
    "### A.4\n",
    "```Python\n",
    "def divisors(num):\n",
    "    # returns the divisors of num\n",
    "    num_divisors = []\n",
    "    for i in range(1, num):\n",
    "        if num % i == 0:\n",
    "            num_divisors.append(i)\n",
    "    return num_divisors\n",
    "\n",
    "# construct a dictionary with numbers between 2 and n as keys\n",
    "# where each key is pointing to a list of its divisors\n",
    "divisors_dict = {k: [] for k in range(2, n+1)}\n",
    "for k in divisors_dict:\n",
    "    divisors_dict[k] = divisors(k)\n",
    "    \n",
    "```"
   ]
  },
  {
   "cell_type": "code",
   "execution_count": 114,
   "metadata": {
    "ExecuteTime": {
     "end_time": "2020-11-24T15:26:46.064365Z",
     "start_time": "2020-11-24T15:26:46.061719Z"
    }
   },
   "outputs": [],
   "source": [
    "# your answer comes here"
   ]
  },
  {
   "cell_type": "code",
   "execution_count": 107,
   "metadata": {
    "ExecuteTime": {
     "end_time": "2020-11-24T14:07:58.626475Z",
     "start_time": "2020-11-24T14:07:58.594631Z"
    }
   },
   "outputs": [],
   "source": [
    "def divisors(num):\n",
    "    # returns the divisors of num\n",
    "    num_divisors = [] # O(1)\n",
    "    for i in range(1, num): # O(num)\n",
    "        if num % i == 0: # O(1)\n",
    "            num_divisors.append(i) # O(1)\n",
    "    return num_divisors # O(1)\n",
    "\n",
    "# construct a dictionary with numbers between 2 and n as keys\n",
    "# where each key is pointing to a list of its divisors\n",
    "divisors_dict = {k: [] for k in range(2, n+1)} # dict construction O(n)\n",
    "for k in divisors_dict: # O(n)\n",
    "    # computing divisors(k) for each k takes O(n) time\n",
    "    # dictionary update is O(1)\n",
    "    divisors_dict[k] = divisors(k) \n",
    "\n",
    "# total time complexity is O(n^2)"
   ]
  },
  {
   "cell_type": "markdown",
   "metadata": {
    "ExecuteTime": {
     "end_time": "2020-11-21T22:06:57.135040Z",
     "start_time": "2020-11-21T22:06:57.116260Z"
    }
   },
   "source": [
    "---\n",
    "<br>\n",
    "\n",
    "# B.\n",
    "\n",
    "In the next task, you will analyse the time complexity of a solution to the given problem, identify how the code can be improved and write a new solution with an improved time complexity.\n",
    "\n",
    "## B.1 Analysing and improving\n",
    "Given an array of integers with length $n$, the task if to find an element of the array such that the sum of all elements to the left is equal to the sum of all elements to the right. For instance, given the array `[4,5,12,3,3,3]`, `12` is between two subarrays that sum to 9; `[4,5]` and `[3,3,3]`. If we are given an array of length one, say `[6]`, then `6` satisfies the rule as left and right sum to 0. \n",
    "\n",
    "The function `balancedSums1(arr)` returns \"YES\" if there is an element satisfying the condition or \"NO\" otherwise.\n",
    "\n",
    "<br>\n",
    "\n",
    "Your task is as follows:\n",
    "1. What is the time complexity of `balancedSums1(arr)`?\n",
    "2. Identify the bottleneck (i.e., the portion of the code that increased the complexity) of `balancedSums1(arr)`, and give a justification for this.\n",
    "3. Write a new function `balancedSums2(arr)` with an improved time complexity."
   ]
  },
  {
   "cell_type": "code",
   "execution_count": null,
   "metadata": {
    "ExecuteTime": {
     "end_time": "2020-11-21T23:03:01.472490Z",
     "start_time": "2020-11-21T23:03:01.442812Z"
    }
   },
   "outputs": [],
   "source": [
    "def balancedSums1(arr):\n",
    "    new_arr = [0] + arr + [0]  # O(n)\n",
    "    for i in range(1, len(arr)+1):\n",
    "        # the bottleneck of the code is the if statement\n",
    "        # it takes O(n) to find the sum of the sublists\n",
    "        # since this is done at each iteration of the for loop\n",
    "        # the total time complexity is O(n^2)\n",
    "        if sum(new_arr[:i]) == sum(new_arr[i+1:]):\n",
    "            return \"YES\"\n",
    "    return \"NO\"\n",
    "\n",
    "print(balancedSums1([4,5,12,3,3,3]))"
   ]
  },
  {
   "cell_type": "code",
   "execution_count": null,
   "metadata": {
    "ExecuteTime": {
     "end_time": "2020-11-21T23:03:02.913734Z",
     "start_time": "2020-11-21T23:03:02.880494Z"
    }
   },
   "outputs": [],
   "source": [
    "with tick():\n",
    "    assert balancedSums1([1]) == \"YES\"\n",
    "    assert balancedSums1([1,2,3,3]) == \"YES\"\n",
    "    assert balancedSums1([8,1,2,2]) == \"NO\"\n",
    "    assert balancedSums1([1,2,3]) == \"NO\"\n",
    "    assert balancedSums1([1,4,1,5,1,5,0]) == \"YES\"\n",
    "    assert balancedSums1([2,0,0,0]) == \"YES\"\n",
    "    assert balancedSums1([0,0,2,0]) == \"YES\"\n",
    "    assert balancedSums1([5,4,6,2,9,11,21,20,1,2,3]) == \"NO\"\n",
    "    assert balancedSums1([5,5,5]) == \"YES\""
   ]
  },
  {
   "cell_type": "code",
   "execution_count": null,
   "metadata": {
    "ExecuteTime": {
     "end_time": "2020-11-21T23:03:04.570467Z",
     "start_time": "2020-11-21T23:03:04.554348Z"
    }
   },
   "outputs": [],
   "source": [
    "# Your solution comes here\n",
    "\n",
    "\"\"\"\n",
    "the idea is as follows:\n",
    "- sum all the elements to start with -> right sum\n",
    "- assign left sum to 0\n",
    "- as you iterate through each elt in the list\n",
    "- subtract it from right elt\n",
    "- if the current left and right sum are equal, return YES\n",
    "- otherwise, add the current elt to left sum\n",
    "- if the for loop ends without satisfying the if statement\n",
    "- return NO\n",
    "\"\"\"\n",
    "\n",
    "def balancedSums2(arr):\n",
    "    left_sum = 0                  # O(1)\n",
    "    right_sum = sum(arr)          # O(n)\n",
    "    for elt in arr:               # O(n)\n",
    "        right_sum -= elt          # O(1)\n",
    "        # if the left_sum at this point is same as right_sum, return yes\n",
    "        if left_sum == right_sum: # O(1)\n",
    "            return \"YES\"          # O(1)\n",
    "        left_sum += elt           # O(1)\n",
    "    return \"NO\"                   # O(1)\n",
    "\n",
    "# note that only one of the return statement is executed\n",
    "# total time complexity: O(n) + O(n) + O(1) = O(2n) = O(n)"
   ]
  },
  {
   "cell_type": "code",
   "execution_count": null,
   "metadata": {
    "ExecuteTime": {
     "end_time": "2020-11-21T23:03:07.163334Z",
     "start_time": "2020-11-21T23:03:07.131784Z"
    }
   },
   "outputs": [],
   "source": [
    "with tick():\n",
    "    assert balancedSums2([1]) == \"YES\"\n",
    "    assert balancedSums2([1,2,3,3]) == \"YES\"\n",
    "    assert balancedSums2([8,1,2,2]) == \"NO\"\n",
    "    assert balancedSums2([1,2,3]) == \"NO\"\n",
    "    assert balancedSums2([1,4,1,5,1,5,0]) == \"YES\"\n",
    "    assert balancedSums2([2,0,0,0]) == \"YES\"\n",
    "    assert balancedSums2([0,0,2,0]) == \"YES\"\n",
    "    assert balancedSums2([5,4,6,2,9,11,21,20,1,2,3]) == \"NO\"\n",
    "    assert balancedSums2([5,5,5]) == \"YES\"\n",
    "\n",
    "# use this to verify the student's solution is correct\n",
    "# However, make sure there are no nested loops\n",
    "# which could mean the implementation runs in O(n^2) time"
   ]
  },
  {
   "cell_type": "markdown",
   "metadata": {},
   "source": [
    "## B.2 \n",
    "Write a function that takes a list of integers, and returns `True` if the list contains unique elements and `False` otherwise. For example, `list A` is unique (since no element is repeated) and `list B` is not (since 1 appeared three times).\n",
    "\n",
    "`A = [1,9,2,7,4,3,5,8,10,15,12]`\n",
    "\n",
    "`B = [2,1,5,6,4,1,2,4,8,10,1,2]`\n",
    "\n",
    "You should implement a solution for this problem in three different ways, each with time complexity:\n",
    "1. $O(n^2)$\n",
    "2. $O(n \\log n)$\n",
    "3. $O(n)$\n",
    "\n",
    "<div class=\"alert alert-info\">  <b>Note :</b> Do not assume that the list is sorted. Also, there are multiple solutions here, and you are only expected to come up with at least one solution under each complexity. </div>"
   ]
  },
  {
   "cell_type": "code",
   "execution_count": null,
   "metadata": {},
   "outputs": [],
   "source": [
    "A = [1,9,2,7,4,3,5,8,10,15,12]\n",
    "B = [2,1,5,6,4,1,2,4,8,10,1,2]"
   ]
  },
  {
   "cell_type": "code",
   "execution_count": null,
   "metadata": {},
   "outputs": [],
   "source": [
    "# solution for O(n^2) time complexity\n",
    "\n",
    "# here is one solution\n",
    "\n",
    "def unique_list_1a(A):\n",
    "    for i in range(len(A)): # O(n): goes through every element of the list\n",
    "        if A[i] in A[i+1:]: # O(n): in the worst case, this checks (n-1) elements\n",
    "            return False # O(1): if this is executed, then the True statement is not\n",
    "    return True # O(1): similarly, if this gets executed, then the False part does not\n",
    "\n",
    "# Thus, total complexity is O(n) * O(n) + O(1) = O(n^2)\n",
    "\n",
    "\n",
    "# ------------------------------------------------------------\n",
    "# ------------------------------------------------------------\n",
    "# ------------------------------------------------------------\n",
    "\n",
    "\n",
    "# the following is equally accepted\n",
    "\n",
    "def unique_list_1b(A):\n",
    "    unique = [] # O(1)\n",
    "    for elt in A: # O(n)\n",
    "        if elt not in unique: # O(n)\n",
    "            unique.append(elt) # O(1)\n",
    "        else:\n",
    "            return False # O(1)\n",
    "    return True # O(1)\n",
    "\n",
    "# Total time complexity is O(1) + O(n) * O(n) + O(1) + O(1) = O(n^2)\n",
    "\n",
    "print(unique_list_1a(A), unique_list_1b(A))\n",
    "print(unique_list_1a(B), unique_list_1b(B))"
   ]
  },
  {
   "cell_type": "code",
   "execution_count": null,
   "metadata": {},
   "outputs": [],
   "source": [
    "# solution for O(nlogn) time complexity\n",
    "\n",
    "def unique_list_2(A):\n",
    "    A.sort() # sorts in place, O(nlogn)\n",
    "    for i in range(len(A)-1): # O(n)\n",
    "        if A[i] == A[i+1]: # O(1), this is just a comparision\n",
    "            return False # O(1)\n",
    "    return True # O(1)\n",
    "\n",
    "# Total ime complexity is O(nlogn) + O(n) * O(1) + O(1) = O(nlogn)\n",
    "\n",
    "print(unique_list_2(A), unique_list_2(B))"
   ]
  },
  {
   "cell_type": "code",
   "execution_count": null,
   "metadata": {},
   "outputs": [],
   "source": [
    "# solution for O(n) time complexity\n",
    "\n",
    "def unique_list_3(A):\n",
    "    set_A = set(A) # O(n) to convert from list to set which removes duplicates\n",
    "    return len(A) == len(set_A) # O(1) to check length of list and set data types\n",
    "\n",
    "# Total time complexity is O(n) + O(1) = O(n)\n",
    "\n",
    "print(unique_list_3(A), unique_list_3(B))"
   ]
  },
  {
   "cell_type": "code",
   "execution_count": null,
   "metadata": {},
   "outputs": [],
   "source": []
  },
  {
   "cell_type": "markdown",
   "metadata": {},
   "source": [
    "## B.3 \n",
    "Write a function that takes a list of integers, and returns `True` if the list contains unique elements and `False` otherwise. For example, `list A` is unique (since no element is repeated) and `list B` is not (since 1 appeared three times).\n",
    "\n",
    "`A = [1,9,2,7,4,3,5,8,10,15,12]`\n",
    "\n",
    "`B = [2,1,5,6,4,1,2,4,8,10,1,2]`\n",
    "\n",
    "You should implement a solution for this problem in two different ways, each with time complexity:\n",
    "1. $O(n^2)$\n",
    "2. $O(n \\log n)$. **Hint: Consider using binary search.** Also, estimated time of completion is 60 - 150 mins.\n",
    "\n",
    "<div class=\"alert alert-info\">  <b>Note :</b> There is always a unique solution. </div>"
   ]
  },
  {
   "cell_type": "code",
   "execution_count": null,
   "metadata": {},
   "outputs": [],
   "source": [
    "# solution for O(n^2) complexity\n",
    "\n",
    "def icecreamParlor(m, arr):\n",
    "    found = [] # O(1)\n",
    "    for i in range(len(arr)-1): # O(n)\n",
    "        for j in range(i+1, len(arr)): # O(n)\n",
    "            if arr[i]+arr[j] == m: # O(1)\n",
    "                if i < j: # O(1)\n",
    "                    found = found + [i, j] # O(1)\n",
    "                else: # O(1)\n",
    "                    found = found + [j, i] # O(1)\n",
    "                return found"
   ]
  },
  {
   "cell_type": "code",
   "execution_count": null,
   "metadata": {
    "ExecuteTime": {
     "end_time": "2020-11-24T10:01:49.197050Z",
     "start_time": "2020-11-24T10:01:49.171682Z"
    }
   },
   "outputs": [],
   "source": [
    "m, arr = 4, [2, 2, 4, 3]\n",
    "arr_dict = {idx+1: (k, m-k) for idx, k in enumerate(arr)}\n",
    "for k in arr_dict.values():\n",
    "    print(k)"
   ]
  },
  {
   "cell_type": "code",
   "execution_count": 98,
   "metadata": {
    "ExecuteTime": {
     "end_time": "2020-11-24T11:34:19.981520Z",
     "start_time": "2020-11-24T11:34:19.936297Z"
    }
   },
   "outputs": [],
   "source": [
    "# solution for O(n log n) complexity\n",
    "\n",
    "from collections import defaultdict\n",
    "\n",
    "\n",
    "def binary_search(A, val):\n",
    "    lower, upper = 0, len(A)-1\n",
    "    while lower <= upper:\n",
    "        middle = (lower + upper) //2\n",
    "        if A[middle] > val:\n",
    "            upper = middle - 1\n",
    "        elif A[middle] < val:\n",
    "            lower = middle + 1\n",
    "        else:\n",
    "            return True\n",
    "    return False\n",
    "\n",
    "# Complete the icecreamParlor function below.\n",
    "def icecreamParlor(m, arr):\n",
    "    # create a dictionary pointing \n",
    "    # each idx in arr to (arr[index], m-arr[index]])\n",
    "    arr_dict = {idx: (k, m-k) for idx, k in enumerate(arr)} # O(n)\n",
    "    \n",
    "    idx1, num1 = None, None # O(1)\n",
    "    idx2, num2 = None, None # O(1)\n",
    "    \n",
    "    # store the copies of each elt in arr\n",
    "    arr_copies = defaultdict(int)\n",
    "    for elt in arr:\n",
    "        arr_copies[elt] += 1\n",
    "    print(arr_copies)\n",
    "    print(arr_dict)\n",
    "    \n",
    "    found = [] # O(1)\n",
    "    arr_copy = arr[:] # O(n)\n",
    "    arr_copy.sort() # we use this for binary search only # O(nlogn)\n",
    "    # go through each elt in arr\n",
    "    # use binary_search to find (m - elt) in arr_copy\n",
    "    # if (m - elt) is found, we are done\n",
    "    for idx, tupl in arr_dict.items(): # O(n)\n",
    "        # if the pairs contains the same value\n",
    "        # and there is only one copy of elt present in arr\n",
    "        # e.g., m = 4, arr = [2,3,1]\n",
    "        # arr_dict = {0: (2,2), 1:(3,1), 2: (4,1)}\n",
    "        # binary_search will return True when we search for 2\n",
    "        # but there is only one copy of 2\n",
    "        if tupl[0] == tupl[1] and arr_copies[tupl[0]] < 2: # O(1)\n",
    "            continue\n",
    "        if binary_search(arr_copy, tupl[1]): # O(n log n)\n",
    "            idx1, num1 = idx, tupl[0] # O(1)\n",
    "            break\n",
    "    print('idx1',idx1)\n",
    "    for idx in arr_dict:\n",
    "        if idx != idx1 and arr_dict[idx] == (m-num1, num1):\n",
    "            idx2 = idx\n",
    "\n",
    "    if idx1 < idx2:\n",
    "        found = found + [idx1, idx2]\n",
    "    else:\n",
    "        found = found + [idx2, idx1]\n",
    "    return found"
   ]
  },
  {
   "cell_type": "code",
   "execution_count": 100,
   "metadata": {
    "ExecuteTime": {
     "end_time": "2020-11-24T11:39:59.707375Z",
     "start_time": "2020-11-24T11:39:59.686870Z"
    }
   },
   "outputs": [
    {
     "name": "stdout",
     "output_type": "stream",
     "text": [
      "defaultdict(<class 'int'>, {2: 2, 3: 1, 1: 1})\n",
      "{0: (2, 2), 1: (3, 1), 2: (1, 3), 3: (2, 2)}\n",
      "idx1 0\n"
     ]
    },
    {
     "data": {
      "text/plain": [
       "[0, 3]"
      ]
     },
     "execution_count": 100,
     "metadata": {},
     "output_type": "execute_result"
    }
   ],
   "source": [
    "m, arr = 4, [2,3,1,2]\n",
    "icecreamParlor(m, arr)"
   ]
  },
  {
   "cell_type": "code",
   "execution_count": null,
   "metadata": {},
   "outputs": [],
   "source": []
  }
 ],
 "metadata": {
  "kernelspec": {
   "display_name": "Python 3",
   "language": "python",
   "name": "python3"
  },
  "language_info": {
   "codemirror_mode": {
    "name": "ipython",
    "version": 3
   },
   "file_extension": ".py",
   "mimetype": "text/x-python",
   "name": "python",
   "nbconvert_exporter": "python",
   "pygments_lexer": "ipython3",
   "version": "3.7.6"
  }
 },
 "nbformat": 4,
 "nbformat_minor": 4
}
