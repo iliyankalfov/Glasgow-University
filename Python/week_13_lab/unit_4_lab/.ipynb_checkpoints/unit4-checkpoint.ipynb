{
 "cells": [
  {
   "cell_type": "markdown",
   "metadata": {
    "ExecuteTime": {
     "end_time": "2020-11-21T22:44:54.628127Z",
     "start_time": "2020-11-21T22:44:54.612546Z"
    }
   },
   "source": [
    "# Lab 4\n",
    "<br>\n",
    "\n",
    "# Errors, exceptions, sorting and complexity\n",
    "\n",
    "---\n",
    "\n",
    "##### CS1P. Semester 2. Python 3.x\n",
    " ---"
   ]
  },
  {
   "cell_type": "markdown",
   "metadata": {
    "ExecuteTime": {
     "end_time": "2020-11-21T22:06:57.135040Z",
     "start_time": "2020-11-21T22:06:57.116260Z"
    }
   },
   "source": [
    "## Purpose of the lab\n",
    "\n",
    "There are only two (albeit large) problems in this lab. They will exercise your skills on:\n",
    "* files\n",
    "* dictionaries\n",
    "* handling exceptions\n",
    "* sorting \n",
    "* analysing time complexity\n",
    "\n",
    "In part A, you will implement a robust program that detects and handles as many errors as possible, as well as gives informative error messages to the user.\n",
    "\n",
    "The problem in part B is from HackerRank, it will exercise your problem solving skills, as well as your knowledge on sorting and time complexity. "
   ]
  },
  {
   "cell_type": "code",
   "execution_count": 24,
   "metadata": {
    "ExecuteTime": {
     "end_time": "2020-12-07T17:11:32.769151Z",
     "start_time": "2020-12-07T17:11:32.753727Z"
    }
   },
   "outputs": [],
   "source": [
    "from utils.tick import tick"
   ]
  },
  {
   "cell_type": "markdown",
   "metadata": {
    "ExecuteTime": {
     "end_time": "2020-11-29T10:30:26.755384Z",
     "start_time": "2020-11-29T10:30:26.735540Z"
    }
   },
   "source": []
  },
  {
   "cell_type": "markdown",
   "metadata": {
    "ExecuteTime": {
     "end_time": "2020-12-07T17:11:32.769151Z",
     "start_time": "2020-12-07T17:11:32.753727Z"
    }
   },
   "source": [
    "# A: Birthday book"
   ]
  },
  {
   "cell_type": "markdown",
   "metadata": {
    "ExecuteTime": {
     "end_time": "2020-12-07T17:11:32.769151Z",
     "start_time": "2020-12-07T17:11:32.753727Z"
    }
   },
   "source": [
    "## A.1 \n",
    "\n",
    "The idea of this exercise is to read in people's birthdays and produce reminders of birthdays that are coming up. A birthday consists of a month and a date, which can be represented by a dictionary such as\n",
    "\n",
    "    { \"month\":\"Sep\", \"day\":17 }\n",
    "    \n",
    "The birthday book is a dictionary in which the keys are people's names, and the values are birthdays, represented as dictionaries as above. The functions you have to define are described below; they should all take a birthday book as a parameter, as well as any other parameter specified below. Before you start coding, make sure you have a clear idea of how to produce the desired information."
   ]
  },
  {
   "cell_type": "markdown",
   "metadata": {
    "ExecuteTime": {
     "end_time": "2020-12-07T17:11:32.769151Z",
     "start_time": "2020-12-07T17:11:32.753727Z"
    }
   },
   "source": [
    "(a) Write some code to set up a birthday book with several people and their birthdays, for testing purposes."
   ]
  },
  {
   "cell_type": "code",
   "execution_count": null,
   "metadata": {},
   "outputs": [],
   "source": [
    "# Setting up a birthday book\n",
    "book = {}\n",
    "book[\"Simon\"] = { \"month\":\"Sep\", \"date\":17 }\n",
    "# add more entries"
   ]
  },
  {
   "cell_type": "code",
   "execution_count": 38,
   "metadata": {
    "ExecuteTime": {
     "end_time": "2020-12-17T10:31:20.079086Z",
     "start_time": "2020-12-17T10:31:20.063131Z"
    }
   },
   "outputs": [],
   "source": [
    "# Setting up a birthday book\n",
    "book = {}\n",
    "book[\"Simon\"] = { \"month\":\"Sep\", \"date\":17 }\n",
    "book[\"Dorothy\"] = { \"month\":\"Sep\", \"date\":18 }\n",
    "book[\"Tina\"] = { \"month\":\"May\", \"date\":7 }\n",
    "book[\"Sue\"] = { \"month\":\"Apr\", \"date\":14 }\n",
    "book[\"Phil\"] = { \"month\":\"Jun\", \"date\":7 }\n",
    "book[\"Sally\"] = { \"month\":\"Sep\", \"date\":24 }\n",
    "book[\"John\"] = { \"month\":\"Dec\", \"date\":30 }\n",
    "book[\"Anne\"] = { \"month\":\"Jan\", \"date\":2 }"
   ]
  },
  {
   "cell_type": "markdown",
   "metadata": {
    "ExecuteTime": {
     "end_time": "2020-12-07T17:11:32.769151Z",
     "start_time": "2020-12-07T17:11:32.753727Z"
    }
   },
   "source": [
    "<br> \n",
    "\n",
    "(b) Define a function which, given a person's name, prints their birthday."
   ]
  },
  {
   "cell_type": "code",
   "execution_count": 39,
   "metadata": {
    "ExecuteTime": {
     "end_time": "2020-12-15T10:21:50.841919Z",
     "start_time": "2020-12-15T10:21:50.817018Z"
    }
   },
   "outputs": [
    {
     "name": "stdout",
     "output_type": "stream",
     "text": [
      "Sue: Apr, 14\n"
     ]
    }
   ],
   "source": [
    "# Function to print a birthday\n",
    "def printBirthday(name, date):\n",
    "    print(f\"{name}: {date['month']}, {date['date']}\")\n",
    "\n",
    "# The lookup function\n",
    "def birthdayByName(name, book):\n",
    "    if name in book:\n",
    "        printBirthday(name, book[name])\n",
    "    else:\n",
    "        print(f\"{name} is not in the birthday book\")\n",
    "birthdayByName(\"Sue\", book)"
   ]
  },
  {
   "cell_type": "markdown",
   "metadata": {
    "ExecuteTime": {
     "end_time": "2020-12-07T17:11:32.769151Z",
     "start_time": "2020-12-07T17:11:32.753727Z"
    }
   },
   "source": [
    "<br>\n",
    "(c) Define a function which, given a month, prints a list of all the people who have birthdays in that month, with the dates."
   ]
  },
  {
   "cell_type": "code",
   "execution_count": 40,
   "metadata": {
    "ExecuteTime": {
     "end_time": "2020-12-15T10:17:38.280736Z",
     "start_time": "2020-12-15T10:17:38.270273Z"
    }
   },
   "outputs": [
    {
     "name": "stdout",
     "output_type": "stream",
     "text": [
      "Simon: Sep, 17\n",
      "Dorothy: Sep, 18\n",
      "Sally: Sep, 24\n"
     ]
    }
   ],
   "source": [
    "# Months with their lengths\n",
    "months = { \"Jan\":31, \"Feb\":29, \"Mar\":31, \"Apr\":30, \"May\":31, \"Jun\":30,\n",
    "           \"Jul\":31, \"Aug\":31, \"Sep\":30, \"Oct\":31, \"Nov\":30, \"Dec\":31 }\n",
    "\n",
    "# Months in calendar order\n",
    "monthOrder = [ \"Jan\", \"Feb\", \"Mar\", \"Apr\", \"May\", \"Jun\",\n",
    "               \"Jul\", \"Aug\", \"Sep\", \"Oct\", \"Nov\", \"Dec\" ]\n",
    "\n",
    "# Find birthdays in a given month\n",
    "\n",
    "def findInMonth(month,book):\n",
    "    if not(month in months.keys()):\n",
    "        print(f\"{month} is not a valid month\")\n",
    "    else:\n",
    "        for name in book:\n",
    "            if book[name][\"month\"] == month:\n",
    "                printBirthday(name,book[name])\n",
    "findInMonth(\"Sep\", book)\n",
    "\n",
    "# Students could decide to handle case sensitive spellings \n",
    "# or different ways in which a particular month can be written\n",
    "# this is open-ended"
   ]
  },
  {
   "cell_type": "markdown",
   "metadata": {
    "ExecuteTime": {
     "end_time": "2020-12-07T17:11:32.769151Z",
     "start_time": "2020-12-07T17:11:32.753727Z"
    }
   },
   "source": [
    "<br>\n",
    "(d)\n",
    "Define a function which, given a month and a date, prints a list of all the people who have birthdays within the next week, with the dates. Don't forget that some of these birthdays might be in the next month, and if the given date is in December, some of them might be in January."
   ]
  },
  {
   "cell_type": "code",
   "execution_count": 41,
   "metadata": {
    "ExecuteTime": {
     "end_time": "2020-12-15T22:37:05.691575Z",
     "start_time": "2020-12-15T22:37:05.657922Z"
    }
   },
   "outputs": [
    {
     "name": "stdout",
     "output_type": "stream",
     "text": [
      "John: Dec, 30\n",
      "Anne: Jan, 2\n"
     ]
    }
   ],
   "source": [
    "# Check a given month and date for validity\n",
    "\n",
    "def validDate(month,date):\n",
    "    if month in months:\n",
    "        return date >= 1 and date <= months[month]\n",
    "    else:\n",
    "        return False\n",
    "#print(validDate(\"Dec\",30))\n",
    "\n",
    "# Convert a date into a day number from the beginning of the year\n",
    "# Assume that the date is valid\n",
    "\n",
    "def dayNumber(month,date):\n",
    "    days = 0\n",
    "    m = 0\n",
    "    while monthOrder[m] != month:\n",
    "        days = days + months[monthOrder[m]]\n",
    "        m = m + 1\n",
    "    days = days + date\n",
    "    return days\n",
    "#print(dayNumber(\"Sep\",17))\n",
    "\n",
    "# Find birthdays in the next week\n",
    "\n",
    "def findSoon(month,date,book):\n",
    "    if validDate(month,date):\n",
    "        # how many days are there from Jan 1 to month, date?\n",
    "        dayNum = dayNumber(month,date)\n",
    "        for name, d in book.items():\n",
    "            dn = dayNumber(d[\"month\"],d[\"date\"])\n",
    "            # if dn is in the past, add 366\n",
    "            if dn < dayNum:\n",
    "                dn = dn + 366\n",
    "            if dayNum <= dn <= dayNum + 7:\n",
    "                printBirthday(name,d)\n",
    "    else:\n",
    "        print(\"Invalid date\")\n",
    "findSoon(\"Dec\", 30, book)"
   ]
  },
  {
   "cell_type": "markdown",
   "metadata": {
    "ExecuteTime": {
     "end_time": "2020-12-07T17:11:32.769151Z",
     "start_time": "2020-12-07T17:11:32.753727Z"
    }
   },
   "source": [
    "## A.2 Reading birthdays from a file\n",
    "\n",
    "The aim of this task is to write a function `getBirthdays` which takes a file name as a parameter and reads birthdays from the file, storing them in a dictionary which should also be a parameter of the function. The first line of the function definition should therefore be\n",
    "\n",
    "\tdef getBirthdays(fileName, book):\n",
    "    \n",
    "The file should contain a number of lines with one birthday per line, in the following format:\n",
    "\n",
    "\tJohn,Mar,23    \n",
    "\tSusan,Feb,16\n",
    "    \n",
    "and so on. The file `birthdays.txt` in the Unit4/Lab folder contains some data that you can use for testing; you can also create your own files.\n",
    "\n",
    "For this task, don't worry about handling errors: assume that the file exists, that it has the correct format, that every line gives a valid date, etc. "
   ]
  },
  {
   "cell_type": "code",
   "execution_count": 42,
   "metadata": {
    "ExecuteTime": {
     "end_time": "2020-12-15T22:53:00.309615Z",
     "start_time": "2020-12-15T22:53:00.285946Z"
    }
   },
   "outputs": [],
   "source": [
    "# Read birthdays from a file\n",
    "\n",
    "def getBirthdays(fileName,book):\n",
    "    with open(fileName,\"r\") as f:\n",
    "        line = f.readline()\n",
    "        while line != \"\":\n",
    "            data = line.strip().split(\",\")\n",
    "            book[data[0]] = { \"month\":data[1], \"date\":int(data[2]) }\n",
    "            line = f.readline()\n",
    "\n",
    "# Add a birthday\n",
    "\n",
    "def addBirthday(name,month,date,book):\n",
    "    book[name] = { \"month\":month, \"date\":date }"
   ]
  },
  {
   "cell_type": "markdown",
   "metadata": {
    "ExecuteTime": {
     "end_time": "2020-12-07T17:11:32.769151Z",
     "start_time": "2020-12-07T17:11:32.753727Z"
    }
   },
   "source": [
    "<br>\n",
    "\n",
    "## A.3 Menu\n",
    "The task now is to combine the functions you have implemented so far into a complete application. Write a program which repeatedly asks the user to enter a command, asks for further details if necessary, and carries out the corresponding operation. \n",
    "\n",
    "For example, one command could be \"read\"; in this case the program should ask the user to enter a filename, and then read birthdays from that file into the birthday book. There should be a textual menu with a command for each of the operations from tasks A1 and A2, as well as a command \"quit\" which terminates the program. Also add a command (and a function) allowing a new birthday to be stored in the book.\n",
    "\n",
    "Later in the course we will see how to build a graphical user interface instead of using keyboard input."
   ]
  },
  {
   "cell_type": "code",
   "execution_count": 45,
   "metadata": {
    "ExecuteTime": {
     "end_time": "2020-12-07T17:11:32.769151Z",
     "start_time": "2020-12-07T17:11:32.753727Z"
    }
   },
   "outputs": [
    {
     "name": "stdout",
     "output_type": "stream",
     "text": [
      "------------------------------\n",
      "Choose from the following options:\n",
      "l:  look up a birthday\n",
      "m:  find birthdays in a given month\n",
      "w:  find birthdays in the next week\n",
      "a:  add a birthday\n",
      "r:  read birthdays from a file\n",
      "q:  quit\n",
      "------------------------------\n",
      "\n",
      "Enter your choice: Sue\n",
      "You did not choose a valid option\n",
      "------------------------------\n",
      "Choose from the following options:\n",
      "l:  look up a birthday\n",
      "m:  find birthdays in a given month\n",
      "w:  find birthdays in the next week\n",
      "a:  add a birthday\n",
      "r:  read birthdays from a file\n",
      "q:  quit\n",
      "------------------------------\n",
      "\n",
      "Enter your choice: l\n",
      "Enter the name: Sue\n",
      "Sue: Apr, 14\n",
      "------------------------------\n",
      "Choose from the following options:\n",
      "l:  look up a birthday\n",
      "m:  find birthdays in a given month\n",
      "w:  find birthdays in the next week\n",
      "a:  add a birthday\n",
      "r:  read birthdays from a file\n",
      "q:  quit\n",
      "------------------------------\n",
      "\n",
      "Enter your choice: m\n",
      "Enter the month: Sep\n",
      "Simon: Sep, 17\n",
      "Dorothy: Sep, 18\n",
      "Sally: Sep, 24\n",
      "------------------------------\n",
      "Choose from the following options:\n",
      "l:  look up a birthday\n",
      "m:  find birthdays in a given month\n",
      "w:  find birthdays in the next week\n",
      "a:  add a birthday\n",
      "r:  read birthdays from a file\n",
      "q:  quit\n",
      "------------------------------\n",
      "\n",
      "Enter your choice: a\n",
      "Enter the name: Fionnuala\n",
      "Enter the month: Dec\n",
      "Enter the date: 28\n",
      "------------------------------\n",
      "Choose from the following options:\n",
      "l:  look up a birthday\n",
      "m:  find birthdays in a given month\n",
      "w:  find birthdays in the next week\n",
      "a:  add a birthday\n",
      "r:  read birthdays from a file\n",
      "q:  quit\n",
      "------------------------------\n",
      "\n",
      "Enter your choice: m\n",
      "Enter the month: Dec\n",
      "John: Dec, 30\n",
      "Fionnuala: Dec, 28\n",
      "------------------------------\n",
      "Choose from the following options:\n",
      "l:  look up a birthday\n",
      "m:  find birthdays in a given month\n",
      "w:  find birthdays in the next week\n",
      "a:  add a birthday\n",
      "r:  read birthdays from a file\n",
      "q:  quit\n",
      "------------------------------\n",
      "\n",
      "Enter your choice: w\n",
      "Enter the current month: Dec\n",
      "Enter the current date: 23\n",
      "John: Dec, 30\n",
      "Fionnuala: Dec, 28\n",
      "------------------------------\n",
      "Choose from the following options:\n",
      "l:  look up a birthday\n",
      "m:  find birthdays in a given month\n",
      "w:  find birthdays in the next week\n",
      "a:  add a birthday\n",
      "r:  read birthdays from a file\n",
      "q:  quit\n",
      "------------------------------\n",
      "\n",
      "Enter your choice: r\n",
      "Enter the file name: birthdays.txt\n",
      "------------------------------\n",
      "Choose from the following options:\n",
      "l:  look up a birthday\n",
      "m:  find birthdays in a given month\n",
      "w:  find birthdays in the next week\n",
      "a:  add a birthday\n",
      "r:  read birthdays from a file\n",
      "q:  quit\n",
      "------------------------------\n",
      "\n",
      "Enter your choice: l\n",
      "Enter the name: Fionnuala\n",
      "Fionnuala: Dec, 28\n",
      "------------------------------\n",
      "Choose from the following options:\n",
      "l:  look up a birthday\n",
      "m:  find birthdays in a given month\n",
      "w:  find birthdays in the next week\n",
      "a:  add a birthday\n",
      "r:  read birthdays from a file\n",
      "q:  quit\n",
      "------------------------------\n",
      "\n",
      "Enter your choice: q\n"
     ]
    }
   ],
   "source": [
    "\"\"\"\n",
    "The code below gives a basic structure for an interactive application \n",
    "which asks the user for a choice from a menu. I anticipate that some \n",
    "students may need help to get something similar to this structure or \n",
    "equivalent. Of course, the code below is not the only way to do it, \n",
    "but note the similarity to other programs we have seen that repeatedly \n",
    "get data from the user, in particular the call of getChoice at the end \n",
    "of a while loop, with another call before the loop in order to\n",
    "\"prime the pump\".\n",
    "\"\"\"\n",
    "\n",
    "# The main program\n",
    "\n",
    "def getChoice():\n",
    "    print(\"-\"*30)\n",
    "    print(\"Choose from the following options:\")\n",
    "    print(\"l:  look up a birthday\")\n",
    "    print(\"m:  find birthdays in a given month\")\n",
    "    print(\"w:  find birthdays in the next week\")\n",
    "    print(\"a:  add a birthday\")\n",
    "    print(\"r:  read birthdays from a file\")\n",
    "    print(\"q:  quit\")\n",
    "    print(\"-\"*30)\n",
    "    print()\n",
    "    choice = input(\"Enter your choice: \")    \n",
    "    return choice\n",
    "\n",
    "def main():\n",
    "    c = getChoice()\n",
    "    while c != \"q\":\n",
    "        if c == \"l\":\n",
    "            name = input(\"Enter the name: \")\n",
    "            birthdayByName(name,book)\n",
    "        elif c == \"m\":\n",
    "            month = input(\"Enter the month: \")\n",
    "            findInMonth(month,book)\n",
    "        elif c == \"w\":\n",
    "            month = input(\"Enter the current month: \")\n",
    "            date = int(input(\"Enter the current date: \"))\n",
    "            findSoon(month,date,book)\n",
    "        elif c == \"a\":\n",
    "            name = input(\"Enter the name: \")\n",
    "            month = input(\"Enter the month: \")\n",
    "            date = int(input(\"Enter the date: \"))\n",
    "            addBirthday(name,month,date,book)\n",
    "        elif c == \"r\":\n",
    "            fileName = input(\"Enter the file name: \")\n",
    "            getBirthdays(fileName,book)\n",
    "        else:\n",
    "            print(\"You did not choose a valid option\")\n",
    "        c = getChoice()\n",
    "main()"
   ]
  },
  {
   "cell_type": "markdown",
   "metadata": {
    "ExecuteTime": {
     "end_time": "2020-12-07T17:11:32.769151Z",
     "start_time": "2020-12-07T17:11:32.753727Z"
    }
   },
   "source": [
    "<br>\n",
    "\n",
    "## A.4 Handling Exceptions\n",
    "In this task, you will make the birthday book program robust by detecting and/or handling as many errors as possible and giving informative error messages to the user. There are many possibilities for errors in the input to the program. For example:\n",
    "* the file of birthdays might not exist or might not have the correct format; \n",
    "* the dates can be invalid (e.g., Feb 31); \n",
    "* when finding a person's birthday, the person might not be in the birthday book; \n",
    "* when asking for birthdays in a given month, the name of the month might be incorrect; \n",
    "* the user might enter an incorrect command in response to the top-level prompt; and so on.\n",
    "\n",
    "Modify the birthday book program so that as many errors as you can think of are detected. In some cases, for example trying to open a non-existent file, you should handle the exception raised by the built-in Python function. In other cases, you might like to raise and handle your own exceptions, or you might prefer to use other techniques (for example, checking that the top-level command is correct can be done easily with a series of if statements).\n",
    "Test your program thoroughly, remembering that you are now checking that error cases are handled correctly."
   ]
  },
  {
   "cell_type": "code",
   "execution_count": null,
   "metadata": {
    "ExecuteTime": {
     "end_time": "2020-12-07T17:11:32.769151Z",
     "start_time": "2020-12-07T17:11:32.753727Z"
    }
   },
   "outputs": [],
   "source": [
    "\"\"\"\n",
    "The previous tasks are fairly straightforward, but this one is \n",
    "potentially quite a lot of work and requires careful thought to do \n",
    "it thoroughly. Students should certainly handle the exception raised\n",
    "by open if the file does not exist. \n",
    "\n",
    "Exceptions have been covered in the lecture. There are numerous other \n",
    "errors to detect: incorrect month, incorrect date in the given month, \n",
    "incorrect file format when reading birthdays in, trying to add a new \n",
    "birthday for an existing person. Students should think of and detect \n",
    "anything that could possibly be regarded as an error. They should test \n",
    "thoroughly: they are now testing mainly with error cases. Most of the\n",
    "errors can be handled by checking the format of the strings and numbers \n",
    "supplied, but they might like to experiment with using exceptions.\n",
    "\"\"\""
   ]
  },
  {
   "cell_type": "code",
   "execution_count": null,
   "metadata": {},
   "outputs": [],
   "source": []
  },
  {
   "cell_type": "code",
   "execution_count": null,
   "metadata": {},
   "outputs": [],
   "source": []
  },
  {
   "cell_type": "markdown",
   "metadata": {},
   "source": [
    "# B: [Fraudulent Activity Notifications](https://www.hackerrank.com/challenges/fraudulent-activity-notifications/problem?h_l=interview&playlist_slugs%5B%5D=interview-preparation-kit&playlist_slugs%5B%5D=sorting)"
   ]
  },
  {
   "cell_type": "markdown",
   "metadata": {},
   "source": [
    "### Background\n",
    "\n",
    "HackerLand National Bank has a simple policy for warning clients about possible fraudulent account activity. If the amount spent by a client on a particular day is greater than or equal to $2 \\times$ the client's median spending for a trailing number of days, they send the client a notification about potential fraud. The bank doesn't send the client any notifications until they have at least that trailing number of prior days' transaction data.\n",
    "\n",
    "<div class=\"alert alert-info\">\n",
    "    <b>NOTE</b>: The median of a list of numbers can be found by arranging all the numbers from smallest to greatest. If there is an odd number of numbers, the middle one is picked. If there is an even number of numbers, median is then defined to be the average of the two middle values.\n",
    "</div>\n"
   ]
  },
  {
   "cell_type": "markdown",
   "metadata": {},
   "source": [
    "### Problem Specification\n",
    "\n",
    "(i) Write a function `activityNotifications`, which takes as parameter, a filename representing the client's activities, and returns an integer representing the number of client notifications. \n",
    "\n",
    "(ii) What is the time complexity of your implementation? Don't worry about the time it takes to read the file.\n",
    "\n",
    "(iii) If answer to (ii) above is more than $O(nd)$, how can you improve your implementation?\n",
    "\n",
    "---\n",
    "\n",
    "One of the txt files (`fan1.txt`) is displayed below.\n",
    "<img src=\"imgs/fan1.png\" width=50%> \n",
    "\n",
    "**How to read the input file:**\n",
    "\n",
    "First line contains two space-separated integers \n",
    "* **n**, the number of days of transaction data;\n",
    "* **d**, the number of trailing days' data used to calculate median spending.\n",
    "\n",
    "Second line contains space-separated non-negative integers where each integer $i$ denotes $expenditure[i]$.\n",
    "\n",
    "**Constraints:**\n",
    "\n",
    "$1 \\leq n \\leq 2 \\times 10^5$\n",
    "\n",
    "$1 \\leq d \\leq n$\n",
    "\n",
    "$0 \\leq expenditure[i] \\leq 200$\n",
    "\n",
    "**Output format**\n",
    "\n",
    "An integer denoting the total number of times the client receives a notification over a period of $n$ days.\n",
    "\n"
   ]
  },
  {
   "cell_type": "markdown",
   "metadata": {},
   "source": [
    "---\n",
    "\n",
    "### Illustration 1\n",
    "\n",
    "```Python3\n",
    "# fan1.txt\n",
    "# 9 5\n",
    "# 2 3 4 2 3 6 8 4 5\n",
    "\n",
    "activityNotification(\"fan1.txt\") \n",
    ">>> 2\n",
    "```\n",
    "\n",
    "**EXPLANATION:**\n",
    "\n",
    "We must determine the total number of _**notifications**_ the client receives over a period of $n = 9$ days. \n",
    "\n",
    "For the first $d = 5$ days, the customer receives no notifications because the bank has insufficient transaction data: _**notifications = 0**_.\n",
    "\n",
    "Day 6: $\\mbox{trailing expenditure} = [2, 3, 4, 2, 3]$,  $median = 3$, and $\\mbox{expenditure on the 6-th day} = 6$. Since $6 \\geq 2 \\times \\; median$, there will be a notice:  _**notifications = 0 + 1 = 1**_. \n",
    "\n",
    "Day 7: $\\mbox{trailing expenditure} = [3, 4, 2, 3, 6]$,  $median = 3$, and $\\mbox{expenditure on the 7-th day} = 8$. Since $8 \\geq 2 \\times \\; median$, there will be a notice:  _**notifications = 1 + 1 = 2**_. \n",
    "\n",
    "Day 8: $\\mbox{trailing expenditure} = [4, 2, 3, 6, 8]$,  $median = 4$, and $\\mbox{expenditure on the 8-th day} = 4$. Since $4 < 2 \\times \\; median$, there will be no notice:  _**notifications = 2 + 0 = 2**_. \n",
    "\n",
    "Day 9: $\\mbox{trailing expenditure} = [2, 3, 6, 8, 4]$,  $median = 4$, and $\\mbox{expenditure on the 9-th day} = 5$. Since $5 \\geq 2 \\times \\; median$, there will be no notice:  _**notifications = 2 + 0 = 2**_. "
   ]
  },
  {
   "cell_type": "markdown",
   "metadata": {},
   "source": [
    "---\n",
    "\n",
    "### Illustration 2\n",
    "```Python3\n",
    "# fan2.txt\n",
    "# 5 4\n",
    "# 1 2 3 4 4\n",
    "\n",
    "activityNotification(\"fan2.txt\") \n",
    ">>> 0\n",
    "```\n",
    "\n",
    "**EXPLANATION:**\n",
    "\n",
    "We must determine the total number of _**notifications**_ the client receives over a period of $n = 5$ days. \n",
    "\n",
    "For the first $d = 4$ days, the customer receives no notifications because the bank has insufficient transaction data: _**notifications = 0**_.\n",
    "\n",
    "Day 5: $\\mbox{trailing expenditure} = [1, 2, 3, 4]$,  $median = 2.5$, and $\\mbox{expenditure on the 5-th day} = 4$. Since $4 < 2 \\times \\; median$, there will be no notice:  _**notifications = 0 + 0 = 0**_. "
   ]
  },
  {
   "cell_type": "code",
   "execution_count": null,
   "metadata": {},
   "outputs": [],
   "source": []
  },
  {
   "cell_type": "markdown",
   "metadata": {},
   "source": [
    "**Note for tutors:**\n",
    "\n",
    "This problem will require that the students do proper planning before implementing anything. Unit 5 will be on problem solving and program planning, but I want to use this task to identify their weak points in this regard. My solution terminates in less than 3 seconds on the large test cases. If any student writes a solution that takes longer than 30 seconds (considering computer hardware), encourage them to improve their implementation. This is where the theoretical analysis of complexity comes in, any implementation short of $O(nd)$ time in total will definitely be slow. \n",
    "\n",
    "**Hints** you can give them include:\n",
    "* consider using counting sort\n",
    "* how can you find median at each iteration without using the sort function everytime\n",
    "* think of how to maintain bucket returned from counting sort in constant time\n",
    "* how can you find median of a list based on bucket returned from counting sort, without the overhead of sorting again.\n",
    "\n",
    "Below is my program plan, you should read this to understand my solution.\n",
    "\n",
    "1. Read in the file, process it and return a tuple of integer ($n$), integer ($d$) and list of integers (expenditures).\n",
    "\n",
    "2. In `activityNotifcations`, initialise final result **notifications := 0**\n",
    "\n",
    "3. Sorting will need to take place, since median is involved. Range of integer is between $0$ and $200$, so I will implement counting sort. Write a function countSort, it takes $O(n+200) = O(n)$ time. \n",
    "\n",
    "4. Find first median using bucket created from counting sort above, process this and decide if **notifications** gets incremented or not ($O(d)$ time). \n",
    "\n",
    "5. Find remaining $n - d - 1$ median and continue as in 4. I know that everytime I need to find the `next median`, integer at the head of previous list is removed and a new integer is appended to its tail to form the next list. For instance in `fan1.txt`, list for day 6 is [2, 3, 4, 2, 3] and list for day 7 is [3, 4, 2, 3, 6]. So write a function `updateBucket` to handle this removal and insertion in constant time."
   ]
  },
  {
   "cell_type": "code",
   "execution_count": 21,
   "metadata": {},
   "outputs": [
    {
     "data": {
      "text/plain": [
       "(9, 5, [2, 3, 4, 2, 3, 6, 8, 4, 5])"
      ]
     },
     "execution_count": 21,
     "metadata": {},
     "output_type": "execute_result"
    }
   ],
   "source": [
    "# read file\n",
    "# return n, d and expenditures\n",
    "def read_file(filename):\n",
    "    with open(filename) as f:\n",
    "        # .read().splitlines() gets rid of whitespace characters\n",
    "        # without having to use .strip()        \n",
    "        f = f.read().splitlines() # fan1.txt = ['9 5', '2 3 4 2 3 6 8 4 5']\n",
    "        n, d = list(map(int, f[0].split()))\n",
    "        expenditures = list(map(int, f[1].split()))\n",
    "    return n, d, expenditures\n",
    "        \n",
    "read_file(\"fan1.txt\")\n",
    "        "
   ]
  },
  {
   "cell_type": "code",
   "execution_count": null,
   "metadata": {},
   "outputs": [],
   "source": [
    "def countSort(expenditures):\n",
    "    # countSort takes O(len(expenditures) + 200) time\n",
    "    \n",
    "    # range of expenditures to be sorted\n",
    "    # for us to obtain median is between 0 and 200\n",
    "    bucket = [0 for _ in range(201)]\n",
    "    \n",
    "    for elt in expenditures:\n",
    "        bucket[elt] += 1\n",
    "    return bucket\n",
    "\n",
    "def updateBucket(bucket, remove, insert):\n",
    "    # updateBucket takes O(1) time\n",
    "    bucket[remove] -= 1\n",
    "    bucket[insert] += 1\n",
    "    return bucket"
   ]
  },
  {
   "cell_type": "code",
   "execution_count": null,
   "metadata": {},
   "outputs": [],
   "source": [
    "# for fan1.txt, d = 5 (odd)\n",
    "# expenditure[:5] = lst = [2, 3, 4, 2, 3], bucket[:5] = [0, 0, 2, 2, 1]\n",
    "# index 0 has freq 0\n",
    "# index 1 has freq 0\n",
    "# index 2 has freq 2\n",
    "# index 3 has freq 2\n",
    "# index 4 has freq 1\n",
    "\n",
    "\n",
    "# the index of median element after we sort lst is d//2 = 2\n",
    "# if we sort [2, 3, 4, 2, 3], we obtain [2, 2, 3, 3, 4]\n",
    "# Thus our median is 3.\n",
    "\n",
    "# Instead of sorting, we use bucket to find our median.\n",
    "# However, because of how counting sort works, our median is that\n",
    "# particular index for which total freq from index 0 >= (d//2 + 1)\n",
    "\n",
    "def find_median(bucket, position):\n",
    "    # position is never greater than d//2 \n",
    "    # so find_median terminates in less than O(d) time\n",
    "    \n",
    "    position += 1 # increment to match bucket's indexing style\n",
    "    median = -1\n",
    "    # keep subtracting the frequency of elements in bucket from position\n",
    "    # the index for which position becomes 0 is the median element\n",
    "    while position > 0:\n",
    "        median += 1\n",
    "        position -= bucket[median]\n",
    "    return median"
   ]
  },
  {
   "cell_type": "code",
   "execution_count": 46,
   "metadata": {},
   "outputs": [],
   "source": [
    "def medianPositon(bucket, d):\n",
    "    # medianPositon uses find_median, which takes O(d) time\n",
    "    \n",
    "    # we want to find the median element using bucket from countSort\n",
    "    if d%2 == 0: # if d is even\n",
    "        # pos1 and pos2 will store position of the two median values\n",
    "        pos1, pos2 = (d//2)-1, d//2\n",
    "        # I am not dividing my return value by 2 here\n",
    "        # instead I will not multiply by 2 in line 26\n",
    "        return find_median(bucket, pos1) + find_median(bucket, pos2)\n",
    "    # otherwise d is odd\n",
    "    return find_median(bucket, d//2)\n",
    "    \n",
    "\n",
    "def activityNotifications(filename):\n",
    "    # step 1: read in the file\n",
    "    n, d, expenditure = read_file(filename) # time for this is excluded\n",
    "    # step 2\n",
    "    notifications = 0\n",
    "    \n",
    "    # initial expenditures needed to find first median is up to d days\n",
    "    initial_bucket = countSort(expenditure[:d]) # O(d + 200) = O(d)\n",
    "    \n",
    "    for idx, elt in enumerate(expenditure[d:]): # O(n - d)\n",
    "        # if d is even and elt >= 2 x (median1 + median2) / 2\n",
    "        if d%2 == 0 and elt >= medianPositon(initial_bucket, d): # << O(d)\n",
    "            notifications += 1\n",
    "        # if d is odd and elt >= 2 x median\n",
    "        elif elt >= 2*medianPositon(initial_bucket, d): # << O(d)\n",
    "            notifications += 1\n",
    "            \n",
    "        # in bucket, decrement the freq of elt at head of list by 1 \n",
    "        # increment the freq of new elt by 1\n",
    "        # this is how we keep maintaining bucket in constant time\n",
    "        # to find next median, without having to sort everytime\n",
    "        initial_bucket = updateBucket(initial_bucket, expenditure[idx], elt)\n",
    "    return notifications\n",
    "\n",
    "# total complexity is\n",
    "# O(d) + [ O(n - d) * O(d)] \n",
    "# = O(d) + O(nd) - O(d^2)\n",
    "# = O(nd)\n"
   ]
  },
  {
   "cell_type": "code",
   "execution_count": 47,
   "metadata": {},
   "outputs": [
    {
     "data": {
      "text/html": [
       " <h3> <font color=\"green\"> ✓ Correct </font> </h3>"
      ],
      "text/plain": [
       "<IPython.core.display.HTML object>"
      ]
     },
     "metadata": {},
     "output_type": "display_data"
    }
   ],
   "source": [
    "# these are small test cases\n",
    "with tick():\n",
    "    assert activityNotifications(\"fan1.txt\") == 2\n",
    "    assert activityNotifications(\"fan2.txt\") == 0    \n",
    "    assert activityNotifications(\"fan3.txt\") == 1"
   ]
  },
  {
   "cell_type": "code",
   "execution_count": null,
   "metadata": {},
   "outputs": [],
   "source": [
    "# the next three cells are large test cases\n",
    "# my solution terminated in less than 3 seconds\n",
    "# if your overall complexity is more than O(nd), \n",
    "# I can't guarantee how long it will take to terminate on your computer"
   ]
  },
  {
   "cell_type": "code",
   "execution_count": 48,
   "metadata": {},
   "outputs": [
    {
     "data": {
      "text/html": [
       " <h3> <font color=\"green\"> ✓ Correct </font> </h3>"
      ],
      "text/plain": [
       "<IPython.core.display.HTML object>"
      ]
     },
     "metadata": {},
     "output_type": "display_data"
    }
   ],
   "source": [
    "with tick():\n",
    "    assert activityNotifications(\"fan4.txt\") == 633"
   ]
  },
  {
   "cell_type": "code",
   "execution_count": 49,
   "metadata": {},
   "outputs": [
    {
     "data": {
      "text/html": [
       " <h3> <font color=\"green\"> ✓ Correct </font> </h3>"
      ],
      "text/plain": [
       "<IPython.core.display.HTML object>"
      ]
     },
     "metadata": {},
     "output_type": "display_data"
    }
   ],
   "source": [
    "with tick():\n",
    "    assert activityNotifications(\"fan5.txt\") == 770"
   ]
  },
  {
   "cell_type": "code",
   "execution_count": 50,
   "metadata": {},
   "outputs": [
    {
     "data": {
      "text/html": [
       " <h3> <font color=\"green\"> ✓ Correct </font> </h3>"
      ],
      "text/plain": [
       "<IPython.core.display.HTML object>"
      ]
     },
     "metadata": {},
     "output_type": "display_data"
    }
   ],
   "source": [
    "with tick():\n",
    "    assert activityNotifications(\"fan6.txt\") == 926"
   ]
  }
 ],
 "metadata": {
  "kernelspec": {
   "display_name": "Python 3",
   "language": "python",
   "name": "python3"
  },
  "language_info": {
   "codemirror_mode": {
    "name": "ipython",
    "version": 3
   },
   "file_extension": ".py",
   "mimetype": "text/x-python",
   "name": "python",
   "nbconvert_exporter": "python",
   "pygments_lexer": "ipython3",
   "version": "3.8.5"
  },
  "latex_envs": {
   "LaTeX_envs_menu_present": true,
   "autoclose": false,
   "autocomplete": true,
   "bibliofile": "biblio.bib",
   "cite_by": "apalike",
   "current_citInitial": 1,
   "eqLabelWithNumbers": true,
   "eqNumInitial": 1,
   "hotkeys": {
    "equation": "Ctrl-E",
    "itemize": "Ctrl-I"
   },
   "labels_anchors": false,
   "latex_user_defs": false,
   "report_style_numbering": false,
   "user_envs_cfg": false
  },
  "toc": {
   "base_numbering": 1,
   "nav_menu": {},
   "number_sections": false,
   "sideBar": true,
   "skip_h1_title": false,
   "title_cell": "Table of Contents",
   "title_sidebar": "Contents",
   "toc_cell": false,
   "toc_position": {},
   "toc_section_display": true,
   "toc_window_display": false
  }
 },
 "nbformat": 4,
 "nbformat_minor": 4
}
