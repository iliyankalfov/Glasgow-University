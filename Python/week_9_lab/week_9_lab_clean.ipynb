{
 "cells": [
  {
   "cell_type": "markdown",
   "metadata": {},
   "source": [
    "# Week 9 : Lab \n",
    " ## Functional: Recursion, comprehensions and first-class functions\n",
    "##### CS1P - University of Glasgow - John Williamson - 2020/2021"
   ]
  },
  {
   "cell_type": "markdown",
   "metadata": {},
   "source": []
  },
  {
   "cell_type": "code",
   "execution_count": 1,
   "metadata": {
    "ExecuteTime": {
     "end_time": "2020-11-11T15:31:43.668958Z",
     "start_time": "2020-11-11T15:31:43.660175Z"
    }
   },
   "outputs": [],
   "source": [
    "from utils import tick\n",
    "from utils.recursion_check import test_recursion"
   ]
  },
  {
   "cell_type": "markdown",
   "metadata": {},
   "source": [
    "\n",
    "## No B part\n",
    "\n",
    "There is only an A part to this lab, but the questions are harder than previous A parts.\n"
   ]
  },
  {
   "cell_type": "markdown",
   "metadata": {},
   "source": [
    "\n",
    "## Purpose of this lab\n",
    "This lab will get you up to speed on:\n",
    "* Using comprehensions\n",
    "* Using closures\n",
    "* Recursive solutions to problems\n",
    "* Functional approaches to solving programming problems.\n",
    "* Higher-order functions\n",
    "\n"
   ]
  },
  {
   "cell_type": "markdown",
   "metadata": {},
   "source": [
    "## A. Quick problems\n",
    "\n",
    "### A.1 Checkerboard\n",
    "A square checkerboard pattern of size 4 looks like this:\n",
    "\n",
    "        ◯ ⚫ ◯ ⚫\n",
    "        ⚫ ◯ ⚫ ◯\n",
    "        ◯ ⚫ ◯ ⚫\n",
    "        ⚫ ◯ ⚫ ◯\n",
    "    \n",
    "Using comprehensions write *one line of code -- a single statement* that prints such a checkerboard of size 8. Hint: you might want to use `join`.\n",
    "\n",
    "Note that the circles are just ordinary characters. You can copy and paste them into your code."
   ]
  },
  {
   "cell_type": "code",
   "execution_count": 93,
   "metadata": {
    "ExecuteTime": {
     "end_time": "2020-11-14T19:05:09.368892Z",
     "start_time": "2020-11-14T19:05:09.355228Z"
    }
   },
   "outputs": [
    {
     "name": "stdout",
     "output_type": "stream",
     "text": [
      "◯ ⚫ ◯ ⚫ ◯ ⚫ ◯ ⚫\n",
      "⚫ ◯ ⚫ ◯ ⚫ ◯ ⚫ ◯\n",
      "◯ ⚫ ◯ ⚫ ◯ ⚫ ◯ ⚫\n",
      "⚫ ◯ ⚫ ◯ ⚫ ◯ ⚫ ◯\n",
      "◯ ⚫ ◯ ⚫ ◯ ⚫ ◯ ⚫\n",
      "⚫ ◯ ⚫ ◯ ⚫ ◯ ⚫ ◯\n",
      "◯ ⚫ ◯ ⚫ ◯ ⚫ ◯ ⚫\n",
      "⚫ ◯ ⚫ ◯ ⚫ ◯ ⚫ ◯\n"
     ]
    }
   ],
   "source": [
    "# Solution goes here\n",
    "print(\"\\n\".join(\n",
    "    \" \".join(\"◯\" if (i+k)%2==0 else \"⚫\" for i in range(8)) for k in range(8)))\n",
    "    "
   ]
  },
  {
   "cell_type": "markdown",
   "metadata": {},
   "source": [
    "Extend this to write a function `checkerboard(n, on, off)` which takes the size of the (square) checkerboard `n` and the symbols to use as `on` and `off`, defaulting to the `◯` and `⚫` used above. This should **return** the string, and not print it out."
   ]
  },
  {
   "cell_type": "code",
   "execution_count": 91,
   "metadata": {
    "ExecuteTime": {
     "end_time": "2020-11-14T19:05:14.851415Z",
     "start_time": "2020-11-14T19:05:14.845559Z"
    }
   },
   "outputs": [],
   "source": [
    "# Solution goes here\n",
    "def checkerboard(n, on = \"◯\", off = \"⚫\"):\n",
    "    return \"\\n\".join(\n",
    "    \" \".join(on if (i+k)%2==0 else off for i in range(n)) for k in range(n))"
   ]
  },
  {
   "cell_type": "code",
   "execution_count": 92,
   "metadata": {
    "ExecuteTime": {
     "end_time": "2020-11-11T15:29:11.425985Z",
     "start_time": "2020-11-11T15:29:11.419134Z"
    }
   },
   "outputs": [
    {
     "data": {
      "text/html": [
       " \n",
       "        <div class=\"alert alert-box alert-success\">\n",
       "        <h1> <font color=\"green\"> ✓ Correct </font> </h1>\n",
       "        </div>\n",
       "        "
      ],
      "text/plain": [
       "<IPython.core.display.HTML object>"
      ]
     },
     "metadata": {},
     "output_type": "display_data"
    }
   ],
   "source": [
    "## Tests\n",
    "from textwrap import dedent\n",
    "\n",
    "with tick.tick():\n",
    "    assert checkerboard(3) == dedent(\"\"\"\n",
    "    ◯ ⚫ ◯\n",
    "    ⚫ ◯ ⚫\n",
    "    ◯ ⚫ ◯\n",
    "    \"\"\").strip()\n",
    "\n",
    "    assert checkerboard(3, 'o', 'x') ==dedent(\"\"\"\n",
    "    o x o\n",
    "    x o x\n",
    "    o x o\n",
    "    \"\"\").strip()\n",
    "    \n",
    "    assert checkerboard(3, 'N', 'N') ==dedent(\"\"\"\n",
    "    N N N\n",
    "    N N N\n",
    "    N N N    \n",
    "    \"\"\").strip()\n",
    "\n",
    "    # is it cursed?\n",
    "    assert checkerboard(7, \"🦉\", \"💍\")==dedent(\"\"\"\n",
    "    🦉 💍 🦉 💍 🦉 💍 🦉\n",
    "    💍 🦉 💍 🦉 💍 🦉 💍\n",
    "    🦉 💍 🦉 💍 🦉 💍 🦉\n",
    "    💍 🦉 💍 🦉 💍 🦉 💍\n",
    "    🦉 💍 🦉 💍 🦉 💍 🦉\n",
    "    💍 🦉 💍 🦉 💍 🦉 💍\n",
    "    🦉 💍 🦉 💍 🦉 💍 🦉\n",
    "    \"\"\").strip()\n",
    "\n",
    "    assert checkerboard(4, \"⍝\", \"⌾\")  == dedent(\"\"\"\n",
    "    ⍝ ⌾ ⍝ ⌾\n",
    "    ⌾ ⍝ ⌾ ⍝\n",
    "    ⍝ ⌾ ⍝ ⌾\n",
    "    ⌾ ⍝ ⌾ ⍝\n",
    "    \"\"\").strip()"
   ]
  },
  {
   "cell_type": "markdown",
   "metadata": {},
   "source": [
    "## A.2 Compose\n",
    "\n",
    "Write a function `compose(fn_a, fn_b)` which **returns a function** that applies `fn_a` then `fn_b` to a value. Assume `fn_a` and `fn_b` take exactly one argument.\n"
   ]
  },
  {
   "cell_type": "code",
   "execution_count": 103,
   "metadata": {
    "ExecuteTime": {
     "end_time": "2020-11-11T21:02:17.336823Z",
     "start_time": "2020-11-11T21:02:17.332920Z"
    }
   },
   "outputs": [],
   "source": [
    "# Solution goes here\n",
    "def compose(fn_a, fn_b):\n",
    "    def fn(x):\n",
    "        return fn_b(fn_a(x))\n",
    "    return fn\n",
    "    \n",
    "\n"
   ]
  },
  {
   "cell_type": "code",
   "execution_count": 104,
   "metadata": {
    "ExecuteTime": {
     "end_time": "2020-11-11T21:03:24.297761Z",
     "start_time": "2020-11-11T21:03:24.290929Z"
    }
   },
   "outputs": [
    {
     "data": {
      "text/html": [
       " \n",
       "        <div class=\"alert alert-box alert-success\">\n",
       "        <h1> <font color=\"green\"> ✓ Correct </font> </h1>\n",
       "        </div>\n",
       "        "
      ],
      "text/plain": [
       "<IPython.core.display.HTML object>"
      ]
     },
     "metadata": {},
     "output_type": "display_data"
    }
   ],
   "source": [
    "## Tests\n",
    "\n",
    "add_1 = lambda x: x + 1\n",
    "mul_3 = lambda x: x * 3\n",
    "identity = lambda x: x\n",
    "first = lambda x: x[0]\n",
    "\n",
    "with tick.tick():    \n",
    "    assert compose(add_1, mul_3)(5) == 18\n",
    "    assert compose(mul_3, add_1)(5) == 16\n",
    "    assert compose(mul_3, identity)(5) == 15\n",
    "    assert compose(identity, identity)(\"hey\") == \"hey\"\n",
    "    assert compose(identity, identity)([\"hey\"]) == [\"hey\"]\n",
    "    assert compose(first, first)([[\"beta\", \"prime\"]]) == \"beta\"\n",
    "    "
   ]
  },
  {
   "cell_type": "markdown",
   "metadata": {},
   "source": [
    "### A.3 Recursive dot product\n",
    "Write a function `dot(a,b)` which takes two lists `a` and `b` of equal length, and computes the dot product; that is the sum of the elementwise product of each element from `a` and `b`. For example `dot([0,1,2], [3,4,5]) = 0*3 + 1*4 + 2*5 = 14`.\n",
    "\n",
    "Write this **recursively** without using `for`, `while` or any `comprehensions`, or any numerical arrays."
   ]
  },
  {
   "cell_type": "code",
   "execution_count": 109,
   "metadata": {
    "ExecuteTime": {
     "end_time": "2020-11-14T19:06:03.157775Z",
     "start_time": "2020-11-14T19:06:03.153871Z"
    }
   },
   "outputs": [
    {
     "name": "stdout",
     "output_type": "stream",
     "text": [
      "11\n"
     ]
    }
   ],
   "source": [
    "# Solution goes here\n",
    "def dot(a,b,sum_el=0):\n",
    "    if len(a)==0 and len(b)==0:\n",
    "        return sum_el\n",
    "    sum_el += a[0]*b[0]\n",
    "    return dot(a[1:],b[1:],sum_el)\n",
    "       "
   ]
  },
  {
   "cell_type": "code",
   "execution_count": 110,
   "metadata": {
    "ExecuteTime": {
     "end_time": "2020-11-14T19:06:03.458890Z",
     "start_time": "2020-11-14T19:06:03.381279Z"
    }
   },
   "outputs": [
    {
     "data": {
      "text/html": [
       " \n",
       "        <div class=\"alert alert-box alert-success\">\n",
       "        <h1> <font color=\"green\"> ✓ Correct </font> </h1>\n",
       "        </div>\n",
       "        "
      ],
      "text/plain": [
       "<IPython.core.display.HTML object>"
      ]
     },
     "metadata": {},
     "output_type": "display_data"
    }
   ],
   "source": [
    "with tick.tick():\n",
    "    assert test_recursion(lambda: dot([0,1,2], [3,4,5])), \"Oi, I said recursive!\"\n",
    "    assert(dot([0,1,2], [3,4,5])==14)\n",
    "    assert(dot([0,-1,2], [3,4,5])==6)\n",
    "    assert(dot([], [])==0)\n",
    "    assert(dot([1], [8])==8)\n",
    "    assert(dot([0,1,2,5], [3,4,5,9])==59)"
   ]
  },
  {
   "cell_type": "markdown",
   "metadata": {},
   "source": [
    "### A.4 Accumulate\n",
    "\n",
    "Write a function `accumulate(fn, seq)` that does an operation similar to `reduce`, in that it puts a function \"in between\" consecutive elements of a list, but unlike `reduce` keeps all of the intermediate results. \n",
    "\n",
    "For example\n",
    "\n",
    "    accumulate + 1 2 3 4\n",
    "    = 1  \n",
    "      ⇓  \n",
    "      1 + 2  3  4        \n",
    "        ⇓  \n",
    "        3 + 3  4           \n",
    "          ⇓ \n",
    "          6 + 4\n",
    "            ⇓ \n",
    "            10\n",
    "             \n",
    "     = [1,3,6,10]\n",
    "\n",
    "This means that the accumulation of a sequence with addition produces the cumulative sum (or running total) instead of the sum, as `reduce` would. The accumulation of a sequence with the max function produces the running maximum.\n",
    "\n",
    "* `accumulate(lambda x,y:x+y, [1,2,3,4])` would return `[1, 1+2, 1+2+3, 1+2+3+4]` = `[1,3,6,10]`\n",
    "* `accumulate(max, [1,4,3,9, 2])` would return `[1, 4, 4, 9, 9]`\n",
    "\n",
    "The accumulation of the empty list is the empty list.\n",
    "\n",
    "You could write this recursively or using ordinary iteration.\n"
   ]
  },
  {
   "cell_type": "code",
   "execution_count": 1384,
   "metadata": {
    "ExecuteTime": {
     "end_time": "2020-11-14T19:06:14.685102Z",
     "start_time": "2020-11-14T19:06:14.680222Z"
    }
   },
   "outputs": [],
   "source": [
    "# Solution goes here"
   ]
  },
  {
   "cell_type": "code",
   "execution_count": 1385,
   "metadata": {
    "ExecuteTime": {
     "end_time": "2020-11-14T19:06:14.856878Z",
     "start_time": "2020-11-14T19:06:14.849070Z"
    }
   },
   "outputs": [],
   "source": [
    "## Tests\n",
    "with tick.tick():\n",
    "    assert(accumulate(lambda x,y:x+y, [1,2,3])==[1,3,6])\n",
    "    assert(accumulate(lambda x,y:x-y, [1,2,3])==[1,-1,-4])\n",
    "    assert(accumulate(max, [1,4,3,9,2])==[1,4,4,9,9])\n",
    "    assert(accumulate(max, [])==[])\n",
    "    assert(accumulate(max, [1])==[1])  "
   ]
  },
  {
   "cell_type": "markdown",
   "metadata": {},
   "source": [
    "### A.5 Collatz closure\n",
    "Write a function `collatz(n)` which when called *returns a new function*. Each time the returned function is called it computes the update\n",
    "\n",
    "* `n = 3 * n + 1` if `n` is odd \n",
    "* `n = n // 2` if n is even \n",
    "\n",
    "and returns the *previous* value `n`. Calling the function multiple times will return different values, and should iterate through this sequence using these rules -- see the test below for how this might work. Do not use any form of global variable."
   ]
  },
  {
   "cell_type": "code",
   "execution_count": 1386,
   "metadata": {
    "ExecuteTime": {
     "end_time": "2020-11-14T19:06:25.135238Z",
     "start_time": "2020-11-14T19:06:25.130359Z"
    }
   },
   "outputs": [],
   "source": [
    "# Solution goes here"
   ]
  },
  {
   "cell_type": "code",
   "execution_count": 1387,
   "metadata": {
    "ExecuteTime": {
     "end_time": "2020-11-14T19:06:25.338789Z",
     "start_time": "2020-11-14T19:06:25.331957Z"
    }
   },
   "outputs": [],
   "source": [
    "## Test\n",
    "with tick.tick():\n",
    "    fn = collatz(241)\n",
    "    seq = [fn() for i in range(22)]\n",
    "    assert(seq==[241, 724, 362, 181, 544, 272, 136, 68, 34, 17, 52, 26, 13, 40, 20, 10, 5, 16, 8, 4, 2, 1])"
   ]
  },
  {
   "cell_type": "markdown",
   "metadata": {},
   "source": [
    "### A.6 Length of strings\n",
    "Write a function `len_not_a()`, which takes a list of strings, and returns a list of the length of each of the strings, *except* if the string contains a character \"a\", in which case the length should be omitted entirely from the returned list.\n",
    "\n",
    "For example, `[\"cat\", \"dog\", \"fifteen\"]` should become [3, 7] (`\"cat\"` is omitted from the returned list)\n",
    "    \n",
    "Use a comprehension. **Do not use a for or while loop.**"
   ]
  },
  {
   "cell_type": "code",
   "execution_count": 1388,
   "metadata": {
    "ExecuteTime": {
     "end_time": "2020-11-14T19:06:48.082955Z",
     "start_time": "2020-11-14T19:06:48.079134Z"
    }
   },
   "outputs": [],
   "source": [
    "# Solution goes here"
   ]
  },
  {
   "cell_type": "code",
   "execution_count": 1389,
   "metadata": {
    "ExecuteTime": {
     "end_time": "2020-11-14T19:06:48.276747Z",
     "start_time": "2020-11-14T19:06:48.269915Z"
    }
   },
   "outputs": [],
   "source": [
    "## Tests\n",
    "with tick.tick():\n",
    "    assert(len_not_a([])==[])\n",
    "    assert(len_not_a([\"cat\", \"dog\", \"fifteen\"])==[3,7])\n",
    "    assert(len_not_a([\"cat\", \"dog\", \"cat\", \"fiftaan\"])==[3])\n",
    "    assert(len_not_a([\"b\", \"a\", \"a\", \"a\"])==[1])\n",
    "    assert(len_not_a([\"b\", \"ar\", \"ra\", \"ar\", 'dly'])==[1, 3])"
   ]
  },
  {
   "cell_type": "markdown",
   "metadata": {},
   "source": [
    "## A.7 Comprehensify\n",
    "\n",
    "There are three loops below written using a standard `for` loop. Rewrite them as a **single comprehension** inside a `print()` call. Your comprehension version should behave exactly the same as the original code.\n"
   ]
  },
  {
   "cell_type": "code",
   "execution_count": 61,
   "metadata": {},
   "outputs": [],
   "source": [
    "# This code sets up the data we will use\n",
    "# run this cell first\n",
    "metals = [\"silver\", \"bronze\", \n",
    "          \"steel\", \"gold\", \n",
    "          \"chrome\", \"lead\",\n",
    "          \"copper\", \"aluminium\"]"
   ]
  },
  {
   "cell_type": "code",
   "execution_count": 62,
   "metadata": {},
   "outputs": [],
   "source": [
    "# A.2.1\n",
    "squares = []\n",
    "for i in range(10):\n",
    "    squares.append(i*i)\n",
    "print(squares)"
   ]
  },
  {
   "cell_type": "code",
   "execution_count": 63,
   "metadata": {},
   "outputs": [],
   "source": [
    "# Solution goes here"
   ]
  },
  {
   "cell_type": "code",
   "execution_count": 64,
   "metadata": {},
   "outputs": [],
   "source": [
    "# A.2.2\n",
    "metals_sorted = sorted(metals)\n",
    "metals_list = []\n",
    "for metal in metals_sorted:\n",
    "    if \"ium\" not in metal:        \n",
    "        new_title = metal.title()+\" spoon\"\n",
    "        metals_list.append(new_title)\n",
    "for metal in metals_list:\n",
    "    print(metal)"
   ]
  },
  {
   "cell_type": "code",
   "execution_count": 65,
   "metadata": {},
   "outputs": [],
   "source": [
    "# Solution goes here"
   ]
  },
  {
   "cell_type": "code",
   "execution_count": 66,
   "metadata": {},
   "outputs": [],
   "source": [
    "# A.2.3\n",
    "# This one is trickier, but still defintely doable.\n",
    "# If you struggle, move on and do the next problem.\n",
    "\n",
    "# Dictionary mapping metal names to number of vowels in\n",
    "# that name\n",
    "metal_vowels = {}\n",
    "for metal in metals:\n",
    "    vowels = 0\n",
    "    for char in metal:\n",
    "        if char in 'aeiou':\n",
    "            vowels += 1\n",
    "    metal_vowels[metal] = vowels\n",
    "        \n",
    "print(metal_vowels)"
   ]
  },
  {
   "cell_type": "code",
   "execution_count": 67,
   "metadata": {},
   "outputs": [],
   "source": [
    "# Solution goes here"
   ]
  },
  {
   "cell_type": "markdown",
   "metadata": {},
   "source": [
    "### A.8 Using *\n",
    "Python functions can take a variable number of arguments. If we write a function like below, with a *single* parameter beginning with `*` the parameter will be a *list* of the arguments passed.  [See here for more details](https://www.saltycrane.com/blog/2008/01/how-to-use-args-and-kwargs-in-python/)"
   ]
  },
  {
   "cell_type": "code",
   "execution_count": 68,
   "metadata": {
    "scrolled": true
   },
   "outputs": [],
   "source": [
    "def multi(*args): # args will be a list\n",
    "    print(\"I was called with {n} arguments\".format(n=len(args)))\n",
    "    for arg in args:\n",
    "        print(\"\\t\", arg)\n",
    "    print()\n",
    "    \n",
    "multi(1)\n",
    "multi(\"hey\", \"there\")\n",
    "multi([1,2,3], [4,5,6], 'oomf')"
   ]
  },
  {
   "cell_type": "markdown",
   "metadata": {},
   "source": [
    "Likewise, we can pass a *list* of arguments to any function if we use the `*` symbol (the \"splat\" operator) in the argument list. This operation is called **apply** in other languages. It applies the function to a sequence of arguments:"
   ]
  },
  {
   "cell_type": "code",
   "execution_count": 69,
   "metadata": {},
   "outputs": [],
   "source": [
    "def print_sum(a,b):\n",
    "    print(a+b)\n",
    "    "
   ]
  },
  {
   "cell_type": "code",
   "execution_count": 70,
   "metadata": {},
   "outputs": [],
   "source": [
    "print_sum(4,5)"
   ]
  },
  {
   "cell_type": "code",
   "execution_count": 71,
   "metadata": {
    "scrolled": true
   },
   "outputs": [],
   "source": [
    "# exactly the same as before\n",
    "print_sum(*[4,5]) # call with a list"
   ]
  },
  {
   "cell_type": "code",
   "execution_count": 72,
   "metadata": {},
   "outputs": [],
   "source": [
    "a  = [2,9]\n",
    "print_sum(*a) # call with a list in a variable"
   ]
  },
  {
   "cell_type": "code",
   "execution_count": 73,
   "metadata": {},
   "outputs": [],
   "source": [
    "bad = [1,2,3]\n",
    "print_sum(*bad) # this will cause an error; too many arguments"
   ]
  },
  {
   "cell_type": "markdown",
   "metadata": {},
   "source": [
    "\n",
    "Write a function `backwards(fn)` that \"wraps\" a function to reverse the order of the arguments `fn` will receive. `backwards` takes a function returns *a new function* which will work the same as `fn` but will receive the arguments in reverse order. "
   ]
  },
  {
   "cell_type": "code",
   "execution_count": 74,
   "metadata": {},
   "outputs": [],
   "source": [
    "def space_join(*args):\n",
    "    return \" \".join(args)\n",
    "\n",
    "def sub(a,b):\n",
    "    return a-b\n",
    "\n",
    "print(space_join(\"alpha\", \"bravo\", \"charlie\"))\n",
    "print(sub(5,10))"
   ]
  },
  {
   "cell_type": "code",
   "execution_count": 75,
   "metadata": {},
   "outputs": [],
   "source": [
    "# Solution goes here"
   ]
  },
  {
   "cell_type": "code",
   "execution_count": 76,
   "metadata": {},
   "outputs": [],
   "source": [
    "## Tests\n",
    "with tick.tick():\n",
    "    backwards_join = backwards(space_join)\n",
    "    assert(backwards_join(\"alpha\", \"bravo\", \"charlie\")==\"charlie bravo alpha\")\n",
    "    backwards_sub = backwards(sub)\n",
    "    assert(backwards_sub(5, 10)==5)"
   ]
  },
  {
   "cell_type": "markdown",
   "metadata": {},
   "source": [
    "## A.9 Getting closure\n",
    "Write a function called `make_storybot(name)`. It should *return* a function which takes no arguments. Each time the *returned function* is called, a different message should be printed out, which tells a short story in sequence. \n",
    "\n",
    "The messages printed out on each call, should be as follows, assuming `name` was `John` when `make_storybot()` was called:\n",
    "\n",
    "    (first call)   \"Once upon a time.\"\n",
    "    (second call)  \"There was someone known as John.\"\n",
    "    (third call)   \"John lived in the distant mountains.\"\n",
    "    (fourth call)  \"And ate seagulls.\"\n",
    "    (fifth call)   \"John did not enjoy eating seagulls.\"\n",
    "    (sixth call)   \"What are seagulls?\"\n",
    "    (seventh and all subsequent calls) \"We just don't know.\"\n",
    "    \n",
    "Do **not** use any global variables. Use a closure to implement this function.    \n",
    "*Feel free to adapt the story to a more uplifting one if you so desire.*\n"
   ]
  },
  {
   "cell_type": "code",
   "execution_count": 77,
   "metadata": {},
   "outputs": [],
   "source": [
    "# Solution goes here"
   ]
  },
  {
   "cell_type": "code",
   "execution_count": 78,
   "metadata": {},
   "outputs": [],
   "source": [
    "## Test\n",
    "name = 'John' # put your name here\n",
    "chatter = make_storybot(name)\n",
    "\n",
    "# these should print out different messages, as above\n",
    "chatter()\n",
    "chatter()\n",
    "chatter()\n",
    "chatter()\n",
    "chatter()\n",
    "chatter()\n",
    "chatter()\n",
    "chatter()\n",
    "chatter()\n",
    "\n"
   ]
  },
  {
   "cell_type": "markdown",
   "metadata": {},
   "source": [
    "The output for the test above should look like:\n",
    "    \n",
    "        Once upon a time.\n",
    "        There was someone known as John.\n",
    "        John lived in the distant mountains.\n",
    "        And ate seagulls.\n",
    "        John did not enjoy eating seagulls.\n",
    "        What are seagulls?\n",
    "        We just don't know.\n",
    "        We just don't know.\n",
    "        We just don't know.\n",
    "        \n",
    "But with the correct name substituted in.        "
   ]
  },
  {
   "cell_type": "markdown",
   "metadata": {},
   "source": [
    "## A.10 List transpose\n",
    "Write a function `transpose(l)` that takes a matrix *represented as a list of lists* (**NOT as NumPy array**) and transposes it; that is exchanges rows and columns. Hint: `zip` and `*args` are useful here.\n",
    "\n",
    "`[[1,2,3], [4,5,6], [7,8,9]]` should become `[[1,4,7], [2,5,8], [3,6,9]]` when transposed. Your function should also work for non-square arrays, where rows and columns are *not* equal. `[[1,2], [3,4], [5,6], [7,8]]` should become \n",
    "`[[1,3,5,7], [2,4,6,8]]` when transposed."
   ]
  },
  {
   "cell_type": "code",
   "execution_count": 1393,
   "metadata": {
    "ExecuteTime": {
     "end_time": "2020-11-14T19:08:09.860818Z",
     "start_time": "2020-11-14T19:08:09.856915Z"
    }
   },
   "outputs": [],
   "source": [
    "# Solution goes here"
   ]
  },
  {
   "cell_type": "code",
   "execution_count": 1394,
   "metadata": {
    "ExecuteTime": {
     "end_time": "2020-11-14T19:08:10.341550Z",
     "start_time": "2020-11-14T19:08:10.335695Z"
    }
   },
   "outputs": [],
   "source": [
    "## Tests\n",
    "with tick.tick():\n",
    "    assert(transpose([[1,2,3], [4,5,6], [7,8,9]])==[[1,4,7], [2,5,8], [3,6,9]])\n",
    "    assert(transpose([[1,2], [3,4], [5,6], [7,8]])==[[1,3,5,7], [2,4,6,8]])\n",
    "    assert(transpose([])==[])"
   ]
  },
  {
   "cell_type": "markdown",
   "metadata": {},
   "source": [
    "## A.11 Currying\n",
    "A function can be **curried** to convert it from a multi-parameter function `f(a,b,c,...)` into a single parameter function `g(x)`. Curry does not refer to the Indian style of cooking, but to the influential computer scientist **Haskell Curry**.\n",
    "<img src=\"imgs/HaskellBCurry.jpg\">\n",
    "\n",
    "*Image: Haskell B. Curry*\n",
    "\n",
    "The single parameter function has to be called multiple times to pass each of the arguments in turn. Only after *all* of its parameters are ready is the function executed and its value returned. This can be useful in reasoning about the behaviour of programs, because *every* function call can then be reduced to a sequence of single argument calls.\n",
    "\n",
    "Imagine this function:"
   ]
  },
  {
   "cell_type": "code",
   "execution_count": 1395,
   "metadata": {
    "ExecuteTime": {
     "end_time": "2020-11-14T19:08:20.131439Z",
     "start_time": "2020-11-14T19:08:20.128511Z"
    }
   },
   "outputs": [],
   "source": [
    "def mul_and_add(a,b,c):\n",
    "    return a * b + c"
   ]
  },
  {
   "cell_type": "markdown",
   "metadata": {},
   "source": [
    "This can be called in the normal way like this:"
   ]
  },
  {
   "cell_type": "code",
   "execution_count": 1396,
   "metadata": {
    "ExecuteTime": {
     "end_time": "2020-11-14T19:08:20.780648Z",
     "start_time": "2020-11-14T19:08:20.775769Z"
    }
   },
   "outputs": [],
   "source": [
    "mul_and_add(2,3,4)"
   ]
  },
  {
   "cell_type": "markdown",
   "metadata": {},
   "source": [
    "The **curried** version would be called like this:\n",
    "\n",
    "    curried_mul_and_add(2)\n",
    "    curried_mul_and_add(3)\n",
    "    curried_mul_and_add(4) # returns 2 * 3 + 4\n",
    "    \n",
    "Only the **last** call would do the computation and return the result (the other calls would return None). Calling again would reset the cycle back to the start:\n",
    "\n",
    "    curried_mul_and_add(4)\n",
    "    curried_mul_and_add(5)\n",
    "    curried_mul_and_add(6)  # this would return the result of 4*5 + 6\n",
    "\n",
    "### Task\n",
    "Write a function `curry(fn, n)` that will curry *any* function in this way. `n` should specify the number of expected arguments to `fn` \n",
    "\n",
    "    curried_mul_and_add = curry(mul_and_add, 3)\n",
    "    \n",
    "should produce a function like the one described above.\n",
    "    \n"
   ]
  },
  {
   "cell_type": "code",
   "execution_count": 1397,
   "metadata": {
    "ExecuteTime": {
     "end_time": "2020-11-14T19:08:41.544138Z",
     "start_time": "2020-11-14T19:08:41.538282Z"
    }
   },
   "outputs": [],
   "source": [
    "# Solution goes here"
   ]
  },
  {
   "cell_type": "code",
   "execution_count": 1398,
   "metadata": {
    "ExecuteTime": {
     "end_time": "2020-11-14T19:08:41.936059Z",
     "start_time": "2020-11-14T19:08:41.928250Z"
    }
   },
   "outputs": [],
   "source": [
    "curried_mul_and_add = curry(mul_and_add, 3)\n",
    "with tick.tick():\n",
    "    assert curried_mul_and_add(2)==None\n",
    "    assert curried_mul_and_add(3)==None\n",
    "    assert curried_mul_and_add(4)==10\n",
    "    assert curried_mul_and_add(4)==None\n",
    "    assert curried_mul_and_add(5)==None\n",
    "    assert curried_mul_and_add(6)==26\n",
    "\n",
    "curried_add = curry(lambda x,y: x+y, 2)\n",
    "\n",
    "with tick.tick():\n",
    "    assert curried_add(2) is None\n",
    "    assert curried_add(5)==7\n",
    "    assert curried_add(2) is None\n",
    "    assert curried_add(2)==4\n",
    "    assert curried_add(-10) is None\n",
    "    assert curried_add(10)==0"
   ]
  },
  {
   "cell_type": "markdown",
   "metadata": {},
   "source": []
  },
  {
   "cell_type": "markdown",
   "metadata": {},
   "source": [
    "## A.12 Higher-order functions\n",
    "Write a function `per_element(fns)`. This takes a list of functions `fns`, and returns **a new function** `f(list_of_lists)` that will apply each function in `fns` to the corresponding sublist element in the list-of-lists **list_of_lists**. \n",
    "\n",
    "So if `fns` is a pair of functions, the returned function will transform any list of pairs, applying `fn[0]` to the first element of each pair, and `fn[1]` to the second element of each pair.\n",
    "\n",
    "Examples:\n",
    "* `per_element([len])` should return a function, which when called with `[[\"one\"], [\"theory\"], [\"is\"]]`, should return [[3],[6],[2]]\n",
    "\n",
    "        f = per_element([len]) \n",
    "        print f([[\"one\"], [\"theory\"], [\"is\"]])\n",
    "\n",
    "        [[3], [6], [2]]\n",
    "\n",
    "* `per_element([lambda x:x*2, lambda x:\"constant\"])` should return a function, which when called with `[[1,1], [2,1], [4,2]]` should return `[[2,\"constant\"], [4,\"constant\"], [8, \"constant\"]]`\n",
    "\n",
    "        g = per_element([lambda x:x*2, lambda x:\"constant\"])\n",
    "        print g([[1,1], [2,1], [4,2]])\n",
    "\n",
    "        [[2,\"constant\"], [4,\"constant\"], [8, \"constant\"]]\n",
    "\n",
    "Make sure you return a **function** that will do the computation in the future. Don't do the computation itself inside `per_element`!\n"
   ]
  },
  {
   "cell_type": "code",
   "execution_count": 85,
   "metadata": {},
   "outputs": [],
   "source": [
    "# Solution goes here"
   ]
  },
  {
   "cell_type": "code",
   "execution_count": 86,
   "metadata": {},
   "outputs": [],
   "source": [
    "## Tests\n",
    "with tick.tick():\n",
    "    f = per_element([len]) \n",
    "    assert(f([[\"one\"], [\"theory\"], [\"is\"]])==[[3],[6],[2]])\n",
    "    g = per_element([lambda x:x*2, lambda x:x])\n",
    "    assert(g([[1,1], [2,1], [4,2]])==[[2, 1], [4, 1], [8, 2]])\n",
    "    print(\"All OK!\")"
   ]
  },
  {
   "cell_type": "markdown",
   "metadata": {},
   "source": [
    "## A.13 Accessors\n",
    "Accessing fields deeply nested inside dictionaries or lists -- as in the adventure game of Unit 5 -- can be irritating and unergonomic. Helper functions can make this much easier. We can write a *general* helper function to help pull out data from these structures.\n",
    "\n",
    "Write a function `getter(*attrs)` that will take any number of arguments. These arguments are a sequence of keys (or integer indices). `getter` **returns a function** that accesses those keys/indices in order, by chaining each indexing operation in sequence (as in `d[\"key1\"][\"key2\"][...` etc.)\n",
    "\n",
    "> For example, `fn = getter(\"state\", \"current_room\")` would return a function which when called like `fn(d)` would be equivalent to `d[\"state\"][\"current_room\"]`.\n",
    "\n",
    "If `None` appears in the arguments, the function *returned* should require as many additional arguments as there are `None`s when it is called, which will \"fill in the blanks\" to access a nested data strucure.\n",
    "\n",
    "> For example, `fn = getter(\"state\", None)` would return a function which when called like `fn(d, \"current_room\")` would be equivalent to `d[\"state\"][\"current_room\"]`.\n",
    "it is called, which will \"fill in the blanks\" to access a nested data strucure.\n",
    "\n",
    "> Likewise, `fn = getter(None, \"current_room\")` would return a function which when called like `fn(d, \"state\")` would be equivalent to `d[\"state\"][\"current_room\"]`.\n",
    "\n",
    "Look at this data structure, describing courses at Glasgow:"
   ]
  },
  {
   "cell_type": "code",
   "execution_count": 1102,
   "metadata": {
    "ExecuteTime": {
     "end_time": "2020-11-13T16:26:43.733405Z",
     "start_time": "2020-11-13T16:26:43.727549Z"
    }
   },
   "outputs": [],
   "source": [
    "courses = [\n",
    "    {\n",
    "        \"college\": \"CoSE\",\n",
    "        \"course\": {\n",
    "            \"code\": \"COMPSCI1001\",\n",
    "            \"title\": \"CS1P\",\n",
    "            \"credits\": 20,\n",
    "            \"staff\": {\n",
    "                \"lecturer\": [\n",
    "                    {\"name\": {\"first\": \"John\", \"last\": \"Williamson\"}, \"semester\": 1},\n",
    "                    {\"name\": {\"first\": \"Sofiat\", \"last\": \"Olaosebikan\"}, \"semester\": 2},\n",
    "                ],\n",
    "                \"tutors\": [\n",
    "                    {\"group\": \"LB01\", \"name\": {\"first\": \"John\", \"last\": \"Williamson\"}},\n",
    "                    {\"group\": \"LB02\", \"name\": {\"first\": \"Jack\", \"last\": \"Parkinson\"}},\n",
    "                    {\"group\": \"LB03\", \"name\": {\"first\": \"Alex\", \"last\": \"Pancheva\"}},\n",
    "                ],\n",
    "            },\n",
    "        }\n",
    "    }\n",
    "]"
   ]
  },
  {
   "cell_type": "markdown",
   "metadata": {},
   "source": [
    "`getter()` should work as follows:\n",
    "\n",
    "* `fn = getter(0, \"course\", \"title\")` would return a function `fn` that would extract element \"CS1P\" when called on `courses`\n",
    "* `fn = getter(0, \"course\", \"staff\", \"lecturer\", 1, \"name\", \"first])` would return a function that would look up the value `\"Sofiat\"` when called on `courses`\n",
    "* `fn = getter(None, \"course\", \"code\"])` would return a function that would take an extra argument, giving the index to look up. So, calling  `fn(courses, 0)` would return `COMPSCI1001`."
   ]
  },
  {
   "cell_type": "code",
   "execution_count": 1228,
   "metadata": {
    "ExecuteTime": {
     "end_time": "2020-11-13T17:40:58.474074Z",
     "start_time": "2020-11-13T17:40:58.465290Z"
    }
   },
   "outputs": [],
   "source": [
    "# Solution goes here"
   ]
  },
  {
   "cell_type": "code",
   "execution_count": 1229,
   "metadata": {
    "ExecuteTime": {
     "end_time": "2020-11-13T17:40:58.638187Z",
     "start_time": "2020-11-13T17:40:58.631355Z"
    }
   },
   "outputs": [],
   "source": [
    "with tick.tick():\n",
    "    \n",
    "    assert getter(0)(courses)==courses[0]\n",
    "    assert getter(0, \"course\", \"title\")(courses)=='CS1P'\n",
    "    assert getter(0, \"college\")(courses)=='CoSE'\n",
    "    assert getter(0, \"course\", \"staff\", \"tutors\", None, \"name\", \"first\")(courses, 0)==\"John\"\n",
    "    assert getter(0, \"course\", \"staff\", \"tutors\", None, \"name\", None)(courses, 1, \"last\")==\"Parkinson\"\n",
    "    assert getter(0, \"course\", \"staff\", \"tutors\", None, None)(courses, 2, \"group\")==\"LB03\"\n",
    "    "
   ]
  },
  {
   "cell_type": "markdown",
   "metadata": {},
   "source": [
    "## Optional extension\n",
    "\n",
    "* If `[]` appears in the argument list to `getter`, and the item at that level is a list, a list of results should be collected, such that the tests below pass.\n",
    "\n",
    "    * For example `fn = getter(0, \"course\", \"staff\", \"lecturer\", [], \"name\", \"first])` would return `[\"John\", \"Sofiat\"]` when `fn(courses)` is called.\n",
    "    * For example `fn = getter([], \"course\", None, \"lecturer\", [], \"name\", \"first])` would return `[[\"John\", \"Sofiat\"]]` when `fn(courses, \"staff\")` is called.\n",
    "    \n",
    "* (slightly harder) Likewise for `{}`, collecting all of the elements into a dictionary.\n",
    "\n"
   ]
  },
  {
   "cell_type": "code",
   "execution_count": 1238,
   "metadata": {
    "ExecuteTime": {
     "end_time": "2020-11-13T17:43:57.587918Z",
     "start_time": "2020-11-13T17:43:57.577182Z"
    }
   },
   "outputs": [],
   "source": [
    "with tick.tick():\n",
    "    print(\"For list collection\")\n",
    "    assert ((getter([], \"college\")(courses))==['CoSE'])\n",
    "    assert (getter(0, \"course\", \"staff\", \"tutors\", [], \"name\", \"first\")(courses))==['John', 'Jack', 'Alex']\n",
    "    assert (getter(0, \"course\", \"staff\", \"tutors\", [], \"name\", None)(courses, \"first\"))==['John', 'Jack', 'Alex']\n",
    "    assert (getter([], \"course\", \"staff\", \"tutors\", [], \"name\", None)(courses, \"first\"))==[['John', 'Jack', 'Alex']]\n",
    "\n",
    "with tick.tick():        \n",
    "    print(\"For dictionary collection\")\n",
    "    assert getter(0, \"course\", \"staff\", \"tutors\", [], \"name\", {})(courses) == [{'first': 'John', 'last': 'Williamson'}, {'first': 'Jack', 'last': 'Parkinson'}, {'first': 'Alex', 'last': 'Pancheva'}]\n",
    "    assert getter(0, {})(courses)[\"college\"] == \"CoSE\""
   ]
  },
  {
   "cell_type": "markdown",
   "metadata": {},
   "source": [
    "## Further optional extension :)\n",
    "\n",
    "* If a sequence of values is passed for an argument (e.g. `[\"first\", \"last\"]`) instead of a string or integer, each of those values should be collected into a list and returned.\n",
    "\n",
    "For example,\n",
    "\n",
    "    d = {\"pets\":\n",
    "            [\n",
    "                {\"type\":\"cat\",\n",
    "                 \"name\":\"cooper\"\n",
    "                 \"temperament\":\"bad\"\n",
    "                 }\n",
    "             ]\n",
    "        }\n",
    "    \n",
    "    fn = getter(\"pets\", 0, [\"type\", \"name\"])\n",
    "    fn(d)\n",
    "    \n",
    "should return [\"cat\", \"cooper\"]\n",
    "    \n",
    "* Likewise, if a set of values is passed for an argument (e.g. `{\"first\", \"last\"}`) instead of a string or integer, each of those values should be collected into a dictionary.\n",
    "\n",
    "    fn = getter(\"pets\", 0, {\"temperament\", \"name\"})\n",
    "    fn(d)\n",
    "    \n",
    "should return\n",
    "\n",
    "        {\"temperament\":\"bad\", \"name\":\"cooper\"}\n",
    "\n",
    "You don't have to worry about `None` appearing in these sets or lists."
   ]
  },
  {
   "cell_type": "code",
   "execution_count": 1184,
   "metadata": {
    "ExecuteTime": {
     "end_time": "2020-11-13T16:51:56.050494Z",
     "start_time": "2020-11-13T16:51:56.042686Z"
    }
   },
   "outputs": [],
   "source": [
    "with tick.tick():\n",
    "    assert getter(0, \"course\", \"staff\", [\"tutors\", \"lecturer\"], [], \"name\", \"first\")(\n",
    "        courses\n",
    "    ) == [[\"John\", \"Jack\", \"Alex\"], [\"John\", \"Sofiat\"]]\n",
    "    assert getter(0, \"course\", \"staff\", {\"tutors\", \"lecturer\"}, [], \"name\", \"first\")(\n",
    "        courses\n",
    "    ) == {\"tutors\": [\"John\", \"Jack\", \"Alex\"], \"lecturer\": [\"John\", \"Sofiat\"]}\n",
    "    assert getter([], None, \"staff\", {\"tutors\", \"lecturer\"}, [], \"name\", \"first\")(\n",
    "        courses, \"course\"\n",
    "    ) == [{\"tutors\": [\"John\", \"Jack\", \"Alex\"], \"lecturer\": [\"John\", \"Sofiat\"]}]\n",
    "    assert(getter([], None, \"staff\", {\"tutors\", \"lecturer\"}, 0, \"name\", \"first\", None)(courses, \"course\", 0))== [{\"lecturer\":\"J\", \"tutors\":\"J\"}]\n",
    "    assert(getter([], None, \"staff\", {\"tutors\", \"lecturer\"}, 0, \"name\", \"first\", None)(courses, \"course\", 0))== [{\"lecturer\":\"J\", \"tutors\":\"J\"}]\n",
    "    "
   ]
  },
  {
   "cell_type": "markdown",
   "metadata": {},
   "source": [
    "## C: Optional problems\n",
    "\n",
    "These are optional problems. You do not need to attempt any of this section. **THERE IS NO B PROBLEM IN THIS LAB!**"
   ]
  },
  {
   "cell_type": "markdown",
   "metadata": {},
   "source": [
    "## C.1 Merge sort\n",
    "\n",
    "How might we use recursion to **sort** things? There is a (relatively efficient) algorithm for sorting that is very easy to implement with recursion. This is **merge sort**. The basic principle is this:\n",
    "\n",
    "### Merge rule\n",
    "* If I have two sequences A=[a1, a2, a3, ...] and B=[b1, b2, b3, ...] and **both A and B are already in order**\n",
    "* Then merging them to make a new sequence C only involves looking at *only* the first element of A and B and choosing the smaller one, removing it, then looking at the new A and B, removing those smallest of the two and so on, until all elements of A and B are exhausted.\n",
    "\n",
    "For example:\n",
    "\n",
    "    A = 6 10 24 31  1 9 32\n",
    "    B = 1 9 32\n",
    "    \n",
    "    A = 6 10 24 31\n",
    "    B = [1] 9 32\n",
    "    C = 1\n",
    "    \n",
    "    A = [6] 10 24 31\n",
    "    B = 9 32\n",
    "    C = 1 6\n",
    "    \n",
    "    A = 10 24 31\n",
    "    B = [9] 32\n",
    "    C = 1 6 9\n",
    "    \n",
    "    A = [10] 24 31\n",
    "    B = 32\n",
    "    C = 1 6 9 10\n",
    "    \n",
    "    A = [24] 31\n",
    "    B = 32\n",
    "    C = 1 6 9 10 24\n",
    "    \n",
    "    \n",
    "    A = [31]\n",
    "    B = 32\n",
    "    C = 1 6 9 10 24 31\n",
    "    \n",
    "    A = \n",
    "    B = [32]\n",
    "    C = 1 6 9 10 24 31 32\n",
    "    \n",
    "    ---\n",
    "    Finally:\n",
    "    C = 1 6 9 10 24 31 32\n",
    "\n",
    "So if we have two in order sequences, we can merge them into one in-order sequence in one pass. \n",
    "\n",
    "### Split rule\n",
    "The next realisation is that we can \"divide and conquer\". In other words, we can take a sequence, and recursively split in half to get smaller and smaller chunks. \n",
    "\n",
    "    [ 10 6 24 31 9 1 32 ]\n",
    "    \n",
    "    [ 10 6 24 31 ] [ 9 1 32 ]\n",
    "    \n",
    "    [ 10 6 ] [ 24 31 ] [ 9 1 ] [ 32 ]\n",
    "\n",
    "* If we end with a chunk of size 1, then it is in order by definition\n",
    "* If we end up with a chunk of size 2, then we can just swap it if it is out of order.\n",
    "\n",
    "\n",
    "        [ 10 6 ] [ 24 31 ] [ 9 1 ] [ 32 ]\n",
    "            x        |        x       |\n",
    "        [ 6 10 ] [ 24 31 ] [ 1 9 ] [ 32 ]\n",
    "\n",
    "We can then merge all of these chunks together to get larger chunks, using the merge rule above. This will give us a sequence of larger chunks... which we can merge with the merge rule, until we have one sequence at the end. This will now be the entire original sequence in order; and this only takes `O(n log n)` steps to complete.\n",
    "\n",
    "    [ 6 10 ] [ 24 31 ] [ 1 9 ] [ 32 ]\n",
    "             \n",
    "    [ 6 10 24 31 ] [ 1 9 32 ]\n",
    "    \n",
    "    [ 1 6 9 10 24 31 32 ]\n",
    "\n",
    "### Task\n",
    "\n",
    "* (a) Write `merge_sort(l, [key])` that will merge sort a list *taking an **optional** `key` parameter, just like sorted()*. \n",
    "* (b) Write tests that will verify that your function works the same as Python's built in `sorted()`. \n",
    "\n",
    "\n",
    "**Do not mutate *any* data or use any form of iteration!**\n"
   ]
  },
  {
   "cell_type": "code",
   "execution_count": 1072,
   "metadata": {
    "ExecuteTime": {
     "end_time": "2020-11-13T13:13:14.391512Z",
     "start_time": "2020-11-13T13:13:14.372969Z"
    }
   },
   "outputs": [],
   "source": [
    "# Solution goes here"
   ]
  },
  {
   "cell_type": "code",
   "execution_count": 1073,
   "metadata": {
    "ExecuteTime": {
     "end_time": "2020-11-13T13:13:16.120645Z",
     "start_time": "2020-11-13T13:13:16.115765Z"
    }
   },
   "outputs": [],
   "source": [
    "# should print [3,2,1]\n",
    "merge_sort([2,1,3], key=lambda x:-x)"
   ]
  },
  {
   "cell_type": "markdown",
   "metadata": {},
   "source": [
    "## C.2 The lambda calculus - λ the ultimate\n",
    "\n",
    "The *lambda calculus* is a representation of computation originally derived by Alonzo Church. It reduces *all* computation to simple functions of one argument. It is the reason that anonymous functions are called *lambda* in Python.\n",
    "\n",
    "<img src=\"imgs/Alonzo_Church.jpg\">\n",
    "\n",
    "*Image: Alonzo Church*\n",
    "\n",
    "We will show that we can do *anything* with just functions that take one argument and return one argument. Alonzo Church proved that [every computation can be written this way in 1936](https://www.ics.uci.edu/~lopes/teaching/inf212W12/readings/church.pdf) -- before there were any computers. He went on to supervise Alan Turing's Ph.D.\n",
    "\n",
    "<img src=\"imgs/lambda.png\">\n",
    "\n",
    "*Image: the paper that introduced the lambda calculus. Not the easiest reading.*\n",
    "\n",
    "### The rules\n",
    "\n",
    "These are our rules:\n",
    "\n",
    "* We *only* deal with functions. No integers, strings, or anything else. No loops, no (mutable) variables.\n",
    "* We *only* deal with pure functions of one argument, which return one value.\n",
    "\n",
    "That's enough to do *anything*, and perhaps a bit unlike other universal models of computation like Turing machines, it is practical to write simple programs in the bare lambda calculus.\n",
    "\n",
    "We'll initially bend these rules a bit (e.g. to make it possible to print things out so we can see them!) but that's our basic principles.\n",
    "\n",
    "<div class=\"alert alert-info\">\n",
    "    \n",
    "**NOTE** This exercise is shamelessly adapted from [David Beazley's excellent talk on the lambda calculus in Python](https://www.youtube.com/watch?v=pkCLMl0e_0k). If you want to see this worked out in more depth, **watch that talk**!\n",
    "    \n",
    "</div>\n",
    "    \n",
    "Following David's notation, I will use lowercase letters for variables and all UPPERCASE letters for lambda terms that we define.    \n",
    "\n",
    "### Notation station\n",
    "\n",
    "In the standard lambda calculus notation, we write a function that takes one argument and returns a value like this:\n",
    "\n",
    "    λx.x\n",
    "    \n",
    "`λx` can be thought of the parameter definition, `x`, as the return value when this expression is evaluated.\n",
    "\n",
    "In Python, we'd write this:\n",
    "\n",
    "    lambda x: x\n",
    "    \n",
    "This seems a very boring function (the identity function)."
   ]
  },
  {
   "cell_type": "code",
   "execution_count": 1005,
   "metadata": {
    "ExecuteTime": {
     "end_time": "2020-11-12T17:36:16.477113Z",
     "start_time": "2020-11-12T17:36:16.474185Z"
    }
   },
   "outputs": [],
   "source": [
    "IDENTITY = lambda x: x"
   ]
  },
  {
   "cell_type": "code",
   "execution_count": 1006,
   "metadata": {
    "ExecuteTime": {
     "end_time": "2020-11-12T17:36:16.763636Z",
     "start_time": "2020-11-12T17:36:16.758754Z"
    }
   },
   "outputs": [],
   "source": [
    "# test it works\n",
    "IDENTITY(\"hey\")"
   ]
  },
  {
   "cell_type": "markdown",
   "metadata": {},
   "source": [
    "### Booleans as functions"
   ]
  },
  {
   "cell_type": "markdown",
   "metadata": {},
   "source": [
    "We can write other functions in this notation:\n",
    "\n",
    "    λxλy.y\n",
    "    \n",
    "This now has two \"variables\" `x` and `y`. We can write this in Python:\n",
    "\n",
    "    lambda x: lambda y: y\n",
    "    \n",
    "What does this do? It is a function that returns a function, that returns the argument given to the second function; the first argument is discarded. (We can imagine this as the *curried* form of a two argument function, as we discussed in Part A)."
   ]
  },
  {
   "cell_type": "code",
   "execution_count": 1029,
   "metadata": {
    "ExecuteTime": {
     "end_time": "2020-11-12T18:12:52.478592Z",
     "start_time": "2020-11-12T18:12:52.473712Z"
    }
   },
   "outputs": [],
   "source": [
    "fy = lambda x: lambda y: y\n",
    "\n",
    "# example\n",
    "fy(1)(2)"
   ]
  },
  {
   "cell_type": "code",
   "execution_count": 1031,
   "metadata": {
    "ExecuteTime": {
     "end_time": "2020-11-12T18:13:36.023946Z",
     "start_time": "2020-11-12T18:13:36.019065Z"
    }
   },
   "outputs": [],
   "source": [
    "# This is just the same as writing\n",
    "\n",
    "def fy(x):\n",
    "    def fy_inner(y):\n",
    "        return y\n",
    "    return fy_inner\n",
    "\n",
    "fy(1)(2)"
   ]
  },
  {
   "cell_type": "markdown",
   "metadata": {},
   "source": [
    "Likewise, we can define:\n",
    "\n",
    "    λxλy.x\n"
   ]
  },
  {
   "cell_type": "code",
   "execution_count": 1032,
   "metadata": {
    "ExecuteTime": {
     "end_time": "2020-11-12T18:13:44.858006Z",
     "start_time": "2020-11-12T18:13:44.853125Z"
    }
   },
   "outputs": [],
   "source": [
    "fx = lambda x: lambda y: x\n",
    "fx(1)(2)"
   ]
  },
  {
   "cell_type": "markdown",
   "metadata": {},
   "source": [
    "These two \"terms\" are sometimes called `true` and `false`. TRUE evaluates to the first argument, and FALSE to the second (obviously, we only have one true argument, but we can see the sequential calls as being equivalent to two arguments). We can use them like below:"
   ]
  },
  {
   "cell_type": "code",
   "execution_count": 1033,
   "metadata": {
    "ExecuteTime": {
     "end_time": "2020-11-12T18:14:12.587175Z",
     "start_time": "2020-11-12T18:14:12.582297Z"
    }
   },
   "outputs": [],
   "source": [
    "TRUE =  lambda x: lambda y: x\n",
    "FALSE =  lambda x: lambda y: y\n",
    "\n",
    "# hey, it's a Boolean!\n",
    "TRUE(True)(False)"
   ]
  },
  {
   "cell_type": "markdown",
   "metadata": {},
   "source": [
    "This actually works like `if`/`else`. Given any two functions, we are choosing one or the other to evaluate."
   ]
  },
  {
   "cell_type": "code",
   "execution_count": 1401,
   "metadata": {
    "ExecuteTime": {
     "end_time": "2020-11-14T19:31:23.435954Z",
     "start_time": "2020-11-14T19:31:23.431075Z"
    }
   },
   "outputs": [],
   "source": [
    "TRUE(\"It was true!\")(\"It was not!\")"
   ]
  },
  {
   "cell_type": "markdown",
   "metadata": {
    "ExecuteTime": {
     "end_time": "2020-11-08T10:15:06.679024Z",
     "start_time": "2020-11-08T10:15:06.674143Z"
    }
   },
   "source": [
    "### Things get more interesting: logical operators\n",
    "We can, from this definition, define **logical operations**:"
   ]
  },
  {
   "cell_type": "code",
   "execution_count": 1008,
   "metadata": {
    "ExecuteTime": {
     "end_time": "2020-11-12T17:37:01.674497Z",
     "start_time": "2020-11-12T17:37:01.670593Z"
    }
   },
   "outputs": [],
   "source": [
    "AND = lambda x: lambda y: x(y)(x)"
   ]
  },
  {
   "cell_type": "markdown",
   "metadata": {
    "ExecuteTime": {
     "end_time": "2020-11-12T18:14:37.676733Z",
     "start_time": "2020-11-12T18:14:37.671854Z"
    }
   },
   "source": [
    "Spend a moment thinking about *why* this works.\n",
    "\n",
    "    AND = λxλy.x(y)(x)\n",
    "    \n",
    "If we pass x=TRUE y=TRUE\n",
    "\n",
    "    TRUE(TRUE)(TRUE)\n",
    "    \n",
    "Which is TRUE by our rule above. Likewise:\n",
    "\n",
    "        x      y\n",
    "        TRUE  TRUE       TRUE(TRUE)(TRUE)    = TRUE\n",
    "        TRUE  FALSE      TRUE(FALSE)(TRUE)   = FALSE\n",
    "        FALSE TRUE       FALSE(TRUE)(FALSE)  = FALSE\n",
    "        FALSE FALSE      FALSE(FALSE)(FALSE) = FALSE\n"
   ]
  },
  {
   "cell_type": "code",
   "execution_count": 1399,
   "metadata": {
    "ExecuteTime": {
     "end_time": "2020-11-14T19:30:18.653491Z",
     "start_time": "2020-11-14T19:30:18.647635Z"
    }
   },
   "outputs": [],
   "source": [
    "# print a wee truth table\n",
    "\n",
    "print(\"AND\")\n",
    "print(\"T T ->\", AND(TRUE)(TRUE)(\"T\")(\"F\"))\n",
    "print(\"F T ->\", AND(FALSE)(TRUE)(\"T\")(\"F\"))\n",
    "print(\"T F ->\", AND(TRUE)(FALSE)(\"T\")(\"F\"))\n",
    "print(\"F F ->\", AND(FALSE)(FALSE)(\"T\")(\"F\"))"
   ]
  },
  {
   "cell_type": "markdown",
   "metadata": {},
   "source": [
    "This is something special. We have defined a logical operation as a function operating on functions. "
   ]
  },
  {
   "cell_type": "markdown",
   "metadata": {},
   "source": [
    "## Task\n",
    "\n",
    "* (a) Write a function `truth_table(lambda_op, title)` to print out the truth table for a lambda term like above, using a loop or comprehension, rather than manually. For example, `truth_table(AND, \"AND\")` should print the table above.\n",
    "\n",
    "* (b) Define the operators OR, NOT, NAND, NOR and XOR in the same way and verify their truth tables."
   ]
  },
  {
   "cell_type": "code",
   "execution_count": 1036,
   "metadata": {
    "ExecuteTime": {
     "end_time": "2020-11-12T18:17:19.714598Z",
     "start_time": "2020-11-12T18:17:19.705813Z"
    }
   },
   "outputs": [],
   "source": [
    "# Solution goes here"
   ]
  },
  {
   "cell_type": "markdown",
   "metadata": {},
   "source": [
    "# One...Two...Three"
   ]
  },
  {
   "cell_type": "markdown",
   "metadata": {},
   "source": [
    "Let's try something a little more complicated. The letters, like `x` that we use don't matter; we can use any names we want. Here's another term:\n",
    "\n",
    "    λkλfλx.kf(fx)\n",
    "    \n",
    "What does this look like in Python? When two variables appear next to each other in the lambda calculus, the convention is that we are *calling* that function, so we really have:\n",
    "\n",
    "    λkλfλx.(k(f)(f(x)))\n",
    "    \n",
    "I'll call this term NEXT (sometimes called SUCC or SUCCESSOR)\n",
    "\n",
    "    NEXT = λkλfλx.(k(f)(f(x)))\n",
    "    "
   ]
  },
  {
   "cell_type": "code",
   "execution_count": 1037,
   "metadata": {
    "ExecuteTime": {
     "end_time": "2020-11-12T18:17:42.610229Z",
     "start_time": "2020-11-12T18:17:42.606326Z"
    }
   },
   "outputs": [],
   "source": [
    "NEXT = lambda k: lambda f: lambda x: k(f)(f(x))\n",
    "ZERO = lambda f: lambda x: x # same as FALSE"
   ]
  },
  {
   "cell_type": "markdown",
   "metadata": {},
   "source": [
    "This is an interesting pair of functions. In particular, imagine we called it like this:"
   ]
  },
  {
   "cell_type": "code",
   "execution_count": 1038,
   "metadata": {
    "ExecuteTime": {
     "end_time": "2020-11-12T18:17:42.925045Z",
     "start_time": "2020-11-12T18:17:42.920165Z"
    }
   },
   "outputs": [],
   "source": [
    "inc = lambda x: x + 1\n",
    "ZERO(inc)(0)"
   ]
  },
  {
   "cell_type": "code",
   "execution_count": 1039,
   "metadata": {
    "ExecuteTime": {
     "end_time": "2020-11-12T18:17:43.066094Z",
     "start_time": "2020-11-12T18:17:43.062190Z"
    }
   },
   "outputs": [],
   "source": [
    "print(NEXT(ZERO)(inc)(0))\n",
    "print(NEXT(NEXT(ZERO))(inc)(0))"
   ]
  },
  {
   "cell_type": "markdown",
   "metadata": {
    "ExecuteTime": {
     "end_time": "2020-11-09T13:08:11.356042Z",
     "start_time": "2020-11-09T13:08:11.351163Z"
    }
   },
   "source": [
    "In fact, we could define some abstract kind of numbers this way:    "
   ]
  },
  {
   "cell_type": "code",
   "execution_count": 1040,
   "metadata": {
    "ExecuteTime": {
     "end_time": "2020-11-12T18:17:43.531210Z",
     "start_time": "2020-11-12T18:17:43.527307Z"
    }
   },
   "outputs": [],
   "source": [
    "ONE = NEXT(ZERO)\n",
    "TWO = NEXT(ONE)\n",
    "THREE = NEXT(TWO)\n",
    "FOUR = NEXT(THREE)\n",
    "FIVE = NEXT(FOUR)\n",
    "SIX = NEXT(FIVE)\n",
    "SEVEN = NEXT(SIX)\n",
    "EIGHT = NEXT(SEVEN)\n",
    "NINE = NEXT(EIGHT)"
   ]
  },
  {
   "cell_type": "code",
   "execution_count": 1041,
   "metadata": {
    "ExecuteTime": {
     "end_time": "2020-11-12T18:17:43.752763Z",
     "start_time": "2020-11-12T18:17:43.748859Z"
    }
   },
   "outputs": [],
   "source": [
    "print(SIX(inc)(0))"
   ]
  },
  {
   "cell_type": "markdown",
   "metadata": {},
   "source": [
    "This is quite an abstract form of number. It doesn't depend on the use of integers, for example. It encodes the idea of \"six times\" directly in functions instead. These are [**Church encoded numerals**](https://en.wikipedia.org/wiki/Church_encoding).\n",
    "\n",
    "It captures the idea of six repetitions of an action. We don't have to use it as an integer value:"
   ]
  },
  {
   "cell_type": "code",
   "execution_count": 1042,
   "metadata": {
    "ExecuteTime": {
     "end_time": "2020-11-12T18:17:46.627333Z",
     "start_time": "2020-11-12T18:17:46.623431Z"
    }
   },
   "outputs": [],
   "source": [
    "print(SIX(lambda x: x+\"Ho! \")(\"\"))"
   ]
  },
  {
   "cell_type": "code",
   "execution_count": 1043,
   "metadata": {
    "ExecuteTime": {
     "end_time": "2020-11-12T18:17:46.976741Z",
     "start_time": "2020-11-12T18:17:46.972838Z"
    }
   },
   "outputs": [],
   "source": [
    "print(SIX(lambda x: x*2)(1)) # 2^6 = 64"
   ]
  },
  {
   "cell_type": "markdown",
   "metadata": {},
   "source": [
    "We can define a couple of plain Python functions to convert to and from this notation:"
   ]
  },
  {
   "cell_type": "code",
   "execution_count": 1044,
   "metadata": {
    "ExecuteTime": {
     "end_time": "2020-11-12T18:17:48.036287Z",
     "start_time": "2020-11-12T18:17:48.032384Z"
    }
   },
   "outputs": [],
   "source": [
    "# a convenient function\n",
    "\n",
    "inc = lambda x: x+1 # convenience\n",
    "\n",
    "def print_church(church):\n",
    "    # print a number out\n",
    "    print(church(lambda x:x+1)(0))\n",
    "    \n",
    "def make_church(n):\n",
    "    church = ZERO\n",
    "    for i in range(n):\n",
    "        church = NEXT(church)\n",
    "    return church    \n",
    "    "
   ]
  },
  {
   "cell_type": "code",
   "execution_count": 1048,
   "metadata": {
    "ExecuteTime": {
     "end_time": "2020-11-12T18:18:23.381709Z",
     "start_time": "2020-11-12T18:18:23.377805Z"
    }
   },
   "outputs": [],
   "source": [
    "print_church(make_church(8))\n",
    "print_church(SEVEN)"
   ]
  },
  {
   "cell_type": "markdown",
   "metadata": {},
   "source": [
    "Can we go further? Can we encode *arithmetic* using just functions? **Yes, we can.** Consider what adding is `x+y` -- `y` repeats of incrementing a number `x`; or do \"NEXT x\" y times. In the notation:\n",
    "\n",
    "    λxλy.(x NEXT y)\n",
    "\n",
    "=\n",
    "\n",
    "    λxλy.(x (λkλfλz.k f (f z)) y)\n",
    "\n",
    "## Task\n",
    "Implement this in Python to define ADD(x)(y)"
   ]
  },
  {
   "cell_type": "code",
   "execution_count": null,
   "metadata": {
    "ExecuteTime": {
     "end_time": "2020-11-12T17:39:57.427808Z",
     "start_time": "2020-11-12T17:39:57.422931Z"
    }
   },
   "outputs": [],
   "source": [
    "# Solution goes here"
   ]
  },
  {
   "cell_type": "code",
   "execution_count": 1050,
   "metadata": {
    "ExecuteTime": {
     "end_time": "2020-11-12T18:19:12.807459Z",
     "start_time": "2020-11-12T18:19:12.803554Z"
    }
   },
   "outputs": [],
   "source": [
    "print_church(ADD(FIVE)(SIX))\n",
    "print_church(ADD(THREE)(ZERO))\n",
    "print_church(ADD(ADD(ONE)(NINE))(NINE))"
   ]
  },
  {
   "cell_type": "markdown",
   "metadata": {},
   "source": [
    "## Task\n",
    "\n",
    "Write **multiplication** as a lambda term MUL(x)(y)."
   ]
  },
  {
   "cell_type": "code",
   "execution_count": 1018,
   "metadata": {
    "ExecuteTime": {
     "end_time": "2020-11-12T17:39:59.430703Z",
     "start_time": "2020-11-12T17:39:59.426798Z"
    }
   },
   "outputs": [],
   "source": [
    "# Solution goes here"
   ]
  },
  {
   "cell_type": "code",
   "execution_count": 1019,
   "metadata": {
    "ExecuteTime": {
     "end_time": "2020-11-12T17:40:00.687422Z",
     "start_time": "2020-11-12T17:40:00.683518Z"
    }
   },
   "outputs": [],
   "source": [
    "assert MUL(FOUR)(ZERO)(inc)(0)==0\n",
    "assert MUL(THREE)(ONE)(inc)(0)==3\n",
    "assert MUL(FOUR)(FOUR)(inc)(0)==16\n",
    "assert MUL(THREE)(FIVE)(inc)(0)==15"
   ]
  },
  {
   "cell_type": "markdown",
   "metadata": {
    "ExecuteTime": {
     "end_time": "2020-11-09T16:58:11.827895Z",
     "start_time": "2020-11-09T16:58:11.824968Z"
    }
   },
   "source": [
    "### A predicate\n",
    "\n",
    "We can write a test `IS_ZERO` to see if a number is zero or not:"
   ]
  },
  {
   "cell_type": "code",
   "execution_count": 1020,
   "metadata": {
    "ExecuteTime": {
     "end_time": "2020-11-12T17:40:03.439950Z",
     "start_time": "2020-11-12T17:40:03.436046Z"
    }
   },
   "outputs": [],
   "source": [
    "IS_ZERO = lambda n: n(lambda x:FALSE)(TRUE)\n",
    "\n",
    "print(IS_ZERO(ZERO)(True)(False))\n",
    "print(IS_ZERO(ONE)(True)(False))\n",
    "print(IS_ZERO(FIVE)(True)(False))"
   ]
  },
  {
   "cell_type": "markdown",
   "metadata": {
    "ExecuteTime": {
     "end_time": "2020-11-11T21:09:46.316600Z",
     "start_time": "2020-11-11T21:09:46.313671Z"
    }
   },
   "source": [
    "## Task\n",
    "\n",
    "Write `IS_NONZERO` as a lambda term"
   ]
  },
  {
   "cell_type": "code",
   "execution_count": 1021,
   "metadata": {
    "ExecuteTime": {
     "end_time": "2020-11-12T17:40:05.216524Z",
     "start_time": "2020-11-12T17:40:05.213596Z"
    }
   },
   "outputs": [],
   "source": [
    "# Solution goes here"
   ]
  },
  {
   "cell_type": "markdown",
   "metadata": {},
   "source": [
    "## A list?"
   ]
  },
  {
   "cell_type": "markdown",
   "metadata": {},
   "source": [
    "What about compound data structures? We can even represent lists using just functions. Consider representing a pair of values:\n",
    "\n",
    "    (HEAD, [TAIL])\n",
    "    \n",
    "(sometimes called a \"cons cell\" for historical reasons). \n",
    "\n",
    "* HEAD -- a single value, like a number.\n",
    "* [TAIL] -- the rest of the values, or nothing.\n",
    "\n",
    "Any list could be represented by nesting these. For example, `[\"a\", \"b\", \"c\"]` could be represented as:\n",
    "\n",
    "    L = \"a\", [\"b\", [\"c\", [\"d\", END]]]\n",
    "        \n",
    "* HEAD(L) = \"a\"\n",
    "* HEAD(TAIL(L)) = \"b\"\n",
    "* HEAD(TAIL(TAIL(L))) = \"c\"\n",
    "\n",
    "and so on.\n",
    "\n",
    "We can write these list construction/decomposition functions directly as lambda terms:\n",
    "\n",
    "    JOIN = λaλxλnλc.cax\n",
    "    HEAD = λx.x(λaλb.b)(λaλx.a)\n",
    "    TAIL = λx.x(λaλb.b)(λaλx.x)\n",
    "   "
   ]
  },
  {
   "cell_type": "code",
   "execution_count": 1051,
   "metadata": {
    "ExecuteTime": {
     "end_time": "2020-11-12T21:37:52.106598Z",
     "start_time": "2020-11-12T21:37:52.100741Z"
    }
   },
   "outputs": [],
   "source": [
    "# join(a)(b) -> [a, b] b is a list; a is n element\n",
    "JOIN = lambda a: lambda x: lambda nil: lambda cons: cons(a)(x)\n",
    "\n",
    "# what tail will refer to at the end of a list\n",
    "END = TRUE\n",
    "\n",
    "# len(l) == 0?\n",
    "EMPTY = lambda xs: xs(TRUE)(lambda a: lambda x: FALSE)\n",
    "\n",
    "# head(l) -> l[0]\n",
    "HEAD = lambda xs: xs(FALSE)(lambda a: lambda x: a)\n",
    "\n",
    "# tail(l) -> l[1:]\n",
    "TAIL = lambda xs: xs(FALSE)(lambda a: lambda x: x)"
   ]
  },
  {
   "cell_type": "markdown",
   "metadata": {},
   "source": [
    "Let's test this with a \"hand built\" list"
   ]
  },
  {
   "cell_type": "code",
   "execution_count": 1052,
   "metadata": {
    "ExecuteTime": {
     "end_time": "2020-11-12T21:37:58.811947Z",
     "start_time": "2020-11-12T21:37:58.809019Z"
    }
   },
   "outputs": [],
   "source": [
    "MY_LIST = JOIN(SIX)(JOIN(TWO)(JOIN(FIVE)(END)))"
   ]
  },
  {
   "cell_type": "code",
   "execution_count": 1053,
   "metadata": {
    "ExecuteTime": {
     "end_time": "2020-11-12T21:37:59.356592Z",
     "start_time": "2020-11-12T21:37:59.351712Z"
    }
   },
   "outputs": [],
   "source": [
    "# hey, we can index!\n",
    "print_church(HEAD(MY_LIST))\n",
    "print_church(HEAD(TAIL((MY_LIST))))\n",
    "print_church(HEAD(TAIL(TAIL(MY_LIST))))"
   ]
  },
  {
   "cell_type": "markdown",
   "metadata": {
    "ExecuteTime": {
     "end_time": "2020-11-08T11:10:50.183432Z",
     "start_time": "2020-11-08T11:10:50.178553Z"
    }
   },
   "source": [
    "## Task\n",
    "\n",
    "* (a) Write an ordinary Python function `print_list()` to print out a list of integers in this format; and a function `make_list(l)` that takes an ordinary Python list of integers and returns a lambda list of Church numerals.\n",
    "* (b) Write the **lambda term** REPZERO(n) that creates a list of *n* zeros and test that it works correctly.\n",
    "* (c) Write the **lambda term** REP(k)(n) that creates a list of *n* copies of k and test that it works correctly.\n",
    "* (d) Write the **lambda term** IOTA(n), that creates a list [n, n-1, ..., 1, 0] and test that it works correctly."
   ]
  },
  {
   "cell_type": "code",
   "execution_count": 814,
   "metadata": {
    "ExecuteTime": {
     "end_time": "2020-11-11T21:12:54.035775Z",
     "start_time": "2020-11-11T21:12:54.030895Z"
    }
   },
   "outputs": [],
   "source": [
    "# Solution goes here"
   ]
  },
  {
   "cell_type": "code",
   "execution_count": 818,
   "metadata": {
    "ExecuteTime": {
     "end_time": "2020-11-11T21:13:15.068969Z",
     "start_time": "2020-11-11T21:13:15.064089Z"
    }
   },
   "outputs": [],
   "source": [
    "print_list(make_list([2,3,4]))\n",
    "print_list(JOIN(SIX)(JOIN(TWO)(JOIN(FIVE)(END))))\n",
    "print_list(JOIN(ONE)(JOIN(FIVE)(END)))"
   ]
  },
  {
   "cell_type": "code",
   "execution_count": 819,
   "metadata": {
    "ExecuteTime": {
     "end_time": "2020-11-11T21:13:18.139435Z",
     "start_time": "2020-11-11T21:13:18.134555Z"
    }
   },
   "outputs": [],
   "source": [
    "# Solution goes here"
   ]
  },
  {
   "cell_type": "code",
   "execution_count": 383,
   "metadata": {
    "ExecuteTime": {
     "end_time": "2020-11-09T16:57:25.340931Z",
     "start_time": "2020-11-09T16:57:25.336051Z"
    }
   },
   "outputs": [],
   "source": [
    "print_list(REPZERO(ZERO))\n",
    "print_list(REPZERO(ONE))\n",
    "print_list(REPZERO(TWO))\n",
    "print_list(REPZERO(THREE))\n",
    "print_list(REPZERO(FOUR))"
   ]
  },
  {
   "cell_type": "code",
   "execution_count": 384,
   "metadata": {
    "ExecuteTime": {
     "end_time": "2020-11-09T16:57:25.722119Z",
     "start_time": "2020-11-09T16:57:25.717239Z"
    }
   },
   "outputs": [],
   "source": [
    "print_list(REP(FIVE)(THREE))\n",
    "print_list(REP(TWO)(SIX))\n",
    "print_list(REP(SIX)(TWO))"
   ]
  },
  {
   "cell_type": "code",
   "execution_count": 385,
   "metadata": {
    "ExecuteTime": {
     "end_time": "2020-11-09T16:57:26.179458Z",
     "start_time": "2020-11-09T16:57:26.175554Z"
    }
   },
   "outputs": [],
   "source": [
    "print_list(IOTA(THREE))\n",
    "print_list(IOTA(ONE))\n",
    "print_list(IOTA(TWO))"
   ]
  },
  {
   "cell_type": "markdown",
   "metadata": {},
   "source": [
    "### Recursion"
   ]
  },
  {
   "cell_type": "markdown",
   "metadata": {},
   "source": [
    "So we can do **counted loops**. But what about **indefinite iteration**? What is the equivalent of `while`? We can't write `while` directly, but we *can* do **recursion**.\n",
    "\n",
    "However, there is a slight fly in the ointment. Because of the way Python works, the obvious way to write a recursive function will cause an infinite loop. We can see the problem if we try and use TRUE and FALSE with `print`:"
   ]
  },
  {
   "cell_type": "code",
   "execution_count": 1403,
   "metadata": {
    "ExecuteTime": {
     "end_time": "2020-11-14T19:32:25.437040Z",
     "start_time": "2020-11-14T19:32:25.433137Z"
    }
   },
   "outputs": [],
   "source": [
    "# both are evaluated, and one returned\n",
    "TRUE(\"True\")(\"False\")"
   ]
  },
  {
   "cell_type": "code",
   "execution_count": 1404,
   "metadata": {
    "ExecuteTime": {
     "end_time": "2020-11-14T19:32:44.188807Z",
     "start_time": "2020-11-14T19:32:44.184902Z"
    }
   },
   "outputs": [],
   "source": [
    "# both are evaluated, and one returned\n",
    "# but this means both are still *executed*!\n",
    "TRUE(print(\"True\"))(print(\"False\"))"
   ]
  },
  {
   "cell_type": "markdown",
   "metadata": {},
   "source": [
    "To fix this (and it is just an artifact of the Python language, not of the lambda calculus itself), we can create \"deferred\" versions of TRUE and FALSE that do not evaluate immediately. "
   ]
  },
  {
   "cell_type": "code",
   "execution_count": 1407,
   "metadata": {
    "ExecuteTime": {
     "end_time": "2020-11-14T19:34:03.827852Z",
     "start_time": "2020-11-14T19:34:03.823948Z"
    }
   },
   "outputs": [],
   "source": [
    "# note: we used a \"dummy\" lambda to wrap the expression in a function\n",
    "# and a \"dummy\" function call to then evalute it\n",
    "TRUE(lambda _: print(\"It was true\"))(lambda _: print(\"It was false\"))(TRUE)"
   ]
  },
  {
   "cell_type": "markdown",
   "metadata": {},
   "source": [
    "This allows us to \"wrap up\" two branches following a predicate (like IS_ZERO) to prevent immediate infinite recursion."
   ]
  },
  {
   "cell_type": "code",
   "execution_count": 1408,
   "metadata": {
    "ExecuteTime": {
     "end_time": "2020-11-14T19:34:11.388627Z",
     "start_time": "2020-11-14T19:34:11.382771Z"
    }
   },
   "outputs": [],
   "source": [
    "# D_ for \"deferred\"\n",
    "D_TRUE = lambda x: lambda y: x(x)\n",
    "D_FALSE = lambda x: lambda y: y(y)\n",
    "\n",
    "# take a predicate and return the deferred version\n",
    "DEFER = lambda pred: lambda x: pred(x)(D_TRUE)(D_FALSE)\n"
   ]
  },
  {
   "cell_type": "code",
   "execution_count": 1409,
   "metadata": {
    "ExecuteTime": {
     "end_time": "2020-11-14T19:34:12.717677Z",
     "start_time": "2020-11-14T19:34:12.706942Z"
    }
   },
   "outputs": [],
   "source": [
    "# NO: we need to use functions, that when called\n",
    "# return the value\n",
    "DEFER(EMPTY)(JOIN(ONE)(END))(True)(False)"
   ]
  },
  {
   "cell_type": "code",
   "execution_count": 1410,
   "metadata": {
    "ExecuteTime": {
     "end_time": "2020-11-14T19:34:14.525443Z",
     "start_time": "2020-11-14T19:34:14.520562Z"
    }
   },
   "outputs": [],
   "source": [
    "# YES: we use these \"dummy\" lambda terms instead (we never use the _ variable)\n",
    "# it just stops the evaluation being done too \"eagerly\"\n",
    "DEFER(EMPTY)(JOIN(ONE)(END))(lambda _:True)(lambda _:False)"
   ]
  },
  {
   "cell_type": "markdown",
   "metadata": {},
   "source": [
    "Now we can write recursive functions, such as the *length of a list*."
   ]
  },
  {
   "cell_type": "code",
   "execution_count": 1057,
   "metadata": {
    "ExecuteTime": {
     "end_time": "2020-11-12T21:39:34.232788Z",
     "start_time": "2020-11-12T21:39:34.225956Z"
    }
   },
   "outputs": [],
   "source": [
    "# the lambda _: is just a fix to the way Python interprets functions\n",
    "\n",
    "LEN = lambda x: (\n",
    "        DEFER(EMPTY)(x)  # len(x)==0?\n",
    "            (lambda _: ZERO)    # base case: return 0\n",
    "            (lambda _: NEXT(LEN(TAIL(x)))) # inductive case: return 1+len(l[1:])\n",
    "        )\n",
    "\n",
    "# test it works\n",
    "print_church(LEN(END))\n",
    "print_church(LEN(JOIN(ONE)(END)))\n",
    "print_church(LEN(REPZERO(FOUR)))\n",
    "\n",
    "print_church(LEN(make_list([3,1,4, 1,5,9,2])))"
   ]
  },
  {
   "cell_type": "markdown",
   "metadata": {},
   "source": [
    "## Task\n",
    "Write:    \n",
    "* (a) **Indexing** A lambda term `NTH(l)(n)` that returns the Nth item of a list.\n",
    "* (b) **Reduction example**. A lambda term `SUM(l)` that computes the *sum* of a list.\n",
    "* (c) **Map example** A lambda term `MUL_LIST(l)(x)` that takes a constant `x` and multiplies each element of a list by it.\n",
    "* (d) **Filter example** A lambda term `FILTER_ZERO(l)` that takes a list and returns every non-zero element of this list.\n",
    "* (e) **Tricky example (!)** A lambda term `REVERSE` that reverses a list\n",
    "\n"
   ]
  },
  {
   "cell_type": "code",
   "execution_count": 1413,
   "metadata": {
    "ExecuteTime": {
     "end_time": "2020-11-14T19:34:53.583504Z",
     "start_time": "2020-11-14T19:34:53.574721Z"
    }
   },
   "outputs": [],
   "source": [
    "# Solution goes here"
   ]
  },
  {
   "cell_type": "code",
   "execution_count": 1414,
   "metadata": {
    "ExecuteTime": {
     "end_time": "2020-11-14T19:34:53.875399Z",
     "start_time": "2020-11-14T19:34:53.869543Z"
    }
   },
   "outputs": [],
   "source": [
    "# more examples\n",
    "list_6958 = (JOIN(SIX)(JOIN(NINE)(JOIN(FIVE)(JOIN(EIGHT)(END)))))\n",
    "list_695 = (JOIN(SIX)(JOIN(NINE)(JOIN(FIVE)(END))))\n",
    "list_6958_2 = (JOIN(SIX)(JOIN(NINE)(JOIN(FIVE)(JOIN(EIGHT)(END)))))\n",
    "list_958 = (JOIN(NINE)(JOIN(FIVE)(JOIN(EIGHT)(END))))\n",
    "list_6050 = JOIN(SIX)(JOIN(ZERO)(JOIN(FIVE)(JOIN(ZERO)(END))))\n",
    "\n",
    "\n",
    "print_list(list_6958)\n",
    "print_list(REVERSE(list_6958))"
   ]
  },
  {
   "cell_type": "code",
   "execution_count": 1415,
   "metadata": {
    "ExecuteTime": {
     "end_time": "2020-11-14T19:34:54.647921Z",
     "start_time": "2020-11-14T19:34:54.640114Z"
    }
   },
   "outputs": [],
   "source": [
    "assert NTH(list_6958)(ZERO) == SIX\n",
    "assert NTH(list_6958)(ONE) == NINE\n",
    "assert NTH(list_6958)(TWO) == FIVE\n",
    "assert NTH(list_6958)(THREE) == EIGHT\n",
    "\n",
    "assert SUM(IOTA(FOUR))(inc)(0) == 10\n",
    "assert SUM(list_6958)(inc)(0) == 6+9+5+8\n",
    "assert NTH(REVERSE(list_6958))(ZERO) == EIGHT\n",
    "assert NTH(REVERSE(list_6958))(TWO) == NINE\n",
    "\n",
    "mul_2 = MUL_LIST(list_6958)(TWO) \n",
    "assert NTH(mul_2)(ZERO)(inc)(0) == 12\n",
    "assert NTH(mul_2)(ONE)(inc)(0) == 18\n",
    "\n",
    "\n",
    "assert LEN(FILTER_ZERO(list_6050))(inc)(0) == 2"
   ]
  },
  {
   "cell_type": "markdown",
   "metadata": {},
   "source": [
    "## Task\n",
    "\n",
    "Write the higher-order functions that work with *any* passed in function:\n",
    "    \n",
    "* REDUCE(fn)(l)(init) reduces fn over l, starting with an initial value init (e.g. REDUCE(ADD)(l)(0) is SUM(l))\n",
    "* MAP(fn)(l) applies fn to each element of l, and returns the tranformed list\n",
    "* FILTER(pred)(l) applies pred to each element of l, and returns the collected values where pred was True\n",
    "* APPLY(fn)(args) applies fn with the sequence of arguments given (like `fn(*args)`)"
   ]
  },
  {
   "cell_type": "code",
   "execution_count": 1416,
   "metadata": {
    "ExecuteTime": {
     "end_time": "2020-11-14T19:34:56.167234Z",
     "start_time": "2020-11-14T19:34:56.158523Z"
    }
   },
   "outputs": [],
   "source": [
    "MAP = lambda f: lambda l: DEFER(EMPTY)(l) (lambda _:END) (lambda _: JOIN(f(HEAD(l)))(MAP(f)(TAIL(l))))\n",
    "REDUCE =  lambda f: lambda l: lambda init: DEFER(EMPTY)(l) (lambda _:init)(lambda _: f(HEAD(l))(REDUCE(f)(TAIL(l))(init)))\n",
    "\n",
    "APPLY = (lambda f: lambda args: \n",
    "        DEFER(EMPTY)(args) (lambda _: FALSE) \n",
    "        (lambda _: \n",
    "             DEFER(EMPTY)(TAIL(args)) \n",
    "                 (lambda _: f(HEAD(args)))\n",
    "                 (lambda _: APPLY(f(HEAD(args)))(TAIL(args)))))\n",
    "\n",
    "\n",
    "            \n",
    "FILTER = (lambda pred: lambda l:\n",
    "            DEFER(EMPTY)(l) (lambda _:l)\n",
    "               (lambda _: pred(HEAD(l))\n",
    "                    (FILTER(pred)(TAIL(l)))\n",
    "                    (JOIN(HEAD(l))(FILTER(pred)(TAIL(l))))))\n"
   ]
  },
  {
   "cell_type": "code",
   "execution_count": 1417,
   "metadata": {
    "ExecuteTime": {
     "end_time": "2020-11-14T19:34:57.407908Z",
     "start_time": "2020-11-14T19:34:57.404005Z"
    }
   },
   "outputs": [],
   "source": [
    "print_church(APPLY(ADD)(JOIN(ONE)(JOIN(THREE)(END))))"
   ]
  },
  {
   "cell_type": "code",
   "execution_count": 1418,
   "metadata": {
    "ExecuteTime": {
     "end_time": "2020-11-14T19:35:00.106187Z",
     "start_time": "2020-11-14T19:35:00.100331Z"
    }
   },
   "outputs": [],
   "source": [
    "list_695 = (JOIN(SIX)(JOIN(NINE)(JOIN(FIVE)(END))))\n",
    "\n",
    "DOUBLE = lambda q: ADD(q)(q)\n",
    "\n",
    "print_list(MAP(DOUBLE)(list_695))\n",
    "print_church(REDUCE(ADD)(list_695)(ZERO))"
   ]
  },
  {
   "cell_type": "code",
   "execution_count": 1419,
   "metadata": {
    "ExecuteTime": {
     "end_time": "2020-11-14T19:35:00.561587Z",
     "start_time": "2020-11-14T19:35:00.556701Z"
    }
   },
   "outputs": [],
   "source": [
    "# redefine FILTER_ZERO using the general form\n",
    "FILTER_ZERO_2 = lambda x: FILTER(IS_ZERO)(x)\n",
    "\n",
    "# we can, for example, define ALL and ANY\n",
    "ALL = lambda x: REDUCE(AND)(x)(TRUE)\n",
    "ANY = lambda x: REDUCE(OR)(x)(FALSE)\n",
    "\n",
    "print_list(FILTER_ZERO_2(list_6050))\n",
    "           "
   ]
  },
  {
   "cell_type": "markdown",
   "metadata": {
    "ExecuteTime": {
     "end_time": "2020-11-09T17:05:35.789402Z",
     "start_time": "2020-11-09T17:05:35.784522Z"
    }
   },
   "source": [
    "## Task\n",
    "\n",
    "* (a) Write a lambda term `EQ(a)(b)` that will test if two Church numerals are equal. **This is harder than it sounds!**. \n",
    "* (b) Generalise this to write LEQ (less than or equal to), GEQ (greater than or equal to), GT (greater than) and LT (less than).\n",
    "* (c) Write a lambda term `EQ_LIST(a)(b)` that is tests if two lists contain the same numbers in the same order (easier than it sounds)."
   ]
  },
  {
   "cell_type": "code",
   "execution_count": 1420,
   "metadata": {
    "ExecuteTime": {
     "end_time": "2020-11-14T19:35:03.173885Z",
     "start_time": "2020-11-14T19:35:03.166077Z"
    }
   },
   "outputs": [],
   "source": [
    "# Solution goes here"
   ]
  },
  {
   "cell_type": "code",
   "execution_count": 1421,
   "metadata": {
    "ExecuteTime": {
     "end_time": "2020-11-14T19:35:03.582430Z",
     "start_time": "2020-11-14T19:35:03.576575Z"
    }
   },
   "outputs": [],
   "source": [
    "assert EQ(ONE)(ONE)(True)(False)\n",
    "assert not EQ(ZERO)(ONE)(True)(False)\n",
    "assert EQ(THREE)(THREE)(True)(False)\n",
    "assert not EQ(FIVE)(SEVEN)(True)(False)\n",
    "assert not EQ(SEVEN)(FIVE)(True)(False)\n",
    "assert EQ(NEXT(FOUR))(NEXT(FOUR))(True)(False)\n",
    "assert EQ(ZERO)(ZERO)(True)(False)"
   ]
  },
  {
   "cell_type": "code",
   "execution_count": 1422,
   "metadata": {
    "ExecuteTime": {
     "end_time": "2020-11-14T19:35:04.037352Z",
     "start_time": "2020-11-14T19:35:04.032472Z"
    }
   },
   "outputs": [],
   "source": [
    "assert LEQ(THREE)(FOUR)(True)(False)\n",
    "assert LEQ(THREE)(THREE)(True)(False)\n",
    "assert not LT(THREE)(THREE)(True)(False)\n",
    "assert not GT(THREE)(FOUR)(True)(False)\n",
    "assert GT(NINE)(FOUR)(True)(False)\n",
    "assert GEQ(NINE)(FOUR)(True)(False)\n",
    "assert GEQ(FOUR)(FOUR)(True)(False)\n",
    "assert not GT(FOUR)(FOUR)(True)(False)"
   ]
  },
  {
   "cell_type": "code",
   "execution_count": 1423,
   "metadata": {
    "ExecuteTime": {
     "end_time": "2020-11-14T19:35:04.635785Z",
     "start_time": "2020-11-14T19:35:04.628953Z"
    }
   },
   "outputs": [],
   "source": [
    "assert not EQ_LIST(list_6958)(list_6050)(True)(False)\n",
    "assert not EQ_LIST(list_6958)(list_695)(True)(False)\n",
    "assert not EQ_LIST(list_6958)(list_958)(True)(False)\n",
    "assert not EQ_LIST(list_6958)(END)(True)(False)\n",
    "assert EQ_LIST(list_6958)(list_6958)(True)(False)\n",
    "assert EQ_LIST(list_6958)(list_6958_2)(True)(False)"
   ]
  },
  {
   "cell_type": "markdown",
   "metadata": {},
   "source": [
    "### Z combinator\n",
    "\n",
    "I'll introduce one further lambda term. This one is hard to explain concisely, but it allows us to write *recursive functions* as a pure lambda term. So far, we've used things like: \n",
    "\n",
    "    LEN = lambda x: (\n",
    "            D_EMPTY(x)  # len(x)==0?\n",
    "                (lambda _: ZERO)    # base case: return 0\n",
    "                (lambda _: NEXT(LEN(TAIL(x)))) # inductive case: return 1+len(l[1:])\n",
    "            )\n",
    "\n",
    "**But this is cheating!** We've used the variable `LEN` in the right hand side. This presumes we have some additional storage (local variables) to make this reference. It's not inside our rules for lambda calculus. **We can't use a recursive reference like this if we are doing things properly.** The other references to earlier definitions  (like `NEXT` or `ZERO`) are fine; they are just a convenience for substituting in earlier definitions instead of writing it out each time. We could write them out long-hand if we wanted, but we can't write out a self-reference long-hand.\n",
    "\n",
    "What can we do? We can use a lambda term that allows *self reference*. One of these is known as the **Z combinator** or the **fixed point combinator**. This lets us repeat operations via recursion without any external variables!\n",
    "\n",
    "    λf(λx.f(λz.x(x)(z))(λx.f(λz.x(x)(z))\n",
    "    \n",
    "Using this, we can pass the recursive function in *and* get a reference to it.    \n",
    "    "
   ]
  },
  {
   "cell_type": "code",
   "execution_count": 587,
   "metadata": {
    "ExecuteTime": {
     "end_time": "2020-11-09T17:51:56.776941Z",
     "start_time": "2020-11-09T17:51:56.773037Z"
    }
   },
   "outputs": [],
   "source": [
    "Z = lambda f:(lambda x: f(lambda z:x(x)(z)))(lambda x:f(lambda z:x(x)(z)))"
   ]
  },
  {
   "cell_type": "code",
   "execution_count": 1424,
   "metadata": {
    "ExecuteTime": {
     "end_time": "2020-11-14T19:35:36.826788Z",
     "start_time": "2020-11-14T19:35:36.820932Z"
    }
   },
   "outputs": [],
   "source": [
    "# note: f becomes our reference to the recursive call\n",
    "# when we use Z like this\n",
    "\n",
    "LEN_Z = Z(lambda f: lambda x: (\n",
    "            D_EMPTY(x)  # len(x)==0?\n",
    "                (lambda _: ZERO)    # base case: return 0\n",
    "                (lambda _: NEXT(f(TAIL(x)))) # inductive case: return 1+len(l[1:])\n",
    "            ))\n",
    "\n",
    "\n",
    "print_church(LEN_Z(JOIN(SIX)(JOIN(NINE)(JOIN(FIVE)(END)))))"
   ]
  },
  {
   "cell_type": "markdown",
   "metadata": {},
   "source": [
    "## Task: Use Z\n",
    "\n",
    "* Rewrite SUM and REVERSE using Z instead of refering to SUM/REVERSE in its definition."
   ]
  },
  {
   "cell_type": "code",
   "execution_count": 1427,
   "metadata": {
    "ExecuteTime": {
     "end_time": "2020-11-14T19:35:55.537254Z",
     "start_time": "2020-11-14T19:35:55.530423Z"
    }
   },
   "outputs": [],
   "source": [
    "# Solution goes here"
   ]
  },
  {
   "cell_type": "markdown",
   "metadata": {},
   "source": [
    "## Task A.3 Redux\n",
    "\n",
    "Now, redo Task A.3 (the dot product) using only the lambda calculus. No Python lists, integers or anything other than the pure one argument functions we have been defining so far.\n",
    "\n",
    "Define DOT_PRODUCT(a)(b) that takes two lambda lists `a` and `b` and returns the dot product.\n",
    "\n",
    "You may assume `a` and `b` will always be the same length\n"
   ]
  },
  {
   "cell_type": "code",
   "execution_count": 1058,
   "metadata": {
    "ExecuteTime": {
     "end_time": "2020-11-12T21:40:16.317490Z",
     "start_time": "2020-11-12T21:40:16.312610Z"
    }
   },
   "outputs": [],
   "source": [
    "# Solution goes here"
   ]
  },
  {
   "cell_type": "code",
   "execution_count": 1059,
   "metadata": {
    "ExecuteTime": {
     "end_time": "2020-11-12T21:40:20.675265Z",
     "start_time": "2020-11-12T21:40:20.669408Z"
    }
   },
   "outputs": [],
   "source": [
    "## Tests\n",
    "A = make_list([1,2,5])\n",
    "B = make_list([2, 0, 5])            \n",
    "C = make_list([5, 3, 1, 1])\n",
    "D = make_list([1, 2, 3 , 4])\n",
    "\n",
    "assert DOT_PRODUCT(A)(B)(inc)(0) == 1*2+2*0+5*5\n",
    "assert DOT_PRODUCT(C)(D)(inc)(0) == 5*1+3*2+1*3+1*4"
   ]
  },
  {
   "cell_type": "markdown",
   "metadata": {},
   "source": [
    "Now you should be convinced that all the luxuries of Python -- lists, multiple arguments, comprehensions, even integers themselves are just that: *luxuries*. Functions are all you need.\n",
    "\n",
    "Note that we used the *untyped* lambda calculus. Most functional programming is based on the **typed lambda calculus**, where we give types to the arguments that the functions can take. This has many benefits, not least making it possible to prove attributes of programs mathematically before they are executed -- for example, if they will halt or not.\n",
    "\n",
    "If you start with the typed lambda calculus, add a bit of syntatic sugar and some optimisations, then you've got... Haskell.\n",
    "\n",
    "If you are interested:\n",
    "\n",
    "* [An interesting blog post and interpreter](https://crypto.stanford.edu/~blynn/lambda/)\n",
    "* [A Brief and Informal Introduction to the Lambda Calculus](https://www.cs.yale.edu/homes/hudak/CS201S08/lambda.pdf)\n",
    "* [The impact of lambda calculus in logic and computer science](https://www-users.mat.umk.pl//~adwid/materialy/doc/church.pdf)\n"
   ]
  },
  {
   "cell_type": "markdown",
   "metadata": {},
   "source": [
    "## Challenge exercise\n",
    "\n",
    "Write **MERGE_SORT** as a lambda term :), so you can sort lists of Church numerals!\n",
    "\n"
   ]
  },
  {
   "cell_type": "code",
   "execution_count": 1252,
   "metadata": {
    "ExecuteTime": {
     "end_time": "2020-11-14T11:13:45.527439Z",
     "start_time": "2020-11-14T11:13:45.517679Z"
    }
   },
   "outputs": [],
   "source": [
    "# Solution goes here"
   ]
  },
  {
   "cell_type": "code",
   "execution_count": 1378,
   "metadata": {
    "ExecuteTime": {
     "end_time": "2020-11-14T17:39:01.316826Z",
     "start_time": "2020-11-14T17:39:01.302186Z"
    }
   },
   "outputs": [],
   "source": [
    "# Solution goes here"
   ]
  }
 ],
 "metadata": {
  "kernelspec": {
   "display_name": "Python 3",
   "language": "python",
   "name": "python3"
  },
  "language_info": {
   "codemirror_mode": {
    "name": "ipython",
    "version": 3
   },
   "file_extension": ".py",
   "mimetype": "text/x-python",
   "name": "python",
   "nbconvert_exporter": "python",
   "pygments_lexer": "ipython3",
   "version": "3.8.3"
  },
  "toc": {
   "base_numbering": 1,
   "nav_menu": {},
   "number_sections": true,
   "sideBar": true,
   "skip_h1_title": false,
   "title_cell": "Table of Contents",
   "title_sidebar": "Contents",
   "toc_cell": false,
   "toc_position": {},
   "toc_section_display": true,
   "toc_window_display": false
  },
  "varInspector": {
   "cols": {
    "lenName": 16,
    "lenType": 16,
    "lenVar": 40
   },
   "kernels_config": {
    "python": {
     "delete_cmd_postfix": "",
     "delete_cmd_prefix": "del ",
     "library": "var_list.py",
     "varRefreshCmd": "print(var_dic_list())"
    },
    "r": {
     "delete_cmd_postfix": ") ",
     "delete_cmd_prefix": "rm(",
     "library": "var_list.r",
     "varRefreshCmd": "cat(var_dic_list()) "
    }
   },
   "types_to_exclude": [
    "module",
    "function",
    "builtin_function_or_method",
    "instance",
    "_Feature"
   ],
   "window_display": false
  }
 },
 "nbformat": 4,
 "nbformat_minor": 1
}
