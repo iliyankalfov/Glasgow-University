{
 "cells": [
  {
   "cell_type": "markdown",
   "metadata": {
    "ExecuteTime": {
     "end_time": "2020-11-21T22:44:54.628127Z",
     "start_time": "2020-11-21T22:44:54.612546Z"
    }
   },
   "source": [
    "# CS1P. Unit 13. Lab problems\n",
    "---\n",
    "<br>\n",
    "\n",
    "#### Dr Sofiat Olaosebikan\n",
    "##### School of Computing Science\n",
    "##### University of Glasgow\n",
    "<br>\n",
    "\n",
    "#### Python 3.x\n",
    " ---"
   ]
  },
  {
   "cell_type": "code",
   "execution_count": null,
   "metadata": {
    "ExecuteTime": {
     "end_time": "2020-11-21T22:44:54.628127Z",
     "start_time": "2020-11-21T22:44:54.612546Z"
    }
   },
   "outputs": [],
   "source": [
    "from utils.tick import tick"
   ]
  },
  {
   "cell_type": "markdown",
   "metadata": {
    "ExecuteTime": {
     "end_time": "2020-11-21T22:06:57.135040Z",
     "start_time": "2020-11-21T22:06:57.116260Z"
    }
   },
   "source": [
    "### Purpose of the lab"
   ]
  },
  {
   "cell_type": "markdown",
   "metadata": {
    "ExecuteTime": {
     "end_time": "2020-11-29T10:30:26.755384Z",
     "start_time": "2020-11-29T10:30:26.735540Z"
    }
   },
   "source": []
  },
  {
   "cell_type": "code",
   "execution_count": 31,
   "metadata": {
    "ExecuteTime": {
     "end_time": "2020-12-04T21:32:36.369101Z",
     "start_time": "2020-12-04T21:32:36.328907Z"
    }
   },
   "outputs": [
    {
     "name": "stdout",
     "output_type": "stream",
     "text": [
      "6 [2, 3, 5, 5, 8, 9, 10, 11, 13, 14, 16, 17]\n",
      "2 [11, 13, 14, 16, 17]\n",
      "1 [16, 17]\n",
      "0 [16]\n",
      "0 []\n"
     ]
    },
    {
     "data": {
      "text/plain": [
       "-1"
      ]
     },
     "execution_count": 31,
     "metadata": {},
     "output_type": "execute_result"
    }
   ],
   "source": [
    "def binary_recursive(A, search_value, idx_shift=0):\n",
    "    midpoint = len(A)//2\n",
    "    print(midpoint, A)\n",
    "    if A == []:\n",
    "        return -1\n",
    "    elif A[midpoint] == search_value:\n",
    "        return midpoint+idx_shift\n",
    "    elif A[midpoint] > search_value:\n",
    "        return binary_recursive(A[:midpoint], search_value)\n",
    "    else:\n",
    "        idx_shift = idx_shift+midpoint+1\n",
    "        return binary_recursive(A[midpoint+1:], search_value, idx_shift)\n",
    "    return -1 # if value not in list\n",
    "\n",
    "elts = [2,3,5,5,8,9,10,11,13,14,16,17]\n",
    "binary_recursive(elts, 15)"
   ]
  },
  {
   "cell_type": "code",
   "execution_count": 28,
   "metadata": {
    "ExecuteTime": {
     "end_time": "2020-12-04T21:28:43.377562Z",
     "start_time": "2020-12-04T21:28:43.363507Z"
    }
   },
   "outputs": [
    {
     "data": {
      "text/plain": [
       "3"
      ]
     },
     "execution_count": 28,
     "metadata": {},
     "output_type": "execute_result"
    }
   ],
   "source": [
    "7//2"
   ]
  },
  {
   "cell_type": "code",
   "execution_count": null,
   "metadata": {
    "ExecuteTime": {
     "end_time": "2020-11-29T10:30:26.755384Z",
     "start_time": "2020-11-29T10:30:26.735540Z"
    }
   },
   "outputs": [],
   "source": [
    "def binary_lsearch(A, search_value):\n",
    "    initial = binary_recursive(A, search_value):\n",
    "    if initial == -1:\n",
    "        return -1\n",
    "    while A[initial] == search_value and initial >= 0:\n",
    "        initial -= 1\n",
    "    return initial+1"
   ]
  },
  {
   "cell_type": "markdown",
   "metadata": {
    "ExecuteTime": {
     "end_time": "2020-11-29T10:30:26.755384Z",
     "start_time": "2020-11-29T10:30:26.735540Z"
    }
   },
   "source": []
  },
  {
   "cell_type": "markdown",
   "metadata": {
    "ExecuteTime": {
     "end_time": "2020-11-29T10:30:26.755384Z",
     "start_time": "2020-11-29T10:30:26.735540Z"
    }
   },
   "source": []
  },
  {
   "cell_type": "markdown",
   "metadata": {
    "ExecuteTime": {
     "end_time": "2020-11-29T10:30:26.755384Z",
     "start_time": "2020-11-29T10:30:26.735540Z"
    }
   },
   "source": [
    "In the cell below, variable `ages` stores the age of $300$ students in a class. The academic coordinator would like to know . Your task is to write a function to solve this problem, using counting sort only."
   ]
  },
  {
   "cell_type": "code",
   "execution_count": 10,
   "metadata": {
    "ExecuteTime": {
     "end_time": "2020-11-29T10:51:42.878132Z",
     "start_time": "2020-11-29T10:51:42.848059Z"
    }
   },
   "outputs": [
    {
     "name": "stdout",
     "output_type": "stream",
     "text": [
      "15 166\n",
      "19 137\n",
      "18 139\n",
      "16 138\n",
      "20 137\n",
      "17 157\n",
      "21 126\n"
     ]
    }
   ],
   "source": [
    "import random\n",
    "ages = []\n",
    "for _ in range(1000):\n",
    "    ages.append(random.randint(15, 21))\n",
    "\n",
    "seen = []\n",
    "for j in ages:\n",
    "    if j not in seen:\n",
    "        seen.append(j)\n",
    "        print(j, ages.count(j))"
   ]
  },
  {
   "cell_type": "code",
   "execution_count": 11,
   "metadata": {
    "ExecuteTime": {
     "end_time": "2020-11-29T10:51:55.137234Z",
     "start_time": "2020-11-29T10:51:55.087830Z"
    }
   },
   "outputs": [
    {
     "name": "stdout",
     "output_type": "stream",
     "text": [
      "0 0\n",
      "1 0\n",
      "2 0\n",
      "3 0\n",
      "4 0\n",
      "5 0\n",
      "6 0\n",
      "7 0\n",
      "8 0\n",
      "9 0\n",
      "10 0\n",
      "11 0\n",
      "12 0\n",
      "13 0\n",
      "14 0\n",
      "15 166\n",
      "16 138\n",
      "17 157\n",
      "18 139\n",
      "19 137\n",
      "20 137\n",
      "21 126\n",
      "15\n"
     ]
    }
   ],
   "source": [
    "def countingSort(L):\n",
    "    max_elt = 21 # from problem statement\n",
    "    freq = [0 for _ in range(max_elt+1)]\n",
    "    for elt in L:\n",
    "        freq[elt] += 1\n",
    "    sorted_L = []\n",
    "    max_count = 0\n",
    "    max_idx  = 0\n",
    "    for idx, count in enumerate(freq):\n",
    "        print(idx, count)\n",
    "        if count > max_count:\n",
    "            max_count = count\n",
    "            max_idx = idx\n",
    "            \n",
    "    return max_idx\n",
    "\n",
    "print(countingSort(ages))"
   ]
  },
  {
   "cell_type": "code",
   "execution_count": null,
   "metadata": {},
   "outputs": [],
   "source": []
  },
  {
   "cell_type": "code",
   "execution_count": null,
   "metadata": {},
   "outputs": [],
   "source": []
  },
  {
   "cell_type": "code",
   "execution_count": null,
   "metadata": {},
   "outputs": [],
   "source": []
  }
 ],
 "metadata": {
  "kernelspec": {
   "display_name": "Python 3",
   "language": "python",
   "name": "python3"
  },
  "language_info": {
   "codemirror_mode": {
    "name": "ipython",
    "version": 3
   },
   "file_extension": ".py",
   "mimetype": "text/x-python",
   "name": "python",
   "nbconvert_exporter": "python",
   "pygments_lexer": "ipython3",
   "version": "3.7.6"
  },
  "toc": {
   "base_numbering": 1,
   "nav_menu": {},
   "number_sections": true,
   "sideBar": true,
   "skip_h1_title": false,
   "title_cell": "Table of Contents",
   "title_sidebar": "Contents",
   "toc_cell": false,
   "toc_position": {},
   "toc_section_display": true,
   "toc_window_display": false
  }
 },
 "nbformat": 4,
 "nbformat_minor": 4
}
