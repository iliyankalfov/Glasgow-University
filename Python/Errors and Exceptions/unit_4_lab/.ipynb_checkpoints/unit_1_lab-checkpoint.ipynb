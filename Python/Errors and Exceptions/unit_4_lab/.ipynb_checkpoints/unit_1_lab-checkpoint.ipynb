{
 "cells": [
  {
   "cell_type": "markdown",
   "metadata": {},
   "source": [
    "# Lab 1\n",
    "<br>\n",
    "\n",
    "# Lists, strings, dictionaries, sets and recursion.\n",
    "---\n",
    "<br>\n",
    "\n",
    "##### **Dr Sofiat Olaosebikan**\n",
    "##### School of Computing Science\n",
    "##### University of Glasgow\n",
    "<br>\n",
    "\n",
    "##### CS1P. Semester 2. Python 3.x\n",
    " ---"
   ]
  },
  {
   "cell_type": "markdown",
   "metadata": {},
   "source": [
    "## Purpose of this lab\n",
    "\n",
    "In part A of this lab, you will write code to solve different problems under:\n",
    "* lists,\n",
    "* strings,\n",
    "* dictionaries, and\n",
    "* sets. \n",
    "\n",
    "For some of the problems, you will be using recursion.\n",
    "\n",
    "The problems in part B will require you to do a little bit more problem solving. Also, you will need to decide what data type is ideal for these problems."
   ]
  },
  {
   "cell_type": "code",
   "execution_count": null,
   "metadata": {
    "ExecuteTime": {
     "end_time": "2021-01-11T13:39:08.739900Z",
     "start_time": "2021-01-11T13:39:08.726765Z"
    }
   },
   "outputs": [],
   "source": [
    "# make sure to run this cell\n",
    "from utils.tick import tick\n",
    "\n",
    "#######  PLEASE READ   ####### \n",
    "# You need Python version >= 3.6 \n",
    "# for the print statements \n",
    "# which uses f-string to work"
   ]
  },
  {
   "cell_type": "markdown",
   "metadata": {},
   "source": [
    "# A."
   ]
  },
  {
   "cell_type": "markdown",
   "metadata": {},
   "source": [
    "## A.1: Lists\n",
    " \n",
    "(a) Write a function `flatten(a)` that flattens any given list.\n",
    "\n",
    "**Illustration:**\n",
    "```Python3\n",
    "a = [[[1, 2, 3], [4, 5, 6], [7], [8, 9], 10]]\n",
    "\n",
    "flatten(a)\n",
    ">>> [1, 2, 3, 4, 5, 6, 7, 8, 9, 10]\n",
    "```"
   ]
  },
  {
   "cell_type": "code",
   "execution_count": null,
   "metadata": {
    "ExecuteTime": {
     "end_time": "2021-01-11T13:39:10.208633Z",
     "start_time": "2021-01-11T13:39:10.192432Z"
    }
   },
   "outputs": [],
   "source": [
    "a = [[[1, 2, 3], [4, 5, 6], [7], [8, 9], 10]]"
   ]
  },
  {
   "cell_type": "code",
   "execution_count": null,
   "metadata": {
    "ExecuteTime": {
     "end_time": "2021-01-11T13:39:10.208633Z",
     "start_time": "2021-01-11T13:39:10.192432Z"
    }
   },
   "outputs": [],
   "source": [
    "# solution comes here"
   ]
  },
  {
   "cell_type": "code",
   "execution_count": null,
   "metadata": {
    "ExecuteTime": {
     "end_time": "2021-01-11T13:39:18.270051Z",
     "start_time": "2021-01-11T13:39:18.253203Z"
    }
   },
   "outputs": [],
   "source": [
    "with tick():\n",
    "    assert flatten([]) == []\n",
    "    assert flatten([[1],2]) == [1,2]\n",
    "    assert flatten([[[1, 2, 3], [4, 5, 6], [7], [8, 9], 10]]) == [1, 2, 3, 4, 5, 6, 7, 8, 9, 10]"
   ]
  },
  {
   "cell_type": "markdown",
   "metadata": {},
   "source": [
    "(b) Write a function `identical(a, b)` that checks if two lists are circularly identical. A *circular list* is a list where we consider the first element as next of last element, forming a *circle*. \n",
    "\n",
    "For example, lists `A = [2,0,5,10,0,5,7,10]` and `B = [10,2,0,5,10,0,5,7]` are circularly identical, so `identical(A, B)` is `True`.\n",
    "\n",
    "<img src=\"imgs/circular.png\" width=\"50%\">\n",
    "\n",
    "However, if `A = [10, 10, 5, 10]` and `B = [10, 10, 10, 0]`, then `identical(A, B)` is `False`."
   ]
  },
  {
   "cell_type": "code",
   "execution_count": null,
   "metadata": {
    "ExecuteTime": {
     "end_time": "2021-01-05T13:53:19.744210Z",
     "start_time": "2021-01-05T13:53:19.728830Z"
    }
   },
   "outputs": [],
   "source": [
    "# solution comes here"
   ]
  },
  {
   "cell_type": "code",
   "execution_count": null,
   "metadata": {
    "ExecuteTime": {
     "end_time": "2021-01-11T13:40:18.181599Z",
     "start_time": "2021-01-11T13:40:18.156040Z"
    }
   },
   "outputs": [],
   "source": [
    "with tick():\n",
    "    assert identical([10,2,0,5,10,0,5,7],[5,10,0,5,7,10,2,0]) is True\n",
    "    assert identical([10,10,5,0],[10,0,0,10]) is False\n",
    "    assert identical([10,10,0,0],[10,0,0,10]) is True\n",
    "    assert identical([], []) is True\n",
    "    assert identical([], [1]) is False\n",
    "    assert identical([0,0,0], [0,0,0]) is True\n",
    "    assert identical([0,0,[1]], [[1],0,0]) is True"
   ]
  },
  {
   "cell_type": "markdown",
   "metadata": {
    "ExecuteTime": {
     "end_time": "2020-11-22T20:43:21.125948Z",
     "start_time": "2020-11-22T20:43:21.109217Z"
    }
   },
   "source": [
    "<br>\n",
    "\n",
    "## A.2: Strings\n",
    "\n",
    "(a) Write a function `random_password()` that generates a random password with the following properties:\n",
    "\n",
    "* Password should have random length between 7 and 10 characters. \n",
    "* Each characters of the password should be randomly selected from positions 33 to 126 in the ASCII table."
   ]
  },
  {
   "cell_type": "code",
   "execution_count": null,
   "metadata": {
    "ExecuteTime": {
     "end_time": "2021-01-11T13:54:13.747924Z",
     "start_time": "2021-01-11T13:54:13.731384Z"
    }
   },
   "outputs": [],
   "source": [
    "import random\n",
    "\n",
    "# random.randint(x, y) will generate a \n",
    "# random number number between x(inclusive) and y (inclusive)\n",
    "\n",
    "random.randint(1, 3)"
   ]
  },
  {
   "cell_type": "code",
   "execution_count": null,
   "metadata": {
    "ExecuteTime": {
     "end_time": "2021-01-11T13:54:13.747924Z",
     "start_time": "2021-01-11T13:54:13.731384Z"
    }
   },
   "outputs": [],
   "source": [
    "# solution comes here"
   ]
  },
  {
   "cell_type": "markdown",
   "metadata": {
    "ExecuteTime": {
     "end_time": "2020-11-22T20:43:21.125948Z",
     "start_time": "2020-11-22T20:43:21.109217Z"
    }
   },
   "source": [
    "(b) Write a function `good_password()` that determines whether or not a password generated by your `random_password()` function from (a) is good. We will define a password to be good if it is:\n",
    "\n",
    "* at least 8 characters long\n",
    "* contains at least one upper case letter, at least one lower case letter, and at least one digit.\n",
    "\n",
    "```Python3\n",
    "good_password(':rWOYd&')\n",
    ">>> False\n",
    "```\n",
    "```Python3\n",
    "good_password('1?cZbpT\"1')\n",
    ">>> True\n",
    "```\n"
   ]
  },
  {
   "cell_type": "code",
   "execution_count": null,
   "metadata": {
    "ExecuteTime": {
     "end_time": "2021-01-11T13:51:50.557012Z",
     "start_time": "2021-01-11T13:51:50.537231Z"
    }
   },
   "outputs": [],
   "source": [
    "# solution comes here"
   ]
  },
  {
   "cell_type": "code",
   "execution_count": null,
   "metadata": {
    "ExecuteTime": {
     "end_time": "2021-01-11T13:51:50.557012Z",
     "start_time": "2021-01-11T13:51:50.537231Z"
    }
   },
   "outputs": [],
   "source": [
    "with tick():\n",
    "    assert good_password('5TUXnmP') is False\n",
    "    assert good_password('d-g*,L0h') is True\n",
    "    assert good_password('12345678') is False\n",
    "    assert good_password('Ff:0u<i') is False\n",
    "    assert good_password('jQ9Pj-:O') is True\n",
    "    assert good_password('7fS~YdrV') is True\n",
    "    assert good_password('Mkm!*?&coD') is False\n",
    "    assert good_password('abcdefghi') is False"
   ]
  },
  {
   "cell_type": "markdown",
   "metadata": {},
   "source": [
    "<br>\n",
    "\n",
    "## A.3: Dictionaries\n",
    "\n",
    "\n",
    "(a) Using recursion, write a function `applyfuncondict(a, myfun)` that applies the function `myfunc` on the integer values of a dictionary. *Note that the dictionary can have nested dictionaries as values.*\n",
    "\n",
    "Below is the function that we would like to apply on the values of the dictionary:\n",
    "\n",
    "\n",
    "``` Python\n",
    "def myfunc(elem):\n",
    "    return elem**2\n",
    "```\n",
    "\n",
    "**Illustration:**\n",
    "``` Python\n",
    "D = {'apple': 6, 'banana': {'hello': 5, 'world': 4}}\n",
    "applyfuncondict(D, myfun)\n",
    ">>> {'apple': 36, 'banana': {'hello': 25, 'world': 16}}\n",
    "```"
   ]
  },
  {
   "cell_type": "code",
   "execution_count": null,
   "metadata": {
    "ExecuteTime": {
     "end_time": "2021-01-05T14:01:10.240384Z",
     "start_time": "2021-01-05T14:01:10.222634Z"
    }
   },
   "outputs": [],
   "source": [
    "# solution comes here"
   ]
  },
  {
   "cell_type": "code",
   "execution_count": null,
   "metadata": {
    "ExecuteTime": {
     "end_time": "2021-01-05T14:01:10.691618Z",
     "start_time": "2021-01-05T14:01:10.673535Z"
    }
   },
   "outputs": [],
   "source": [
    "with tick():\n",
    "    assert applyfuncondict({\"a\": 2, \"b\": 3, \"c\": 4}, myfunc) == {\"a\": 4, \"b\": 9, \"c\": 16}\n",
    "    assert applyfuncondict({'a': 6, 'b': {'h': 5, 'w': 4}}, myfunc) == {'a': 36, 'b': {'h': 25, 'w':\n",
    "16}}\n",
    "    assert applyfuncondict({}, myfunc) == {}"
   ]
  },
  {
   "cell_type": "markdown",
   "metadata": {
    "ExecuteTime": {
     "end_time": "2020-11-22T19:56:12.715579Z",
     "start_time": "2020-11-22T19:56:12.678484Z"
    }
   },
   "source": [
    "<br>\n",
    "\n",
    "## A.4: Sets\n",
    "\n",
    "Suppose you are given a positive integer $n$ such that:\n",
    "* $A:$ the set of natural numbers between $1$ and $n$ \n",
    "* $B:$ the set of even numbers between $1$ and $n$\n",
    "* $C:$ the set of odd numbers between $1$ and $n$\n",
    "* $D:$ the set of numbers between $1$ and $n$ that are divisible by $3$\n",
    "* $E:$ the set of numbers between $1$ and $n$ that are divisible by $5$\n",
    "* $F:$ the set of numbers between $1$ and $n$ that are divisible by $6$\n",
    "\n",
    "Let $n = 100$. Write code to solve the following operations on the above sets.\n",
    "* union of $B$ and $C$\n",
    "* multiples of $3$ and $5$.\n",
    "* multiples of $3$ and $5$ that are even\n",
    "* multiples of $3$ or $5$, but not both\n",
    "* multiples of $5$ that are odd\n",
    "* multiples of $6$ but not $5$"
   ]
  },
  {
   "cell_type": "code",
   "execution_count": null,
   "metadata": {
    "ExecuteTime": {
     "end_time": "2021-01-11T14:31:25.604654Z",
     "start_time": "2021-01-11T14:31:25.598491Z"
    }
   },
   "outputs": [],
   "source": [
    "# solution comes here"
   ]
  },
  {
   "cell_type": "markdown",
   "metadata": {},
   "source": [
    "---\n",
    "<br>\n",
    "\n",
    "## B"
   ]
  },
  {
   "cell_type": "markdown",
   "metadata": {
    "ExecuteTime": {
     "end_time": "2020-11-22T19:56:12.715579Z",
     "start_time": "2020-11-22T19:56:12.678484Z"
    }
   },
   "source": [
    "## B.1: Words from keyboard row\n",
    "Given a list of words, return the words that can be typed using letters of alphabet on only one row of the English keyboard. You may use one character in the keyboard more than once. You may assume the input string will only contain letters of alphabet.\n",
    "\n",
    "` words = ['Data', 'Type', 'Router', 'Network', 'Tweet', 'Pine', 'Dash', 'Top', 'Rower', 'Freedom', 'Sad']`\n",
    "\n",
    "* `row1 = qwertyuiop`\n",
    "* `row2 = asdfghjkl`\n",
    "* `row3 = zxcvbnm`\n",
    "\n",
    "**For example:**\n",
    "* Data does not satisfy the condition, since `t` is not in the same row as the remaining characters.\n",
    "* Type satisfies the condition, since each of its character are on the same row.\n"
   ]
  },
  {
   "cell_type": "code",
   "execution_count": null,
   "metadata": {
    "ExecuteTime": {
     "end_time": "2021-01-06T15:45:09.291758Z",
     "start_time": "2021-01-06T15:45:09.266076Z"
    }
   },
   "outputs": [],
   "source": [
    "# solution comes here\n",
    "# hint -- use sets"
   ]
  },
  {
   "cell_type": "markdown",
   "metadata": {},
   "source": [
    "<br>\n",
    "\n",
    "\n",
    "## B.2: Finding missing numbers\n",
    "Suppose you have two lists `A` and `B` that are permutations of one another such that `B` has some missing numbers. Write a function `missingNumbers(A, B)`, which should return the missing numbers in ascending order.\n",
    "\n",
    "\n",
    "As an example, suppose `A = [2,4,1,5,6,1,8,9,10,1,2]` and `B = [4,6,1,2,8,9,1]`, the missing numbers in ascending order: `1 2 5 10`.\n",
    "\n",
    "<div class=\"alert alert-info\"> <b>Note:</b> \n",
    "    <ol>\n",
    "        \n",
    "<li> If a number occurs multiple times in the lists, you must ensure that the frequency of that number in both lists is the same. If that is not the case, then it is also a missing number. </li>\n",
    "<li> You have to return all the missing numbers in ascending order separated by space. </li>\n",
    "<li> Print each missing number once, even if it is missing multiple times.</li>\n",
    "    </ol>\n",
    "</div>\n",
    "\n",
    "<br>"
   ]
  },
  {
   "cell_type": "code",
   "execution_count": null,
   "metadata": {
    "ExecuteTime": {
     "end_time": "2021-01-11T14:32:28.044809Z",
     "start_time": "2021-01-11T14:32:28.021324Z"
    }
   },
   "outputs": [],
   "source": [
    "# solution comes here"
   ]
  },
  {
   "cell_type": "code",
   "execution_count": null,
   "metadata": {
    "ExecuteTime": {
     "end_time": "2021-01-11T14:32:28.044809Z",
     "start_time": "2021-01-11T14:32:28.021324Z"
    }
   },
   "outputs": [],
   "source": [
    "with tick():\n",
    "    assert missingNumbers([], []) == \"\"\n",
    "    assert missingNumbers([7,2,5,4,6,3,5,3], [7,2,5,3,5,3]) == \"4 6\"\n",
    "    assert missingNumbers([3,4,2,7,8,9], [3,4,2,7,8,9]) == \"\"\n",
    "    assert missingNumbers([2,4,1,5,6,1,8,9,10,1,2],[4,6,1,2,8,9,1]) == \"1 2 5 10\"\n",
    "    assert missingNumbers([203,204,204,205,206,207,205,208,203,206,205,206,204], [203,204,205,206,207,208,203,204,205,206]) == \"204 205 206\""
   ]
  },
  {
   "cell_type": "markdown",
   "metadata": {
    "ExecuteTime": {
     "end_time": "2020-11-22T20:23:49.274048Z",
     "start_time": "2020-11-22T20:23:49.251035Z"
    }
   },
   "source": [
    "---\n",
    "<br>\n",
    "\n",
    "# C. Extended Problems [Optional]"
   ]
  },
  {
   "cell_type": "markdown",
   "metadata": {
    "ExecuteTime": {
     "end_time": "2020-11-22T20:23:49.274048Z",
     "start_time": "2020-11-22T20:23:49.251035Z"
    }
   },
   "source": [
    "## C.1: Pattern\n",
    "\n",
    "In this task, you are required to implement a function `detect_pattern` that returns `True` or `False` depending upon whether two strings have the same pattern of characters. More precisely, two strings have the same pattern if they are of the same length and if two characters in the first string are equal if and only if the characters in the corresponding positions in the second string are also equal.\n",
    "\n",
    "**Example 1**: Even though the two strings have the same length, we have `a` in the first and last position of `string1`, but two different characters are in the first and last position of `string2`.\n",
    "\n",
    "``` Python\n",
    "string1, string2 = \"aba\", \"xyz\"\n",
    "detect_pattern(string1, string2)\n",
    ">>> False\n",
    "```\n",
    "\n",
    "**Example 2**: The two strings have the same length; we have `a` in the first and last position of `string3`; also, `x` is in the first and last position of `string4`.\n",
    "\n",
    "``` Python\n",
    "string3, string4  = \"aba\", \"xyx\"\n",
    "\n",
    "detect_pattern(string3, string4)\n",
    ">>> True\n",
    "```\n",
    "\n",
    "**Important things to note:**\n",
    "1. You are allowed to create new strings, but you are not allowed to use any other data structure (no lists, sets or dictionaries).\n",
    "2. The function should return the same value no matter what order the two strings are passed.\n"
   ]
  },
  {
   "cell_type": "code",
   "execution_count": null,
   "metadata": {
    "ExecuteTime": {
     "end_time": "2021-01-11T14:03:10.415960Z",
     "start_time": "2021-01-11T14:03:10.403465Z"
    }
   },
   "outputs": [],
   "source": [
    "# solution comes here"
   ]
  },
  {
   "cell_type": "code",
   "execution_count": null,
   "metadata": {
    "ExecuteTime": {
     "end_time": "2021-01-11T14:03:11.019621Z",
     "start_time": "2021-01-11T14:03:10.999979Z"
    }
   },
   "outputs": [],
   "source": [
    "with tick():\n",
    "    assert detect_pattern(\"\", \"\") == True\n",
    "    assert detect_pattern(\"a\", \"a\") == True\n",
    "    assert detect_pattern(\"x\", \"y\") == True\n",
    "    assert detect_pattern(\"ab\", \"xy\") == True\n",
    "    assert detect_pattern(\"aba\", \"xyz\") == False\n",
    "    assert detect_pattern(\"---\", \"xyz\") == False\n",
    "    assert detect_pattern(\"---\", \"aaa\") == True\n",
    "    assert detect_pattern(\"xyzxyz\", \"toetoe\") == True\n",
    "    assert detect_pattern(\"xyzxyz\", \"toetoa\") == False\n",
    "    assert detect_pattern(\"aaabb-bcccd\", \"eeeff-fgggz\") == True\n",
    "    assert detect_pattern(\"cbacbacba\", \"xyzxyzxyz\") == True\n",
    "    assert detect_pattern(\"asasasasas\", \"xxxxxyyyyy\") == False  \n",
    "    "
   ]
  },
  {
   "cell_type": "markdown",
   "metadata": {
    "ExecuteTime": {
     "end_time": "2020-11-22T20:23:49.274048Z",
     "start_time": "2020-11-22T20:23:49.251035Z"
    }
   },
   "source": [
    "## C.2: Alphabet Rangoli\n",
    "Write a function `rangoli(n)` that prints an alphabet rangoli of size $n$. **Rangoli** is a form of Indian folk art based on creation of patterns. Different sizes of alphabet rangoli are shown below:\n",
    "<img src=\"imgs/rangoli.png\" width=\"30%\">"
   ]
  },
  {
   "cell_type": "code",
   "execution_count": null,
   "metadata": {
    "ExecuteTime": {
     "end_time": "2021-01-11T14:03:12.091959Z",
     "start_time": "2021-01-11T14:03:12.029675Z"
    }
   },
   "outputs": [],
   "source": [
    "# solution comes here"
   ]
  }
 ],
 "metadata": {
  "kernelspec": {
   "display_name": "Python 3",
   "language": "python",
   "name": "python3"
  },
  "language_info": {
   "codemirror_mode": {
    "name": "ipython",
    "version": 3
   },
   "file_extension": ".py",
   "mimetype": "text/x-python",
   "name": "python",
   "nbconvert_exporter": "python",
   "pygments_lexer": "ipython3",
   "version": "3.7.6"
  },
  "toc": {
   "base_numbering": 1,
   "nav_menu": {},
   "number_sections": false,
   "sideBar": true,
   "skip_h1_title": false,
   "title_cell": "Table of Contents",
   "title_sidebar": "Contents",
   "toc_cell": false,
   "toc_position": {},
   "toc_section_display": true,
   "toc_window_display": false
  }
 },
 "nbformat": 4,
 "nbformat_minor": 4
}
