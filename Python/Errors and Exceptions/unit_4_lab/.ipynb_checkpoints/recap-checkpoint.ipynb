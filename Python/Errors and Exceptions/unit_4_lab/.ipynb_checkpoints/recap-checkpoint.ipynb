{
 "cells": [
  {
   "cell_type": "markdown",
   "metadata": {},
   "source": [
    "# CS1P. Semester 2. Unit 1. \n",
    "## Lab problems\n",
    "---\n",
    "<br>\n",
    "\n",
    "#### Dr Sofiat Olaosebikan\n",
    "##### School of Computing Science\n",
    "##### University of Glasgow\n",
    "<br>\n",
    "\n",
    "#### Python 3.x\n",
    " ---"
   ]
  },
  {
   "cell_type": "markdown",
   "metadata": {},
   "source": [
    "### Purpose of this lab\n",
    "\n",
    "\n"
   ]
  },
  {
   "cell_type": "code",
   "execution_count": 5,
   "metadata": {
    "ExecuteTime": {
     "end_time": "2020-11-26T19:00:35.428355Z",
     "start_time": "2020-11-26T19:00:35.408126Z"
    }
   },
   "outputs": [],
   "source": [
    "from utils.tick import tick"
   ]
  },
  {
   "cell_type": "markdown",
   "metadata": {},
   "source": [
    "# A.\n",
    "\n",
    "Estimated completion time of each problem in this section is between 10 - 20 minutes\n"
   ]
  },
  {
   "cell_type": "markdown",
   "metadata": {},
   "source": [
    "## A.1: Lists\n",
    "\n",
    "### A.1 (a) \n",
    "Write a function `flatten(a)` that flattens a list..\n",
    "\n",
    "**Illustration:**    \n",
    "If `a = [[[1, 2, 3], [4, 5, 6], [7], [8, 9], 10]]`,   \n",
    "`flatten(a)` should output `[1, 2, 3, 4, 5, 6, 7, 8, 9, 10]`."
   ]
  },
  {
   "cell_type": "code",
   "execution_count": null,
   "metadata": {},
   "outputs": [],
   "source": [
    "a = [[[1, 2, 3], [4, 5, 6], [7], [8, 9], 10]]"
   ]
  },
  {
   "cell_type": "code",
   "execution_count": null,
   "metadata": {},
   "outputs": [],
   "source": [
    "# recursion with for loop\n",
    "\n",
    "def flatten(a):\n",
    "    new_list = []\n",
    "    for item in a:\n",
    "        if type(item) == type([]):\n",
    "            new_list.extend(flatten(item))\n",
    "        else:\n",
    "            new_list.append(item)\n",
    "    return new_list\n"
   ]
  },
  {
   "cell_type": "code",
   "execution_count": null,
   "metadata": {},
   "outputs": [],
   "source": [
    "# recursion without for loop -- hint: think slicing\n",
    "\n",
    "def flatten(a):\n",
    "    if a == []:\n",
    "        return a\n",
    "    if isinstance(a[0], list):\n",
    "        return flatten(a[0]) + flatten(a[1:])\n",
    "    return a[:1] + flatten(a[1:])"
   ]
  },
  {
   "cell_type": "code",
   "execution_count": null,
   "metadata": {},
   "outputs": [],
   "source": [
    "# recursive, one liner\n",
    "def flatten(l):\n",
    "    return flatten(l[0]) + (flatten(l[1:]) if len(l) > 1 else []) if type(l) is list else [l]"
   ]
  },
  {
   "cell_type": "code",
   "execution_count": null,
   "metadata": {},
   "outputs": [],
   "source": [
    "with tick():\n",
    "    assert flatten([]) == []\n",
    "    assert flatten([[1],2]) == [1,2]\n",
    "    assert flatten([[[1, 2, 3], [4, 5, 6], [7], [8, 9], 10]]) == [1, 2, 3, 4, 5, 6, 7, 8, 9, 10]"
   ]
  },
  {
   "cell_type": "markdown",
   "metadata": {},
   "source": [
    "### A.1(b)\n",
    "Write a function `identical(a, b)` that checks if two lists are circularly identical. A *circular list* is a list where we consider the first element as next of last element, forming a *circle*. For instance, lists `A = [2,0,5,10,0,5,7,10]` and `B = [10,2,0,5,10,0,5,7]` below are circularly identical, so `identical(A, B)` is `True`.\n",
    "\n",
    "<img src=\"imgs/circular.png\" width=\"50%\">\n",
    "\n",
    "However, if `A = [10, 10, 5, 10]` and `B = [10, 10, 10, 0]`, then `identical(A, B)` is `False`."
   ]
  },
  {
   "cell_type": "code",
   "execution_count": null,
   "metadata": {},
   "outputs": [],
   "source": [
    "# solution comes here\n",
    "\"\"\" \n",
    "Trick: \n",
    "i) convert all elements in first list to a string\n",
    "ii) double it\n",
    "iii) convert all elements in second list to a string\n",
    "iv) check if (iii) is in (ii) \n",
    "\"\"\"\n",
    "\n",
    "def identical(a, b):\n",
    "    return (' '.join(map(str, b)) in ' '.join(map(str, a * 2)))\n",
    "# print(identical([0,0,[1]], [[1],0,0]))\n",
    "# print(' '.join(map(str, [[1],0,0])))"
   ]
  },
  {
   "cell_type": "code",
   "execution_count": null,
   "metadata": {},
   "outputs": [],
   "source": [
    "with tick():\n",
    "    assert identical([10,2,0,5,10,0,5,7],[5,10,0,5,7,10,2,0]) is True\n",
    "    assert identical([10,10,5,0],[10,0,0,10]) is False\n",
    "    assert identical([10,10,0,0],[10,0,0,10]) is True\n",
    "    assert identical([], []) is True\n",
    "    assert identical([], [1]) is False\n",
    "    assert identical([0,0,0], [0,0,0]) is True\n",
    "    assert identical([0,0,[1]], [[1],0,0]) is True"
   ]
  },
  {
   "cell_type": "markdown",
   "metadata": {
    "ExecuteTime": {
     "end_time": "2020-11-22T20:43:21.125948Z",
     "start_time": "2020-11-22T20:43:21.109217Z"
    }
   },
   "source": [
    "## A.2: Strings\n",
    "\n",
    "The four adjacent digits in the 1000-digit number below that have the greatest product are $$9 × 9 × 8 × 9 = 5832.$$\n",
    "\n",
    "Write a function that returns the thirteen adjacent digits in the 1000-digit number that have the greatest product. What is the value of this product?"
   ]
  },
  {
   "cell_type": "code",
   "execution_count": null,
   "metadata": {
    "ExecuteTime": {
     "end_time": "2020-11-22T21:51:42.586433Z",
     "start_time": "2020-11-22T21:51:42.576024Z"
    }
   },
   "outputs": [],
   "source": [
    "# series is one long string of 1000-digit\n",
    "\n",
    "series = \"73167176531330624919225119674426574742355349194934\\\n",
    "96983520312774506326239578318016984801869478851843\\\n",
    "85861560789112949495459501737958331952853208805511\\\n",
    "12540698747158523863050715693290963295227443043557\\\n",
    "66896648950445244523161731856403098711121722383113\\\n",
    "62229893423380308135336276614282806444486645238749\\\n",
    "30358907296290491560440772390713810515859307960866\\\n",
    "70172427121883998797908792274921901699720888093776\\\n",
    "65727333001053367881220235421809751254540594752243\\\n",
    "52584907711670556013604839586446706324415722155397\\\n",
    "53697817977846174064955149290862569321978468622482\\\n",
    "83972241375657056057490261407972968652414535100474\\\n",
    "82166370484403199890008895243450658541227588666881\\\n",
    "16427171479924442928230863465674813919123162824586\\\n",
    "17866458359124566529476545682848912883142607690042\\\n",
    "24219022671055626321111109370544217506941658960408\\\n",
    "07198403850962455444362981230987879927244284909188\\\n",
    "84580156166097919133875499200524063689912560717606\\\n",
    "05886116467109405077541002256983155200055935729725\\\n",
    "71636269561882670428252483600823257530420752963450\""
   ]
  },
  {
   "cell_type": "code",
   "execution_count": null,
   "metadata": {
    "ExecuteTime": {
     "end_time": "2020-11-22T21:51:54.035927Z",
     "start_time": "2020-11-22T21:51:53.968352Z"
    }
   },
   "outputs": [],
   "source": [
    "from functools import reduce\n",
    "\n",
    "# a = '2357'\n",
    "# b = list(map(int,a)) # [2, 3, 5, 7]\n",
    "# c = reduce(lambda x,y: x*y, b) # 210 \n",
    "\n",
    "def product(series, n):\n",
    "    result = 1\n",
    "    digits = None\n",
    "    for i in range(len(series)-3):\n",
    "        n_adj = series[i:i+n] # a single string with n numbers\n",
    "        n_adj_list = list(map(int, n_adj)) # list with n integer elements\n",
    "        prod_n_adj = reduce(lambda x,y: x*y, n_adj_list) # product of all elements in list\n",
    "        if prod_n_adj > result:\n",
    "            result = prod_n_adj\n",
    "            digits = n_adj_list\n",
    "    return result, digits\n",
    "\n",
    "print(product(series, 4))\n",
    "print(product(series, 13))"
   ]
  },
  {
   "cell_type": "markdown",
   "metadata": {},
   "source": [
    "## A.3: Dictionaries\n",
    "\n",
    "\n",
    "(a) Using recursion, write a function `applyfuncondict(a, myfun)` that applies the function `myfunc` on the integer values of a dictionary. *Note that the dictionary can have nested dictionaries as values.*\n",
    "\n",
    "Below is the function that we would like to apply on the values of the dictionary:\n",
    "\n",
    "\n",
    "``` Python\n",
    "def myfunc(elem):\n",
    "    return elem**2\n",
    "```\n",
    "\n",
    "**Illustration:**\n",
    "``` Python\n",
    "applyfuncondict({'apple': 6, 'banana': {'hello': 5, 'world': 4}}, myfun)\n",
    "> {'apple': 36, 'banana': {'hello': 25, 'world': 16}}\n",
    "```"
   ]
  },
  {
   "cell_type": "code",
   "execution_count": 6,
   "metadata": {
    "ExecuteTime": {
     "end_time": "2020-11-26T19:00:44.091123Z",
     "start_time": "2020-11-26T19:00:44.058697Z"
    }
   },
   "outputs": [
    {
     "name": "stdout",
     "output_type": "stream",
     "text": [
      "{}\n"
     ]
    }
   ],
   "source": [
    "# solution comes here\n",
    "\n",
    "def myfunc(elem):\n",
    "    return elem**2\n",
    "\n",
    "def applyfuncondict(d, myfunc):\n",
    "    for k, v in d.items():\n",
    "        if isinstance(v, dict):\n",
    "            d[k] = applyfuncondict(v, myfunc)\n",
    "        else:\n",
    "            d[k] = myfunc(v)\n",
    "    return d\n",
    "\n",
    "# a_dict = {'apple': 6, 'banana': {'hello': 5, 'world': 4}}\n",
    "# print(applyfuncondict(b_dict, myfunc))"
   ]
  },
  {
   "cell_type": "code",
   "execution_count": 9,
   "metadata": {
    "ExecuteTime": {
     "end_time": "2020-11-26T19:01:12.318909Z",
     "start_time": "2020-11-26T19:01:12.298716Z"
    }
   },
   "outputs": [
    {
     "data": {
      "text/html": [
       " <h3> <font color=\"green\"> ✓ Correct </font> </h3>"
      ],
      "text/plain": [
       "<IPython.core.display.HTML object>"
      ]
     },
     "metadata": {},
     "output_type": "display_data"
    }
   ],
   "source": [
    "with tick():\n",
    "    assert applyfuncondict({'apple': 6, 'banana': {'hello': 5, 'world': 4}}, myfunc) == {'apple': 36, 'banana': {'hello': 25, 'world':\n",
    "16}}\n",
    "    assert applyfuncondict({}, myfunc) == {}"
   ]
  },
  {
   "cell_type": "markdown",
   "metadata": {
    "ExecuteTime": {
     "end_time": "2020-11-22T19:56:12.715579Z",
     "start_time": "2020-11-22T19:56:12.678484Z"
    }
   },
   "source": [
    "---\n",
    "<br>\n",
    "\n",
    "## A.4: Sets\n",
    "\n",
    "Suppose you are given a positive integer $n$ such that:\n",
    "* $A:$ the set of natural numbers between $1$ and $n$ \n",
    "* $B:$ the set of even numbers between $1$ and $n$\n",
    "* $C:$ the set of odd numbers between $1$ and $n$\n",
    "* $D:$ the set of numbers between $1$ and $n$ that are divisible by $3$\n",
    "* $E:$ the set of numbers between $1$ and $n$ that are divisible by $5$\n",
    "* $F:$ the set of numbers between $1$ and $n$ that are divisible by $6$\n",
    "\n",
    "Let $n = 100$. Write code to solve the following operations on the above sets.\n",
    "* union of $B$ and $C$\n",
    "* multiples of $3$ and $5$.\n",
    "* multiples of $3$ and $5$ that are even\n",
    "* multiples of $3$ or $5$, but not both\n",
    "* multiples of $5$ that are odd\n",
    "* multiples of $6$ but not $5$"
   ]
  },
  {
   "cell_type": "code",
   "execution_count": null,
   "metadata": {
    "ExecuteTime": {
     "end_time": "2020-11-22T23:14:58.259432Z",
     "start_time": "2020-11-22T23:14:58.220847Z"
    }
   },
   "outputs": [],
   "source": [
    "def A(n):\n",
    "    return set([i for i in range(1, n)])\n",
    "def B(n):\n",
    "    return set([i for i in range(1, n) if i%2 == 0])\n",
    "def C(n):\n",
    "    return set([i for i in range(1, n) if i%2 != 0])\n",
    "def D(n):\n",
    "    return set([i for i in range(1, n) if i%3 == 0])\n",
    "def E(n):\n",
    "    return set([i for i in range(1, n) if i%5 == 0])\n",
    "def F(n):\n",
    "    return set([i for i in range(1, n) if i%6 == 0])\n",
    "\n",
    "n = 101\n",
    "print(f\"union of B and C: {B(n).union(C(n))} \\n\")\n",
    "print(f\"multiples of 3 and 5: {E(n).intersection(D(n))} \\n\")\n",
    "print(f\"multiples of 3 and 5, and even: {B(n).intersection(E(n).intersection(D(n)))} \\n\")\n",
    "print(f\"multiples of 3 or 5, not both: {E(n).symmetric_difference(D(n))} \\n\")\n",
    "print(f\"multiples of 5 that are odd: {E(n).intersection(C(n))} \\n\")\n",
    "print(f\"multiples of 6 but not 5: {F(n).difference(E(n))}\")"
   ]
  },
  {
   "cell_type": "markdown",
   "metadata": {},
   "source": [
    "---\n",
    "<br>\n",
    "\n",
    "## B.1: Finding missing numbers\n",
    "Suppose you have two lists `A` and `B` that are permutations of one another such that `B` has some missing numbers. Write a function `missingNumbers(A, B)`, which should return the missing numbers in ascending order.\n",
    "\n",
    "\n",
    "As an example, suppose `A = [2,4,1,5,6,1,8,9,10,1,2]` and `B = [4,6,1,2,8,9,1]`, the missing numbers in ascending order: `1 2 5 10`.\n",
    "\n",
    "<div class=\"alert alert-info\"> <b>Note:</b> \n",
    "    <ol>\n",
    "        \n",
    "<li> If a number occurs multiple times in the lists, you must ensure that the frequency of that number in both lists is the same. If that is not the case, then it is also a missing number. </li>\n",
    "<li> You have to return all the missing numbers in ascending order separated by space. </li>\n",
    "<li> Print each missing number once, even if it is missing multiple times.</li>\n",
    "    </ol>\n",
    "</div>\n",
    "\n",
    "<br>"
   ]
  },
  {
   "cell_type": "code",
   "execution_count": null,
   "metadata": {
    "ExecuteTime": {
     "end_time": "2020-11-22T19:56:12.715579Z",
     "start_time": "2020-11-22T19:56:12.678484Z"
    }
   },
   "outputs": [],
   "source": [
    "from collections import defaultdict\n",
    "\n",
    "def missingNumbers(A, B):\n",
    "    # A is complete list\n",
    "    # B is list with missing numbers\n",
    "    number_dict = defaultdict(int)\n",
    "    \n",
    "    # make account of each elt in original list with their frequency\n",
    "    for num in A: # number: frequency\n",
    "        number_dict[num] += 1\n",
    "        \n",
    "    # for each number in shortened list, deduct its freq by 1 \n",
    "    for num in B:\n",
    "        number_dict[num] -= 1\n",
    "    \n",
    "    # all of the numbers whose freq > 0 are definitely missing in arr\n",
    "    missing_numbers = [k for k in number_dict if number_dict[k] > 0]\n",
    "    missing_numbers.sort()\n",
    "    \n",
    "    return ' '.join(list(map(str, missing_numbers)))\n",
    "\n",
    "A = [2,4,1,5,6,1,8,9,10,1,2]\n",
    "B = [4,6,1,2,8,9,1]\n",
    "print(missingNumbers(A, B))"
   ]
  },
  {
   "cell_type": "code",
   "execution_count": null,
   "metadata": {
    "ExecuteTime": {
     "end_time": "2020-11-22T19:56:13.962839Z",
     "start_time": "2020-11-22T19:56:13.908634Z"
    }
   },
   "outputs": [],
   "source": [
    "with tick():\n",
    "    assert missingNumbers([2,4,1,5,6,1,8,9,10,1,2],[4,6,1,2,8,9,1]) == \"1 2 5 10\""
   ]
  },
  {
   "cell_type": "markdown",
   "metadata": {
    "ExecuteTime": {
     "end_time": "2020-11-22T19:56:12.715579Z",
     "start_time": "2020-11-22T19:56:12.678484Z"
    }
   },
   "source": [
    "---\n",
    "<br>\n",
    "\n",
    "## B.2: Words from keyboard row\n",
    "Given a list of words, return the words that can be typed using letters of alphabet on only one row of the English keyboard. You may use one character in the keyboard more than once. You may assume the input string will only contain letters of alphabet.\n",
    "\n",
    "` words = ['Data', 'Type', 'Router', 'Network', 'Tweet', 'Pine', 'Dash', 'Top', 'Rower', 'Freedom', 'Sad']`\n",
    "\n",
    "* `row1 = qwertyuiop`\n",
    "* `row2 = asdfghjkl`\n",
    "* `row3 = zxcvbnm`\n",
    "\n",
    "**For example:**\n",
    "* Data does not satisfy the condition, since `t` is not in the same row as the remaining characters.\n",
    "* Type satisfies the condition, since each of its character are on the same row.\n",
    "\n",
    "**Hint: use sets** "
   ]
  },
  {
   "cell_type": "code",
   "execution_count": null,
   "metadata": {
    "ExecuteTime": {
     "end_time": "2020-11-22T23:32:53.497346Z",
     "start_time": "2020-11-22T23:32:53.463838Z"
    }
   },
   "outputs": [],
   "source": [
    "words = ['Data', 'Type', 'Router', 'Network', 'Tweet', 'Pine', 'Dash', 'Top', 'Rower', 'Freedom', 'Sad']\n",
    "def possible_words(words):\n",
    "    row1 = \"qwertyuiop\"\n",
    "    row2 = \"asdfghjkl\"\n",
    "    row3 = \"zxcvbnm\"\n",
    "    result = []\n",
    "    for word in words:\n",
    "        set_word = set([i.lower() for i in word])\n",
    "        # if any one of\n",
    "        row1_bool = set_word.difference(\"qwertyuiop\") == set()\n",
    "        row2_bool = set_word.difference(\"asdfghjkl\") == set()\n",
    "        row3_bool = set_word.difference(\"zxcvbnm\") == set()\n",
    "        # for the word to satisfy out condition\n",
    "        # only one of the above should be True\n",
    "        if row1_bool or row2_bool or row3_bool:\n",
    "            result.append(word)\n",
    "    return result\n",
    "print(possible_words(words))"
   ]
  },
  {
   "cell_type": "code",
   "execution_count": null,
   "metadata": {
    "ExecuteTime": {
     "end_time": "2020-11-22T23:25:23.619740Z",
     "start_time": "2020-11-22T23:25:23.604879Z"
    }
   },
   "outputs": [],
   "source": [
    "a = set([\"t\", \"y\", \"p\", \"e\"])\n",
    "a.difference(\"qwertyuiop\") == set()"
   ]
  },
  {
   "cell_type": "markdown",
   "metadata": {
    "ExecuteTime": {
     "end_time": "2020-11-22T20:23:49.274048Z",
     "start_time": "2020-11-22T20:23:49.251035Z"
    }
   },
   "source": [
    "---\n",
    "<br>\n",
    "\n",
    "# C. Extended Problems [Optional]"
   ]
  },
  {
   "cell_type": "markdown",
   "metadata": {},
   "source": [
    "\n",
    "<br>\n",
    "\n",
    "## C.1(a): Word guessing game\n",
    "In this task, you will write a program for the word guessing game, also known as *Hangman*. Your program should achieve *at least* the following:\n",
    "* randomy select a category from `guesses`\n",
    "* using the category generated from above, randomly select a word\n",
    "* replace each character in the word with dash `-`\n",
    "* prompt the user to guess a single character \n",
    "* if the guess is correct, update the character in its correct position(s)\n",
    "* if the guess is wrong, print a suitable message\n",
    "* keep prompting the user for a guess until they have guessed the correct word\n",
    "\n",
    "See an intuitive image below.\n",
    "<img src=\"imgs/orange.png\" width=\"50%\">\n",
    "\n",
    "Things to think about:\n",
    "* How do you handle case-sensitive words/guesses?\n",
    "* What if the user enters more than one character?"
   ]
  },
  {
   "cell_type": "code",
   "execution_count": null,
   "metadata": {},
   "outputs": [],
   "source": [
    "import random\n",
    "\n",
    "# select a random element from a list\n",
    "a = [\"here\", \"are\", \"some\", \"words\"]\n",
    "print(random.choice(a))"
   ]
  },
  {
   "cell_type": "code",
   "execution_count": null,
   "metadata": {},
   "outputs": [],
   "source": [
    "# solution comes here\n",
    "\n",
    "guesses = {\"cities\": ['Glasgow', 'Aberdeen', 'Edinburgh', 'Durham', 'London'], \n",
    "               \"fruits\": [\"Orange\", \"Mango\", \"Pineapple\", \"Peach\", \"Watermelon\"], \n",
    "               \"animals\": [\"Antelope\", \"Elephant\", \"Deer\", \"Donkey\", \"Camel\"], \n",
    "               \"subjects\": [\"Mathematics\", \"Physics\", \"Geography\", \"Chemistry\", \"Biology\"]}\n"
   ]
  },
  {
   "cell_type": "code",
   "execution_count": null,
   "metadata": {},
   "outputs": [],
   "source": [
    "import random\n",
    "from collections import defaultdict\n",
    "\n",
    "def getRandomWord():\n",
    "    guesses = {\"cities\": ['Glasgow', 'Aberdeen', 'Edinburgh', 'Durham', 'London'], \n",
    "               \"fruits\": [\"Orange\", \"Mango\", \"Pineapple\", \"Peach\", \"Watermelon\"], \n",
    "               \"animals\": [\"Antelope\", \"Elephant\", \"Deer\", \"Donkey\", \"Camel\"], \n",
    "               \"subjects\": [\"Mathematics\", \"Physics\", \"Geography\", \"Chemistry\", \"Biology\"], \n",
    "               \"colours\": [\"Purple\", \"Yellow\", \"Violet\", \"Indigo\", \"White\", \"Turquoise\"] }\n",
    "    category = random.choice(list(guesses.keys())) # pick a category at random\n",
    "    word = random.choice(guesses[category]).lower() # pick a word in that category at random\n",
    "    return category, word\n",
    "\n",
    "def hangman():\n",
    "    category, word = getRandomWord()    \n",
    "    word_len = len(word)\n",
    "    guess_list = [\"-\" for _ in range(word_len)] # all characters in word initially set to dash\n",
    "    \n",
    "    # store each character as key, with a list of their position(s) in word as values\n",
    "    guess_dict = defaultdict(list) \n",
    "    for i in range(word_len):\n",
    "        guess_dict[word[i]].append(i)\n",
    "        \n",
    "    # begin game\n",
    "    name = input(\"What is your name?\")\n",
    "    print(f\"\\nWelcome to my word guessing game, {name}!\")\n",
    "    print(f\"The word you have to guess belong to the category: {category} \\n\")\n",
    "    \n",
    "    # keep prompting the user until they have guessed the correct word\n",
    "    while \"-\" in guess_list:\n",
    "        print(' '.join(guess_list))\n",
    "        print()\n",
    "        user_guess = input(\"Guess a character:\").lower()\n",
    "        \n",
    "        # if user enters more than one character\n",
    "        if len(user_guess) > 1: \n",
    "            print(\"one character at a time, try again\")\n",
    "        \n",
    "        # process the character if guess is correct\n",
    "        elif user_guess in guess_dict: \n",
    "            for pos in guess_dict[user_guess]:\n",
    "                guess_list[pos] = user_guess\n",
    "        \n",
    "        # guess is wrong\n",
    "        else: \n",
    "            print(\"wrong character, try again\")\n",
    "    \n",
    "    # game is over\n",
    "    print('You won! The word is: ', ' '.join(guess_list))\n",
    "    \n",
    "    \n",
    "hangman()"
   ]
  },
  {
   "cell_type": "markdown",
   "metadata": {},
   "source": [
    "## C.1(b)\n",
    "In the above program, the user always win. To make this more exciting, you need to refactor your code so that the user can only keep guessing up to $n$ times. You can decide the value of $n$ in advance, say $n=3$."
   ]
  },
  {
   "cell_type": "code",
   "execution_count": null,
   "metadata": {},
   "outputs": [],
   "source": [
    "# solution comes here"
   ]
  },
  {
   "cell_type": "code",
   "execution_count": null,
   "metadata": {},
   "outputs": [],
   "source": [
    "import random\n",
    "from collections import defaultdict\n",
    "\n",
    "def getRandomWord():\n",
    "    guesses = {\"cities\": ['Glasgow', 'Aberdeen', 'Edinburgh', 'Durham', 'London'], \n",
    "               \"fruits\": [\"Orange\", \"Mango\", \"Pineapple\", \"Peach\", \"Watermelon\"], \n",
    "               \"animals\": [\"Antelope\", \"Elephant\", \"Deer\", \"Donkey\", \"Camel\"], \n",
    "               \"subjects\": [\"Mathematics\", \"Physics\", \"Geography\", \"Chemistry\", \"Biology\"], \n",
    "               \"colours\": [\"Purple\", \"Yellow\", \"Violet\", \"Indigo\", \"White\", \"Turquoise\"] }\n",
    "    category = random.choice(list(guesses.keys())) # pick a category at random\n",
    "    word = random.choice(guesses[category]).lower() # pick a word in that category at random\n",
    "    return category, word\n",
    "\n",
    "def hangman():\n",
    "    category, word = getRandomWord()    \n",
    "    word_len = len(word)\n",
    "    guess_list = [\"-\" for _ in range(word_len)] # all characters in word initially set to dash\n",
    "    \n",
    "    # store each character as key, with a list of their position(s) in word as values\n",
    "    guess_dict = defaultdict(list) \n",
    "    for i in range(word_len):\n",
    "        guess_dict[word[i]].append(i)\n",
    "        \n",
    "    # begin game\n",
    "    name = input(\"What is your name?\")\n",
    "    print(f\"\\nWelcome to my word guessing game, {name}!\")\n",
    "    print(f\"The word you have to guess belong to the category: {category} \\n\")\n",
    "    tries = 3 # int(input(\"How many tries?\"))\n",
    "    \n",
    "    \n",
    "    # keep prompting the user until they run out of tries or guess the word correctly\n",
    "    while tries > 0 and \"-\" in guess_list:\n",
    "        print(f\"You have {str(tries)} more tries... \\n\")\n",
    "        print(' '.join(guess_list))\n",
    "        print()\n",
    "        user_guess = input(\"Guess a character:\").lower()\n",
    "        \n",
    "        # if user enters more than one character\n",
    "        if len(user_guess) > 1: \n",
    "            print(\"one character at a time, try again\")\n",
    "        \n",
    "        # process the character if guess is correct\n",
    "        elif user_guess in guess_dict: \n",
    "            for pos in guess_dict[user_guess]:\n",
    "                guess_list[pos] = user_guess\n",
    "        \n",
    "        # guess is wrong\n",
    "        else: \n",
    "            tries -= 1 \n",
    "            print(\"wrong character, try again\")\n",
    "        \n",
    "        \n",
    "    # game is over\n",
    "    if \"-\" in guess_list:\n",
    "        print(\"Sorry, you are out of tries!\")\n",
    "    else:\n",
    "        print('You won! The word is: ', ' '.join(guess_list))\n",
    "    \n",
    "    \n",
    "hangman()"
   ]
  },
  {
   "cell_type": "markdown",
   "metadata": {},
   "source": [
    "## C.1(c)\n",
    "\n",
    "Every time the user guesses the word correctly, the program terminates. What if the user wants to keep playing the guessing game until they are ready to quit? "
   ]
  },
  {
   "cell_type": "code",
   "execution_count": null,
   "metadata": {},
   "outputs": [],
   "source": [
    "import random\n",
    "from collections import defaultdict\n",
    "\n",
    "def getRandomWord():\n",
    "    guesses = {\"cities\": ['Glasgow', 'Aberdeen', 'Edinburgh', 'Durham', 'London'], \n",
    "               \"fruits\": [\"Orange\", \"Mango\", \"Pineapple\", \"Peach\", \"Watermelon\"], \n",
    "               \"animals\": [\"Antelope\", \"Elephant\", \"Deer\", \"Donkey\", \"Camel\"], \n",
    "               \"subjects\": [\"Mathematics\", \"Physics\", \"Geography\", \"Chemistry\", \"Biology\"], \n",
    "               \"colours\": [\"Purple\", \"Yellow\", \"Violet\", \"Indigo\", \"White\", \"Turquoise\"] }\n",
    "    category = random.choice(list(guesses.keys())) # pick a category at random\n",
    "    word = random.choice(guesses[category]).lower() # pick a word in that category at random\n",
    "    return category, word\n",
    "\n",
    "def playAgain():\n",
    "    p = input(\"Do you wish to play again? [y/n]: \")\n",
    "    return p == \"y\"\n",
    "\n",
    "def hangman():\n",
    "    name = input(\"What is your name?\")\n",
    "    print(f\"\\nWelcome to my word guessing game, {name}!\")\n",
    "    \n",
    "    # begin game\n",
    "    play = True\n",
    "    while play:\n",
    "        category, word = getRandomWord()    \n",
    "        word_len = len(word)\n",
    "        print(\"\\n**************************************************************\")\n",
    "        print(f\"The word you have to guess belong to the category: {category} \\n\")\n",
    "        guess_list = [\"-\" for _ in range(word_len)] # all characters in word initially set to dash\n",
    "        tries = 3 # int(input(\"How many tries?\"))\n",
    "        \n",
    "        # store each character as key, with a list of their position(s) in word as values\n",
    "        guess_dict = defaultdict(list) \n",
    "        for i in range(word_len):\n",
    "            guess_dict[word[i]].append(i)\n",
    "\n",
    "        # keep prompting the user until they run out of tries or guess the word correctly\n",
    "        while tries > 0 and \"-\" in guess_list:\n",
    "            print(f\"You have {str(tries)} more tries... \\n\")\n",
    "            print(' '.join(guess_list))\n",
    "            print()\n",
    "            user_guess = input(\"Guess a character:\").lower()\n",
    "\n",
    "            # if user enters more than one character\n",
    "            if len(user_guess) > 1: \n",
    "                print(\"one character at a time, try again\")\n",
    "\n",
    "            # process the character if guess is correct\n",
    "            elif user_guess in guess_dict: \n",
    "                for pos in guess_dict[user_guess]:\n",
    "                    guess_list[pos] = user_guess\n",
    "\n",
    "            # guess is wrong\n",
    "            else: \n",
    "                tries -= 1 \n",
    "                print(\"wrong character, try again\")\n",
    "\n",
    "        # game is over\n",
    "        if \"-\" in guess_list:\n",
    "            print(\"Sorry, you are out of tries!\")\n",
    "        else:\n",
    "            print('You won! The word is: ', ' '.join(guess_list))\n",
    "        \n",
    "        play = playAgain()\n",
    "    \n",
    "    \n",
    "hangman()"
   ]
  },
  {
   "cell_type": "code",
   "execution_count": null,
   "metadata": {},
   "outputs": [],
   "source": []
  },
  {
   "cell_type": "markdown",
   "metadata": {
    "ExecuteTime": {
     "end_time": "2020-11-22T20:23:49.274048Z",
     "start_time": "2020-11-22T20:23:49.251035Z"
    }
   },
   "source": [
    "## C.2: Alphabet Rangoli\n",
    "Write a function `rangoli(n)` that prints an alphabet rangoli of size $n$. **Rangoli** is a form of Indian folk art based on creation of patterns. Different sizes of alphabet rangoli are shown below:\n",
    "<img src=\"imgs/rangoli.png\" width=\"30%\">"
   ]
  },
  {
   "cell_type": "code",
   "execution_count": null,
   "metadata": {
    "ExecuteTime": {
     "end_time": "2020-11-22T21:36:06.457792Z",
     "start_time": "2020-11-22T21:36:06.396199Z"
    }
   },
   "outputs": [],
   "source": [
    "from collections import defaultdict\n",
    "import string\n",
    "\n",
    "def alphas_dashed(alphas):\n",
    "    # transform abcde to e-d-c-b-a-b-c-d\n",
    "    # transform cde to e-d-c-d-e \n",
    "    concatenated = list(alphas[::-1][:-1]+alphas)\n",
    "    return '-'.join(concatenated)\n",
    "\n",
    "def rangoli(n):\n",
    "    all_alphas = string.ascii_lowercase\n",
    "    alphas = all_alphas[:n]\n",
    "    result = [alphas_dashed(alphas)] # this stores the middle pattern\n",
    "    for i in range(1,n):\n",
    "        alphas = all_alphas[i:n] # removes the first alphabet on each iteration\n",
    "        concatenated = alphas_dashed(alphas)\n",
    "        # apart from the middle pattern\n",
    "        # the remaining pattern have dashes to their left and right\n",
    "        # in the range 2, 4, 6, 8, ..\n",
    "        extend = \"-\"*(2*i) + concatenated + \"-\"*(2*i)\n",
    "        result.insert(0, extend) # insert to the head of the list\n",
    "        result.append(extend)    # insert to the tail of the list\n",
    "    return result\n",
    "\n",
    "for n in range(3, 6):\n",
    "    pattern = rangoli(n) \n",
    "    print(f\"rangoli({n})\")\n",
    "    for p in pattern:\n",
    "        print(p)\n",
    "    print()"
   ]
  },
  {
   "cell_type": "code",
   "execution_count": null,
   "metadata": {},
   "outputs": [],
   "source": []
  },
  {
   "cell_type": "code",
   "execution_count": null,
   "metadata": {},
   "outputs": [],
   "source": []
  },
  {
   "cell_type": "code",
   "execution_count": null,
   "metadata": {},
   "outputs": [],
   "source": []
  },
  {
   "cell_type": "code",
   "execution_count": null,
   "metadata": {},
   "outputs": [],
   "source": []
  },
  {
   "cell_type": "code",
   "execution_count": null,
   "metadata": {},
   "outputs": [],
   "source": []
  },
  {
   "cell_type": "code",
   "execution_count": null,
   "metadata": {},
   "outputs": [],
   "source": []
  },
  {
   "cell_type": "markdown",
   "metadata": {},
   "source": [
    "### A.2: Tuple manipulations\n",
    "(a) Write a function `sortbykey(a)` that sorts a list of tuples in decreasing order of the second element in the tuple. "
   ]
  },
  {
   "cell_type": "code",
   "execution_count": null,
   "metadata": {},
   "outputs": [],
   "source": [
    "# Solution comes here\n",
    "# Hint: using sorted(), you can pass lambda functions for key\n",
    "\n",
    "def sortbykey(a):\n",
    "    return sorted(a, key=lambda x: float(x[1]), reverse=True)\n",
    "print(sortbykey([('item1', '12.20'), ('item2', '15.10'), ('item3', '24.5')]))"
   ]
  },
  {
   "cell_type": "code",
   "execution_count": null,
   "metadata": {},
   "outputs": [],
   "source": [
    "# sort by element using key function\n",
    "def getKey(item):\n",
    "    return item[1]\n",
    "\n",
    "def sortbykey(a):\n",
    "    return sorted(a, key=getKey)\n",
    "\n",
    "print(sortbykey([('item1', '12.20'), ('item2', '15.10'), ('item3', '24.5')]))"
   ]
  },
  {
   "cell_type": "markdown",
   "metadata": {},
   "source": [
    "(c) Write a function `addbyelement(a, b)` that adds two tuples by elements.\n",
    "For example, `addbyelement((1,2,3), (1,2,3))` should output `(2,4,6)`."
   ]
  },
  {
   "cell_type": "code",
   "execution_count": null,
   "metadata": {},
   "outputs": [],
   "source": [
    "# solution comes here\n",
    "# this can be done without these high-order\n",
    "\n",
    "def addbyelement(a, b):\n",
    "    return tuple(map(sum, zip(a, b)))\n",
    "\n",
    "print(addbyelement((1,2,3),(1,2,3)))"
   ]
  },
  {
   "cell_type": "markdown",
   "metadata": {},
   "source": [
    "(b) Without using `comp()` or `==`, write a function `comparedicts(a, b)` that compares two dictionaries by both their keys and values and returns boolean.\n",
    "\n",
    "**Illustration:** `comparedict({'a': 1, 'b': 2}, {'a': 1, 'b': 2})` is `True`, and `comparedict({'a': 1, 'b': 3}, {'a': 1, 'b': 2})` is `False`."
   ]
  },
  {
   "cell_type": "code",
   "execution_count": null,
   "metadata": {},
   "outputs": [],
   "source": [
    "def comparedicts(a, b):\n",
    "    sharedItems = len(set(a.items()) & set(b.items()))\n",
    "    if sharedItems == len(a) and sharedItems == len(b):\n",
    "        return True\n",
    "    return False\n",
    "\n",
    "print(comparedicts({'a': 1, 'b': 2}, {'a': 1, 'b': 2}))\n",
    "print(comparedicts({'a': 3, 'b': 2}, {'a': 1, 'b': 2}))"
   ]
  },
  {
   "cell_type": "markdown",
   "metadata": {},
   "source": [
    "(c) Write a function `differences(a, b)` that displays the differences between two dictionaries by returning the keys and values as a set of tuples."
   ]
  },
  {
   "cell_type": "code",
   "execution_count": null,
   "metadata": {},
   "outputs": [],
   "source": [
    "def differences(dict1, dict2):\n",
    "    return set(dict1.items()) ^ set(dict2.items())\n",
    "print(differences({'a': 1, 'b': 2}, {'a': 1, 'b': 2}))\n",
    "print(differences({'a': 3, 'b': 2}, {'a': 1, 'b': 2}))"
   ]
  },
  {
   "cell_type": "markdown",
   "metadata": {},
   "source": [
    "(c) Write a function `chunks(a, n)` that splits the given list `a` into small lists, each consisting `n` elements. You can assume that `n` $\\geq$ 1. \n",
    "\n",
    "For instance, if `a = [1,2,3,5,1,3,4,12,3,5,3,2,3,4,5]` and `n = 6` then \n",
    "\n",
    "`chunks(a, n)` is `[1, 2, 3, 5, 1, 3], [4, 12, 3, 5, 3, 2], [3, 4, 5]`"
   ]
  },
  {
   "cell_type": "code",
   "execution_count": null,
   "metadata": {},
   "outputs": [],
   "source": [
    "# solution comes here\n",
    "# hint, use yield and slicing\n",
    "\n",
    "def chunks(a, n):\n",
    "    for i in range(0, len(a), n):\n",
    "        yield a[i:i + n]\n",
    "\n",
    "for i in chunks([1,2,3,5,1,3,4,12,3,5,3,2,3,4,5], 6):\n",
    "    print(i)\n",
    "\n",
    "print()\n",
    "print(chunks([1,2,3,5,1,3,4,12,3,5,3,2,3,4,5], 6))"
   ]
  },
  {
   "cell_type": "markdown",
   "metadata": {},
   "source": [
    "## B.1: Organising a concert\n",
    "\n",
    "Suppose you are putting together a concert and need to figure out how much to charge for a ticket. Your total expenses are £8000 (band and venue). The venue can seat at most 2000 people and you have determined through market research that the number of tickets you are likely to sell is related to the ticket’s selling price by the following\n",
    "relationship:\n",
    "\n",
    "    sales = 2500 – 80 * price\n",
    "\n",
    "According to this relationship, if you give away tickets for free, you will overfill the venue. On the other hand, if you charge too much, you won't be able to sell tickets at all. Your total income from the ticket sales will be `sales * price` and your profit will be this amount minus your expenses which are £8000.\n",
    "\n",
    "Write a program to determine the most profitable ticket price. You can achieve this by creating a function `profitTable(maxPrice)` that prints a table for each possible ticket price from £0 up to maxPrice.\n",
    "\n",
    "When calling `profitTable(30)`, we should get a result like below:\n",
    "\n",
    "| Price | Income | Profit\n",
    "| ---   | ---    | ---  |\n",
    "| £ 1   | 2000   |-6000 |\n",
    "| £ 2   | 4000   |-4000 |\n",
    "| £ 3   | 6000   |-2000 |\n",
    "| £ 4   | 8000   | 0    |\n",
    "| £ 5   | 10000  | 2000 |\n",
    "| .     |   .    | .    |\n",
    "| .     | .      | .    |\n",
    "| £ 29  | 10000  |-2780 |\n",
    "| £ 30  | 3000   |-5000 |\n",
    "\n",
    "\n",
    "**Note: Your table should be nicely formatted, but does not have to be exactly like above.**\n"
   ]
  },
  {
   "cell_type": "code",
   "execution_count": null,
   "metadata": {},
   "outputs": [],
   "source": [
    "# solution comes here\n",
    "\n",
    "def profitTable(maxPrice):\n",
    "    print ('Price\\tIncome\\tProfit')\n",
    "    print ('-----\\t------\\t------')\n",
    "    \n",
    "    for price in range(1, maxPrice+1):\n",
    "        sales = 2500 - 80 * price\n",
    "\n",
    "        # since room can only seat 2000 people\n",
    "        if sales > 2000: \n",
    "            sales = 2000\n",
    "            \n",
    "        income = sales * price\n",
    "        profit = income - 8000        \n",
    "        print(f\"£ {price} \\t {income} \\t {profit}\")\n",
    "        \n",
    "profitTable(30)"
   ]
  },
  {
   "cell_type": "markdown",
   "metadata": {},
   "source": [
    "Just by looking at the table obtained from above, it is hard to see the relationship and trends between the different parameters. Therefore, let’s use matplotlib to plot the results. \n",
    "\n",
    "For this, you will have to create a function called `profitList(maxPrice)` that returns two lists – one with prices and the other with profits. Once you have this function, use matplotlib to plot a simple line plot of prices against profit. You should get a bell-shaped curve, with `maxPrice = 30`. To maximize profit, what is the best ticket price?"
   ]
  },
  {
   "cell_type": "code",
   "execution_count": null,
   "metadata": {},
   "outputs": [],
   "source": [
    "# solution comes here\n",
    "import matplotlib.pyplot as plt\n",
    "plt.style.use('ggplot')\n",
    "\n",
    "def profitList(maxPrice):\n",
    "    prices = []\n",
    "    profits = []\n",
    "    for price in range(1, maxPrice+1):\n",
    "        sales = 2500 - 80 * price\n",
    "        \n",
    "        # since room can only seat 2000 people\n",
    "        if sales > 2000:\n",
    "            sales = 2000\n",
    "            \n",
    "        income = sales * price\n",
    "        profit = income - 8000\n",
    "        \n",
    "        prices.append(price)\n",
    "        profits.append(profit)\n",
    "        #print (\"*\"*20)\n",
    "    return prices, profits\n",
    "\n",
    "\n",
    "prices, profits = profitList(30)\n",
    "plt.plot(prices, profits)\n",
    "plt.ylabel('profit')\n",
    "plt.xlabel('price')\n",
    "plt.show()"
   ]
  }
 ],
 "metadata": {
  "kernelspec": {
   "display_name": "Python 3",
   "language": "python",
   "name": "python3"
  },
  "language_info": {
   "codemirror_mode": {
    "name": "ipython",
    "version": 3
   },
   "file_extension": ".py",
   "mimetype": "text/x-python",
   "name": "python",
   "nbconvert_exporter": "python",
   "pygments_lexer": "ipython3",
   "version": "3.7.6"
  },
  "toc": {
   "base_numbering": 1,
   "nav_menu": {},
   "number_sections": true,
   "sideBar": true,
   "skip_h1_title": false,
   "title_cell": "Table of Contents",
   "title_sidebar": "Contents",
   "toc_cell": false,
   "toc_position": {},
   "toc_section_display": true,
   "toc_window_display": false
  }
 },
 "nbformat": 4,
 "nbformat_minor": 4
}
