{
 "cells": [
  {
   "cell_type": "markdown",
   "metadata": {},
   "source": [
    "# Lab 1\n",
    "<br>\n",
    "\n",
    "# Lists, strings, dictionaries, sets and recursion.\n",
    "---\n",
    "<br>\n",
    "\n",
    "##### **Dr Sofiat Olaosebikan**\n",
    "##### School of Computing Science\n",
    "##### University of Glasgow\n",
    "<br>\n",
    "\n",
    "##### CS1P. Semester 2. Python 3.x\n",
    " ---"
   ]
  },
  {
   "cell_type": "markdown",
   "metadata": {},
   "source": [
    "## Purpose of this lab\n",
    "\n",
    "In part A of this lab, you will write code to solve different problems under:\n",
    "* lists,\n",
    "* strings,\n",
    "* dictionaries, and\n",
    "* sets. \n",
    "\n",
    "For some of the problems, you will be using recursion.\n",
    "\n",
    "The problems in part B will require you to do a little bit more problem solving. Also, you will need to decide what data type is ideal for these problems."
   ]
  },
  {
   "cell_type": "code",
   "execution_count": 5,
   "metadata": {
    "ExecuteTime": {
     "end_time": "2021-01-11T14:28:20.032131Z",
     "start_time": "2021-01-11T14:28:20.017175Z"
    }
   },
   "outputs": [],
   "source": [
    "# make sure to run this cell\n",
    "from utils.tick import tick\n",
    "\n",
    "#######  PLEASE READ   ####### \n",
    "# You need Python version >= 3.6 \n",
    "# for the print statements \n",
    "# which uses f-string to work"
   ]
  },
  {
   "cell_type": "markdown",
   "metadata": {},
   "source": [
    "# A."
   ]
  },
  {
   "cell_type": "markdown",
   "metadata": {},
   "source": [
    "## A.1: Lists\n",
    " \n",
    "(a) Write a function `flatten(a)` that flattens any given list.\n",
    "\n",
    "**Illustration:**\n",
    "```Python3\n",
    "a = [[[1, 2, 3], [4, 5, 6], [7], [8, 9], 10]]\n",
    "\n",
    "flatten(a)\n",
    ">>> [1, 2, 3, 4, 5, 6, 7, 8, 9, 10]\n",
    "```"
   ]
  },
  {
   "cell_type": "code",
   "execution_count": null,
   "metadata": {
    "ExecuteTime": {
     "end_time": "2021-01-11T13:39:10.208633Z",
     "start_time": "2021-01-11T13:39:10.192432Z"
    }
   },
   "outputs": [],
   "source": [
    "a = [[[1, 2, 3], [4, 5, 6], [7], [8, 9], 10]]"
   ]
  },
  {
   "cell_type": "code",
   "execution_count": 2,
   "metadata": {
    "ExecuteTime": {
     "end_time": "2021-01-11T13:39:10.208633Z",
     "start_time": "2021-01-11T13:39:10.192432Z"
    }
   },
   "outputs": [],
   "source": [
    "# solution comes here"
   ]
  },
  {
   "cell_type": "code",
   "execution_count": 3,
   "metadata": {
    "ExecuteTime": {
     "end_time": "2021-01-11T13:39:10.885439Z",
     "start_time": "2021-01-11T13:39:10.865794Z"
    }
   },
   "outputs": [],
   "source": [
    "# recursion with for loop\n",
    "\n",
    "def flatten(a):\n",
    "    new_list = []\n",
    "    for item in a:\n",
    "        if type(item) == type([]):\n",
    "            new_list.extend(flatten(item))\n",
    "        else:\n",
    "            new_list.append(item)\n",
    "    return new_list\n"
   ]
  },
  {
   "cell_type": "code",
   "execution_count": 5,
   "metadata": {
    "ExecuteTime": {
     "end_time": "2021-01-11T13:39:17.662275Z",
     "start_time": "2021-01-11T13:39:17.646329Z"
    }
   },
   "outputs": [],
   "source": [
    "# recursion without for loop -- hint: think slicing\n",
    "\n",
    "def flatten(a):\n",
    "    if a == []:\n",
    "        return a\n",
    "    if isinstance(a[0], list):\n",
    "        return flatten(a[0]) + flatten(a[1:])\n",
    "    return a[:1] + flatten(a[1:])"
   ]
  },
  {
   "cell_type": "code",
   "execution_count": 6,
   "metadata": {
    "ExecuteTime": {
     "end_time": "2021-01-11T13:39:18.270051Z",
     "start_time": "2021-01-11T13:39:18.253203Z"
    }
   },
   "outputs": [
    {
     "data": {
      "text/html": [
       " <h3> <font color=\"green\"> ✓ Correct </font> </h3>"
      ],
      "text/plain": [
       "<IPython.core.display.HTML object>"
      ]
     },
     "metadata": {},
     "output_type": "display_data"
    }
   ],
   "source": [
    "with tick():\n",
    "    assert flatten([]) == []\n",
    "    assert flatten([[1],2]) == [1,2]\n",
    "    assert flatten([[[1, 2, 3], [4, 5, 6], [7], [8, 9], 10]]) == [1, 2, 3, 4, 5, 6, 7, 8, 9, 10]"
   ]
  },
  {
   "cell_type": "markdown",
   "metadata": {},
   "source": [
    "(b) Write a function `identical(a, b)` that checks if two lists are circularly identical. A *circular list* is a list where we consider the first element as next of last element, forming a *circle*. \n",
    "\n",
    "For example, lists `A = [2,0,5,10,0,5,7,10]` and `B = [10,2,0,5,10,0,5,7]` are circularly identical, so `identical(A, B)` is `True`.\n",
    "\n",
    "<img src=\"imgs/circular.png\" width=\"50%\">\n",
    "\n",
    "However, if `A = [10, 10, 5, 10]` and `B = [10, 10, 10, 0]`, then `identical(A, B)` is `False`."
   ]
  },
  {
   "cell_type": "code",
   "execution_count": null,
   "metadata": {
    "ExecuteTime": {
     "end_time": "2021-01-05T13:53:19.744210Z",
     "start_time": "2021-01-05T13:53:19.728830Z"
    }
   },
   "outputs": [],
   "source": [
    "# solution comes here"
   ]
  },
  {
   "cell_type": "code",
   "execution_count": 7,
   "metadata": {
    "ExecuteTime": {
     "end_time": "2021-01-11T13:40:17.747171Z",
     "start_time": "2021-01-11T13:40:17.733869Z"
    }
   },
   "outputs": [],
   "source": [
    "\"\"\" \n",
    "Trick: \n",
    "i) convert all elements in first list to a string\n",
    "ii) double it\n",
    "iii) convert all elements in second list to a string\n",
    "iv) check if (iii) is in (ii) \n",
    "\"\"\"\n",
    "\n",
    "def identical(a, b):\n",
    "    return (' '.join(map(str, b)) in ' '.join(map(str, a * 2)))"
   ]
  },
  {
   "cell_type": "code",
   "execution_count": 8,
   "metadata": {
    "ExecuteTime": {
     "end_time": "2021-01-11T13:40:18.181599Z",
     "start_time": "2021-01-11T13:40:18.156040Z"
    }
   },
   "outputs": [
    {
     "data": {
      "text/html": [
       " <h3> <font color=\"green\"> ✓ Correct </font> </h3>"
      ],
      "text/plain": [
       "<IPython.core.display.HTML object>"
      ]
     },
     "metadata": {},
     "output_type": "display_data"
    }
   ],
   "source": [
    "with tick():\n",
    "    assert identical([10,2,0,5,10,0,5,7],[5,10,0,5,7,10,2,0]) is True\n",
    "    assert identical([10,10,5,0],[10,0,0,10]) is False\n",
    "    assert identical([10,10,0,0],[10,0,0,10]) is True\n",
    "    assert identical([], []) is True\n",
    "    assert identical([], [1]) is False\n",
    "    assert identical([0,0,0], [0,0,0]) is True\n",
    "    assert identical([0,0,[1]], [[1],0,0]) is True"
   ]
  },
  {
   "cell_type": "markdown",
   "metadata": {
    "ExecuteTime": {
     "end_time": "2020-11-22T20:43:21.125948Z",
     "start_time": "2020-11-22T20:43:21.109217Z"
    }
   },
   "source": [
    "<br>\n",
    "\n",
    "## A.2: Strings\n",
    "\n",
    "(a) Write a function `random_password()` that generates a random password with the following properties:\n",
    "\n",
    "* Password should have random length between 7 and 10 characters. \n",
    "* Each characters of the password should be randomly selected from positions 33 to 126 in the ASCII table."
   ]
  },
  {
   "cell_type": "code",
   "execution_count": null,
   "metadata": {
    "ExecuteTime": {
     "end_time": "2021-01-11T13:54:13.747924Z",
     "start_time": "2021-01-11T13:54:13.731384Z"
    }
   },
   "outputs": [],
   "source": [
    "import random\n",
    "\n",
    "# random.randint(x, y) will generate a \n",
    "# random number number between x(inclusive) and y (inclusive)\n",
    "\n",
    "random.randint(1, 3)"
   ]
  },
  {
   "cell_type": "code",
   "execution_count": 17,
   "metadata": {
    "ExecuteTime": {
     "end_time": "2021-01-11T13:54:13.747924Z",
     "start_time": "2021-01-11T13:54:13.731384Z"
    }
   },
   "outputs": [
    {
     "data": {
      "text/plain": [
       "2"
      ]
     },
     "execution_count": 17,
     "metadata": {},
     "output_type": "execute_result"
    }
   ],
   "source": [
    "# solution comes here"
   ]
  },
  {
   "cell_type": "code",
   "execution_count": 2,
   "metadata": {
    "ExecuteTime": {
     "end_time": "2021-01-11T14:27:47.930814Z",
     "start_time": "2021-01-11T14:27:47.909002Z"
    }
   },
   "outputs": [
    {
     "name": "stdout",
     "output_type": "stream",
     "text": [
      "`,W1.\\q\n"
     ]
    }
   ],
   "source": [
    "import random\n",
    "\n",
    "def random_password():\n",
    "    length = random.randint(7, 10)\n",
    "    passwordList = []\n",
    "    for _ in range(length):\n",
    "        value = random.randint(33, 126)\n",
    "        passwordList.append(chr(value))\n",
    "    return \"\".join(passwordList)\n",
    "\n",
    "print(random_password())\n",
    "    "
   ]
  },
  {
   "cell_type": "markdown",
   "metadata": {
    "ExecuteTime": {
     "end_time": "2020-11-22T20:43:21.125948Z",
     "start_time": "2020-11-22T20:43:21.109217Z"
    }
   },
   "source": [
    "(b) Write a function `good_password()` that determines whether or not a password generated by your `random_password()` function from (a) is good. We will define a password to be good if it is:\n",
    "\n",
    "* at least 8 characters long\n",
    "* contains at least one upper case letter, at least one lower case letter, and at least one digit.\n",
    "\n",
    "```Python3\n",
    "good_password(':rWOYd&')\n",
    ">>> False\n",
    "```\n",
    "```Python3\n",
    "good_password('1?cZbpT\"1')\n",
    ">>> True\n",
    "```\n"
   ]
  },
  {
   "cell_type": "code",
   "execution_count": null,
   "metadata": {
    "ExecuteTime": {
     "end_time": "2021-01-11T13:51:50.557012Z",
     "start_time": "2021-01-11T13:51:50.537231Z"
    }
   },
   "outputs": [],
   "source": [
    "# solution comes here"
   ]
  },
  {
   "cell_type": "code",
   "execution_count": 13,
   "metadata": {
    "ExecuteTime": {
     "end_time": "2021-01-11T14:29:19.713330Z",
     "start_time": "2021-01-11T14:29:19.687534Z"
    }
   },
   "outputs": [
    {
     "name": "stdout",
     "output_type": "stream",
     "text": [
      "jQ9Pj-:O\n",
      "True\n"
     ]
    }
   ],
   "source": [
    "def good_password(password):\n",
    "    length = len(password) > 7\n",
    "    upper = any(i.isupper() for i in password)\n",
    "    lower = any(i.islower() for i in password)\n",
    "    digit = any(i.isdigit() for i in password)\n",
    "    if length and upper and lower and digit:\n",
    "        return True\n",
    "    return False\n",
    "\n",
    "p = random_password()\n",
    "print(p)\n",
    "print(good_password(p))"
   ]
  },
  {
   "cell_type": "code",
   "execution_count": 17,
   "metadata": {
    "ExecuteTime": {
     "end_time": "2021-01-11T14:30:29.916428Z",
     "start_time": "2021-01-11T14:30:29.894643Z"
    }
   },
   "outputs": [
    {
     "data": {
      "text/html": [
       " <h3> <font color=\"green\"> ✓ Correct </font> </h3>"
      ],
      "text/plain": [
       "<IPython.core.display.HTML object>"
      ]
     },
     "metadata": {},
     "output_type": "display_data"
    }
   ],
   "source": [
    "with tick():\n",
    "    assert good_password('5TUXnmP') is False\n",
    "    assert good_password('d-g*,L0h') is True\n",
    "    assert good_password('12345678') is False\n",
    "    assert good_password('Ff:0u<i') is False\n",
    "    assert good_password('jQ9Pj-:O') is True\n",
    "    assert good_password('7fS~YdrV') is True\n",
    "    assert good_password('Mkm!*?&coD') is False\n",
    "    assert good_password('abcdefghi') is False"
   ]
  },
  {
   "cell_type": "markdown",
   "metadata": {},
   "source": [
    "<br>\n",
    "\n",
    "## A.3: Dictionaries\n",
    "\n",
    "\n",
    "(a) Using recursion, write a function `applyfuncondict(a, myfun)` that applies the function `myfunc` on the integer values of a dictionary. *Note that the dictionary can have nested dictionaries as values.*\n",
    "\n",
    "Below is the function that we would like to apply on the values of the dictionary:\n",
    "\n",
    "\n",
    "``` Python\n",
    "def myfunc(elem):\n",
    "    return elem**2\n",
    "```\n",
    "\n",
    "**Illustration:**\n",
    "``` Python\n",
    "D = {'apple': 6, 'banana': {'hello': 5, 'world': 4}}\n",
    "applyfuncondict(D, myfun)\n",
    ">>> {'apple': 36, 'banana': {'hello': 25, 'world': 16}}\n",
    "```"
   ]
  },
  {
   "cell_type": "code",
   "execution_count": null,
   "metadata": {
    "ExecuteTime": {
     "end_time": "2021-01-05T14:01:10.240384Z",
     "start_time": "2021-01-05T14:01:10.222634Z"
    }
   },
   "outputs": [],
   "source": [
    "# solution comes here"
   ]
  },
  {
   "cell_type": "code",
   "execution_count": 18,
   "metadata": {
    "ExecuteTime": {
     "end_time": "2021-01-11T14:40:01.641682Z",
     "start_time": "2021-01-11T14:40:01.628141Z"
    }
   },
   "outputs": [],
   "source": [
    "def myfunc(elem):\n",
    "    return elem**2\n",
    "\n",
    "def applyfuncondict(d, myfunc):\n",
    "    for k, v in d.items():\n",
    "        if isinstance(v, dict):\n",
    "            d[k] = applyfuncondict(v, myfunc)\n",
    "        else:\n",
    "            d[k] = myfunc(v)\n",
    "    return d\n",
    "\n",
    "# a_dict = {'apple': 6, 'banana': {'hello': 5, 'world': 4}}\n",
    "# print(applyfuncondict(b_dict, myfunc))"
   ]
  },
  {
   "cell_type": "code",
   "execution_count": 22,
   "metadata": {
    "ExecuteTime": {
     "end_time": "2021-01-11T14:41:19.002530Z",
     "start_time": "2021-01-11T14:41:18.982637Z"
    }
   },
   "outputs": [
    {
     "data": {
      "text/html": [
       " <h3> <font color=\"green\"> ✓ Correct </font> </h3>"
      ],
      "text/plain": [
       "<IPython.core.display.HTML object>"
      ]
     },
     "metadata": {},
     "output_type": "display_data"
    }
   ],
   "source": [
    "with tick():\n",
    "    assert applyfuncondict({\"a\": 2, \"b\": 3, \"c\": 4}, myfunc) == {\"a\": 4, \"b\": 9, \"c\": 16}\n",
    "    assert applyfuncondict({'a': 6, 'b': {'h': 5, 'w': 4}}, myfunc) == {'a': 36, 'b': {'h': 25, 'w':\n",
    "16}}\n",
    "    assert applyfuncondict({}, myfunc) == {}"
   ]
  },
  {
   "cell_type": "markdown",
   "metadata": {
    "ExecuteTime": {
     "end_time": "2020-11-22T19:56:12.715579Z",
     "start_time": "2020-11-22T19:56:12.678484Z"
    }
   },
   "source": [
    "<br>\n",
    "\n",
    "## A.4: Sets\n",
    "\n",
    "Suppose you are given a positive integer $n$ such that:\n",
    "* $A:$ the set of natural numbers between $1$ and $n$ \n",
    "* $B:$ the set of even numbers between $1$ and $n$\n",
    "* $C:$ the set of odd numbers between $1$ and $n$\n",
    "* $D:$ the set of numbers between $1$ and $n$ that are divisible by $3$\n",
    "* $E:$ the set of numbers between $1$ and $n$ that are divisible by $5$\n",
    "* $F:$ the set of numbers between $1$ and $n$ that are divisible by $6$\n",
    "\n",
    "Let $n = 100$. Write code to solve the following operations on the above sets.\n",
    "* union of $B$ and $C$\n",
    "* multiples of $3$ and $5$.\n",
    "* multiples of $3$ and $5$ that are even\n",
    "* multiples of $3$ or $5$, but not both\n",
    "* multiples of $5$ that are odd\n",
    "* multiples of $6$ but not $5$"
   ]
  },
  {
   "cell_type": "code",
   "execution_count": 30,
   "metadata": {
    "ExecuteTime": {
     "end_time": "2020-12-06T20:48:30.216868Z",
     "start_time": "2020-12-06T20:48:30.180230Z"
    }
   },
   "outputs": [
    {
     "name": "stdout",
     "output_type": "stream",
     "text": [
      "union of B and C: {1, 2, 3, 4, 5, 6, 7, 8, 9, 10, 11, 12, 13, 14, 15, 16, 17, 18, 19, 20, 21, 22, 23, 24, 25, 26, 27, 28, 29, 30, 31, 32, 33, 34, 35, 36, 37, 38, 39, 40, 41, 42, 43, 44, 45, 46, 47, 48, 49, 50, 51, 52, 53, 54, 55, 56, 57, 58, 59, 60, 61, 62, 63, 64, 65, 66, 67, 68, 69, 70, 71, 72, 73, 74, 75, 76, 77, 78, 79, 80, 81, 82, 83, 84, 85, 86, 87, 88, 89, 90, 91, 92, 93, 94, 95, 96, 97, 98, 99, 100} \n",
      "\n",
      "multiples of 3 and 5: {75, 45, 15, 90, 60, 30} \n",
      "\n",
      "multiples of 3 and 5, and even: {90, 60, 30} \n",
      "\n",
      "multiples of 3 or 5, not both: {3, 5, 6, 9, 10, 12, 18, 20, 21, 24, 25, 27, 33, 35, 36, 39, 40, 42, 48, 50, 51, 54, 55, 57, 63, 65, 66, 69, 70, 72, 78, 80, 81, 84, 85, 87, 93, 95, 96, 99, 100} \n",
      "\n",
      "multiples of 5 that are odd: {65, 35, 5, 75, 45, 15, 85, 55, 25, 95} \n",
      "\n",
      "multiples of 6 but not 5: {96, 66, 36, 6, 72, 42, 12, 78, 48, 18, 84, 54, 24}\n"
     ]
    }
   ],
   "source": [
    "def A(n):\n",
    "    return set([i for i in range(1, n)])\n",
    "def B(n):\n",
    "    return set([i for i in range(1, n) if i%2 == 0])\n",
    "def C(n):\n",
    "    return set([i for i in range(1, n) if i%2 != 0])\n",
    "def D(n):\n",
    "    return set([i for i in range(1, n) if i%3 == 0])\n",
    "def E(n):\n",
    "    return set([i for i in range(1, n) if i%5 == 0])\n",
    "def F(n):\n",
    "    return set([i for i in range(1, n) if i%6 == 0])\n",
    "\n",
    "n = 101\n",
    "print(f\"union of B and C: {B(n).union(C(n))} \\n\")\n",
    "print(f\"multiples of 3 and 5: {E(n).intersection(D(n))} \\n\")\n",
    "print(f\"multiples of 3 and 5, and even: {B(n).intersection(E(n).intersection(D(n)))} \\n\")\n",
    "print(f\"multiples of 3 or 5, not both: {E(n).symmetric_difference(D(n))} \\n\")\n",
    "print(f\"multiples of 5 that are odd: {E(n).intersection(C(n))} \\n\")\n",
    "print(f\"multiples of 6 but not 5: {F(n).difference(E(n))}\")"
   ]
  },
  {
   "cell_type": "markdown",
   "metadata": {},
   "source": [
    "---\n",
    "<br>\n",
    "\n",
    "## B"
   ]
  },
  {
   "cell_type": "markdown",
   "metadata": {
    "ExecuteTime": {
     "end_time": "2020-11-22T19:56:12.715579Z",
     "start_time": "2020-11-22T19:56:12.678484Z"
    }
   },
   "source": [
    "## B.1: Words from keyboard row\n",
    "Given a list of words, return the words that can be typed using letters of alphabet on only one row of the English keyboard. You may use one character in the keyboard more than once. You may assume the input string will only contain letters of alphabet.\n",
    "\n",
    "` words = ['Data', 'Type', 'Router', 'Network', 'Tweet', 'Pine', 'Dash', 'Top', 'Rower', 'Freedom', 'Sad']`\n",
    "\n",
    "* `row1 = qwertyuiop`\n",
    "* `row2 = asdfghjkl`\n",
    "* `row3 = zxcvbnm`\n",
    "\n",
    "**For example:**\n",
    "* Data does not satisfy the condition, since `t` is not in the same row as the remaining characters.\n",
    "* Type satisfies the condition, since each of its character are on the same row.\n"
   ]
  },
  {
   "cell_type": "code",
   "execution_count": null,
   "metadata": {
    "ExecuteTime": {
     "end_time": "2021-01-06T15:45:09.291758Z",
     "start_time": "2021-01-06T15:45:09.266076Z"
    }
   },
   "outputs": [],
   "source": [
    "# solution comes here\n",
    "# hint -- use sets"
   ]
  },
  {
   "cell_type": "code",
   "execution_count": 21,
   "metadata": {
    "ExecuteTime": {
     "end_time": "2021-01-06T15:45:09.291758Z",
     "start_time": "2021-01-06T15:45:09.266076Z"
    }
   },
   "outputs": [
    {
     "name": "stdout",
     "output_type": "stream",
     "text": [
      "['Type', 'Router', 'Tweet', 'Dash', 'Top', 'Rower', 'Sad']\n"
     ]
    }
   ],
   "source": [
    "# The ideal data structure to use for this problem is sets\n",
    "\n",
    "words = ['Data', 'Type', 'Router', 'Network', 'Tweet', 'Pine', 'Dash', 'Top', 'Rower', 'Freedom', 'Sad']\n",
    "def possible_words(words):\n",
    "    row1 = \"qwertyuiop\"\n",
    "    row2 = \"asdfghjkl\"\n",
    "    row3 = \"zxcvbnm\"\n",
    "    result = []\n",
    "    for word in words:\n",
    "        set_word = set([i.lower() for i in word])\n",
    "        # if any one of\n",
    "        row1_bool = set_word.difference(\"qwertyuiop\") == set()\n",
    "        row2_bool = set_word.difference(\"asdfghjkl\") == set()\n",
    "        row3_bool = set_word.difference(\"zxcvbnm\") == set()\n",
    "        # for the word to satisfy our condition\n",
    "        # only one of the above should be True\n",
    "        if row1_bool or row2_bool or row3_bool:\n",
    "            result.append(word)\n",
    "    return result\n",
    "print(possible_words(words))"
   ]
  },
  {
   "cell_type": "markdown",
   "metadata": {},
   "source": [
    "\n",
    "## B.2: Finding missing numbers\n",
    "Suppose you have two lists `A` and `B` that are permutations of one another such that `B` has some missing numbers. Write a function `missingNumbers(A, B)`, which should return the missing numbers in ascending order.\n",
    "\n",
    "\n",
    "As an example, suppose `A = [2,4,1,5,6,1,8,9,10,1,2]` and `B = [4,6,1,2,8,9,1]`, the missing numbers in ascending order: `1 2 5 10`.\n",
    "\n",
    "<div class=\"alert alert-info\"> <b>Note:</b> \n",
    "    <ol>\n",
    "        \n",
    "<li> If a number occurs multiple times in the lists, you must ensure that the frequency of that number in both lists is the same. If that is not the case, then it is also a missing number. </li>\n",
    "<li> You have to return all the missing numbers in ascending order separated by space. </li>\n",
    "<li> Print each missing number once, even if it is missing multiple times.</li>\n",
    "    </ol>\n",
    "</div>\n",
    "\n",
    "<br>"
   ]
  },
  {
   "cell_type": "code",
   "execution_count": 24,
   "metadata": {
    "ExecuteTime": {
     "end_time": "2021-01-11T14:16:56.611307Z",
     "start_time": "2021-01-11T14:16:56.588999Z"
    }
   },
   "outputs": [],
   "source": [
    "from collections import defaultdict\n",
    "\n",
    "def missingNumbers(A, B):\n",
    "    # A is complete list\n",
    "    # B is list with missing numbers\n",
    "    number_dict = defaultdict(int)\n",
    "    \n",
    "    # make account of each elt in original list with their frequency\n",
    "    for num in A: # number: frequency\n",
    "        number_dict[num] += 1\n",
    "        \n",
    "    # for each number in shortened list, deduct its freq by 1 \n",
    "    for num in B:\n",
    "        number_dict[num] -= 1\n",
    "    \n",
    "    # all of the numbers whose freq > 0 are definitely missing in B\n",
    "    missing_numbers = [k for k in number_dict if number_dict[k] > 0]\n",
    "    missing_numbers.sort()\n",
    "    \n",
    "    return ' '.join(list(map(str, missing_numbers)))\n",
    "\n",
    "# A = [2,4,1,5,6,1,8,9,10,1,2]\n",
    "# B = [4,6,1,2,8,9,1]\n",
    "# print(missingNumbers(A, B))"
   ]
  },
  {
   "cell_type": "code",
   "execution_count": 31,
   "metadata": {
    "ExecuteTime": {
     "end_time": "2021-01-11T14:20:30.068859Z",
     "start_time": "2021-01-11T14:20:30.032507Z"
    }
   },
   "outputs": [
    {
     "data": {
      "text/html": [
       " <h3> <font color=\"green\"> ✓ Correct </font> </h3>"
      ],
      "text/plain": [
       "<IPython.core.display.HTML object>"
      ]
     },
     "metadata": {},
     "output_type": "display_data"
    }
   ],
   "source": [
    "with tick():\n",
    "    assert missingNumbers([], []) == \"\"\n",
    "    assert missingNumbers([7,2,5,4,6,3,5,3], [7,2,5,3,5,3]) == \"4 6\"\n",
    "    assert missingNumbers([3,4,2,7,8,9], [3,4,2,7,8,9]) == \"\"\n",
    "    assert missingNumbers([2,4,1,5,6,1,8,9,10,1,2],[4,6,1,2,8,9,1]) == \"1 2 5 10\"\n",
    "    assert missingNumbers([203,204,204,205,206,207,205,208,203,206,205,206,204], [203,204,205,206,207,208,203,204,205,206]) == \"204 205 206\""
   ]
  },
  {
   "cell_type": "markdown",
   "metadata": {
    "ExecuteTime": {
     "end_time": "2020-11-22T20:23:49.274048Z",
     "start_time": "2020-11-22T20:23:49.251035Z"
    }
   },
   "source": [
    "---\n",
    "<br>\n",
    "\n",
    "# C. Extended Problems [Optional]"
   ]
  },
  {
   "cell_type": "markdown",
   "metadata": {
    "ExecuteTime": {
     "end_time": "2020-11-22T20:23:49.274048Z",
     "start_time": "2020-11-22T20:23:49.251035Z"
    }
   },
   "source": [
    "## C.1: Pattern\n",
    "\n",
    "In this task, you are required to implement a function `detect_pattern` that returns `True` or `False` depending upon whether two strings have the same pattern of characters. More precisely, two strings have the same pattern if they are of the same length and if two characters in the first string are equal if and only if the characters in the corresponding positions in the second string are also equal.\n",
    "\n",
    "**Example 1**: Even though the two strings have the same length, we have `a` in the first and last position of `string1`, but two different characters are in the first and last position of `string2`.\n",
    "\n",
    "``` Python\n",
    "string1, string2 = \"aba\", \"xyz\"\n",
    "detect_pattern(string1, string2)\n",
    ">>> False\n",
    "```\n",
    "\n",
    "**Example 2**: The two strings have the same length; we have `a` in the first and last position of `string3`; also, `x` is in the first and last position of `string4`.\n",
    "\n",
    "``` Python\n",
    "string3, string4  = \"aba\", \"xyx\"\n",
    "\n",
    "detect_pattern(string3, string4)\n",
    ">>> True\n",
    "```\n",
    "\n",
    "**Important things to note:**\n",
    "1. You are allowed to create new strings, but you are not allowed to use any other data structure (no lists, sets or dictionaries).\n",
    "2. The function should return the same value no matter what order the two strings are passed.\n"
   ]
  },
  {
   "cell_type": "code",
   "execution_count": 20,
   "metadata": {
    "ExecuteTime": {
     "end_time": "2021-01-11T14:03:10.415960Z",
     "start_time": "2021-01-11T14:03:10.403465Z"
    }
   },
   "outputs": [],
   "source": [
    "def detect_pattern(string1, string2):\n",
    "    length1, length2 = len(string1), len(string2)\n",
    "    # if the two strings have different length, return False\n",
    "    if length1 != length2:  \n",
    "        return False\n",
    "    # if they both have a length of 0, \n",
    "    # then they are both an empty string return True\n",
    "    elif length1 == 0 and length2 == 0:\n",
    "        return True\n",
    "    # if the strings are the same, return True\n",
    "    elif string1 == string2:\n",
    "        return True\n",
    "    # replace each character that is in the i-th position of string2\n",
    "    # with the character in the i-th position of string1\n",
    "    # add it to processed_string to keep track of seen characters\n",
    "    # if at the end, the two strings are the same\n",
    "    # then they have the same pattern :-)\n",
    "    else:\n",
    "        processed_string = \"\"\n",
    "        for i in range(length1):\n",
    "            if string1[i] not in processed_string:\n",
    "                string2 = string2.replace(string2[i], string1[i])\n",
    "                processed_string += string1[i]\n",
    "                #print(f\"{i}. string1: {string1}, string2: {string2}\")\n",
    "                if string1 == string2:\n",
    "                    return True   \n",
    "                \n",
    "        if string1 == string2:\n",
    "            return True    \n",
    "    return False\n",
    "# detect_pattern(\"aba\", \"xyz\")"
   ]
  },
  {
   "cell_type": "code",
   "execution_count": 21,
   "metadata": {
    "ExecuteTime": {
     "end_time": "2021-01-11T14:03:11.019621Z",
     "start_time": "2021-01-11T14:03:10.999979Z"
    }
   },
   "outputs": [
    {
     "data": {
      "text/html": [
       " <h3> <font color=\"green\"> ✓ Correct </font> </h3>"
      ],
      "text/plain": [
       "<IPython.core.display.HTML object>"
      ]
     },
     "metadata": {},
     "output_type": "display_data"
    }
   ],
   "source": [
    "with tick():\n",
    "    assert detect_pattern(\"\", \"\") == True\n",
    "    assert detect_pattern(\"a\", \"a\") == True\n",
    "    assert detect_pattern(\"x\", \"y\") == True\n",
    "    assert detect_pattern(\"ab\", \"xy\") == True\n",
    "    assert detect_pattern(\"aba\", \"xyz\") == False\n",
    "    assert detect_pattern(\"---\", \"xyz\") == False\n",
    "    assert detect_pattern(\"---\", \"aaa\") == True\n",
    "    assert detect_pattern(\"xyzxyz\", \"toetoe\") == True\n",
    "    assert detect_pattern(\"xyzxyz\", \"toetoa\") == False\n",
    "    assert detect_pattern(\"aaabb-bcccd\", \"eeeff-fgggz\") == True\n",
    "    assert detect_pattern(\"cbacbacba\", \"xyzxyzxyz\") == True\n",
    "    assert detect_pattern(\"asasasasas\", \"xxxxxyyyyy\") == False  \n",
    "    "
   ]
  },
  {
   "cell_type": "markdown",
   "metadata": {
    "ExecuteTime": {
     "end_time": "2020-11-22T20:23:49.274048Z",
     "start_time": "2020-11-22T20:23:49.251035Z"
    }
   },
   "source": [
    "## C.2: Alphabet Rangoli\n",
    "Write a function `rangoli(n)` that prints an alphabet rangoli of size $n$. **Rangoli** is a form of Indian folk art based on creation of patterns. Different sizes of alphabet rangoli are shown below:\n",
    "<img src=\"imgs/rangoli.png\" width=\"30%\">"
   ]
  },
  {
   "cell_type": "code",
   "execution_count": 22,
   "metadata": {
    "ExecuteTime": {
     "end_time": "2021-01-11T14:03:12.091959Z",
     "start_time": "2021-01-11T14:03:12.029675Z"
    }
   },
   "outputs": [
    {
     "name": "stdout",
     "output_type": "stream",
     "text": [
      "rangoli(3)\n",
      "----c----\n",
      "--c-b-c--\n",
      "c-b-a-b-c\n",
      "--c-b-c--\n",
      "----c----\n",
      "\n",
      "rangoli(4)\n",
      "------d------\n",
      "----d-c-d----\n",
      "--d-c-b-c-d--\n",
      "d-c-b-a-b-c-d\n",
      "--d-c-b-c-d--\n",
      "----d-c-d----\n",
      "------d------\n",
      "\n",
      "rangoli(5)\n",
      "--------e--------\n",
      "------e-d-e------\n",
      "----e-d-c-d-e----\n",
      "--e-d-c-b-c-d-e--\n",
      "e-d-c-b-a-b-c-d-e\n",
      "--e-d-c-b-c-d-e--\n",
      "----e-d-c-d-e----\n",
      "------e-d-e------\n",
      "--------e--------\n",
      "\n",
      "rangoli(6)\n",
      "----------f----------\n",
      "--------f-e-f--------\n",
      "------f-e-d-e-f------\n",
      "----f-e-d-c-d-e-f----\n",
      "--f-e-d-c-b-c-d-e-f--\n",
      "f-e-d-c-b-a-b-c-d-e-f\n",
      "--f-e-d-c-b-c-d-e-f--\n",
      "----f-e-d-c-d-e-f----\n",
      "------f-e-d-e-f------\n",
      "--------f-e-f--------\n",
      "----------f----------\n",
      "\n",
      "rangoli(7)\n",
      "------------g------------\n",
      "----------g-f-g----------\n",
      "--------g-f-e-f-g--------\n",
      "------g-f-e-d-e-f-g------\n",
      "----g-f-e-d-c-d-e-f-g----\n",
      "--g-f-e-d-c-b-c-d-e-f-g--\n",
      "g-f-e-d-c-b-a-b-c-d-e-f-g\n",
      "--g-f-e-d-c-b-c-d-e-f-g--\n",
      "----g-f-e-d-c-d-e-f-g----\n",
      "------g-f-e-d-e-f-g------\n",
      "--------g-f-e-f-g--------\n",
      "----------g-f-g----------\n",
      "------------g------------\n",
      "\n",
      "rangoli(8)\n",
      "--------------h--------------\n",
      "------------h-g-h------------\n",
      "----------h-g-f-g-h----------\n",
      "--------h-g-f-e-f-g-h--------\n",
      "------h-g-f-e-d-e-f-g-h------\n",
      "----h-g-f-e-d-c-d-e-f-g-h----\n",
      "--h-g-f-e-d-c-b-c-d-e-f-g-h--\n",
      "h-g-f-e-d-c-b-a-b-c-d-e-f-g-h\n",
      "--h-g-f-e-d-c-b-c-d-e-f-g-h--\n",
      "----h-g-f-e-d-c-d-e-f-g-h----\n",
      "------h-g-f-e-d-e-f-g-h------\n",
      "--------h-g-f-e-f-g-h--------\n",
      "----------h-g-f-g-h----------\n",
      "------------h-g-h------------\n",
      "--------------h--------------\n",
      "\n",
      "rangoli(9)\n",
      "----------------i----------------\n",
      "--------------i-h-i--------------\n",
      "------------i-h-g-h-i------------\n",
      "----------i-h-g-f-g-h-i----------\n",
      "--------i-h-g-f-e-f-g-h-i--------\n",
      "------i-h-g-f-e-d-e-f-g-h-i------\n",
      "----i-h-g-f-e-d-c-d-e-f-g-h-i----\n",
      "--i-h-g-f-e-d-c-b-c-d-e-f-g-h-i--\n",
      "i-h-g-f-e-d-c-b-a-b-c-d-e-f-g-h-i\n",
      "--i-h-g-f-e-d-c-b-c-d-e-f-g-h-i--\n",
      "----i-h-g-f-e-d-c-d-e-f-g-h-i----\n",
      "------i-h-g-f-e-d-e-f-g-h-i------\n",
      "--------i-h-g-f-e-f-g-h-i--------\n",
      "----------i-h-g-f-g-h-i----------\n",
      "------------i-h-g-h-i------------\n",
      "--------------i-h-i--------------\n",
      "----------------i----------------\n",
      "\n",
      "rangoli(10)\n",
      "------------------j------------------\n",
      "----------------j-i-j----------------\n",
      "--------------j-i-h-i-j--------------\n",
      "------------j-i-h-g-h-i-j------------\n",
      "----------j-i-h-g-f-g-h-i-j----------\n",
      "--------j-i-h-g-f-e-f-g-h-i-j--------\n",
      "------j-i-h-g-f-e-d-e-f-g-h-i-j------\n",
      "----j-i-h-g-f-e-d-c-d-e-f-g-h-i-j----\n",
      "--j-i-h-g-f-e-d-c-b-c-d-e-f-g-h-i-j--\n",
      "j-i-h-g-f-e-d-c-b-a-b-c-d-e-f-g-h-i-j\n",
      "--j-i-h-g-f-e-d-c-b-c-d-e-f-g-h-i-j--\n",
      "----j-i-h-g-f-e-d-c-d-e-f-g-h-i-j----\n",
      "------j-i-h-g-f-e-d-e-f-g-h-i-j------\n",
      "--------j-i-h-g-f-e-f-g-h-i-j--------\n",
      "----------j-i-h-g-f-g-h-i-j----------\n",
      "------------j-i-h-g-h-i-j------------\n",
      "--------------j-i-h-i-j--------------\n",
      "----------------j-i-j----------------\n",
      "------------------j------------------\n",
      "\n",
      "rangoli(11)\n",
      "--------------------k--------------------\n",
      "------------------k-j-k------------------\n",
      "----------------k-j-i-j-k----------------\n",
      "--------------k-j-i-h-i-j-k--------------\n",
      "------------k-j-i-h-g-h-i-j-k------------\n",
      "----------k-j-i-h-g-f-g-h-i-j-k----------\n",
      "--------k-j-i-h-g-f-e-f-g-h-i-j-k--------\n",
      "------k-j-i-h-g-f-e-d-e-f-g-h-i-j-k------\n",
      "----k-j-i-h-g-f-e-d-c-d-e-f-g-h-i-j-k----\n",
      "--k-j-i-h-g-f-e-d-c-b-c-d-e-f-g-h-i-j-k--\n",
      "k-j-i-h-g-f-e-d-c-b-a-b-c-d-e-f-g-h-i-j-k\n",
      "--k-j-i-h-g-f-e-d-c-b-c-d-e-f-g-h-i-j-k--\n",
      "----k-j-i-h-g-f-e-d-c-d-e-f-g-h-i-j-k----\n",
      "------k-j-i-h-g-f-e-d-e-f-g-h-i-j-k------\n",
      "--------k-j-i-h-g-f-e-f-g-h-i-j-k--------\n",
      "----------k-j-i-h-g-f-g-h-i-j-k----------\n",
      "------------k-j-i-h-g-h-i-j-k------------\n",
      "--------------k-j-i-h-i-j-k--------------\n",
      "----------------k-j-i-j-k----------------\n",
      "------------------k-j-k------------------\n",
      "--------------------k--------------------\n",
      "\n",
      "rangoli(12)\n",
      "----------------------l----------------------\n",
      "--------------------l-k-l--------------------\n",
      "------------------l-k-j-k-l------------------\n",
      "----------------l-k-j-i-j-k-l----------------\n",
      "--------------l-k-j-i-h-i-j-k-l--------------\n",
      "------------l-k-j-i-h-g-h-i-j-k-l------------\n",
      "----------l-k-j-i-h-g-f-g-h-i-j-k-l----------\n",
      "--------l-k-j-i-h-g-f-e-f-g-h-i-j-k-l--------\n",
      "------l-k-j-i-h-g-f-e-d-e-f-g-h-i-j-k-l------\n",
      "----l-k-j-i-h-g-f-e-d-c-d-e-f-g-h-i-j-k-l----\n",
      "--l-k-j-i-h-g-f-e-d-c-b-c-d-e-f-g-h-i-j-k-l--\n",
      "l-k-j-i-h-g-f-e-d-c-b-a-b-c-d-e-f-g-h-i-j-k-l\n",
      "--l-k-j-i-h-g-f-e-d-c-b-c-d-e-f-g-h-i-j-k-l--\n",
      "----l-k-j-i-h-g-f-e-d-c-d-e-f-g-h-i-j-k-l----\n",
      "------l-k-j-i-h-g-f-e-d-e-f-g-h-i-j-k-l------\n",
      "--------l-k-j-i-h-g-f-e-f-g-h-i-j-k-l--------\n",
      "----------l-k-j-i-h-g-f-g-h-i-j-k-l----------\n",
      "------------l-k-j-i-h-g-h-i-j-k-l------------\n",
      "--------------l-k-j-i-h-i-j-k-l--------------\n",
      "----------------l-k-j-i-j-k-l----------------\n",
      "------------------l-k-j-k-l------------------\n",
      "--------------------l-k-l--------------------\n",
      "----------------------l----------------------\n",
      "\n",
      "rangoli(13)\n",
      "------------------------m------------------------\n",
      "----------------------m-l-m----------------------\n",
      "--------------------m-l-k-l-m--------------------\n",
      "------------------m-l-k-j-k-l-m------------------\n",
      "----------------m-l-k-j-i-j-k-l-m----------------\n",
      "--------------m-l-k-j-i-h-i-j-k-l-m--------------\n",
      "------------m-l-k-j-i-h-g-h-i-j-k-l-m------------\n",
      "----------m-l-k-j-i-h-g-f-g-h-i-j-k-l-m----------\n",
      "--------m-l-k-j-i-h-g-f-e-f-g-h-i-j-k-l-m--------\n",
      "------m-l-k-j-i-h-g-f-e-d-e-f-g-h-i-j-k-l-m------\n",
      "----m-l-k-j-i-h-g-f-e-d-c-d-e-f-g-h-i-j-k-l-m----\n",
      "--m-l-k-j-i-h-g-f-e-d-c-b-c-d-e-f-g-h-i-j-k-l-m--\n",
      "m-l-k-j-i-h-g-f-e-d-c-b-a-b-c-d-e-f-g-h-i-j-k-l-m\n",
      "--m-l-k-j-i-h-g-f-e-d-c-b-c-d-e-f-g-h-i-j-k-l-m--\n",
      "----m-l-k-j-i-h-g-f-e-d-c-d-e-f-g-h-i-j-k-l-m----\n",
      "------m-l-k-j-i-h-g-f-e-d-e-f-g-h-i-j-k-l-m------\n",
      "--------m-l-k-j-i-h-g-f-e-f-g-h-i-j-k-l-m--------\n",
      "----------m-l-k-j-i-h-g-f-g-h-i-j-k-l-m----------\n",
      "------------m-l-k-j-i-h-g-h-i-j-k-l-m------------\n",
      "--------------m-l-k-j-i-h-i-j-k-l-m--------------\n",
      "----------------m-l-k-j-i-j-k-l-m----------------\n",
      "------------------m-l-k-j-k-l-m------------------\n",
      "--------------------m-l-k-l-m--------------------\n",
      "----------------------m-l-m----------------------\n",
      "------------------------m------------------------\n",
      "\n",
      "rangoli(14)\n",
      "--------------------------n--------------------------\n",
      "------------------------n-m-n------------------------\n",
      "----------------------n-m-l-m-n----------------------\n",
      "--------------------n-m-l-k-l-m-n--------------------\n",
      "------------------n-m-l-k-j-k-l-m-n------------------\n",
      "----------------n-m-l-k-j-i-j-k-l-m-n----------------\n",
      "--------------n-m-l-k-j-i-h-i-j-k-l-m-n--------------\n",
      "------------n-m-l-k-j-i-h-g-h-i-j-k-l-m-n------------\n",
      "----------n-m-l-k-j-i-h-g-f-g-h-i-j-k-l-m-n----------\n",
      "--------n-m-l-k-j-i-h-g-f-e-f-g-h-i-j-k-l-m-n--------\n",
      "------n-m-l-k-j-i-h-g-f-e-d-e-f-g-h-i-j-k-l-m-n------\n",
      "----n-m-l-k-j-i-h-g-f-e-d-c-d-e-f-g-h-i-j-k-l-m-n----\n",
      "--n-m-l-k-j-i-h-g-f-e-d-c-b-c-d-e-f-g-h-i-j-k-l-m-n--\n",
      "n-m-l-k-j-i-h-g-f-e-d-c-b-a-b-c-d-e-f-g-h-i-j-k-l-m-n\n",
      "--n-m-l-k-j-i-h-g-f-e-d-c-b-c-d-e-f-g-h-i-j-k-l-m-n--\n",
      "----n-m-l-k-j-i-h-g-f-e-d-c-d-e-f-g-h-i-j-k-l-m-n----\n",
      "------n-m-l-k-j-i-h-g-f-e-d-e-f-g-h-i-j-k-l-m-n------\n",
      "--------n-m-l-k-j-i-h-g-f-e-f-g-h-i-j-k-l-m-n--------\n",
      "----------n-m-l-k-j-i-h-g-f-g-h-i-j-k-l-m-n----------\n",
      "------------n-m-l-k-j-i-h-g-h-i-j-k-l-m-n------------\n",
      "--------------n-m-l-k-j-i-h-i-j-k-l-m-n--------------\n",
      "----------------n-m-l-k-j-i-j-k-l-m-n----------------\n",
      "------------------n-m-l-k-j-k-l-m-n------------------\n",
      "--------------------n-m-l-k-l-m-n--------------------\n",
      "----------------------n-m-l-m-n----------------------\n",
      "------------------------n-m-n------------------------\n",
      "--------------------------n--------------------------\n",
      "\n"
     ]
    }
   ],
   "source": [
    "from collections import defaultdict\n",
    "import string\n",
    "\n",
    "def alphas_dashed(alphas):\n",
    "    # transform abcde to e-d-c-b-a-b-c-d\n",
    "    # transform cde to e-d-c-d-e \n",
    "    concatenated = list(alphas[::-1][:-1]+alphas)\n",
    "    return '-'.join(concatenated)\n",
    "\n",
    "def rangoli(n):\n",
    "    all_alphas = string.ascii_lowercase\n",
    "    alphas = all_alphas[:n]\n",
    "    result = [alphas_dashed(alphas)] # this stores the middle pattern\n",
    "    for i in range(1,n):\n",
    "        alphas = all_alphas[i:n] # removes the first alphabet on each iteration\n",
    "        concatenated = alphas_dashed(alphas)\n",
    "        # apart from the middle pattern\n",
    "        # the remaining pattern have dashes to their left and right\n",
    "        # in the range 2, 4, 6, 8, ..\n",
    "        extend = \"-\"*(2*i) + concatenated + \"-\"*(2*i)\n",
    "        result.insert(0, extend) # insert to the head of the list\n",
    "        result.append(extend)    # insert to the tail of the list\n",
    "    return result\n",
    "\n",
    "for n in range(3, 15):\n",
    "    pattern = rangoli(n) \n",
    "    print(f\"rangoli({n})\")\n",
    "    for p in pattern:\n",
    "        print(p)\n",
    "    print()"
   ]
  }
 ],
 "metadata": {
  "kernelspec": {
   "display_name": "Python 3",
   "language": "python",
   "name": "python3"
  },
  "language_info": {
   "codemirror_mode": {
    "name": "ipython",
    "version": 3
   },
   "file_extension": ".py",
   "mimetype": "text/x-python",
   "name": "python",
   "nbconvert_exporter": "python",
   "pygments_lexer": "ipython3",
   "version": "3.7.6"
  },
  "toc": {
   "base_numbering": 1,
   "nav_menu": {},
   "number_sections": false,
   "sideBar": true,
   "skip_h1_title": false,
   "title_cell": "Table of Contents",
   "title_sidebar": "Contents",
   "toc_cell": false,
   "toc_position": {},
   "toc_section_display": true,
   "toc_window_display": false
  }
 },
 "nbformat": 4,
 "nbformat_minor": 4
}
