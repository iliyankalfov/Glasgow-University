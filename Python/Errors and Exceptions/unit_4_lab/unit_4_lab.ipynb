{
 "cells": [
  {
   "cell_type": "markdown",
   "metadata": {
    "ExecuteTime": {
     "end_time": "2020-11-21T22:44:54.628127Z",
     "start_time": "2020-11-21T22:44:54.612546Z"
    }
   },
   "source": [
    "# Lab 4\n",
    "<br>\n",
    "\n",
    "# Errors, exceptions, sorting and complexity\n",
    "\n",
    "---\n",
    "\n",
    "##### CS1P. Semester 2. Python 3.x\n",
    " ---"
   ]
  },
  {
   "cell_type": "markdown",
   "metadata": {
    "ExecuteTime": {
     "end_time": "2020-11-21T22:06:57.135040Z",
     "start_time": "2020-11-21T22:06:57.116260Z"
    }
   },
   "source": [
    "## Purpose of the lab\n",
    "\n",
    "There are only two (albeit large) problems in this lab. They will exercise your skills on:\n",
    "* files\n",
    "* dictionaries\n",
    "* handling exceptions\n",
    "* sorting \n",
    "* analysing time complexity\n",
    "\n",
    "In part A, you will implement a robust program that detects and handles as many errors as possible, as well as gives informative error messages to the user.\n",
    "\n",
    "The problem in part B is from HackerRank, it will exercise your problem solving skills, as well as your knowledge on sorting and time complexity."
   ]
  },
  {
   "cell_type": "code",
   "execution_count": 1,
   "metadata": {
    "ExecuteTime": {
     "end_time": "2020-12-07T17:11:32.769151Z",
     "start_time": "2020-12-07T17:11:32.753727Z"
    }
   },
   "outputs": [],
   "source": [
    "from utils.tick import tick"
   ]
  },
  {
   "cell_type": "markdown",
   "metadata": {
    "ExecuteTime": {
     "end_time": "2020-11-29T10:30:26.755384Z",
     "start_time": "2020-11-29T10:30:26.735540Z"
    }
   },
   "source": []
  },
  {
   "cell_type": "markdown",
   "metadata": {
    "ExecuteTime": {
     "end_time": "2020-12-07T17:11:32.769151Z",
     "start_time": "2020-12-07T17:11:32.753727Z"
    }
   },
   "source": [
    "# A: Birthday book"
   ]
  },
  {
   "cell_type": "markdown",
   "metadata": {
    "ExecuteTime": {
     "end_time": "2020-12-07T17:11:32.769151Z",
     "start_time": "2020-12-07T17:11:32.753727Z"
    }
   },
   "source": [
    "## A.1 \n",
    "\n",
    "The idea of this exercise is to read in people's birthdays and produce reminders of birthdays that are coming up. A birthday consists of a month and a date, which can be represented by a dictionary such as\n",
    "\n",
    "    { \"month\":\"Sep\", \"day\":17 }\n",
    "    \n",
    "The birthday book is a dictionary in which the keys are people's names, and the values are birthdays, represented as dictionaries as above. The functions you have to define are described below; they should all take a birthday book as a parameter, as well as any other parameter specified below. Before you start coding, make sure you have a clear idea of how to produce the desired information."
   ]
  },
  {
   "cell_type": "markdown",
   "metadata": {
    "ExecuteTime": {
     "end_time": "2020-12-07T17:11:32.769151Z",
     "start_time": "2020-12-07T17:11:32.753727Z"
    }
   },
   "source": [
    "(a) Write some code to set up a birthday book with several people and their birthdays, for testing purposes."
   ]
  },
  {
   "cell_type": "code",
   "execution_count": 12,
   "metadata": {},
   "outputs": [],
   "source": [
    "# Setting up a birthday book\n",
    "book = {}\n",
    "book[\"Simon\"] = { \"month\":\"Sep\", \"date\":4 }\n",
    "book[\"Josh\"] = { \"month\":\"Aug\", \"date\":29 }\n",
    "book[\"George\"] = { \"month\":\"Jan\", \"date\":2 }\n",
    "book[\"Peter\"] = { \"month\":\"Dec\", \"date\":31 }\n",
    "book[\"Mike\"] = { \"month\":\"Mar\", \"date\":8 }\n",
    "# add more entries"
   ]
  },
  {
   "cell_type": "markdown",
   "metadata": {
    "ExecuteTime": {
     "end_time": "2020-12-07T17:11:32.769151Z",
     "start_time": "2020-12-07T17:11:32.753727Z"
    }
   },
   "source": [
    "<br> \n",
    "\n",
    "(b) Define a function which, given a person's name, prints their birthday."
   ]
  },
  {
   "cell_type": "code",
   "execution_count": 3,
   "metadata": {
    "ExecuteTime": {
     "end_time": "2020-12-15T10:21:50.841919Z",
     "start_time": "2020-12-15T10:21:50.817018Z"
    }
   },
   "outputs": [
    {
     "name": "stdout",
     "output_type": "stream",
     "text": [
      "Aug 29\n"
     ]
    }
   ],
   "source": [
    "def given_name(book,name):\n",
    "    for elt in book:\n",
    "        if name == elt:\n",
    "            print(book[elt][\"month\"],book[elt][\"date\"])\n",
    "            \n",
    "given_name(book,\"Josh\")"
   ]
  },
  {
   "cell_type": "markdown",
   "metadata": {
    "ExecuteTime": {
     "end_time": "2020-12-07T17:11:32.769151Z",
     "start_time": "2020-12-07T17:11:32.753727Z"
    }
   },
   "source": [
    "<br>\n",
    "(c) Define a function which, given a month, prints a list of all the people who have birthdays in that month, with the dates."
   ]
  },
  {
   "cell_type": "code",
   "execution_count": 4,
   "metadata": {
    "ExecuteTime": {
     "end_time": "2020-12-15T10:17:38.280736Z",
     "start_time": "2020-12-15T10:17:38.270273Z"
    }
   },
   "outputs": [
    {
     "name": "stdout",
     "output_type": "stream",
     "text": [
      "George has a birthday on 2\n"
     ]
    }
   ],
   "source": [
    "def given_month(book,month):\n",
    "    for elt in book:\n",
    "        if book[elt][\"month\"] == month:\n",
    "            print(\"{0} has a birthday on {1}\".format(elt,book[elt][\"date\"]))\n",
    "            \n",
    "given_month(book,\"Jan\")"
   ]
  },
  {
   "cell_type": "markdown",
   "metadata": {
    "ExecuteTime": {
     "end_time": "2020-12-07T17:11:32.769151Z",
     "start_time": "2020-12-07T17:11:32.753727Z"
    }
   },
   "source": [
    "<br>\n",
    "(d)\n",
    "Define a function which, given a month and a date, prints a list of all the people who have birthdays within the next week, with the dates. Don't forget that some of these birthdays might be in the next month, and if the given date is in December, some of them might be in January."
   ]
  },
  {
   "cell_type": "code",
   "execution_count": 5,
   "metadata": {
    "ExecuteTime": {
     "end_time": "2020-12-15T22:37:05.691575Z",
     "start_time": "2020-12-15T22:37:05.657922Z"
    }
   },
   "outputs": [
    {
     "name": "stdout",
     "output_type": "stream",
     "text": [
      "George Jan 2\n",
      "Peter Dec 31\n"
     ]
    }
   ],
   "source": [
    "all_months = {\"Jan\" : 1, \"Feb\" : 2, \"Mar\" : 3, \"Apr\" : 4, \"May\" : 5, \"Jun\" : 6, \"Jul\" : 7,\n",
    "              \"Aug\" : 8, \"Sep\" : 9, \"Oct\" : 10, \"Nov\" : 11, \"Dec\" : 12}\n",
    "thirty_one_days_months = [\"Jan\",\"Mar\",\"May\",\"Jul\",\"Aug\",\"Oct\",\"Dec\"]\n",
    "thirty_days_months = [\"Feb\",\"Apr\",\"Jun\",\"Sep\",\"Nov\"]\n",
    "def month_date_within_7_days(book,month,date):\n",
    "    new_date = 0\n",
    "    new_month = \"\"\n",
    "    if month in thirty_one_days_months:\n",
    "        if date + 7 > 31:\n",
    "            new_date = (31 % date) + (7 - (31 % date))\n",
    "            new_month = get_next_month(all_months,month)\n",
    "        else:\n",
    "            new_date = date + 7\n",
    "            \n",
    "        for elt in book:\n",
    "            if (book[elt][\"date\"] > date and book[elt][\"month\"]==month) or (book[elt][\"date\"] <= new_date and book[elt][\"month\"]==new_month):\n",
    "                print(elt,book[elt][\"month\"],book[elt][\"date\"])\n",
    "                \n",
    "    elif month in thirty_days_months:\n",
    "        if date + 7 > 30:\n",
    "            new_date = (30 % date) + (7 - (30 % date))\n",
    "            new_month = get_next_month(all_months,month)\n",
    "        else: \n",
    "            new_date = date + 7\n",
    "            \n",
    "        for elt in book:\n",
    "            if (book[elt][\"date\"] > date and book[elt][\"date\"] <= new_date) and book[elt][\"month\"]==month:\n",
    "                print(elt,book[elt][\"month\"],book[elt][\"date\"])\n",
    "    \n",
    "            \n",
    "\n",
    "def get_next_month(all_months, month):\n",
    "    for elt in all_months:\n",
    "        if month == elt:\n",
    "            index = all_months[elt]\n",
    "    for k,v in all_months.items():\n",
    "        if index != 12:\n",
    "            if v == index + 1:\n",
    "                return k\n",
    "        else:\n",
    "            return \"Jan\"\n",
    "\n",
    "month_date_within_7_days(book,\"Dec\",27)"
   ]
  },
  {
   "cell_type": "markdown",
   "metadata": {
    "ExecuteTime": {
     "end_time": "2020-12-07T17:11:32.769151Z",
     "start_time": "2020-12-07T17:11:32.753727Z"
    }
   },
   "source": [
    "## A.2 Reading birthdays from a file\n",
    "\n",
    "The aim of this task is to write a function `getBirthdays` which takes a file name as a parameter and reads birthdays from the file, storing them in a dictionary which should also be a parameter of the function. The first line of the function definition should therefore be\n",
    "\n",
    "\tdef getBirthdays(fileName, book):\n",
    "    \n",
    "The file should contain a number of lines with one birthday per line, in the following format:\n",
    "\n",
    "\tJohn,Mar,23    \n",
    "\tSusan,Feb,16\n",
    "    \n",
    "and so on. The file `birthdays.txt` in the Unit4/Lab folder contains some data that you can use for testing; you can also create your own files.\n",
    "\n",
    "For this task, don't worry about handling errors: assume that the file exists, that it has the correct format, that every line gives a valid date, etc. "
   ]
  },
  {
   "cell_type": "code",
   "execution_count": 6,
   "metadata": {
    "ExecuteTime": {
     "end_time": "2020-12-15T22:53:00.309615Z",
     "start_time": "2020-12-15T22:53:00.285946Z"
    }
   },
   "outputs": [
    {
     "name": "stdout",
     "output_type": "stream",
     "text": [
      "{'Simon': {'month': 'Sep', 'date': 4}, 'Josh': {'month': 'Aug', 'date': 29}, 'George': {'month': 'Jan', 'date': 2}, 'Peter': {'month': 'Dec', 'date': 31}, 'Mike': {'month': 'Mar', 'date': 8}, 'John': {'month': 'Mar', 'date': '23'}, 'Susan': {'month': 'Feb', 'date': '16'}, 'Alan': {'month': 'Sep', 'date': '4'}, 'Kevin': {'month': 'Dec', 'date': '23'}, 'Murad': {'month': 'Jan', 'date': '3'}, 'Sandeep': {'month': 'Apr', 'date': '2'}, 'James': {'month': 'Apr', 'date': '3'}, 'Karen': {'month': 'Apr', 'date': '2'}, 'Wiktoria': {'month': 'Jul', 'date': '14'}, 'Rogan': {'month': 'Jun', 'date': '29'}, 'Fraser': {'month': 'Jan', 'date': '4'}, 'Cameron': {'month': 'Oct', 'date': '1'}, 'Chloe': {'month': 'Sep', 'date': '30'}, 'Sam': {'month': 'Feb', 'date': '4'}}\n"
     ]
    }
   ],
   "source": [
    "def getBirthdays(fileName, book):\n",
    "    with open(fileName) as f:\n",
    "        for elt in f:\n",
    "            elt = elt.strip().split(\",\")\n",
    "            book[elt[0]] = {\"month\" : elt[1], \"date\" : elt[2]}\n",
    "    return book\n",
    "            \n",
    "getBirthdays(\"birthdays.txt\",book)\n",
    "print(book)"
   ]
  },
  {
   "cell_type": "markdown",
   "metadata": {
    "ExecuteTime": {
     "end_time": "2020-12-07T17:11:32.769151Z",
     "start_time": "2020-12-07T17:11:32.753727Z"
    }
   },
   "source": [
    "<br>\n",
    "\n",
    "## A.3 Menu\n",
    "The task now is to combine the functions you have implemented so far into a complete application. Write a program which repeatedly asks the user to enter a command, asks for further details if necessary, and carries out the corresponding operation. \n",
    "\n",
    "For example, one command could be \"read\"; in this case the program should ask the user to enter a filename, and then read birthdays from that file into the birthday book. There should be a textual menu with a command for each of the operations from tasks A1 and A2, as well as a command \"quit\" which terminates the program. Also add a command (and a function) allowing a new birthday to be stored in the book.\n",
    "\n",
    "Later in the course we will see how to build a graphical user interface instead of using keyboard input."
   ]
  },
  {
   "cell_type": "code",
   "execution_count": 32,
   "metadata": {
    "ExecuteTime": {
     "end_time": "2020-12-07T17:11:32.769151Z",
     "start_time": "2020-12-07T17:11:32.753727Z"
    }
   },
   "outputs": [
    {
     "name": "stdout",
     "output_type": "stream",
     "text": [
      "Option 1: Get the birthdate of a given person.\n",
      "Option 2: Get all of the names and birthdates in a given month.\n",
      "Option 3: Get all of the birthdays within a 7-days period from the given date.\n",
      "Option 4: Read birthdays from a given file.\n",
      "Option 5: Add birthday to the birthday book.\n",
      "Option 6: See all the records in the birthday book.\n",
      "Enter the chosen option as a number or enter QUIT to exit the menu:QUIT\n"
     ]
    }
   ],
   "source": [
    "def add_birthday(book,name,month,date):\n",
    "    book[name] = {\"month\":month[:3], \"date\":date}\n",
    "\n",
    "def get_records(book):\n",
    "    for elt in book:\n",
    "        print(elt,book[elt][\"month\"],book[elt][\"date\"])\n",
    "    \n",
    "def menu(book):\n",
    "    commands = {\n",
    "        1 : \"Get the birthdate of a given person.\", #given_name(book,name)\n",
    "        2 : \"Get all of the names and birthdates in a given month.\", #month(book,month)\n",
    "        3 : \"Get all of the birthdays within a 7-days period from the given date.\", #month_date_within_7_days(book,month,date)\n",
    "        4 : \"Read birthdays from a given file.\", #getBirthdays(fileName,book)\n",
    "        5 : \"Add birthday to the birthday book.\", #add_birthday(book,name,month,date)\n",
    "        6 : \"See all the records in the birthday book.\"\n",
    "    }\n",
    "    for i,elt in enumerate(commands):\n",
    "        print(\"Option {0}: {1}\".format(i+1,commands[elt]))\n",
    "    \n",
    "    choice = input(\"Enter the chosen option as a number or enter QUIT to exit the menu:\")\n",
    "    while choice.upper() != \"QUIT\":\n",
    "        if choice == \"1\":\n",
    "            name = input(\"You have to enter a name:\")\n",
    "            given_name(book,name)\n",
    "        elif choice == \"2\":\n",
    "            month = input(\"You have to enter a month:\")\n",
    "            given_month(book,month)\n",
    "        elif choice == \"3\":\n",
    "            month = input(\"You have to enter a month:\")\n",
    "            date = input(\"You have to enter a date:\")\n",
    "            month_date_within_7_days(book,month,int(date))\n",
    "        elif choice == \"4\":\n",
    "            fileName = input(\"You have to enter a file name:\")\n",
    "            getBirthdays(fileName + \".txt\",book)\n",
    "        elif choice == \"5\":\n",
    "            name = input(\"You have to enter a name:\")    \n",
    "            month = input(\"You have to enter a month:\")        \n",
    "            date = input(\"You have to enter a date:\")\n",
    "            add_birthday(book,name,month,int(date))\n",
    "        elif choice == \"6\":\n",
    "            get_records(book)\n",
    "        choice = input(\"Enter the chosen option as a number or enter QUIT to exit the menu:\")"
   ]
  },
  {
   "cell_type": "markdown",
   "metadata": {
    "ExecuteTime": {
     "end_time": "2020-12-07T17:11:32.769151Z",
     "start_time": "2020-12-07T17:11:32.753727Z"
    }
   },
   "source": [
    "<br>\n",
    "\n",
    "## A.4 Handling Exceptions\n",
    "In this task, you will make the birthday book program robust by detecting and/or handling as many errors as possible and giving informative error messages to the user. There are many possibilities for errors in the input to the program. For example:\n",
    "* the file of birthdays might not exist or might not have the correct format; \n",
    "* the dates can be invalid (e.g., Feb 31); \n",
    "* when finding a person's birthday, the person might not be in the birthday book; \n",
    "* when asking for birthdays in a given month, the name of the month might be incorrect; \n",
    "* the user might enter an incorrect command in response to the top-level prompt; and so on.\n",
    "\n",
    "Modify the birthday book program so that as many errors as you can think of are detected. In some cases, for example trying to open a non-existent file, you should handle the exception raised by the built-in Python function. In other cases, you might like to raise and handle your own exceptions, or you might prefer to use other techniques (for example, checking that the top-level command is correct can be done easily with a series of if statements).\n",
    "Test your program thoroughly, remembering that you are now checking that error cases are handled correctly."
   ]
  },
  {
   "cell_type": "code",
   "execution_count": 2,
   "metadata": {
    "ExecuteTime": {
     "end_time": "2020-12-07T17:11:32.769151Z",
     "start_time": "2020-12-07T17:11:32.753727Z"
    }
   },
   "outputs": [
    {
     "ename": "NameError",
     "evalue": "name 'book' is not defined",
     "output_type": "error",
     "traceback": [
      "\u001b[1;31m---------------------------------------------------------------------------\u001b[0m",
      "\u001b[1;31mNameError\u001b[0m                                 Traceback (most recent call last)",
      "\u001b[1;32m<ipython-input-2-8a0c9e190efa>\u001b[0m in \u001b[0;36m<module>\u001b[1;34m\u001b[0m\n\u001b[0;32m    125\u001b[0m             \u001b[1;32mraise\u001b[0m \u001b[0mValueError\u001b[0m\u001b[1;33m(\u001b[0m\u001b[1;34mf\"{choice} is not a valid choice\"\u001b[0m\u001b[1;33m)\u001b[0m\u001b[1;33m\u001b[0m\u001b[1;33m\u001b[0m\u001b[0m\n\u001b[0;32m    126\u001b[0m \u001b[1;33m\u001b[0m\u001b[0m\n\u001b[1;32m--> 127\u001b[1;33m \u001b[0mmenu\u001b[0m\u001b[1;33m(\u001b[0m\u001b[0mbook\u001b[0m\u001b[1;33m)\u001b[0m\u001b[1;33m\u001b[0m\u001b[1;33m\u001b[0m\u001b[0m\n\u001b[0m",
      "\u001b[1;31mNameError\u001b[0m: name 'book' is not defined"
     ]
    }
   ],
   "source": [
    "def menu(book):\n",
    "    commands = {\n",
    "        1 : \"Get the birthdate of a given person.\", #given_name(book,name)\n",
    "        2 : \"Get all of the names and birthdates in a given month.\", #month(book,month)\n",
    "        3 : \"Get all of the birthdays within a 7-days period from the given date.\", #month_date_within_7_days(book,month,date)\n",
    "        4 : \"Read birthdays from a given file.\", #getBirthdays(fileName,book)\n",
    "        5 : \"Add birthday to the birthday book.\", #add_birthday(book,name,month,date)\n",
    "        6 : \"See all the records in the birthday book.\"\n",
    "    }\n",
    "    for i,elt in enumerate(commands):\n",
    "        print(\"Option {0}: {1}\".format(i+1,commands[elt]))\n",
    "    \n",
    "    choice = input(\"Enter the chosen option as a number or enter QUIT to exit the menu:\")\n",
    "    if int(choice) < 1 or int(choice) > 6:\n",
    "        raise ValueError(f\"{choice} is not a valid choice\")\n",
    "        \n",
    "    while choice.upper() != \"QUIT\":\n",
    "        if choice == \"1\":\n",
    "            try:\n",
    "                #name checking\n",
    "                name = input(\"You have to enter a name:\")\n",
    "                if not name.isalpha():\n",
    "                    raise TypeError\n",
    "                if not name in book:\n",
    "                    raise IndexError\n",
    "            except TypeError:\n",
    "                #invalid name\n",
    "                print(f\"You did not enter a valid name.\")\n",
    "    \n",
    "            except IndexError:\n",
    "                #the name does not exist in the birthday book\n",
    "                print(f\"There is no one in the birthday book with the name: {name}.\")\n",
    "            else:\n",
    "                #return the date of the person\n",
    "                given_name(book,name)\n",
    "                \n",
    "        elif choice == \"2\":\n",
    "            try:\n",
    "                #month checking\n",
    "                month = input(\"You have to enter a month:\")\n",
    "                if not month[0].isupper():\n",
    "                    raise ValueError                \n",
    "                if not month in all_months:\n",
    "                    raise NameError\n",
    "            except NameError:\n",
    "                #invalid month\n",
    "                print(f\"You did not enter a valid month.\")\n",
    "            except ValueError:\n",
    "                #first letter is not uppercase\n",
    "                print(f\"The first letter should be uppercase.\")\n",
    "            else:\n",
    "                #all the birthdays within this month\n",
    "                given_month(book,month)\n",
    "            \n",
    "        elif choice == \"3\":\n",
    "            try:\n",
    "                #month and date checking\n",
    "                month = input(\"You have to enter a month:\")\n",
    "                date = input(\"You have to enter a date:\")\n",
    "                if not month in all_months:\n",
    "                    raise NameError\n",
    "                if month in thirty_one_days_months:\n",
    "                    if int(date) < 1 or int(date) > 31:\n",
    "                        raise ValueError\n",
    "                elif month in thirty_days_months:\n",
    "                    if int(date) < 1 or int(date) > 30:\n",
    "                        raise ValueError\n",
    "            except NameError:\n",
    "                #invalid month\n",
    "                print(f\"You did not enter a valid month.\")\n",
    "            except ValueError:\n",
    "                #invalid date\n",
    "                print(f\"You did not enter a valid date.\")\n",
    "            else:\n",
    "                #birthdays within 7 days of the given date\n",
    "                month_date_within_7_days(book,month,int(date))\n",
    "            \n",
    "        elif choice == \"4\":\n",
    "            fileName = input(\"You have to enter a file name:\")\n",
    "            try:\n",
    "                #file checking\n",
    "                getBirthdays(fileName + \".txt\",book)\n",
    "            except FileNotFoundError as f_error:\n",
    "                #invalid filename\n",
    "                print(f\"Encountered FileNotFoundError: {f_error}\")\n",
    "                \n",
    "        elif choice == \"5\":\n",
    "            try:\n",
    "                #name checking\n",
    "                name = input(\"You have to enter a name:\")\n",
    "                if not name.isalpha():\n",
    "                    raise TypeError\n",
    "                #month checking\n",
    "                month = input(\"You have to enter a month:\")        \n",
    "                if not month[0].isupper():\n",
    "                    raise NameError\n",
    "                if not month[:3] in all_months:\n",
    "                    raise NameError\n",
    "                #date checking\n",
    "                date = input(\"You have to enter a date:\")\n",
    "                if month in thirty_one_days_months:\n",
    "                    if int(date) < 1 or int(date) > 31:\n",
    "                        raise ValueError\n",
    "                elif month in thirty_days_months:\n",
    "                    if int(date) < 1 or int(date) > 30:\n",
    "                        raise ValueError\n",
    "            except TypeError:\n",
    "                #invalid name\n",
    "                print(f\"You did not enter a valid name.\")\n",
    "            except NameError:\n",
    "                #invalid month\n",
    "                print(f\"You did not enter a valid month.\")\n",
    "            except ValueError:\n",
    "                #invalid date\n",
    "                print(f\"You did not enter a valid date.\")\n",
    "            else:\n",
    "                #add a birthday to the birthday book\n",
    "                add_birthday(book,name,month,int(date))\n",
    "            \n",
    "        elif choice == \"6\":\n",
    "            get_records(book)\n",
    "            \n",
    "        choice = input(\"Enter the chosen option as a number or enter QUIT to exit the menu:\")\n",
    "        if int(choice) < 1 or int(choice) >6:\n",
    "            raise ValueError(f\"{choice} is not a valid choice\")\n",
    "            \n",
    "menu(book)\n"
   ]
  },
  {
   "cell_type": "code",
   "execution_count": 31,
   "metadata": {},
   "outputs": [
    {
     "name": "stdout",
     "output_type": "stream",
     "text": [
      "dec\n"
     ]
    }
   ],
   "source": []
  },
  {
   "cell_type": "code",
   "execution_count": null,
   "metadata": {},
   "outputs": [],
   "source": []
  },
  {
   "cell_type": "markdown",
   "metadata": {},
   "source": [
    "# B: [Fraudulent Activity Notifications](https://www.hackerrank.com/challenges/fraudulent-activity-notifications/problem?h_l=interview&playlist_slugs%5B%5D=interview-preparation-kit&playlist_slugs%5B%5D=sorting)"
   ]
  },
  {
   "cell_type": "markdown",
   "metadata": {},
   "source": [
    "### Background\n",
    "\n",
    "HackerLand National Bank has a simple policy for warning clients about possible fraudulent account activity. If the amount spent by a client on a particular day is greater than or equal to $2 \\times$ the client's median spending for a trailing number of days, they send the client a notification about potential fraud. The bank doesn't send the client any notifications until they have at least that trailing number of prior days' transaction data.\n",
    "\n",
    "<div class=\"alert alert-info\">\n",
    "    <b>NOTE</b>: The median of a list of numbers can be found by arranging all the numbers from smallest to greatest. If there is an odd number of numbers, the middle one is picked. If there is an even number of numbers, median is then defined to be the average of the two middle values. \n",
    "    \n",
    "<br>\n",
    "    \n",
    "<a href=\"https://en.wikipedia.org/wiki/Median#Basic_procedure\"> Wikipedia </a>\n",
    "</div>\n"
   ]
  },
  {
   "cell_type": "markdown",
   "metadata": {},
   "source": [
    "### Problem Specification\n",
    "\n",
    "(i) Write a function `activityNotifications`, which takes as parameter, a filename representing the client's activities, and returns an integer representing the number of client notifications. \n",
    "\n",
    "(ii) What is the time complexity of your implementation? Don't worry about the time it takes to read the file.\n",
    "\n",
    "(iii) If answer to (ii) above is more than $O(nd)$, how can you improve your implementation?\n",
    "\n",
    "---\n",
    "\n",
    "One of the txt files (`fan1.txt`) is displayed below.\n",
    "<img src=\"imgs/fan1.png\" width=50%> \n",
    "\n",
    "**How to read the input file:**\n",
    "\n",
    "First line contains two space-separated integers \n",
    "* **n**, the number of days of transaction data;\n",
    "* **d**, the number of trailing days' data used to calculate median spending.\n",
    "\n",
    "Second line contains space-separated non-negative integers where each integer $i$ denotes $expenditure[i]$.\n",
    "\n",
    "**Constraints:**\n",
    "\n",
    "$1 \\leq n \\leq 2 \\times 10^5$\n",
    "\n",
    "$1 \\leq d \\leq n$\n",
    "\n",
    "$0 \\leq expenditure[i] \\leq 200$\n",
    "\n",
    "**Output format**\n",
    "\n",
    "An integer denoting the total number of times the client receives a notification over a period of $n$ days.\n",
    "\n"
   ]
  },
  {
   "cell_type": "markdown",
   "metadata": {},
   "source": [
    "---\n",
    "\n",
    "### Illustration 1\n",
    "\n",
    "```Python3\n",
    "# fan1.txt\n",
    "# 9 5\n",
    "# 2 3 4 2 3 6 8 4 5\n",
    "\n",
    "activityNotification(\"fan1.txt\") \n",
    ">>> 2\n",
    "```\n",
    "\n",
    "**EXPLANATION:**\n",
    "\n",
    "We must determine the total number of _**notifications**_ the client receives over a period of $n = 9$ days. \n",
    "\n",
    "For the first $d = 5$ days, the customer receives no notifications because the bank has insufficient transaction data: _**notifications = 0**_.\n",
    "\n",
    "Day 6: $\\mbox{trailing expenditure} = [2, 3, 4, 2, 3]$,  $median = 3$, and $\\mbox{expenditure on the 6-th day} = 6$. Since $6 \\geq 2 \\times \\; median$, there will be a notice:  _**notifications = 0 + 1 = 1**_. \n",
    "\n",
    "Day 7: $\\mbox{trailing expenditure} = [3, 4, 2, 3, 6]$,  $median = 3$, and $\\mbox{expenditure on the 7-th day} = 8$. Since $8 \\geq 2 \\times \\; median$, there will be a notice:  _**notifications = 1 + 1 = 2**_. \n",
    "\n",
    "Day 8: $\\mbox{trailing expenditure} = [4, 2, 3, 6, 8]$,  $median = 4$, and $\\mbox{expenditure on the 8-th day} = 4$. Since $4 < 2 \\times \\; median$, there will be no notice:  _**notifications = 2 + 0 = 2**_. \n",
    "\n",
    "Day 9: $\\mbox{trailing expenditure} = [2, 3, 6, 8, 4]$,  $median = 4$, and $\\mbox{expenditure on the 9-th day} = 5$. Since $5 \\geq 2 \\times \\; median$, there will be no notice:  _**notifications = 2 + 0 = 2**_. "
   ]
  },
  {
   "cell_type": "markdown",
   "metadata": {},
   "source": [
    "---\n",
    "\n",
    "### Illustration 2\n",
    "```Python3\n",
    "# fan2.txt\n",
    "# 5 4\n",
    "# 1 2 3 4 4\n",
    "\n",
    "activityNotification(\"fan2.txt\") \n",
    ">>> 0\n",
    "```\n",
    "\n",
    "**EXPLANATION:**\n",
    "\n",
    "We must determine the total number of _**notifications**_ the client receives over a period of $n = 5$ days. \n",
    "\n",
    "For the first $d = 4$ days, the customer receives no notifications because the bank has insufficient transaction data: _**notifications = 0**_.\n",
    "\n",
    "Day 5: $\\mbox{trailing expenditure} = [1, 2, 3, 4]$,  $median = 2.5$, and $\\mbox{expenditure on the 5-th day} = 4$. Since $4 < 2 \\times \\; median$, there will be no notice:  _**notifications = 0 + 0 = 0**_. "
   ]
  },
  {
   "cell_type": "code",
   "execution_count": 170,
   "metadata": {},
   "outputs": [
    {
     "data": {
      "text/plain": [
       "3202"
      ]
     },
     "execution_count": 170,
     "metadata": {},
     "output_type": "execute_result"
    }
   ],
   "source": [
    "# make sure you read and understand the problem\n",
    "# write a program plan\n",
    "# # remember to add comments as you code\n",
    "def activityNotifications(filename):\n",
    "    with open(filename) as f:\n",
    "        lines = f.readlines()\n",
    "        first_line = lines[0].strip().split()\n",
    "        data = lines[1].strip().split()\n",
    "    transaction_days = int(first_line[0])\n",
    "    trailing_days = int(first_line[1])\n",
    "    notifications = 0\n",
    "    \n",
    "    temp = data[:trailing_days]\n",
    "    new_temp = sorted(temp)\n",
    "    for i in range(trailing_days,len(data)):\n",
    "        if i != trailing_days:\n",
    "            pop_element = temp.pop(0)\n",
    "            #a.pop(a.index(c))\n",
    "            new_temp.pop(new_temp.index(pop_element))\n",
    "            temp.append(int(data[i-1]))\n",
    "            insert_element(new_temp,int(data[i-1]))\n",
    "        med = median(new_temp)\n",
    "        if float(med) * 2 <= int(data[i]):\n",
    "            notifications += 1\n",
    "            \n",
    "    return notifications\n",
    "        \n",
    "    \n",
    "def median(l):\n",
    "    if len(l)%2!=0:\n",
    "        return l[len(l)//2]\n",
    "    else:\n",
    "        return (int(l[len(l)//2]) + int(l[(len(l)//2) - 1]))/2\n",
    "    \n",
    "def insert_element(a, x, lo=0, hi=None):\n",
    "    if lo < 0:\n",
    "        raise ValueError('lo must be non-negative')\n",
    "    if hi is None:\n",
    "        hi = len(a)\n",
    "    while lo < hi:\n",
    "        mid = (lo+hi)//2\n",
    "        if x < int(a[mid]):\n",
    "            hi = mid\n",
    "        else:\n",
    "            lo = mid+1\n",
    "    a.insert(lo, x)\n",
    "    \n",
    "\n",
    "activityNotifications(\"fan4.txt\")"
   ]
  },
  {
   "cell_type": "code",
   "execution_count": 169,
   "metadata": {},
   "outputs": [
    {
     "data": {
      "text/html": [
       " <h3> <font color=\"green\"> ✓ Correct </font> </h3>"
      ],
      "text/plain": [
       "<IPython.core.display.HTML object>"
      ]
     },
     "metadata": {},
     "output_type": "display_data"
    }
   ],
   "source": [
    "# these are small test cases\n",
    "with tick():\n",
    "    assert activityNotifications(\"fan1.txt\") == 2\n",
    "    assert activityNotifications(\"fan2.txt\") == 0    \n",
    "    assert activityNotifications(\"fan3.txt\") == 1"
   ]
  },
  {
   "cell_type": "code",
   "execution_count": null,
   "metadata": {},
   "outputs": [],
   "source": [
    "# the next three cells are large test cases\n",
    "# my solution terminated in less than 3 seconds\n",
    "# if your overall complexity is more than O(n), \n",
    "# I can't guarantee how long it will take to terminate on your computer"
   ]
  },
  {
   "cell_type": "code",
   "execution_count": 155,
   "metadata": {},
   "outputs": [
    {
     "data": {
      "text/html": [
       "<hr style=\"height:10px;border:none;color:#f00;background-color:#f00;\" /><h3> <font color=\"red\"> Problem: test failed ✘ [0/%d] marks </font> </h3>"
      ],
      "text/plain": [
       "<IPython.core.display.HTML object>"
      ]
     },
     "metadata": {},
     "output_type": "display_data"
    },
    {
     "ename": "AssertionError",
     "evalue": "",
     "output_type": "error",
     "traceback": [
      "\u001b[1;31m---------------------------------------------------------------------------\u001b[0m",
      "\u001b[1;31mAssertionError\u001b[0m                            Traceback (most recent call last)",
      "\u001b[1;32m<ipython-input-155-77181d48981f>\u001b[0m in \u001b[0;36m<module>\u001b[1;34m\u001b[0m\n\u001b[0;32m      1\u001b[0m \u001b[1;32mwith\u001b[0m \u001b[0mtick\u001b[0m\u001b[1;33m(\u001b[0m\u001b[1;33m)\u001b[0m\u001b[1;33m:\u001b[0m\u001b[1;33m\u001b[0m\u001b[1;33m\u001b[0m\u001b[0m\n\u001b[1;32m----> 2\u001b[1;33m     \u001b[1;32massert\u001b[0m \u001b[0mactivityNotifications\u001b[0m\u001b[1;33m(\u001b[0m\u001b[1;34m\"fan4.txt\"\u001b[0m\u001b[1;33m)\u001b[0m \u001b[1;33m==\u001b[0m \u001b[1;36m633\u001b[0m\u001b[1;33m\u001b[0m\u001b[1;33m\u001b[0m\u001b[0m\n\u001b[0m",
      "\u001b[1;31mAssertionError\u001b[0m: "
     ]
    }
   ],
   "source": [
    "with tick():\n",
    "    assert activityNotifications(\"fan4.txt\") == 633"
   ]
  },
  {
   "cell_type": "code",
   "execution_count": 156,
   "metadata": {},
   "outputs": [
    {
     "data": {
      "text/html": [
       "<hr style=\"height:10px;border:none;color:#f00;background-color:#f00;\" /><h3> <font color=\"red\"> Problem: test failed ✘ [0/%d] marks </font> </h3>"
      ],
      "text/plain": [
       "<IPython.core.display.HTML object>"
      ]
     },
     "metadata": {},
     "output_type": "display_data"
    },
    {
     "ename": "AssertionError",
     "evalue": "",
     "output_type": "error",
     "traceback": [
      "\u001b[1;31m---------------------------------------------------------------------------\u001b[0m",
      "\u001b[1;31mAssertionError\u001b[0m                            Traceback (most recent call last)",
      "\u001b[1;32m<ipython-input-156-5815d2d1692d>\u001b[0m in \u001b[0;36m<module>\u001b[1;34m\u001b[0m\n\u001b[0;32m      1\u001b[0m \u001b[1;32mwith\u001b[0m \u001b[0mtick\u001b[0m\u001b[1;33m(\u001b[0m\u001b[1;33m)\u001b[0m\u001b[1;33m:\u001b[0m\u001b[1;33m\u001b[0m\u001b[1;33m\u001b[0m\u001b[0m\n\u001b[1;32m----> 2\u001b[1;33m     \u001b[1;32massert\u001b[0m \u001b[0mactivityNotifications\u001b[0m\u001b[1;33m(\u001b[0m\u001b[1;34m\"fan5.txt\"\u001b[0m\u001b[1;33m)\u001b[0m \u001b[1;33m==\u001b[0m \u001b[1;36m770\u001b[0m\u001b[1;33m\u001b[0m\u001b[1;33m\u001b[0m\u001b[0m\n\u001b[0m",
      "\u001b[1;31mAssertionError\u001b[0m: "
     ]
    }
   ],
   "source": [
    "with tick():\n",
    "    assert activityNotifications(\"fan5.txt\") == 770"
   ]
  },
  {
   "cell_type": "code",
   "execution_count": null,
   "metadata": {},
   "outputs": [],
   "source": [
    "with tick():\n",
    "    assert activityNotifications(\"fan6.txt\") == 926"
   ]
  }
 ],
 "metadata": {
  "kernelspec": {
   "display_name": "Python 3",
   "language": "python",
   "name": "python3"
  },
  "language_info": {
   "codemirror_mode": {
    "name": "ipython",
    "version": 3
   },
   "file_extension": ".py",
   "mimetype": "text/x-python",
   "name": "python",
   "nbconvert_exporter": "python",
   "pygments_lexer": "ipython3",
   "version": "3.8.3"
  },
  "latex_envs": {
   "LaTeX_envs_menu_present": true,
   "autoclose": false,
   "autocomplete": true,
   "bibliofile": "biblio.bib",
   "cite_by": "apalike",
   "current_citInitial": 1,
   "eqLabelWithNumbers": true,
   "eqNumInitial": 1,
   "hotkeys": {
    "equation": "Ctrl-E",
    "itemize": "Ctrl-I"
   },
   "labels_anchors": false,
   "latex_user_defs": false,
   "report_style_numbering": false,
   "user_envs_cfg": false
  },
  "toc": {
   "base_numbering": 1,
   "nav_menu": {},
   "number_sections": false,
   "sideBar": true,
   "skip_h1_title": false,
   "title_cell": "Table of Contents",
   "title_sidebar": "Contents",
   "toc_cell": false,
   "toc_position": {},
   "toc_section_display": true,
   "toc_window_display": false
  }
 },
 "nbformat": 4,
 "nbformat_minor": 4
}
