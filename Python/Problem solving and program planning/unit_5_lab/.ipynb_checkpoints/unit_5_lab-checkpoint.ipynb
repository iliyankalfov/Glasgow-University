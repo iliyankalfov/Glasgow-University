{
 "cells": [
  {
   "cell_type": "markdown",
   "metadata": {
    "ExecuteTime": {
     "end_time": "2020-11-21T22:44:54.628127Z",
     "start_time": "2020-11-21T22:44:54.612546Z"
    }
   },
   "source": [
    "# Lab 5\n",
    "<br>\n",
    "\n",
    "# Problem solving and program planning\n",
    "---\n",
    "##### CS1P. Semester 2. Python 3.x\n",
    " ---"
   ]
  },
  {
   "cell_type": "markdown",
   "metadata": {
    "ExecuteTime": {
     "end_time": "2020-11-21T22:06:57.135040Z",
     "start_time": "2020-11-21T22:06:57.116260Z"
    }
   },
   "source": [
    "## Purpose of the lab\n",
    "\n",
    "The purpose of this lab is to sharpen your problem solving and program planning skills. \n",
    "\n",
    "* Do not get started with this lab if you have not finished the A and B part of Lab 4. The problem solving builds on previous labs and there is no point jumping to the next stage if you are still struggling with the previous one.\n",
    "\n",
    "* Problems in part A will require that you study the properties of the problem to write a solution that terminates efficiently. \n",
    "\n",
    "* In part B, you have the Travelling Salesman Problem (TSP) - it is quite large and it belongs to the class of problems that are known to be computationally hard to solve (NP-hard). However, you will be implementing an algorithm which finds a sub-optimal solution.\n",
    "\n",
    "<div class=\"alert alert-info\">  <b>Note :</b> MAKE SURE TO ADD HELPFUL COMMENTS AS YOU CODE, I CAN'T STRESS THIS ENOUGH! </div>"
   ]
  },
  {
   "cell_type": "code",
   "execution_count": 1,
   "metadata": {
    "ExecuteTime": {
     "end_time": "2020-12-07T17:11:32.769151Z",
     "start_time": "2020-12-07T17:11:32.753727Z"
    }
   },
   "outputs": [],
   "source": [
    "from utils.tick import tick"
   ]
  },
  {
   "cell_type": "markdown",
   "metadata": {
    "ExecuteTime": {
     "end_time": "2020-11-29T10:30:26.755384Z",
     "start_time": "2020-11-29T10:30:26.735540Z"
    }
   },
   "source": []
  },
  {
   "cell_type": "markdown",
   "metadata": {
    "ExecuteTime": {
     "end_time": "2020-12-07T17:11:32.769151Z",
     "start_time": "2020-12-07T17:11:32.753727Z"
    }
   },
   "source": [
    "## A\n",
    "\n",
    "For problems in this part, if you attempt to use bruteforce to obtain the solution, your code might take a very long to terminate. The idea is to encourage you to do a little bit of research to understand the theory behind the problem, its general characteristics, and use whatever you find to implement a solution that will terminate faster. \n",
    "\n",
    "Do NOT be tempted to check out any code that solves these problems faster, it will hinder your personal progress!"
   ]
  },
  {
   "cell_type": "markdown",
   "metadata": {
    "ExecuteTime": {
     "end_time": "2020-12-07T17:11:32.769151Z",
     "start_time": "2020-12-07T17:11:32.753727Z"
    }
   },
   "source": [
    "## A.1: Sieve of Eratosthenes\n",
    "\n",
    "(a) Write a function `print_primes(n)` which will print out all prime numbers less or equal to $n$. In the lecture video on unit 5, I implemented the bruteforce approach. Your task is to implement the sieve of Erastothenes.\n",
    "\n",
    "<blockquote>In mathematics, the sieve of Eratosthenes is an ancient algorithm for finding all prime numbers up to any given limit. It does so by iteratively marking as composite (i.e., not prime) the multiples of each prime, starting with the first prime number, 2.\n",
    "\n",
    "\n",
    "</blockquote>  \n",
    "    \n",
    "![Eratosthenes](imgs/Sieve_of_Eratosthenes_animation.gif \"eartosthenes\")\n",
    "\n",
    "*Quote and Gif credit*: [Wikipedia](https://en.wikipedia.org/wiki/Sieve_of_Eratosthenes#:~:text=In%20mathematics%2C%20the%20sieve%20of,the%20first%20prime%20number%2C%202.&text=It%20may%20be%20used%20to%20find%20primes%20in%20arithmetic%20progressions.)"
   ]
  },
  {
   "cell_type": "code",
   "execution_count": 2,
   "metadata": {},
   "outputs": [],
   "source": [
    "# Below is the brute-force approach discussed in the lecture\n",
    "# This implementation is too slow for large n"
   ]
  },
  {
   "cell_type": "code",
   "execution_count": 3,
   "metadata": {},
   "outputs": [
    {
     "name": "stdout",
     "output_type": "stream",
     "text": [
      "2.16 ms ± 397 µs per loop (mean ± std. dev. of 7 runs, 100 loops each)\n"
     ]
    }
   ],
   "source": [
    "%%timeit -n 100\n",
    "\n",
    "def is_prime(n):\n",
    "    # to store the factors of n\n",
    "    factors_list = []\n",
    "    for i in range(1,n+1):\n",
    "        if n % i == 0:\n",
    "            factors_list.append(i)    \n",
    "    return False if len(factors_list) > 2 else True\n",
    "\n",
    "def prime_numbers(n):\n",
    "    numbers = list(range(2,n+1))\n",
    "    return list(filter(is_prime, numbers))\n",
    "\n",
    "primes = prime_numbers(200)\n",
    "#print(len(primes), primes)"
   ]
  },
  {
   "cell_type": "code",
   "execution_count": 4,
   "metadata": {},
   "outputs": [],
   "source": [
    "# your improved solution comes here\n",
    "def get_primes(numbers, n):\n",
    "    primes = []\n",
    "    comparing_element = numbers[0]\n",
    "    if comparing_element * comparing_element > n:\n",
    "        return primes + numbers\n",
    "    primes.append(comparing_element)\n",
    "    primes.extend(get_primes([elt for elt in numbers if elt % comparing_element != 0], n))\n",
    "    return primes\n",
    "\n",
    "def print_primes(n):\n",
    "    l = list(range(2,n+1))\n",
    "    primes = get_primes(l,n)\n",
    "    return primes\n",
    "\n",
    "\n"
   ]
  },
  {
   "cell_type": "code",
   "execution_count": 5,
   "metadata": {},
   "outputs": [
    {
     "data": {
      "text/html": [
       " <h3> <font color=\"green\"> ✓ Correct </font> </h3>"
      ],
      "text/plain": [
       "<IPython.core.display.HTML object>"
      ]
     },
     "metadata": {},
     "output_type": "display_data"
    },
    {
     "data": {
      "text/html": [
       " <h3> <font color=\"green\"> ✓ Correct </font> </h3>"
      ],
      "text/plain": [
       "<IPython.core.display.HTML object>"
      ]
     },
     "metadata": {},
     "output_type": "display_data"
    },
    {
     "data": {
      "text/html": [
       " <h3> <font color=\"green\"> ✓ Correct </font> </h3>"
      ],
      "text/plain": [
       "<IPython.core.display.HTML object>"
      ]
     },
     "metadata": {},
     "output_type": "display_data"
    },
    {
     "data": {
      "text/html": [
       " <h3> <font color=\"green\"> ✓ Correct </font> </h3>"
      ],
      "text/plain": [
       "<IPython.core.display.HTML object>"
      ]
     },
     "metadata": {},
     "output_type": "display_data"
    },
    {
     "data": {
      "text/html": [
       " <h3> <font color=\"green\"> ✓ Correct </font> </h3>"
      ],
      "text/plain": [
       "<IPython.core.display.HTML object>"
      ]
     },
     "metadata": {},
     "output_type": "display_data"
    },
    {
     "data": {
      "text/html": [
       " <h3> <font color=\"green\"> ✓ Correct </font> </h3>"
      ],
      "text/plain": [
       "<IPython.core.display.HTML object>"
      ]
     },
     "metadata": {},
     "output_type": "display_data"
    },
    {
     "data": {
      "text/html": [
       " <h3> <font color=\"green\"> ✓ Correct </font> </h3>"
      ],
      "text/plain": [
       "<IPython.core.display.HTML object>"
      ]
     },
     "metadata": {},
     "output_type": "display_data"
    },
    {
     "name": "stdout",
     "output_type": "stream",
     "text": [
      "477 ms ± 125 ms per loop (mean ± std. dev. of 7 runs, 1 loop each)\n"
     ]
    }
   ],
   "source": [
    "%%timeit -n 1\n",
    "# this cell terminates in less than 2 seconds on my computer\n",
    "# it might take a little bit longer (or less!) on yours\n",
    "# hopefully, not too long - otherwise, improve your solution!\n",
    "\n",
    "with tick():\n",
    "    assert print_primes(200)[5] == 13\n",
    "    assert print_primes(200)[13] * print_primes(200)[14]  == 2021\n",
    "    assert len(print_primes(2000)) == 303\n",
    "    assert len(print_primes(20000)) == 2262\n",
    "    assert print_primes(20000)[-1] == 19997\n",
    "    assert print_primes(200000)[-2] == 199967"
   ]
  },
  {
   "cell_type": "markdown",
   "metadata": {},
   "source": [
    "<br>\n",
    "\n",
    "(b) Using your code from (a), what is the 10,001th prime number?"
   ]
  },
  {
   "cell_type": "code",
   "execution_count": 6,
   "metadata": {},
   "outputs": [
    {
     "data": {
      "text/plain": [
       "104743"
      ]
     },
     "execution_count": 6,
     "metadata": {},
     "output_type": "execute_result"
    }
   ],
   "source": [
    "print_primes(1000000)[10000]"
   ]
  },
  {
   "cell_type": "markdown",
   "metadata": {
    "ExecuteTime": {
     "end_time": "2020-12-07T17:11:32.769151Z",
     "start_time": "2020-12-07T17:11:32.753727Z"
    }
   },
   "source": [
    "## A.2: Pythagorean triplet\n",
    "\n",
    "A Pythagorean triplet is a set of three natural numbers, $a < b < c$, for which,\n",
    "\n",
    "$a^2 + b^2 = c^2$\n",
    "\n",
    "For example, $3^2 + 4^2 = 9 + 16 = 25 = 5^2$.\n",
    "\n",
    "There exists exactly one Pythagorean triplet for which $a + b + c = 1000$.\n",
    "Find the product $abc$."
   ]
  },
  {
   "cell_type": "code",
   "execution_count": 7,
   "metadata": {},
   "outputs": [],
   "source": [
    "# my solution takes roughly 6 seconds\n",
    "# this is too long actually\n",
    "# your task is to do better than this "
   ]
  },
  {
   "cell_type": "code",
   "execution_count": 8,
   "metadata": {},
   "outputs": [
    {
     "name": "stdout",
     "output_type": "stream",
     "text": [
      "180 µs ± 14.2 µs per loop (mean ± std. dev. of 7 runs, 10000 loops each)\n"
     ]
    }
   ],
   "source": [
    "%%timeit\n",
    "def pythagorean_triplet(number):\n",
    "    for a in range(1,number):\n",
    "        b = (number * number - 2 * number * a) // (2 * number - 2 * a)\n",
    "        c = number - b - a\n",
    "        if a*a + b*b == c*c:\n",
    "            if a > 1 and b > 1 and a < b < c:\n",
    "                return a*b*c\n",
    "    \n",
    "\n",
    "pythagorean_triplet(1000)"
   ]
  },
  {
   "cell_type": "markdown",
   "metadata": {},
   "source": [
    "## A.3: Longest Collatz sequence\n",
    "\n",
    "The following iterative sequence is defined for the set of positive integers:\n",
    "\n",
    "$n \\rightarrow n/2 \\; (\\mbox{ if } n \\mbox{ is even})$\n",
    "\n",
    "$n \\rightarrow 3n + 1 \\; (\\mbox{ if } n \\mbox{ is odd})$\n",
    "\n",
    "Using the rule above and starting with $13$, we generate the following sequence:\n",
    "\n",
    "$13 → 40 → 20 → 10 → 5 → 16 → 8 → 4 → 2 → 1$\n",
    "\n",
    "It can be seen that this sequence (starting at $13$ and finishing at $1$) contains $10$ terms. Although it has not been proved yet (Collatz Problem), it is thought that all starting numbers finish at $1$. Which starting number, under one million, produces the longest chain?\n",
    "\n",
    "<br>\n",
    "\n",
    "**NOTE**: Once the chain starts the terms are allowed to go above one million."
   ]
  },
  {
   "cell_type": "code",
   "execution_count": 9,
   "metadata": {},
   "outputs": [],
   "source": [
    "# my solution terminates in less than 4 seconds\n",
    "# you can do better :)"
   ]
  },
  {
   "cell_type": "code",
   "execution_count": 10,
   "metadata": {},
   "outputs": [
    {
     "name": "stdout",
     "output_type": "stream",
     "text": [
      "3.02 s ± 225 ms per loop (mean ± std. dev. of 7 runs, 1 loop each)\n"
     ]
    }
   ],
   "source": [
    "%%timeit\n",
    "#global_lengths = {}\n",
    "# def length_recursion(starter, lengths, length = 1):\n",
    "#     if starter in lengths:\n",
    "#         return length + lengths[starter]\n",
    "    \n",
    "#     if starter == 1:\n",
    "#         return length\n",
    "\n",
    "#     if starter % 2 == 0:\n",
    "#         #global_lengths[starter] = length_recursion(starter // 2, length + 1)\n",
    "#         return length_recursion(starter // 2, lengths, length + 1)\n",
    "#     else:\n",
    "#         #global_lengths[starter] = length_recursion(starter * 3 + 1, length + 1)\n",
    "#         return length_recursion(starter * 3 + 1, lengths, length + 1)\n",
    "    \n",
    "# def collatz():\n",
    "#     i = 1\n",
    "#     lengths = {}\n",
    "#     while i <= 1_000_000:\n",
    "#         starter = i\n",
    "#         length = length_recursion(starter, lengths)\n",
    "#         lengths[i] = length\n",
    "#         i += 1\n",
    "#     return max(lengths, key = lambda k: lengths[k])\n",
    "\n",
    "def collatz1():\n",
    "    lengths = {}\n",
    "    i = 1\n",
    "    while i <= 1000000:\n",
    "        starter = i\n",
    "        temp_len = 1\n",
    "        while starter > 1:\n",
    "            if starter % 2 == 0:\n",
    "                starter = starter // 2\n",
    "            else:\n",
    "                starter = 3 * starter + 1\n",
    "                \n",
    "            if starter in lengths:\n",
    "                temp_len += lengths[starter]\n",
    "                break\n",
    "            else:\n",
    "                temp_len += 1\n",
    "\n",
    "        lengths[i] = temp_len\n",
    "        i += 1\n",
    "    return max(lengths, key = lambda k: lengths[k])\n",
    "\n",
    "#collatz()\n",
    "collatz1()\n",
    "\n",
    "    "
   ]
  },
  {
   "cell_type": "markdown",
   "metadata": {
    "ExecuteTime": {
     "end_time": "2020-12-07T17:11:32.769151Z",
     "start_time": "2020-12-07T17:11:32.753727Z"
    }
   },
   "source": [
    "## B The Travelling salesman problem (TSP)\n",
    "\n",
    "In this exercise, you will implement a program that attempts to solve an instance of the Travelling Salesman Problem (TSP). Your program will read an instance of the TSP from a file, construct an attempted solution (a tour), and display it on the screen."
   ]
  },
  {
   "cell_type": "markdown",
   "metadata": {
    "ExecuteTime": {
     "end_time": "2020-12-07T17:11:32.769151Z",
     "start_time": "2020-12-07T17:11:32.753727Z"
    }
   },
   "source": [
    "## Background\n",
    "\n",
    "In the TSP, we are given a set of cities, which we will think of as points with coordinates. The problem is to start at a particular point, visit all other points once and only once, returning finally to the starting point, and in doing so to travel the minimum possible total distance.\n",
    "\n",
    "The TSP is an infamously difficult computational challenge, but it is also an important practical problem. The following are some obvious examples: \n",
    "* an engineer has to visit a number of customers and return to base; \n",
    "* rubbish has to be picked up and then dumped; \n",
    "* a robot on a factory floor has to deliver parts to machines and then return to the store room;\n",
    "* logistics companies need to deliver goods throughout the country, etc. \n",
    "\n",
    "In all such cases, a shorter round trip saves time and money. In principle, this problem can be solved by trying out all of the possible tours, that is, all of the possible orders in which the points might be visited, noting the length of each and choosing the shortest. \n",
    "\n",
    "For example, assume that we have $4$ points $A$, $B$, $C$ and $D$, and that we start at point $A$. We might examine all possible tours: \n",
    "\n",
    "$A \\rightarrow B \\rightarrow C \\rightarrow D \\rightarrow A$;\n",
    "\n",
    "$A \\rightarrow B \\rightarrow D \\rightarrow C \\rightarrow A$;\n",
    "\n",
    "$A \\rightarrow C \\rightarrow B \\rightarrow D \\rightarrow A$;\n",
    "\n",
    "$A \\rightarrow C \\rightarrow D \\rightarrow B \\rightarrow A$;\n",
    "\n",
    "$A \\rightarrow D \\rightarrow B \\rightarrow C \\rightarrow A$;\n",
    "\n",
    "$A \\rightarrow D \\rightarrow C \\rightarrow B \\rightarrow A$.\n",
    "\n",
    "\n",
    "This is an example of a brute force algorithm, or exhaustive search. If we have $n$ points, with a fixed starting point, the number of possible tours is given by the formula: \n",
    "\n",
    "$(n-1)\\times (n-2) \\times \\cdots \\times 3 \\times 2 \\times 1$, the so-called factorial function, $(n-1)!$. \n",
    "\n",
    "The table below gives some values of this function, and shows how long it would take a computer program to check all possible tours in each case, assuming that $10^9$ (a billion) tours could be checked each second.\n",
    "\n",
    "| $n$ &nbsp;&nbsp;&nbsp;| $(n-1)!$ &nbsp;&nbsp;&nbsp;| Time required &nbsp;&nbsp;&nbsp;|\n",
    "| --- | --- | --- |\n",
    "| 10     |  362880       |      0.0004 seconds|\n",
    "| 15    |   8.7 x 1010    |     1.5 minutes|\n",
    "|    20    |   1.2 x 1017    |     4 years|\n",
    "|    25    |   6.1 x 1023    |     20 million years|\n",
    "|    30    |   8.8 x 1030    |     2.8 x 1014 years|\n",
    "\n",
    "Clearly, for anything but a small number of points, exhaustive search is infeasible. Therefore, we are usually forced to relax our requirements, and rather than demand an optimal tour, we accept a sub-optimal tour that can be computed in a reasonable amount of time. One approach that may seem reasonable is known as the *Nearest Neighbour Algorithm*, described below. It is easy to implement, but unfortunately it often finds a tour that is not very close to optimal. Your task is to implement the Nearest Neighbour Algorithm."
   ]
  },
  {
   "cell_type": "markdown",
   "metadata": {
    "ExecuteTime": {
     "end_time": "2020-12-07T17:11:32.769151Z",
     "start_time": "2020-12-07T17:11:32.753727Z"
    }
   },
   "source": [
    "## The Nearest Neighbour Algorithm\n",
    "\n",
    "The *Nearest Neighbour Algorithm* constructs a particular tour. A starting point is selected, and we call this the current point. We then select, as the next point in the tour, the point that is closest to the current point. We move to that point and repeat the process, selecting next the unvisited point that is closest to our new current point. The process terminates when we have visited all of the points, and we then have to travel directly back to our starting point. \n",
    "\n",
    "Typically, the Nearest Neighbour Algorithm constructs a tour that starts off with short steps, but ultimately has a few long steps to pick up outlying points, and then has one very long step back from the last point visited to the starting point.\n",
    "\n",
    "Let *Tour* be the sequence in which the points will be visited. Initially, *Tour* contains a chosen starting point. The Nearest Neighbour Algorithm might be described as follows.\n",
    "\n",
    "    while at least one point remains unvisited:\n",
    "      * let CurrentPoint be the most recent point in Tour\n",
    "      * find NextPoint, the nearest unvisited point to CurrentPoint\n",
    "      * append NextPoint to Tour\n",
    "            \n",
    "There is a clever way to implement this by storing the sequence in a list *Cities*, and rather than having a separate list *Tour*, merely rearranging *Cities*, as follows:\n",
    "\n",
    "1. Find the index `j` of the city in `Cities`, in position at least 1, which is nearest to `Cities[0]`; swap `Cities[1]` and `Cities[j]`\n",
    "    \n",
    "2. Find the index `j` of the city in `Cities`, in position at least 2, which is nearest to `Cities[1]`; swap `Cities[2]` and `Cities[j]`\n",
    "\n",
    "3. Find the index `j` of the city in `Cities`, in position at least 3, which is nearest to `Cities[2]`; swap `Cities[3]` and `Cities[j]`\n",
    "\n",
    "...\n",
    " \n",
    "n-2. Find the index `j` of the city in `Cities`, in position at least `N-2`, which is nearest to `Cities[n-3]`; swap `Cities[n-2]` and `Cities[j]`.\n",
    "\n",
    "<!-- \n",
    "After step $i$, positions $0 \\ldots i$ of `Cities` contain the *solved* part of the list, that is, the partial tour constructed so far. -->"
   ]
  },
  {
   "cell_type": "markdown",
   "metadata": {
    "ExecuteTime": {
     "end_time": "2020-12-07T17:11:32.769151Z",
     "start_time": "2020-12-07T17:11:32.753727Z"
    }
   },
   "source": [
    "## The main problem\n",
    "Read in the data from the text file provided (`Cities.txt`). Each line of the file holds data about one city, namely the $X$ and $Y$ coordinates of that city followed by the city's name. Successive items are separated by a single space. The coordinates are compatible with the drawing conventions used by the Canvas module: $X$ coordinates increase from West to East, and $Y$ coordinates increase from North to South.\n",
    "\n",
    "(i) Construct a tour using the Nearest Neighbour Algorithm.\n",
    "\n",
    "(ii) Draw a picture of this tour using the Canvas module, reporting the length of the tour drawn (expressed as an integer, in units corresponding to the coordinate values). The screenshot below shows the kind of output that is required.\n",
    "\n",
    "<img src=\"imgs/tour.png\" width=60%> "
   ]
  },
  {
   "cell_type": "markdown",
   "metadata": {
    "ExecuteTime": {
     "end_time": "2020-12-07T17:11:32.769151Z",
     "start_time": "2020-12-07T17:11:32.753727Z"
    }
   },
   "source": [
    "**NOTES**\n",
    "\n",
    "1. Make sure you understand very clearly how the Nearest Neighbour Algorithm works. The description of the algorithm makes it clear that you should use a list of cities, but what data structure will you use to represent the data about each individual city?\n",
    "\n",
    "2. Write a top-level plan for this problem, and refinements for each major step. Think about how you will break up the program into appropriate functions. Type your plan into the file `plan.txt`, which will form part of your solution (**Tutors, please make sure to check this!**).\n",
    "\n",
    "3. Working from your plan, implement the program and test it. As well as testing your program with the given file of cities, you might find it useful to create your own test files in which it is obvious what the tour should be. You can start by reading the data from the file and drawing a tour in which the cities are visited in exactly the order that they occur in the file.\n",
    "\n",
    "4. (*optional*) The Nearest Neighbour Algorithm will give tours of different lengths for different starting points. Instead of just starting from the first city in the file, calculate the length of the Nearest Neighbour tour for each starting point in turn, and display the shortest tour that you find."
   ]
  },
  {
   "cell_type": "code",
   "execution_count": 15,
   "metadata": {},
   "outputs": [
    {
     "name": "stdout",
     "output_type": "stream",
     "text": [
      "(['Warsaw', 'Sofia', 'Athens', 'Ankara', 'Moscow', 'Helsinki', 'Stockholm', 'Copenhagen', 'Berlin', 'Prague', 'Berne', 'Rome', 'Madrid', 'Lisbon', 'Paris', 'Brussels', 'London', 'Glasgow', 'Oslo', 'Warsaw'], 1282)\n",
      "Sofia\n"
     ]
    }
   ],
   "source": [
    "import sys\n",
    "import math\n",
    "#Globals\n",
    "MAX_INT = sys.maxsize\n",
    "STARTING_POINT = \"Stockholm\"\n",
    "\n",
    "def read_file(filename):\n",
    "    dictionary = {}\n",
    "    with open(filename) as file:\n",
    "        for f in file:\n",
    "            line = f.strip().split()\n",
    "            dictionary[line[len(line)-1]] = {\"x\":int(line[0]), \"y\":int(line[1])}\n",
    "    return dictionary\n",
    "\n",
    "def distance_between_two_cities(starting_city, final_city, dictionary):\n",
    "    starting_city_X = dictionary[starting_city][\"x\"]\n",
    "    starting_city_Y = dictionary[starting_city][\"y\"]\n",
    "    \n",
    "    final_city_X = dictionary[final_city][\"x\"]\n",
    "    final_city_Y = dictionary[final_city][\"y\"]\n",
    "    \n",
    "    difference_X = starting_city_X - final_city_X\n",
    "    difference_Y = starting_city_Y - final_city_Y\n",
    "    \n",
    "    pythagoras_distance = int(math.sqrt(difference_X ** 2 + difference_Y ** 2)) #c = sqrt(a^2 + b^2)\n",
    "    return pythagoras_distance\n",
    "        \n",
    "def less_distant_city(starting_city, dictionary):\n",
    "    #a copy of the dictionary so to remove the starting point\n",
    "    #without actually removing it from the sequence\n",
    "    temp_dic = dictionary.copy() \n",
    "    \n",
    "    max_distance = MAX_INT #the maximum distance gets the biggest integer\n",
    "    closest_city = starting_city \n",
    "    for key,value in dictionary.items():\n",
    "        if key != starting_city:\n",
    "            pythagoras_distance = distance_between_two_cities(starting_city, key, dictionary)\n",
    "            if max_distance > pythagoras_distance:\n",
    "                max_distance = pythagoras_distance\n",
    "                closest_city = key #the closest city becomes the less distant one\n",
    "    return closest_city, max_distance\n",
    "\n",
    "def route_generator(starting_point, dictionary):\n",
    "    visited_cities = [starting_point]\n",
    "    copy_dictionary = dictionary.copy() #creating a copy of the real dictionary\n",
    "    current_city = starting_point\n",
    "    total_route_distance = 0\n",
    "    \n",
    "    while len(visited_cities) != len(dictionary.keys()):\n",
    "        next_city, distance = less_distant_city(current_city, copy_dictionary)\n",
    "        copy_dictionary.pop(current_city) #removing the visited city from the temporary dictionary\n",
    "        current_city = next_city\n",
    "        total_route_distance += distance\n",
    "        visited_cities.append(current_city)\n",
    "    \n",
    "    #getting the distance from the last city to the starting city and adding it to the route distance\n",
    "    last_distance = distance_between_two_cities(current_city, starting_point, dictionary) \n",
    "    total_route_distance += last_distance\n",
    "    \n",
    "    #adding the starting city as a final city to complete the route\n",
    "    visited_cities.append(starting_point)\n",
    "    \n",
    "    return visited_cities, total_route_distance\n",
    "\n",
    "def best_route(dictionary):\n",
    "    best_city = \"\"\n",
    "    best_distance = MAX_INT\n",
    "    for city in dictionary:\n",
    "        cities, current_distance = route_generator(city, dictionary)\n",
    "        current_city = cities[0]\n",
    "        #if current distance is equal to the best distance\n",
    "        #then best city becomes the last city with such distance\n",
    "        if best_distance >= current_distance:\n",
    "            best_distance = current_distance\n",
    "            best_city = current_city\n",
    "    return best_city\n",
    " \n",
    "\n",
    "dic = read_file(\"Cities.txt\").copy()\n",
    "#temp_dic = {\"Sofia\":{\"x\":2,\"y\":4}, \"Plovdiv\":{\"x\":6,\"y\":2}, \"Smolyan\":{\"x\":3,\"y\":6}, \"Stolipinovo\":{\"x\":1,\"y\":3}}\n",
    "\n",
    "print(route_generator(\"Warsaw\", dic))\n",
    "print(best_route(dic))\n",
    "\n"
   ]
  },
  {
   "cell_type": "code",
   "execution_count": 12,
   "metadata": {},
   "outputs": [],
   "source": [
    "# Below is a a quick quide \n",
    "# showing how to use the Canvas module\n",
    "# for drawing text, oval and lines\n",
    "\n",
    "# Drawback: it could crash or raise WindowGone error,\n",
    "# when this happens, just restart the Kernel."
   ]
  },
  {
   "cell_type": "code",
   "execution_count": 13,
   "metadata": {},
   "outputs": [],
   "source": [
    "from Canvas import *\n",
    "\n",
    "# x1, y1, name1 = 235, 35, \"Stockholm\"\n",
    "# x2, y2, name2 = 285, 15, \"Helsinki\"\n",
    "\n",
    "# create_oval(x1-2, y1-2, x1+2, y1+2)\n",
    "# create_text(x1+3, y1+4, text=name1)\n",
    "\n",
    "# create_oval(x2-2, y2-2, x2+2, y2+2)\n",
    "# create_text(x2+3, y2+4, text=name2)\n",
    "\n",
    "# create_line(x1, y1, x2, y2)\n",
    "# complete()\n",
    "\n",
    "def canvas(visited_cities, dictionary):\n",
    "    last_city = visited_cities[0]\n",
    "    last_city_x = dictionary[last_city][\"x\"]\n",
    "    last_city_y = dictionary[last_city][\"y\"]\n",
    "    \n",
    "    starting_city, starting_x, starting_y = last_city, last_city_x, last_city_y\n",
    "    \n",
    "    create_oval(last_city_x - 2, last_city_y - 2, last_city_x + 2, last_city_y + 2)\n",
    "    create_text(last_city_x + 3, last_city_y + 4, text = last_city)\n",
    "    \n",
    "    i = 1\n",
    "    while i != len(visited_cities) - 1:\n",
    "        current_city = visited_cities[i]\n",
    "        current_x = dictionary[current_city][\"x\"]\n",
    "        current_y = dictionary[current_city][\"y\"]\n",
    "        \n",
    "        create_oval(current_x - 2, current_y - 2, current_x + 2, current_y + 2)\n",
    "        create_text(current_x + 3, current_y + 4, text = current_city)\n",
    "        \n",
    "        create_line(last_city_x, last_city_y, current_x, current_y)\n",
    "        \n",
    "        last_city = current_city\n",
    "        last_city_x = current_x\n",
    "        last_city_y = current_y\n",
    "        \n",
    "        i += 1\n",
    "        \n",
    "    create_line(last_city_x, last_city_y, starting_x, starting_y)\n",
    "    complete()\n",
    "    \n",
    "visited_cities, total_length = route_generator(STARTING_POINT, dic)\n",
    "canvas(visited_cities, dic)\n",
    "\n",
    "    \n",
    "# ** Unrelated but equally important comment :) **\n",
    "# The names of these cities reminds me of \n",
    "# Money Heist - it's on Netflix!"
   ]
  },
  {
   "cell_type": "markdown",
   "metadata": {},
   "source": [
    "<img src=\"imgs/guide.png\" width=50%> "
   ]
  },
  {
   "cell_type": "code",
   "execution_count": null,
   "metadata": {},
   "outputs": [],
   "source": []
  }
 ],
 "metadata": {
  "kernelspec": {
   "display_name": "Python 3",
   "language": "python",
   "name": "python3"
  },
  "language_info": {
   "codemirror_mode": {
    "name": "ipython",
    "version": 3
   },
   "file_extension": ".py",
   "mimetype": "text/x-python",
   "name": "python",
   "nbconvert_exporter": "python",
   "pygments_lexer": "ipython3",
   "version": "3.8.3"
  },
  "latex_envs": {
   "LaTeX_envs_menu_present": true,
   "autoclose": false,
   "autocomplete": true,
   "bibliofile": "biblio.bib",
   "cite_by": "apalike",
   "current_citInitial": 1,
   "eqLabelWithNumbers": true,
   "eqNumInitial": 1,
   "hotkeys": {
    "equation": "Ctrl-E",
    "itemize": "Ctrl-I"
   },
   "labels_anchors": false,
   "latex_user_defs": false,
   "report_style_numbering": false,
   "user_envs_cfg": false
  },
  "toc": {
   "base_numbering": 1,
   "nav_menu": {},
   "number_sections": false,
   "sideBar": true,
   "skip_h1_title": false,
   "title_cell": "Table of Contents",
   "title_sidebar": "Contents",
   "toc_cell": false,
   "toc_position": {},
   "toc_section_display": true,
   "toc_window_display": false
  }
 },
 "nbformat": 4,
 "nbformat_minor": 4
}
