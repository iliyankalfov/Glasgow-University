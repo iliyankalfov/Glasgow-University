{
 "cells": [
  {
   "cell_type": "markdown",
   "metadata": {},
   "source": [
    "# Lab 8\n",
    "<br>\n",
    "\n",
    "# Object-Oriented Programming (OOP)\n",
    "---\n",
    "\n",
    "##### CS1P. Semester 2. Python 3.x\n",
    "##### This lab was prepared by John H. Williamson \n",
    " ---"
   ]
  },
  {
   "cell_type": "code",
   "execution_count": 26,
   "metadata": {
    "ExecuteTime": {
     "end_time": "2021-02-24T13:18:08.879585Z",
     "start_time": "2021-02-24T13:18:08.869824Z"
    }
   },
   "outputs": [],
   "source": [
    "from utils.tick import tick"
   ]
  },
  {
   "cell_type": "markdown",
   "metadata": {},
   "source": []
  },
  {
   "cell_type": "markdown",
   "metadata": {},
   "source": [
    "## Purpose of this lab\n",
    "This lab will exercise your skills in:\n",
    "\n",
    "* writing classes\n",
    "* representing data as dictionaries\n",
    "* using dictionaries to package up arguments\n",
    "* flying drones (badly)\n"
   ]
  },
  {
   "cell_type": "markdown",
   "metadata": {},
   "source": [
    "# A. Quick problems"
   ]
  },
  {
   "cell_type": "markdown",
   "metadata": {},
   "source": [
    "# A.1 Data class\n",
    "\n",
    "Define a class `Cat`, with  an `__init__` method that sets instance variables `name, weight, age, temperament` and `colour`."
   ]
  },
  {
   "cell_type": "code",
   "execution_count": 4,
   "metadata": {
    "ExecuteTime": {
     "end_time": "2021-02-08T10:30:01.085912Z",
     "start_time": "2021-02-08T10:30:01.081924Z"
    }
   },
   "outputs": [],
   "source": [
    "## Solution\n",
    "class Cat:\n",
    "    def __init__(self, name, weight, age, temperament, colour):\n",
    "        self.name = name\n",
    "        self.weight = weight\n",
    "        self.age = age\n",
    "        self.temperament = temperament\n",
    "        self.colour = colour"
   ]
  },
  {
   "cell_type": "code",
   "execution_count": 5,
   "metadata": {
    "ExecuteTime": {
     "end_time": "2021-02-08T10:30:01.233530Z",
     "start_time": "2021-02-08T10:30:01.224555Z"
    }
   },
   "outputs": [
    {
     "data": {
      "text/html": [
       " <h3> <font color=\"green\"> ✓ Correct </font> </h3>"
      ],
      "text/plain": [
       "<IPython.core.display.HTML object>"
      ]
     },
     "metadata": {},
     "output_type": "display_data"
    }
   ],
   "source": [
    "## Tests\n",
    "with tick():\n",
    "    c = Cat(\"Cooper\", 4.0, 4, \"terrible\", \"gray\")\n",
    "    assert hasattr(c, \"name\") and c.name==\"Cooper\"\n",
    "    assert hasattr(c, \"weight\") and c.weight==4.0\n",
    "    assert hasattr(c, \"age\") and c.age==4\n",
    "    assert hasattr(c, \"temperament\") and c.temperament==\"terrible\"\n",
    "    assert hasattr(c, \"colour\") and c.colour==\"gray\"    "
   ]
  },
  {
   "cell_type": "markdown",
   "metadata": {},
   "source": [
    "# A.2 Family names\n",
    "\n",
    "Create a class `FamilyName` that has an instance variable `first_name` and a **class** variable `last_name`, initialised to \"Unknown\". \n",
    "\n",
    "* Make the constructor (`__init__`) take `first_name` as an argument.\n",
    "* Add an *instance* method `set_last_name` that sets *every* `FamilyName` instance's `last_name`.\n",
    "* Add a method `get_name` which returns the first and last name joined together with a space.\n"
   ]
  },
  {
   "cell_type": "code",
   "execution_count": 10,
   "metadata": {
    "ExecuteTime": {
     "end_time": "2021-02-08T10:30:01.539712Z",
     "start_time": "2021-02-08T10:30:01.534726Z"
    }
   },
   "outputs": [
    {
     "data": {
      "text/plain": [
       "'John qnko'"
      ]
     },
     "execution_count": 10,
     "metadata": {},
     "output_type": "execute_result"
    }
   ],
   "source": [
    "## Solution\n",
    "class FamilyName:\n",
    "    \n",
    "    last_name = \"Unknown\"\n",
    "    \n",
    "    def __init__(self, first_name):\n",
    "        self.first_name = first_name\n",
    "        \n",
    "    def set_last_name(self, last_name):\n",
    "        FamilyName.last_name = last_name\n",
    "        \n",
    "    def get_name(self):\n",
    "        return f\"{self.first_name} {FamilyName.last_name}\"\n"
   ]
  },
  {
   "cell_type": "code",
   "execution_count": 11,
   "metadata": {
    "ExecuteTime": {
     "end_time": "2021-02-08T10:30:01.882794Z",
     "start_time": "2021-02-08T10:30:01.877808Z"
    }
   },
   "outputs": [
    {
     "data": {
      "text/html": [
       " <h3> <font color=\"green\"> ✓ Correct </font> </h3>"
      ],
      "text/plain": [
       "<IPython.core.display.HTML object>"
      ]
     },
     "metadata": {},
     "output_type": "display_data"
    }
   ],
   "source": [
    "## Tests\n",
    "with tick():\n",
    "    nm_1 = FamilyName(\"John\")    \n",
    "    nm_1.get_name()\n",
    "\n",
    "    nm_1.set_last_name(\"Williamson\")\n",
    "    assert nm_1.get_name() == \"John Williamson\"\n",
    "\n",
    "    nm_2 = FamilyName(\"Marco\")\n",
    "    assert nm_2.get_name() == \"Marco Williamson\"\n",
    "\n",
    "    nm_1.set_last_name(\"Polo\")\n",
    "    assert nm_2.get_name() == \"Marco Polo\"\n",
    "    assert nm_1.get_name() == \"John Polo\""
   ]
  },
  {
   "cell_type": "markdown",
   "metadata": {},
   "source": [
    "# A.3 Convert a dictionary\n",
    "\n",
    "The following code defines a list of dictionaries representing different types of dice used in board games, and some functions that operate on those dictionaries. Rewrite this as a class `Die`, where the keys of the dictionaries become instance variables, and the functions defined become methods operating on `self`.\n",
    "\n",
    "Then, create a list called `dice_class` of instances of `Die` *initialising the values from the dictionary.*"
   ]
  },
  {
   "cell_type": "code",
   "execution_count": 13,
   "metadata": {
    "ExecuteTime": {
     "end_time": "2021-02-08T10:30:03.054714Z",
     "start_time": "2021-02-08T10:30:03.048731Z"
    }
   },
   "outputs": [],
   "source": [
    "import random\n",
    "\n",
    "dice = [\n",
    "    {\"name\": \"d6\", \"sides\": 6, \"shape\": \"cube\"},\n",
    "    {\"name\": \"d4\", \"sides\": 4, \"shape\": \"tetrahedron\"},\n",
    "    {\"name\": \"d12\", \"sides\": 12, \"shape\": \"dodecahedron\"},\n",
    "    {\"name\": \"d8\", \"sides\": 8, \"shape\": \"octahedron\"},\n",
    "    {\"name\": \"d20\", \"sides\": 20, \"shape\": \"icosahedron\"},\n",
    "]\n",
    "\n",
    "def roll_die(die):\n",
    "    return random.randint(1, die[\"sides\"])\n",
    "\n",
    "def opposite_face_sum(die):\n",
    "    if die[\"sides\"]>4:\n",
    "        return die[\"sides\"]+1\n",
    "    else:\n",
    "        raise ValueError(\"Die has no opposing sides!\")"
   ]
  },
  {
   "cell_type": "code",
   "execution_count": 19,
   "metadata": {
    "ExecuteTime": {
     "end_time": "2021-02-08T10:30:03.361894Z",
     "start_time": "2021-02-08T10:30:03.356907Z"
    }
   },
   "outputs": [],
   "source": [
    "import random\n",
    "## Solution\n",
    "class Die:\n",
    "    def __init__(self, name, sides, shape):\n",
    "        self.name = name\n",
    "        self.sides = sides\n",
    "        self.shape = shape\n",
    "        \n",
    "    def roll_die(self):\n",
    "        return random.randint(1, self.sides)\n",
    "    \n",
    "    def opposite_face_sum(self):\n",
    "        if self.sides > 4:\n",
    "            return self.sides + 1\n",
    "        else:\n",
    "            raise ValueError(\"Die has no opposing sides\")\n",
    "\n",
    "dice_class = [\n",
    "    Die(\"d6\", 6, \"cube\"),\n",
    "    Die(\"d4\", 4, \"tetrahedron\"),\n",
    "    Die(\"d12\", 12, \"dodecahedron\"),\n",
    "    Die(\"d8\", 8, \"octahedron\"),\n",
    "    Die(\"d20\", 20, \"icosahedron\")\n",
    "]"
   ]
  },
  {
   "cell_type": "code",
   "execution_count": 20,
   "metadata": {
    "ExecuteTime": {
     "end_time": "2021-02-08T10:30:03.693008Z",
     "start_time": "2021-02-08T10:30:03.687024Z"
    }
   },
   "outputs": [
    {
     "name": "stdout",
     "output_type": "stream",
     "text": [
      "d6 rolled a 5\n",
      "d4 rolled a 4\n",
      "d12 rolled a 7\n",
      "d8 rolled a 3\n",
      "d20 rolled a 11\n"
     ]
    },
    {
     "data": {
      "text/html": [
       " <h3> <font color=\"green\"> ✓ Correct </font> </h3>"
      ],
      "text/plain": [
       "<IPython.core.display.HTML object>"
      ]
     },
     "metadata": {},
     "output_type": "display_data"
    }
   ],
   "source": [
    "## Tests\n",
    "with tick():\n",
    "    \n",
    "    assert len(dice_class)==len(dice)\n",
    "    assert dice_class[0].__class__.__name__==\"Die\"\n",
    "    assert dice_class[0].name == dice[0][\"name\"]\n",
    "    assert dice_class[0].sides == dice[0][\"sides\"]\n",
    "    assert dice_class[0].shape == dice[0][\"shape\"]\n",
    "    for d in dice_class:\n",
    "        print(f\"{d.name} rolled a {d.roll_die()}\")\n",
    "\n",
    "    assert dice_class[0].opposite_face_sum()==7    \n",
    "    assert dice_class[-1].opposite_face_sum()==21    "
   ]
  },
  {
   "cell_type": "markdown",
   "metadata": {},
   "source": [
    "# A.4 Fraction\n",
    "\n",
    "Define a class `Fraction` that takes two arguments (numerator and denominator) in `__init__`. Define the following methods:\n",
    "\n",
    "* `as_float(self)` returns the fraction as a floating point number (by dividing the numerator by the denominator)\n",
    "* `as_string(self)` returns the fraction as a string, like \"9/8\"\n",
    "* `multiply(self, fraction)` that multiplies the given fraction by *another* instance of `Fraction` (note the rule for multiplying fractions is `a/b * c/d = a*c / b*d`) and returns a new instance of Fraction.\n",
    "\n"
   ]
  },
  {
   "cell_type": "code",
   "execution_count": 27,
   "metadata": {
    "ExecuteTime": {
     "end_time": "2021-02-08T10:30:04.368714Z",
     "start_time": "2021-02-08T10:30:04.363727Z"
    }
   },
   "outputs": [
    {
     "data": {
      "text/plain": [
       "'2.0/5.9'"
      ]
     },
     "execution_count": 27,
     "metadata": {},
     "output_type": "execute_result"
    }
   ],
   "source": [
    "## Solution\n",
    "class Fraction:\n",
    "    \n",
    "    def __init__(self, numerator, denominator):\n",
    "        self.numerator = numerator\n",
    "        self.denominator = denominator\n",
    "        \n",
    "    def as_float(self):\n",
    "        return self.numerator / self.denominator\n",
    "    \n",
    "    def as_string(self):\n",
    "        return str(self.numerator) + \"/\" + str(self.denominator)\n",
    "    \n",
    "    def multiply(self, fraction):\n",
    "        numerator_mul = self.numerator * fraction.numerator\n",
    "        denomirator_mul = self.denominator * fraction.denominator\n",
    "        return Fraction(numerator_mul, denomirator_mul)\n"
   ]
  },
  {
   "cell_type": "code",
   "execution_count": 28,
   "metadata": {
    "ExecuteTime": {
     "end_time": "2021-02-08T10:30:04.646489Z",
     "start_time": "2021-02-08T10:30:04.640504Z"
    }
   },
   "outputs": [
    {
     "data": {
      "text/html": [
       " <h3> <font color=\"green\"> ✓ Correct </font> </h3>"
      ],
      "text/plain": [
       "<IPython.core.display.HTML object>"
      ]
     },
     "metadata": {},
     "output_type": "display_data"
    }
   ],
   "source": [
    "## Tests\n",
    "with tick():\n",
    "    half = Fraction(1,2)\n",
    "    two_third = Fraction(2, 3)\n",
    "    three_eight = Fraction(3, 8)\n",
    "    assert half.as_float()==0.5\n",
    "    assert three_eight.as_float()==3.0/8.0    \n",
    "    assert two_third.as_string()==\"2/3\"\n",
    "    assert half.as_string()==\"1/2\"\n",
    "    prod = half.multiply(two_third)\n",
    "    assert prod.as_float() == (1/2) * (2/3)    \n",
    "    assert prod.as_string() ==  \"2/6\"\n",
    "    assert half.as_float()==0.5\n",
    "    assert half.as_string()==\"1/2\"\n",
    "            "
   ]
  },
  {
   "cell_type": "markdown",
   "metadata": {},
   "source": [
    "# A.5 Fraction special methods\n",
    "Modify `Fraction` defined above:\n",
    "\n",
    "* modify `multiply` so that if the \"other\" value passed is an instance of  `Fraction`, you multiply as before; if it is an instance of `int` then you multiply the numerator by that integer; and otherwise you raise a `TypeError`.\n",
    "\n",
    "And add two new methods:\n",
    "\n",
    "* `__str__(self)`, which just calls `self.as_string` and returns the result;\n",
    "* `__mul__(self, other)`, which just calls `self.multiply` and returns the result\n",
    "\n",
    "Verify that you can now:\n",
    "\n",
    "(a) print out any instance of `Fraction` and see the string value directly;\n",
    "\n",
    "(b) write products of fractions using the ordinary `*` operator. For example, `print(Fraction(2,3) * Fraction(1,2))` should print `2/6`.\n"
   ]
  },
  {
   "cell_type": "code",
   "execution_count": 41,
   "metadata": {
    "ExecuteTime": {
     "end_time": "2021-02-08T10:30:05.196018Z",
     "start_time": "2021-02-08T10:30:05.190035Z"
    }
   },
   "outputs": [
    {
     "name": "stdout",
     "output_type": "stream",
     "text": [
      "2/2\n",
      "2/2\n"
     ]
    }
   ],
   "source": [
    "## Solution\n",
    "class Fraction:\n",
    "    \n",
    "    def __init__(self, numerator, denominator):\n",
    "        self.numerator = numerator\n",
    "        self.denominator = denominator\n",
    "        \n",
    "    def as_float(self):\n",
    "        return self.numerator / self.denominator\n",
    "    \n",
    "    def as_string(self):\n",
    "        return str(self.numerator) + \"/\" + str(self.denominator)\n",
    "    \n",
    "    def multiply(self, other):\n",
    "        if type(other) == int:\n",
    "            return Fraction(self.numerator * other, self.denominator)\n",
    "        elif type(other) == Fraction:     \n",
    "            numerator_mul = self.numerator * other.numerator\n",
    "            denomirator_mul = self.denominator * other.denominator\n",
    "            return Fraction(numerator_mul, denomirator_mul)\n",
    "        else:\n",
    "            raise TypeError(\"This type is not supported!\")\n",
    "    \n",
    "    def __mul__(self, other):\n",
    "        return self.multiply(other)\n",
    "    \n",
    "    def __str__(self):\n",
    "        return self.as_string()\n",
    "    "
   ]
  },
  {
   "cell_type": "code",
   "execution_count": 42,
   "metadata": {
    "ExecuteTime": {
     "end_time": "2021-02-08T10:30:05.553570Z",
     "start_time": "2021-02-08T10:30:05.547586Z"
    }
   },
   "outputs": [
    {
     "name": "stdout",
     "output_type": "stream",
     "text": [
      "1/2\n",
      "1/4\n",
      "4/2\n"
     ]
    },
    {
     "data": {
      "text/html": [
       " <h3> <font color=\"green\"> ✓ Correct </font> </h3>"
      ],
      "text/plain": [
       "<IPython.core.display.HTML object>"
      ]
     },
     "metadata": {},
     "output_type": "display_data"
    }
   ],
   "source": [
    "## Tests\n",
    "with tick():\n",
    "    half = Fraction(1,2)\n",
    "    print(half)\n",
    "    print(half * half)\n",
    "    print(half * 4)\n",
    "    assert str(half)==\"1/2\"    \n",
    "    two_third = Fraction(2, 3)\n",
    "    assert str(two_third)==\"2/3\"\n",
    "    prod = half * two_third\n",
    "    assert str(prod)==\"2/6\"\n",
    "    assert str(half.multiply(2)) == \"2/2\"\n",
    "    assert str(half * 2) == \"2/2\"\n",
    "    try: \n",
    "        half * 2.0\n",
    "    except TypeError:\n",
    "        assert True\n",
    "    else:\n",
    "        assert False, \"Didn't fail when multiplying by an float\""
   ]
  },
  {
   "cell_type": "markdown",
   "metadata": {},
   "source": [
    "# A.6 Type collection\n",
    "\n",
    "You can get the name of the type of an object using  `type(x).__class__.__name__`. For example:"
   ]
  },
  {
   "cell_type": "code",
   "execution_count": 13,
   "metadata": {
    "ExecuteTime": {
     "end_time": "2021-02-08T10:30:06.384386Z",
     "start_time": "2021-02-08T10:30:06.380397Z"
    }
   },
   "outputs": [
    {
     "name": "stdout",
     "output_type": "stream",
     "text": [
      "int\n",
      "str\n",
      "dict\n"
     ]
    }
   ],
   "source": [
    "print((4).__class__.__name__) # int\n",
    "print((\"hey\").__class__.__name__) # string\n",
    "print(({}).__class__.__name__) # dictionary"
   ]
  },
  {
   "cell_type": "markdown",
   "metadata": {},
   "source": []
  },
  {
   "cell_type": "markdown",
   "metadata": {},
   "source": [
    "Write a class `TypeCollection`. This class will represent a container that can hold objects of different types, but each type has its own separate \"space\". For example, all ints are held separately from all floats. \n",
    "\n",
    "<div class=\"alert alert-info\">\n",
    "    \n",
    "Hint: use an internal dictionary to map the *name* of the type to a list of objects.\n",
    "</div>\n",
    "\n",
    "The class should have the following methods:\n",
    "    \n",
    "* `add(self, obj)` which adds `obj` to a collection\n",
    "* `remove(self, obj)` which removes `obj` from a collection (and raises a `ValueError` if the object is not present).\n",
    "* `remove_all(self, typename)` which removes all objects of type `typename` from the collection\n",
    "* `get_all(self, typename)` which returns all objects of the type `typename`, as a list.\n",
    "* `__str__(self)` which returns a string with all of the objects laid out like this (sorted alphabetically in order by name of type):\n",
    "\n",
    "        float\n",
    "            1.0\n",
    "        int\n",
    "            9\n",
    "            2\n",
    "        str\n",
    "            1\n",
    "            hey\n",
    "        tuple\n",
    "            (3, 4)"
   ]
  },
  {
   "cell_type": "code",
   "execution_count": 16,
   "metadata": {
    "ExecuteTime": {
     "end_time": "2021-02-08T10:30:07.840525Z",
     "start_time": "2021-02-08T10:30:07.833544Z"
    }
   },
   "outputs": [],
   "source": [
    "## Solution\n",
    "class TypeCollection:\n",
    "    \n",
    "    def __init__(self, dictionary = {}):\n",
    "        self.dictionary = dictionary\n",
    "        \n",
    "    def add(self, obj):\n",
    "        type_name = obj.__class__.__name__\n",
    "        \n",
    "        if type_name not in self.dictionary:\n",
    "            self.dictionary[type_name] = []\n",
    "        \n",
    "        if obj not in self.dictionary[type_name]: \n",
    "            self.dictionary[type_name].append(obj)\n",
    "            \n",
    "        \n",
    "    def remove(self, obj):\n",
    "        type_name = obj.__class__.__name__\n",
    "        self.dictionary[type_name].remove(obj)\n",
    "        \n",
    "    def remove_all(self, typename):\n",
    "        self.dictionary[typename].clear()\n",
    "        \n",
    "    def get_all(self, typename):\n",
    "        return self.dictionary[typename]\n",
    "    \n",
    "    def __str__(self):\n",
    "        string_builder = \"\"\n",
    "        for key in sorted(self.dictionary):\n",
    "            mapped_list = map(str, self.dictionary[key])\n",
    "            str_list = \"   \" + \"\\n   \".join(mapped_list)\n",
    "            string_builder += f\"{key}\\n{str_list}\\n\"\n",
    "        return string_builder\n",
    "        "
   ]
  },
  {
   "cell_type": "code",
   "execution_count": 17,
   "metadata": {
    "ExecuteTime": {
     "end_time": "2021-02-08T10:30:08.228511Z",
     "start_time": "2021-02-08T10:30:08.221530Z"
    }
   },
   "outputs": [
    {
     "data": {
      "text/html": [
       " <h3> <font color=\"green\"> ✓ Correct </font> </h3>"
      ],
      "text/plain": [
       "<IPython.core.display.HTML object>"
      ]
     },
     "metadata": {},
     "output_type": "display_data"
    }
   ],
   "source": [
    "## Tests\n",
    "\n",
    "t = TypeCollection()\n",
    "t.add(1)\n",
    "t.add(1.0)\n",
    "t.add(\"1\")\n",
    "t.add(\"hey\")\n",
    "t.add(9)\n",
    "t.add(2)\n",
    "t.add((3, 4))\n",
    "t.remove(1)\n",
    "with tick():\n",
    "    assert t.get_all(\"int\")==[9,2]\n",
    "    assert t.get_all(\"str\")==[\"1\",\"hey\"]\n",
    "    assert t.get_all(\"tuple\")==[(3,4)]\n",
    "    t.remove_all(\"int\")\n",
    "    assert t.get_all(\"int\")==[]\n",
    "    "
   ]
  },
  {
   "cell_type": "markdown",
   "metadata": {},
   "source": [
    "\n",
    "    \n"
   ]
  },
  {
   "cell_type": "markdown",
   "metadata": {},
   "source": [
    "# B. Flying drones\n",
    "We are going to use object-orientation to do some simple drone flying; or at least creating paths for drones to follow.\n",
    "\n",
    "<img src=\"imgs/drone.jpg\" width=\"50%\">"
   ]
  },
  {
   "cell_type": "markdown",
   "metadata": {},
   "source": [
    "# B.1 Vec3\n",
    "\n",
    "We need a way to represent a drone in space. For the moment, we'll ignore the orientation of the drone. A point in space can be referenced with three coordinates $x,y,z$. Obviously, we could use a list, tuple or NumPy array to represent a point. But it can be useful to define a type that represents a fixed length vector with three *components* and can do the kind of operations we want to be able to do directly.\n",
    "\n",
    "Define a new class `Vec3` that has the following methods. Note: we will not mutate `Vec3` after creation, so all methods return *new instances*. There are a few methods to implement, but all of them are very simple.\n",
    "\n",
    "* `__init__(self, x, y, z)`\n",
    "* `as_list(self)` returns the Vec3 as a list `[x,y,z]`\n",
    "* `__add__(self, other)` add two Vec3 together by adding their components, returning a new `Vec3`\n",
    "* `__mul__(self, scale)` multiply each component of Vec3 by the given number `scale` (`scale` is a number, **not** a `Vec3`!). This method returns a new `Vec3`.\n",
    "* `__truediv__(self, scale)` divide each component of Vec3 by the given number `scale` (`scale` is a number, **not** a `Vec3`!)\n",
    "* `length(self)`  returns $\\sqrt{x^2+y^2+z^2}$\n",
    "* `direction(self)` multiply each component of Vec3 by `1/length(self)` (`length(self)` is an instance method!). This method returns a new `Vec3`.\n",
    "* `__matmul__(self, other)` returns the dot product of two vectors, that is a number $(x_1*x_2) + (y_1*y_2) + (z_1*z_2)$\n",
    "* `__sub__(self, other)` subtract the components of two Vec3, returning a new `Vec3`\n",
    "* `distance(self, other)` returns `length(self-other)`, the distance between two vectors\n",
    "* `__str__(self)` returns the vector as a string like `<1.0 0.5 0.1>`\n",
    "* `__eq__(self, other)` returns True if the `distance` between `self` and `other` is less than `1e-6` (we won't use exact equality for numerical reasons). Also, use the `distance` method you implemented for the `Vec3` class.\n",
    "\n",
    "<div class=\"alert alert-info\">\n",
    "    Remember, to use any instance method defined within the class, use <b>self.name_of_method(...)</b>\n",
    "</div>"
   ]
  },
  {
   "cell_type": "code",
   "execution_count": 27,
   "metadata": {
    "ExecuteTime": {
     "end_time": "2021-02-24T13:18:15.396926Z",
     "start_time": "2021-02-24T13:18:15.387166Z"
    }
   },
   "outputs": [],
   "source": [
    "## Solution\n",
    "import math\n",
    "\n",
    "# Note: completely fine to use a three element list, tuple\n",
    "# or numpy array instead of the three member variables.\n",
    "\n",
    "class Vec3:\n",
    "    def __init__(self, x, y ,z):\n",
    "        self.x = x\n",
    "        self.y = y\n",
    "        self.z = z\n",
    "        self.list = [x, y, z]\n",
    "    \n",
    "    #returns the coordinates as a list\n",
    "    def as_list(self):\n",
    "        return self.list\n",
    "    \n",
    "    #adds two vectors\n",
    "    def __add__(self, other):\n",
    "        result = list(map(lambda x, y: x + y, self.list, other.list))\n",
    "        return Vec3(result[0], result[1], result[2])\n",
    "    \n",
    "    #multiplies every vector coordinate with a given scale\n",
    "    def __mul__(self, scale):\n",
    "        result = list(map(lambda x: x * scale, self.list))\n",
    "        return Vec3(result[0], result[1], result[2])\n",
    "    \n",
    "    #divides every vector coordinate with a given scale\n",
    "    def __truediv__(self, scale):\n",
    "        result = list(map(lambda x: x / scale, self.list))\n",
    "        return Vec3(result[0], result[1], result[2])\n",
    "    \n",
    "    #returns the length of the vector\n",
    "    def length(self):\n",
    "        length = 0\n",
    "        for element in self.list:\n",
    "            length += element ** 2\n",
    "        return math.sqrt(length)\n",
    "    \n",
    "    #returns the direction of the vector\n",
    "    def direction(self):\n",
    "        result = list(map(lambda x: x * (1 / self.length()), self.list))\n",
    "        return Vec3(result[0], result[1], result[2])\n",
    "    \n",
    "    #returns the dot product of two vectors\n",
    "    def __matmul__(self, other):\n",
    "        result = 0\n",
    "        for self_elt, elt in zip(self.list, other.list):\n",
    "            result += self_elt * elt\n",
    "        return result\n",
    "    \n",
    "    #substracts two vectors\n",
    "    def __sub__(self, other):\n",
    "        result = list(map(lambda x, y: x - y, self.list, other.list))\n",
    "        return Vec3(result[0], result[1], result[2])\n",
    "    \n",
    "    #returns the distance between two vectors\n",
    "    def distance(self, other):\n",
    "        sub_vector = self - other \n",
    "        return sub_vector.length()\n",
    "    \n",
    "    #returns True if two vectors are equal and False otherwise\n",
    "    def __eq__(self, other):\n",
    "        if self.distance(other) < 1e-6:\n",
    "            return True\n",
    "        else:\n",
    "            return False\n",
    "    \n",
    "    #formatting the coordinates into a vector\n",
    "    def __str__(self):\n",
    "        return f\"<{self.list[0]} {self.list[1]} {self.list[2]}>\"\n"
   ]
  },
  {
   "cell_type": "code",
   "execution_count": 28,
   "metadata": {
    "ExecuteTime": {
     "end_time": "2021-02-24T13:18:15.558537Z",
     "start_time": "2021-02-24T13:18:15.541440Z"
    }
   },
   "outputs": [
    {
     "name": "stdout",
     "output_type": "stream",
     "text": [
      "<1 2 3> <1.0 0.0 1.0> <1.0 0.0 0.0>\n",
      "<2 4 6>\n",
      "<11.0 2.0 2.0>\n",
      "1.0\n"
     ]
    },
    {
     "data": {
      "text/html": [
       " <h3> <font color=\"green\"> ✓ Correct </font> </h3>"
      ],
      "text/plain": [
       "<IPython.core.display.HTML object>"
      ]
     },
     "metadata": {},
     "output_type": "display_data"
    },
    {
     "data": {
      "text/html": [
       " <h3> <font color=\"green\"> ✓ Correct </font> </h3>"
      ],
      "text/plain": [
       "<IPython.core.display.HTML object>"
      ]
     },
     "metadata": {},
     "output_type": "display_data"
    },
    {
     "data": {
      "text/html": [
       " <h3> <font color=\"green\"> ✓ Correct </font> </h3>"
      ],
      "text/plain": [
       "<IPython.core.display.HTML object>"
      ]
     },
     "metadata": {},
     "output_type": "display_data"
    },
    {
     "data": {
      "text/html": [
       " <h3> <font color=\"green\"> ✓ Correct </font> </h3>"
      ],
      "text/plain": [
       "<IPython.core.display.HTML object>"
      ]
     },
     "metadata": {},
     "output_type": "display_data"
    },
    {
     "data": {
      "text/html": [
       " <h3> <font color=\"green\"> ✓ Correct </font> </h3>"
      ],
      "text/plain": [
       "<IPython.core.display.HTML object>"
      ]
     },
     "metadata": {},
     "output_type": "display_data"
    },
    {
     "data": {
      "text/html": [
       " <h3> <font color=\"green\"> ✓ Correct </font> </h3>"
      ],
      "text/plain": [
       "<IPython.core.display.HTML object>"
      ]
     },
     "metadata": {},
     "output_type": "display_data"
    }
   ],
   "source": [
    "## Tests\n",
    "v1 = Vec3(1, 2, 3)\n",
    "v2 = Vec3(1.0, 0.0, 1.0)\n",
    "v3 = Vec3(1.0, 0.0, 0.0)\n",
    "v4 = Vec3(10.0, 0.0, 0.0)\n",
    "v5 = Vec3(0.0, 0.0, 1.0)\n",
    "\n",
    "print(v1, v2, v3)\n",
    "print(v1 * 2)\n",
    "print(v1 + v2 - v3 + v4 - v5 * 2)\n",
    "print(v3.length())\n",
    "\n",
    "with tick():\n",
    "    assert v3 * 10 == v4\n",
    "    assert v4 / 10 == v3\n",
    "with tick():\n",
    "    assert v1 - v2 == Vec3(0, 2, 2)\n",
    "    assert v1 + v2 == Vec3(2, 2, 4)\n",
    "    assert v3 + v5 == Vec3(1, 0, 1)\n",
    "with tick():\n",
    "    assert v3.length() == v5.length()\n",
    "    assert v1.length() == 14**0.5\n",
    "    assert v3.length() == 1.0\n",
    "with tick():\n",
    "    assert v3.distance(v5) == 2.0**0.5\n",
    "    assert v4.direction() == v3\n",
    "    assert v5.direction() == v5\n",
    "# @ calls __matmuL__s\n",
    "with tick():\n",
    "    assert v3 @ v3 == 1.0\n",
    "    assert v3 @ v5 == 0.0\n",
    "with tick():\n",
    "    assert v3.as_list() == [1.0, 0.0, 0.0]\n",
    "    assert (v3*2).as_list() == [2.0, 0.0, 0.0]\n",
    "\n",
    "#assert v3 @ v3 == 1.0"
   ]
  },
  {
   "cell_type": "markdown",
   "metadata": {},
   "source": [
    "# B.2 Path\n",
    "Now we need to represent a path along which we intend to send the drone. Again, this is something we can represent as an object, with a specific set of methods we can use to operate upon it.\n",
    "\n",
    "A path is a sequence of points in space, each with a time. To do this, we need to be able to specify the points in space (as `Vec3`s) we want to reach at each time point, and be able to get the point the drone is supposed to be at for *any* possible time. We'll store this as a sequence of `(time, point)` pairs, where `time` is a floating point number.\n",
    "\n",
    "To do this, we'll assume that the drone is expected to move in a perfectly straight line between two given points, and use the simple *linear interpolation formula* to compute the position of a drone. \n",
    "\n",
    "Create a class `Path` that has the following methods. These define the API (application programmer's interface) that we can use to manipulate `Path`s.\n",
    "\n",
    "* `__init__` which initialises an empty path\n",
    "* `add(self, pt, t)` adds as a tuple/list, a new point `pt` (a `Vec3`) to be reached at time `t` (a floating point number). \n",
    "* `get(self, t)` return the position the drone should be at time `t`. To find the this point:\n",
    "    * If there are no points in the path, raise a `ValueError` \n",
    "    * If there is just one point, return it\n",
    "    * if `t` is smaller than any time in the path, return the point with smallest `t`\n",
    "    * if `t` is greater than any time in the path, return the point with largest `t`\n",
    "    * otherwise:\n",
    "        * find the first time in the list greater than `t`, `t2` and the corresponding point in space `p2`\n",
    "        * find the immediately previous point (in the sense of time) in the list `p1` and its time `t1`\n",
    "        * compute the position `p` of the drone at time `t` using the formula:\n",
    "            * `a = (t - t1) / (t2 - t1)`\n",
    "            * `p = p1 * (1-a)  + p2* a`\n",
    "* `t_range(self)`, which returns the minimum and maximum value of `t` in the sequence, as a tuple. \n",
    "    \n",
    "* Note: you can (but definitely don't have to) store the list of times and points in sorted order, and use binary search to find the times. This is more efficient than the simple approach but more complicated to get right.\n",
    "    "
   ]
  },
  {
   "cell_type": "code",
   "execution_count": 34,
   "metadata": {
    "ExecuteTime": {
     "end_time": "2021-02-24T13:18:16.375304Z",
     "start_time": "2021-02-24T13:18:16.364567Z"
    }
   },
   "outputs": [],
   "source": [
    "## Solution\n",
    "def insert_tuple(l, element):\n",
    "    diff = element[1]\n",
    "    index = 0\n",
    "    for i,elt in enumerate(l):\n",
    "        if abs(elt[1] - element[1]) < diff:\n",
    "            diff = abs(elt[1] - element[1])\n",
    "            index = i\n",
    "\n",
    "    if l[index][1] >= element[1]:\n",
    "        l.insert(index, element)\n",
    "    else:\n",
    "        l.insert(index + 1, element)\n",
    "    return l\n",
    "\n",
    "def binary_search_tuples(l, elt, low = 0):\n",
    "    if low == len(l) - 1 or l[low][1] - elt > 0:\n",
    "        return l[low - 1], l[low]\n",
    "    else:\n",
    "        return binary_search(l, elt, low + 1)\n",
    "\n",
    "class Path:\n",
    "    def __init__(self):\n",
    "        self.path = []\n",
    "        \n",
    "    #adding a point at a specific time\n",
    "    def add(self, pt, t):\n",
    "        if len(self.path) != 0:\n",
    "            #using an insert method to keep the path sorted\n",
    "            self.path = insert_tuple(self.path, (pt,t)) \n",
    "        else:\n",
    "            self.path.append((pt, t))\n",
    "        \n",
    "    def get(self, t):\n",
    "        try:\n",
    "            if len(self.path) == 0:\n",
    "                raise ValueError\n",
    "        except ValueError:\n",
    "            return \"There are no points in the path!\"\n",
    "        \n",
    "        #finding the first and the last point according to time\n",
    "        point_min_time = self.path[0]\n",
    "        point_max_time = self.path[len(self.path)-1]\n",
    "        \n",
    "        #if the path consists only one point then this point is returned\n",
    "        if len(self.path) == 1:\n",
    "            return self.path[0][0]\n",
    "        #if the given time is smaller than the time of the first point\n",
    "        #then it returns the first point\n",
    "        elif point_min_time[1] > t:\n",
    "            return point_min_time[0]\n",
    "        #if the given time is bigger than the time of the last point\n",
    "        #then it returns the last point\n",
    "        elif point_max_time[1] < t:\n",
    "            return point_max_time[0]\n",
    "        #otherwise it gets the points closest to the specified time\n",
    "        #and computes the position using the linear interpolation formula\n",
    "        else:\n",
    "            point_1, point_2 = binary_search_tuples(self.path, t)\n",
    "            pt1, t1 = point_1[0], point_1[1]\n",
    "            pt2, t2 = point_2[0], point_2[1]\n",
    "            \n",
    "            a = (t - t1) / (t2 - t1)\n",
    "            position = pt1 * (1-a)  + pt2 * a\n",
    "            return position\n",
    "        \n",
    "    #it returns the time of the first and the last points\n",
    "    def t_range(self):\n",
    "        return (self.path[0][1], self.path[len(self.path)-1][1])\n",
    "    \n",
    "    #formatting the output of the path\n",
    "    def __str__(self):\n",
    "        string_builder = \"\"\n",
    "        for elt in self.path:\n",
    "            string_builder += f\"{elt[0]}, {elt[1]}\\n\"\n",
    "        return string_builder\n",
    "    \n",
    "        "
   ]
  },
  {
   "cell_type": "code",
   "execution_count": 35,
   "metadata": {
    "ExecuteTime": {
     "end_time": "2021-02-24T13:18:16.792794Z",
     "start_time": "2021-02-24T13:18:16.777178Z"
    }
   },
   "outputs": [
    {
     "data": {
      "text/html": [
       " <h3> <font color=\"green\"> ✓ Correct </font> </h3>"
      ],
      "text/plain": [
       "<IPython.core.display.HTML object>"
      ]
     },
     "metadata": {},
     "output_type": "display_data"
    },
    {
     "data": {
      "text/html": [
       " <h3> <font color=\"green\"> ✓ Correct </font> </h3>"
      ],
      "text/plain": [
       "<IPython.core.display.HTML object>"
      ]
     },
     "metadata": {},
     "output_type": "display_data"
    },
    {
     "data": {
      "text/html": [
       " <h3> <font color=\"green\"> ✓ Correct </font> </h3>"
      ],
      "text/plain": [
       "<IPython.core.display.HTML object>"
      ]
     },
     "metadata": {},
     "output_type": "display_data"
    },
    {
     "data": {
      "text/html": [
       " <h3> <font color=\"green\"> ✓ Correct </font> </h3>"
      ],
      "text/plain": [
       "<IPython.core.display.HTML object>"
      ]
     },
     "metadata": {},
     "output_type": "display_data"
    },
    {
     "data": {
      "text/html": [
       " <h3> <font color=\"green\"> ✓ Correct </font> </h3>"
      ],
      "text/plain": [
       "<IPython.core.display.HTML object>"
      ]
     },
     "metadata": {},
     "output_type": "display_data"
    },
    {
     "data": {
      "text/html": [
       " <h3> <font color=\"green\"> ✓ Correct </font> </h3>"
      ],
      "text/plain": [
       "<IPython.core.display.HTML object>"
      ]
     },
     "metadata": {},
     "output_type": "display_data"
    }
   ],
   "source": [
    "## Tests\n",
    "p = Path()\n",
    "p.add(Vec3(0,0,0), 0.0)\n",
    "with tick():\n",
    "    try:\n",
    "        p.get(0)\n",
    "    except ValueError:\n",
    "        assert True\n",
    "p.add(Vec3(1,0,0), 1.0)\n",
    "with tick():\n",
    "    assert p.t_range() == (0.0, 1.0)\n",
    "with tick():\n",
    "    assert p.get(0.0) == Vec3(0,0,0)\n",
    "    assert p.get(1.0) == Vec3(1,0,0)\n",
    "p.add(Vec3(1,0,1), 2.0)    \n",
    "with tick():\n",
    "    assert p.get(2.0) == Vec3(1,0,1)\n",
    "    \n",
    "    assert p.get(0.5) == Vec3(0.5, 0, 0)\n",
    "    assert p.get(0.25) == Vec3(0.25, 0, 0)\n",
    "    assert p.get(1.5) == Vec3(1, 0, 0.5)\n",
    "    assert p.t_range() == (0.0, 2.0)\n",
    "    \n",
    "with tick():    \n",
    "    p.add(Vec3(0,1,0), 0.5)\n",
    "    assert p.get(0.5) == Vec3(0,1,0)\n",
    "    assert p.get(0.25) == Vec3(0,0.5,0)\n",
    "    assert p.get(0.75) == Vec3(0.5,0.5,0)\n",
    "    \n",
    "p.add(Vec3(1,0,1), -2.0)    \n",
    "with tick():\n",
    "    assert p.t_range() == (-2.0, 2.0)\n",
    "    assert p.get(-2)==Vec3(1,0,1)"
   ]
  },
  {
   "cell_type": "markdown",
   "metadata": {},
   "source": [
    "# Displaying a path\n",
    "The drone simulator knows how to work with `Path` objects, so we can now do our first test. However, the drone currently lacks a controller, so it will be unable to fly. We'll see the path, though.\n",
    "\n"
   ]
  },
  {
   "cell_type": "code",
   "execution_count": 36,
   "metadata": {
    "ExecuteTime": {
     "end_time": "2021-02-24T13:18:18.687587Z",
     "start_time": "2021-02-24T13:18:18.681731Z"
    }
   },
   "outputs": [],
   "source": [
    "drone_path = Path()\n",
    "# on ground\n",
    "drone_path.add(Vec3(0,0,0), 0)\n",
    "# up\n",
    "drone_path.add(Vec3(0,0,2), 1)\n",
    "# forward, up\n",
    "drone_path.add(Vec3(5,0,5), 5)\n",
    "# left\n",
    "drone_path.add(Vec3(5,7,7), 10)\n",
    "# backward\n",
    "drone_path.add(Vec3(-5,7,7), 15)\n",
    "# right\n",
    "drone_path.add(Vec3(-5,-7,5), 20)\n",
    "# forward\n",
    "drone_path.add(Vec3(5,-7,5), 25)\n",
    "# left\n",
    "drone_path.add(Vec3(5,0,5), 30)\n",
    "# home\n",
    "drone_path.add(Vec3(0,0,0), 35)"
   ]
  },
  {
   "cell_type": "markdown",
   "metadata": {},
   "source": [
    "We can now see the path generated."
   ]
  },
  {
   "cell_type": "code",
   "execution_count": 37,
   "metadata": {
    "ExecuteTime": {
     "end_time": "2021-02-24T13:23:30.291417Z",
     "start_time": "2021-02-24T13:23:30.257257Z"
    }
   },
   "outputs": [
    {
     "data": {
      "application/javascript": [
       "/* Put everything inside the global mpl namespace */\n",
       "window.mpl = {};\n",
       "\n",
       "\n",
       "mpl.get_websocket_type = function() {\n",
       "    if (typeof(WebSocket) !== 'undefined') {\n",
       "        return WebSocket;\n",
       "    } else if (typeof(MozWebSocket) !== 'undefined') {\n",
       "        return MozWebSocket;\n",
       "    } else {\n",
       "        alert('Your browser does not have WebSocket support. ' +\n",
       "              'Please try Chrome, Safari or Firefox ≥ 6. ' +\n",
       "              'Firefox 4 and 5 are also supported but you ' +\n",
       "              'have to enable WebSockets in about:config.');\n",
       "    };\n",
       "}\n",
       "\n",
       "mpl.figure = function(figure_id, websocket, ondownload, parent_element) {\n",
       "    this.id = figure_id;\n",
       "\n",
       "    this.ws = websocket;\n",
       "\n",
       "    this.supports_binary = (this.ws.binaryType != undefined);\n",
       "\n",
       "    if (!this.supports_binary) {\n",
       "        var warnings = document.getElementById(\"mpl-warnings\");\n",
       "        if (warnings) {\n",
       "            warnings.style.display = 'block';\n",
       "            warnings.textContent = (\n",
       "                \"This browser does not support binary websocket messages. \" +\n",
       "                    \"Performance may be slow.\");\n",
       "        }\n",
       "    }\n",
       "\n",
       "    this.imageObj = new Image();\n",
       "\n",
       "    this.context = undefined;\n",
       "    this.message = undefined;\n",
       "    this.canvas = undefined;\n",
       "    this.rubberband_canvas = undefined;\n",
       "    this.rubberband_context = undefined;\n",
       "    this.format_dropdown = undefined;\n",
       "\n",
       "    this.image_mode = 'full';\n",
       "\n",
       "    this.root = $('<div/>');\n",
       "    this._root_extra_style(this.root)\n",
       "    this.root.attr('style', 'display: inline-block');\n",
       "\n",
       "    $(parent_element).append(this.root);\n",
       "\n",
       "    this._init_header(this);\n",
       "    this._init_canvas(this);\n",
       "    this._init_toolbar(this);\n",
       "\n",
       "    var fig = this;\n",
       "\n",
       "    this.waiting = false;\n",
       "\n",
       "    this.ws.onopen =  function () {\n",
       "            fig.send_message(\"supports_binary\", {value: fig.supports_binary});\n",
       "            fig.send_message(\"send_image_mode\", {});\n",
       "            if (mpl.ratio != 1) {\n",
       "                fig.send_message(\"set_dpi_ratio\", {'dpi_ratio': mpl.ratio});\n",
       "            }\n",
       "            fig.send_message(\"refresh\", {});\n",
       "        }\n",
       "\n",
       "    this.imageObj.onload = function() {\n",
       "            if (fig.image_mode == 'full') {\n",
       "                // Full images could contain transparency (where diff images\n",
       "                // almost always do), so we need to clear the canvas so that\n",
       "                // there is no ghosting.\n",
       "                fig.context.clearRect(0, 0, fig.canvas.width, fig.canvas.height);\n",
       "            }\n",
       "            fig.context.drawImage(fig.imageObj, 0, 0);\n",
       "        };\n",
       "\n",
       "    this.imageObj.onunload = function() {\n",
       "        fig.ws.close();\n",
       "    }\n",
       "\n",
       "    this.ws.onmessage = this._make_on_message_function(this);\n",
       "\n",
       "    this.ondownload = ondownload;\n",
       "}\n",
       "\n",
       "mpl.figure.prototype._init_header = function() {\n",
       "    var titlebar = $(\n",
       "        '<div class=\"ui-dialog-titlebar ui-widget-header ui-corner-all ' +\n",
       "        'ui-helper-clearfix\"/>');\n",
       "    var titletext = $(\n",
       "        '<div class=\"ui-dialog-title\" style=\"width: 100%; ' +\n",
       "        'text-align: center; padding: 3px;\"/>');\n",
       "    titlebar.append(titletext)\n",
       "    this.root.append(titlebar);\n",
       "    this.header = titletext[0];\n",
       "}\n",
       "\n",
       "\n",
       "\n",
       "mpl.figure.prototype._canvas_extra_style = function(canvas_div) {\n",
       "\n",
       "}\n",
       "\n",
       "\n",
       "mpl.figure.prototype._root_extra_style = function(canvas_div) {\n",
       "\n",
       "}\n",
       "\n",
       "mpl.figure.prototype._init_canvas = function() {\n",
       "    var fig = this;\n",
       "\n",
       "    var canvas_div = $('<div/>');\n",
       "\n",
       "    canvas_div.attr('style', 'position: relative; clear: both; outline: 0');\n",
       "\n",
       "    function canvas_keyboard_event(event) {\n",
       "        return fig.key_event(event, event['data']);\n",
       "    }\n",
       "\n",
       "    canvas_div.keydown('key_press', canvas_keyboard_event);\n",
       "    canvas_div.keyup('key_release', canvas_keyboard_event);\n",
       "    this.canvas_div = canvas_div\n",
       "    this._canvas_extra_style(canvas_div)\n",
       "    this.root.append(canvas_div);\n",
       "\n",
       "    var canvas = $('<canvas/>');\n",
       "    canvas.addClass('mpl-canvas');\n",
       "    canvas.attr('style', \"left: 0; top: 0; z-index: 0; outline: 0\")\n",
       "\n",
       "    this.canvas = canvas[0];\n",
       "    this.context = canvas[0].getContext(\"2d\");\n",
       "\n",
       "    var backingStore = this.context.backingStorePixelRatio ||\n",
       "\tthis.context.webkitBackingStorePixelRatio ||\n",
       "\tthis.context.mozBackingStorePixelRatio ||\n",
       "\tthis.context.msBackingStorePixelRatio ||\n",
       "\tthis.context.oBackingStorePixelRatio ||\n",
       "\tthis.context.backingStorePixelRatio || 1;\n",
       "\n",
       "    mpl.ratio = (window.devicePixelRatio || 1) / backingStore;\n",
       "\n",
       "    var rubberband = $('<canvas/>');\n",
       "    rubberband.attr('style', \"position: absolute; left: 0; top: 0; z-index: 1;\")\n",
       "\n",
       "    var pass_mouse_events = true;\n",
       "\n",
       "    canvas_div.resizable({\n",
       "        start: function(event, ui) {\n",
       "            pass_mouse_events = false;\n",
       "        },\n",
       "        resize: function(event, ui) {\n",
       "            fig.request_resize(ui.size.width, ui.size.height);\n",
       "        },\n",
       "        stop: function(event, ui) {\n",
       "            pass_mouse_events = true;\n",
       "            fig.request_resize(ui.size.width, ui.size.height);\n",
       "        },\n",
       "    });\n",
       "\n",
       "    function mouse_event_fn(event) {\n",
       "        if (pass_mouse_events)\n",
       "            return fig.mouse_event(event, event['data']);\n",
       "    }\n",
       "\n",
       "    rubberband.mousedown('button_press', mouse_event_fn);\n",
       "    rubberband.mouseup('button_release', mouse_event_fn);\n",
       "    // Throttle sequential mouse events to 1 every 20ms.\n",
       "    rubberband.mousemove('motion_notify', mouse_event_fn);\n",
       "\n",
       "    rubberband.mouseenter('figure_enter', mouse_event_fn);\n",
       "    rubberband.mouseleave('figure_leave', mouse_event_fn);\n",
       "\n",
       "    canvas_div.on(\"wheel\", function (event) {\n",
       "        event = event.originalEvent;\n",
       "        event['data'] = 'scroll'\n",
       "        if (event.deltaY < 0) {\n",
       "            event.step = 1;\n",
       "        } else {\n",
       "            event.step = -1;\n",
       "        }\n",
       "        mouse_event_fn(event);\n",
       "    });\n",
       "\n",
       "    canvas_div.append(canvas);\n",
       "    canvas_div.append(rubberband);\n",
       "\n",
       "    this.rubberband = rubberband;\n",
       "    this.rubberband_canvas = rubberband[0];\n",
       "    this.rubberband_context = rubberband[0].getContext(\"2d\");\n",
       "    this.rubberband_context.strokeStyle = \"#000000\";\n",
       "\n",
       "    this._resize_canvas = function(width, height) {\n",
       "        // Keep the size of the canvas, canvas container, and rubber band\n",
       "        // canvas in synch.\n",
       "        canvas_div.css('width', width)\n",
       "        canvas_div.css('height', height)\n",
       "\n",
       "        canvas.attr('width', width * mpl.ratio);\n",
       "        canvas.attr('height', height * mpl.ratio);\n",
       "        canvas.attr('style', 'width: ' + width + 'px; height: ' + height + 'px;');\n",
       "\n",
       "        rubberband.attr('width', width);\n",
       "        rubberband.attr('height', height);\n",
       "    }\n",
       "\n",
       "    // Set the figure to an initial 600x600px, this will subsequently be updated\n",
       "    // upon first draw.\n",
       "    this._resize_canvas(600, 600);\n",
       "\n",
       "    // Disable right mouse context menu.\n",
       "    $(this.rubberband_canvas).bind(\"contextmenu\",function(e){\n",
       "        return false;\n",
       "    });\n",
       "\n",
       "    function set_focus () {\n",
       "        canvas.focus();\n",
       "        canvas_div.focus();\n",
       "    }\n",
       "\n",
       "    window.setTimeout(set_focus, 100);\n",
       "}\n",
       "\n",
       "mpl.figure.prototype._init_toolbar = function() {\n",
       "    var fig = this;\n",
       "\n",
       "    var nav_element = $('<div/>');\n",
       "    nav_element.attr('style', 'width: 100%');\n",
       "    this.root.append(nav_element);\n",
       "\n",
       "    // Define a callback function for later on.\n",
       "    function toolbar_event(event) {\n",
       "        return fig.toolbar_button_onclick(event['data']);\n",
       "    }\n",
       "    function toolbar_mouse_event(event) {\n",
       "        return fig.toolbar_button_onmouseover(event['data']);\n",
       "    }\n",
       "\n",
       "    for(var toolbar_ind in mpl.toolbar_items) {\n",
       "        var name = mpl.toolbar_items[toolbar_ind][0];\n",
       "        var tooltip = mpl.toolbar_items[toolbar_ind][1];\n",
       "        var image = mpl.toolbar_items[toolbar_ind][2];\n",
       "        var method_name = mpl.toolbar_items[toolbar_ind][3];\n",
       "\n",
       "        if (!name) {\n",
       "            // put a spacer in here.\n",
       "            continue;\n",
       "        }\n",
       "        var button = $('<button/>');\n",
       "        button.addClass('ui-button ui-widget ui-state-default ui-corner-all ' +\n",
       "                        'ui-button-icon-only');\n",
       "        button.attr('role', 'button');\n",
       "        button.attr('aria-disabled', 'false');\n",
       "        button.click(method_name, toolbar_event);\n",
       "        button.mouseover(tooltip, toolbar_mouse_event);\n",
       "\n",
       "        var icon_img = $('<span/>');\n",
       "        icon_img.addClass('ui-button-icon-primary ui-icon');\n",
       "        icon_img.addClass(image);\n",
       "        icon_img.addClass('ui-corner-all');\n",
       "\n",
       "        var tooltip_span = $('<span/>');\n",
       "        tooltip_span.addClass('ui-button-text');\n",
       "        tooltip_span.html(tooltip);\n",
       "\n",
       "        button.append(icon_img);\n",
       "        button.append(tooltip_span);\n",
       "\n",
       "        nav_element.append(button);\n",
       "    }\n",
       "\n",
       "    var fmt_picker_span = $('<span/>');\n",
       "\n",
       "    var fmt_picker = $('<select/>');\n",
       "    fmt_picker.addClass('mpl-toolbar-option ui-widget ui-widget-content');\n",
       "    fmt_picker_span.append(fmt_picker);\n",
       "    nav_element.append(fmt_picker_span);\n",
       "    this.format_dropdown = fmt_picker[0];\n",
       "\n",
       "    for (var ind in mpl.extensions) {\n",
       "        var fmt = mpl.extensions[ind];\n",
       "        var option = $(\n",
       "            '<option/>', {selected: fmt === mpl.default_extension}).html(fmt);\n",
       "        fmt_picker.append(option);\n",
       "    }\n",
       "\n",
       "    // Add hover states to the ui-buttons\n",
       "    $( \".ui-button\" ).hover(\n",
       "        function() { $(this).addClass(\"ui-state-hover\");},\n",
       "        function() { $(this).removeClass(\"ui-state-hover\");}\n",
       "    );\n",
       "\n",
       "    var status_bar = $('<span class=\"mpl-message\"/>');\n",
       "    nav_element.append(status_bar);\n",
       "    this.message = status_bar[0];\n",
       "}\n",
       "\n",
       "mpl.figure.prototype.request_resize = function(x_pixels, y_pixels) {\n",
       "    // Request matplotlib to resize the figure. Matplotlib will then trigger a resize in the client,\n",
       "    // which will in turn request a refresh of the image.\n",
       "    this.send_message('resize', {'width': x_pixels, 'height': y_pixels});\n",
       "}\n",
       "\n",
       "mpl.figure.prototype.send_message = function(type, properties) {\n",
       "    properties['type'] = type;\n",
       "    properties['figure_id'] = this.id;\n",
       "    this.ws.send(JSON.stringify(properties));\n",
       "}\n",
       "\n",
       "mpl.figure.prototype.send_draw_message = function() {\n",
       "    if (!this.waiting) {\n",
       "        this.waiting = true;\n",
       "        this.ws.send(JSON.stringify({type: \"draw\", figure_id: this.id}));\n",
       "    }\n",
       "}\n",
       "\n",
       "\n",
       "mpl.figure.prototype.handle_save = function(fig, msg) {\n",
       "    var format_dropdown = fig.format_dropdown;\n",
       "    var format = format_dropdown.options[format_dropdown.selectedIndex].value;\n",
       "    fig.ondownload(fig, format);\n",
       "}\n",
       "\n",
       "\n",
       "mpl.figure.prototype.handle_resize = function(fig, msg) {\n",
       "    var size = msg['size'];\n",
       "    if (size[0] != fig.canvas.width || size[1] != fig.canvas.height) {\n",
       "        fig._resize_canvas(size[0], size[1]);\n",
       "        fig.send_message(\"refresh\", {});\n",
       "    };\n",
       "}\n",
       "\n",
       "mpl.figure.prototype.handle_rubberband = function(fig, msg) {\n",
       "    var x0 = msg['x0'] / mpl.ratio;\n",
       "    var y0 = (fig.canvas.height - msg['y0']) / mpl.ratio;\n",
       "    var x1 = msg['x1'] / mpl.ratio;\n",
       "    var y1 = (fig.canvas.height - msg['y1']) / mpl.ratio;\n",
       "    x0 = Math.floor(x0) + 0.5;\n",
       "    y0 = Math.floor(y0) + 0.5;\n",
       "    x1 = Math.floor(x1) + 0.5;\n",
       "    y1 = Math.floor(y1) + 0.5;\n",
       "    var min_x = Math.min(x0, x1);\n",
       "    var min_y = Math.min(y0, y1);\n",
       "    var width = Math.abs(x1 - x0);\n",
       "    var height = Math.abs(y1 - y0);\n",
       "\n",
       "    fig.rubberband_context.clearRect(\n",
       "        0, 0, fig.canvas.width / mpl.ratio, fig.canvas.height / mpl.ratio);\n",
       "\n",
       "    fig.rubberband_context.strokeRect(min_x, min_y, width, height);\n",
       "}\n",
       "\n",
       "mpl.figure.prototype.handle_figure_label = function(fig, msg) {\n",
       "    // Updates the figure title.\n",
       "    fig.header.textContent = msg['label'];\n",
       "}\n",
       "\n",
       "mpl.figure.prototype.handle_cursor = function(fig, msg) {\n",
       "    var cursor = msg['cursor'];\n",
       "    switch(cursor)\n",
       "    {\n",
       "    case 0:\n",
       "        cursor = 'pointer';\n",
       "        break;\n",
       "    case 1:\n",
       "        cursor = 'default';\n",
       "        break;\n",
       "    case 2:\n",
       "        cursor = 'crosshair';\n",
       "        break;\n",
       "    case 3:\n",
       "        cursor = 'move';\n",
       "        break;\n",
       "    }\n",
       "    fig.rubberband_canvas.style.cursor = cursor;\n",
       "}\n",
       "\n",
       "mpl.figure.prototype.handle_message = function(fig, msg) {\n",
       "    fig.message.textContent = msg['message'];\n",
       "}\n",
       "\n",
       "mpl.figure.prototype.handle_draw = function(fig, msg) {\n",
       "    // Request the server to send over a new figure.\n",
       "    fig.send_draw_message();\n",
       "}\n",
       "\n",
       "mpl.figure.prototype.handle_image_mode = function(fig, msg) {\n",
       "    fig.image_mode = msg['mode'];\n",
       "}\n",
       "\n",
       "mpl.figure.prototype.updated_canvas_event = function() {\n",
       "    // Called whenever the canvas gets updated.\n",
       "    this.send_message(\"ack\", {});\n",
       "}\n",
       "\n",
       "// A function to construct a web socket function for onmessage handling.\n",
       "// Called in the figure constructor.\n",
       "mpl.figure.prototype._make_on_message_function = function(fig) {\n",
       "    return function socket_on_message(evt) {\n",
       "        if (evt.data instanceof Blob) {\n",
       "            /* FIXME: We get \"Resource interpreted as Image but\n",
       "             * transferred with MIME type text/plain:\" errors on\n",
       "             * Chrome.  But how to set the MIME type?  It doesn't seem\n",
       "             * to be part of the websocket stream */\n",
       "            evt.data.type = \"image/png\";\n",
       "\n",
       "            /* Free the memory for the previous frames */\n",
       "            if (fig.imageObj.src) {\n",
       "                (window.URL || window.webkitURL).revokeObjectURL(\n",
       "                    fig.imageObj.src);\n",
       "            }\n",
       "\n",
       "            fig.imageObj.src = (window.URL || window.webkitURL).createObjectURL(\n",
       "                evt.data);\n",
       "            fig.updated_canvas_event();\n",
       "            fig.waiting = false;\n",
       "            return;\n",
       "        }\n",
       "        else if (typeof evt.data === 'string' && evt.data.slice(0, 21) == \"data:image/png;base64\") {\n",
       "            fig.imageObj.src = evt.data;\n",
       "            fig.updated_canvas_event();\n",
       "            fig.waiting = false;\n",
       "            return;\n",
       "        }\n",
       "\n",
       "        var msg = JSON.parse(evt.data);\n",
       "        var msg_type = msg['type'];\n",
       "\n",
       "        // Call the  \"handle_{type}\" callback, which takes\n",
       "        // the figure and JSON message as its only arguments.\n",
       "        try {\n",
       "            var callback = fig[\"handle_\" + msg_type];\n",
       "        } catch (e) {\n",
       "            console.log(\"No handler for the '\" + msg_type + \"' message type: \", msg);\n",
       "            return;\n",
       "        }\n",
       "\n",
       "        if (callback) {\n",
       "            try {\n",
       "                // console.log(\"Handling '\" + msg_type + \"' message: \", msg);\n",
       "                callback(fig, msg);\n",
       "            } catch (e) {\n",
       "                console.log(\"Exception inside the 'handler_\" + msg_type + \"' callback:\", e, e.stack, msg);\n",
       "            }\n",
       "        }\n",
       "    };\n",
       "}\n",
       "\n",
       "// from http://stackoverflow.com/questions/1114465/getting-mouse-location-in-canvas\n",
       "mpl.findpos = function(e) {\n",
       "    //this section is from http://www.quirksmode.org/js/events_properties.html\n",
       "    var targ;\n",
       "    if (!e)\n",
       "        e = window.event;\n",
       "    if (e.target)\n",
       "        targ = e.target;\n",
       "    else if (e.srcElement)\n",
       "        targ = e.srcElement;\n",
       "    if (targ.nodeType == 3) // defeat Safari bug\n",
       "        targ = targ.parentNode;\n",
       "\n",
       "    // jQuery normalizes the pageX and pageY\n",
       "    // pageX,Y are the mouse positions relative to the document\n",
       "    // offset() returns the position of the element relative to the document\n",
       "    var x = e.pageX - $(targ).offset().left;\n",
       "    var y = e.pageY - $(targ).offset().top;\n",
       "\n",
       "    return {\"x\": x, \"y\": y};\n",
       "};\n",
       "\n",
       "/*\n",
       " * return a copy of an object with only non-object keys\n",
       " * we need this to avoid circular references\n",
       " * http://stackoverflow.com/a/24161582/3208463\n",
       " */\n",
       "function simpleKeys (original) {\n",
       "  return Object.keys(original).reduce(function (obj, key) {\n",
       "    if (typeof original[key] !== 'object')\n",
       "        obj[key] = original[key]\n",
       "    return obj;\n",
       "  }, {});\n",
       "}\n",
       "\n",
       "mpl.figure.prototype.mouse_event = function(event, name) {\n",
       "    var canvas_pos = mpl.findpos(event)\n",
       "\n",
       "    if (name === 'button_press')\n",
       "    {\n",
       "        this.canvas.focus();\n",
       "        this.canvas_div.focus();\n",
       "    }\n",
       "\n",
       "    var x = canvas_pos.x * mpl.ratio;\n",
       "    var y = canvas_pos.y * mpl.ratio;\n",
       "\n",
       "    this.send_message(name, {x: x, y: y, button: event.button,\n",
       "                             step: event.step,\n",
       "                             guiEvent: simpleKeys(event)});\n",
       "\n",
       "    /* This prevents the web browser from automatically changing to\n",
       "     * the text insertion cursor when the button is pressed.  We want\n",
       "     * to control all of the cursor setting manually through the\n",
       "     * 'cursor' event from matplotlib */\n",
       "    event.preventDefault();\n",
       "    return false;\n",
       "}\n",
       "\n",
       "mpl.figure.prototype._key_event_extra = function(event, name) {\n",
       "    // Handle any extra behaviour associated with a key event\n",
       "}\n",
       "\n",
       "mpl.figure.prototype.key_event = function(event, name) {\n",
       "\n",
       "    // Prevent repeat events\n",
       "    if (name == 'key_press')\n",
       "    {\n",
       "        if (event.which === this._key)\n",
       "            return;\n",
       "        else\n",
       "            this._key = event.which;\n",
       "    }\n",
       "    if (name == 'key_release')\n",
       "        this._key = null;\n",
       "\n",
       "    var value = '';\n",
       "    if (event.ctrlKey && event.which != 17)\n",
       "        value += \"ctrl+\";\n",
       "    if (event.altKey && event.which != 18)\n",
       "        value += \"alt+\";\n",
       "    if (event.shiftKey && event.which != 16)\n",
       "        value += \"shift+\";\n",
       "\n",
       "    value += 'k';\n",
       "    value += event.which.toString();\n",
       "\n",
       "    this._key_event_extra(event, name);\n",
       "\n",
       "    this.send_message(name, {key: value,\n",
       "                             guiEvent: simpleKeys(event)});\n",
       "    return false;\n",
       "}\n",
       "\n",
       "mpl.figure.prototype.toolbar_button_onclick = function(name) {\n",
       "    if (name == 'download') {\n",
       "        this.handle_save(this, null);\n",
       "    } else {\n",
       "        this.send_message(\"toolbar_button\", {name: name});\n",
       "    }\n",
       "};\n",
       "\n",
       "mpl.figure.prototype.toolbar_button_onmouseover = function(tooltip) {\n",
       "    this.message.textContent = tooltip;\n",
       "};\n",
       "mpl.toolbar_items = [[\"Home\", \"Reset original view\", \"fa fa-home icon-home\", \"home\"], [\"Back\", \"Back to previous view\", \"fa fa-arrow-left icon-arrow-left\", \"back\"], [\"Forward\", \"Forward to next view\", \"fa fa-arrow-right icon-arrow-right\", \"forward\"], [\"\", \"\", \"\", \"\"], [\"Pan\", \"Pan axes with left mouse, zoom with right\", \"fa fa-arrows icon-move\", \"pan\"], [\"Zoom\", \"Zoom to rectangle\", \"fa fa-square-o icon-check-empty\", \"zoom\"], [\"\", \"\", \"\", \"\"], [\"Download\", \"Download plot\", \"fa fa-floppy-o icon-save\", \"download\"]];\n",
       "\n",
       "mpl.extensions = [\"eps\", \"jpeg\", \"pdf\", \"png\", \"ps\", \"raw\", \"svg\", \"tif\"];\n",
       "\n",
       "mpl.default_extension = \"png\";var comm_websocket_adapter = function(comm) {\n",
       "    // Create a \"websocket\"-like object which calls the given IPython comm\n",
       "    // object with the appropriate methods. Currently this is a non binary\n",
       "    // socket, so there is still some room for performance tuning.\n",
       "    var ws = {};\n",
       "\n",
       "    ws.close = function() {\n",
       "        comm.close()\n",
       "    };\n",
       "    ws.send = function(m) {\n",
       "        //console.log('sending', m);\n",
       "        comm.send(m);\n",
       "    };\n",
       "    // Register the callback with on_msg.\n",
       "    comm.on_msg(function(msg) {\n",
       "        //console.log('receiving', msg['content']['data'], msg);\n",
       "        // Pass the mpl event to the overridden (by mpl) onmessage function.\n",
       "        ws.onmessage(msg['content']['data'])\n",
       "    });\n",
       "    return ws;\n",
       "}\n",
       "\n",
       "mpl.mpl_figure_comm = function(comm, msg) {\n",
       "    // This is the function which gets called when the mpl process\n",
       "    // starts-up an IPython Comm through the \"matplotlib\" channel.\n",
       "\n",
       "    var id = msg.content.data.id;\n",
       "    // Get hold of the div created by the display call when the Comm\n",
       "    // socket was opened in Python.\n",
       "    var element = $(\"#\" + id);\n",
       "    var ws_proxy = comm_websocket_adapter(comm)\n",
       "\n",
       "    function ondownload(figure, format) {\n",
       "        window.open(figure.imageObj.src);\n",
       "    }\n",
       "\n",
       "    var fig = new mpl.figure(id, ws_proxy,\n",
       "                           ondownload,\n",
       "                           element.get(0));\n",
       "\n",
       "    // Call onopen now - mpl needs it, as it is assuming we've passed it a real\n",
       "    // web socket which is closed, not our websocket->open comm proxy.\n",
       "    ws_proxy.onopen();\n",
       "\n",
       "    fig.parent_element = element.get(0);\n",
       "    fig.cell_info = mpl.find_output_cell(\"<div id='\" + id + \"'></div>\");\n",
       "    if (!fig.cell_info) {\n",
       "        console.error(\"Failed to find cell for figure\", id, fig);\n",
       "        return;\n",
       "    }\n",
       "\n",
       "    var output_index = fig.cell_info[2]\n",
       "    var cell = fig.cell_info[0];\n",
       "\n",
       "};\n",
       "\n",
       "mpl.figure.prototype.handle_close = function(fig, msg) {\n",
       "    var width = fig.canvas.width/mpl.ratio\n",
       "    fig.root.unbind('remove')\n",
       "\n",
       "    // Update the output cell to use the data from the current canvas.\n",
       "    fig.push_to_output();\n",
       "    var dataURL = fig.canvas.toDataURL();\n",
       "    // Re-enable the keyboard manager in IPython - without this line, in FF,\n",
       "    // the notebook keyboard shortcuts fail.\n",
       "    IPython.keyboard_manager.enable()\n",
       "    $(fig.parent_element).html('<img src=\"' + dataURL + '\" width=\"' + width + '\">');\n",
       "    fig.close_ws(fig, msg);\n",
       "}\n",
       "\n",
       "mpl.figure.prototype.close_ws = function(fig, msg){\n",
       "    fig.send_message('closing', msg);\n",
       "    // fig.ws.close()\n",
       "}\n",
       "\n",
       "mpl.figure.prototype.push_to_output = function(remove_interactive) {\n",
       "    // Turn the data on the canvas into data in the output cell.\n",
       "    var width = this.canvas.width/mpl.ratio\n",
       "    var dataURL = this.canvas.toDataURL();\n",
       "    this.cell_info[1]['text/html'] = '<img src=\"' + dataURL + '\" width=\"' + width + '\">';\n",
       "}\n",
       "\n",
       "mpl.figure.prototype.updated_canvas_event = function() {\n",
       "    // Tell IPython that the notebook contents must change.\n",
       "    IPython.notebook.set_dirty(true);\n",
       "    this.send_message(\"ack\", {});\n",
       "    var fig = this;\n",
       "    // Wait a second, then push the new image to the DOM so\n",
       "    // that it is saved nicely (might be nice to debounce this).\n",
       "    setTimeout(function () { fig.push_to_output() }, 1000);\n",
       "}\n",
       "\n",
       "mpl.figure.prototype._init_toolbar = function() {\n",
       "    var fig = this;\n",
       "\n",
       "    var nav_element = $('<div/>');\n",
       "    nav_element.attr('style', 'width: 100%');\n",
       "    this.root.append(nav_element);\n",
       "\n",
       "    // Define a callback function for later on.\n",
       "    function toolbar_event(event) {\n",
       "        return fig.toolbar_button_onclick(event['data']);\n",
       "    }\n",
       "    function toolbar_mouse_event(event) {\n",
       "        return fig.toolbar_button_onmouseover(event['data']);\n",
       "    }\n",
       "\n",
       "    for(var toolbar_ind in mpl.toolbar_items){\n",
       "        var name = mpl.toolbar_items[toolbar_ind][0];\n",
       "        var tooltip = mpl.toolbar_items[toolbar_ind][1];\n",
       "        var image = mpl.toolbar_items[toolbar_ind][2];\n",
       "        var method_name = mpl.toolbar_items[toolbar_ind][3];\n",
       "\n",
       "        if (!name) { continue; };\n",
       "\n",
       "        var button = $('<button class=\"btn btn-default\" href=\"#\" title=\"' + name + '\"><i class=\"fa ' + image + ' fa-lg\"></i></button>');\n",
       "        button.click(method_name, toolbar_event);\n",
       "        button.mouseover(tooltip, toolbar_mouse_event);\n",
       "        nav_element.append(button);\n",
       "    }\n",
       "\n",
       "    // Add the status bar.\n",
       "    var status_bar = $('<span class=\"mpl-message\" style=\"text-align:right; float: right;\"/>');\n",
       "    nav_element.append(status_bar);\n",
       "    this.message = status_bar[0];\n",
       "\n",
       "    // Add the close button to the window.\n",
       "    var buttongrp = $('<div class=\"btn-group inline pull-right\"></div>');\n",
       "    var button = $('<button class=\"btn btn-mini btn-primary\" href=\"#\" title=\"Stop Interaction\"><i class=\"fa fa-power-off icon-remove icon-large\"></i></button>');\n",
       "    button.click(function (evt) { fig.handle_close(fig, {}); } );\n",
       "    button.mouseover('Stop Interaction', toolbar_mouse_event);\n",
       "    buttongrp.append(button);\n",
       "    var titlebar = this.root.find($('.ui-dialog-titlebar'));\n",
       "    titlebar.prepend(buttongrp);\n",
       "}\n",
       "\n",
       "mpl.figure.prototype._root_extra_style = function(el){\n",
       "    var fig = this\n",
       "    el.on(\"remove\", function(){\n",
       "\tfig.close_ws(fig, {});\n",
       "    });\n",
       "}\n",
       "\n",
       "mpl.figure.prototype._canvas_extra_style = function(el){\n",
       "    // this is important to make the div 'focusable\n",
       "    el.attr('tabindex', 0)\n",
       "    // reach out to IPython and tell the keyboard manager to turn it's self\n",
       "    // off when our div gets focus\n",
       "\n",
       "    // location in version 3\n",
       "    if (IPython.notebook.keyboard_manager) {\n",
       "        IPython.notebook.keyboard_manager.register_events(el);\n",
       "    }\n",
       "    else {\n",
       "        // location in version 2\n",
       "        IPython.keyboard_manager.register_events(el);\n",
       "    }\n",
       "\n",
       "}\n",
       "\n",
       "mpl.figure.prototype._key_event_extra = function(event, name) {\n",
       "    var manager = IPython.notebook.keyboard_manager;\n",
       "    if (!manager)\n",
       "        manager = IPython.keyboard_manager;\n",
       "\n",
       "    // Check for shift+enter\n",
       "    if (event.shiftKey && event.which == 13) {\n",
       "        this.canvas_div.blur();\n",
       "        // select the cell after this one\n",
       "        var index = IPython.notebook.find_cell_index(this.cell_info[0]);\n",
       "        IPython.notebook.select(index + 1);\n",
       "    }\n",
       "}\n",
       "\n",
       "mpl.figure.prototype.handle_save = function(fig, msg) {\n",
       "    fig.ondownload(fig, null);\n",
       "}\n",
       "\n",
       "\n",
       "mpl.find_output_cell = function(html_output) {\n",
       "    // Return the cell and output element which can be found *uniquely* in the notebook.\n",
       "    // Note - this is a bit hacky, but it is done because the \"notebook_saving.Notebook\"\n",
       "    // IPython event is triggered only after the cells have been serialised, which for\n",
       "    // our purposes (turning an active figure into a static one), is too late.\n",
       "    var cells = IPython.notebook.get_cells();\n",
       "    var ncells = cells.length;\n",
       "    for (var i=0; i<ncells; i++) {\n",
       "        var cell = cells[i];\n",
       "        if (cell.cell_type === 'code'){\n",
       "            for (var j=0; j<cell.output_area.outputs.length; j++) {\n",
       "                var data = cell.output_area.outputs[j];\n",
       "                if (data.data) {\n",
       "                    // IPython >= 3 moved mimebundle to data attribute of output\n",
       "                    data = data.data;\n",
       "                }\n",
       "                if (data['text/html'] == html_output) {\n",
       "                    return [cell, data, j];\n",
       "                }\n",
       "            }\n",
       "        }\n",
       "    }\n",
       "}\n",
       "\n",
       "// Register the function which deals with the matplotlib target/channel.\n",
       "// The kernel may be null if the page has been refreshed.\n",
       "if (IPython.notebook.kernel != null) {\n",
       "    IPython.notebook.kernel.comm_manager.register_target('matplotlib', mpl.mpl_figure_comm);\n",
       "}\n"
      ],
      "text/plain": [
       "<IPython.core.display.Javascript object>"
      ]
     },
     "metadata": {},
     "output_type": "display_data"
    },
    {
     "data": {
      "text/html": [
       "<img src=\"data:image/png;base64,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\" width=\"639.9999861283738\">"
      ],
      "text/plain": [
       "<IPython.core.display.HTML object>"
      ]
     },
     "metadata": {},
     "output_type": "display_data"
    }
   ],
   "source": [
    "from mpl_toolkits.mplot3d import Axes3D  \n",
    "import matplotlib.pyplot as plt\n",
    "import numpy as np\n",
    "\n",
    "%matplotlib notebook\n",
    "\n",
    "# show the drone path\n",
    "fig = plt.figure()\n",
    "ax = fig.add_subplot(111, projection='3d')\n",
    "\n",
    "\n",
    "# sample a path at regular points\n",
    "def sample_path(path, ts):\n",
    "    return np.array([path.get(t).as_list() for t in ts])\n",
    "   \n",
    "# plot the drone path    \n",
    "times = np.linspace(-10, 60, 500)\n",
    "label_times = times[180:-180:20]\n",
    "np_path = sample_path(drone_path, times)\n",
    "ax.scatter(np_path[:,0], np_path[:,1], np_path[:,2], cmap='viridis', c=times)\n",
    "ax.text(0,0,0,\"Launch point\")\n",
    "\n",
    "# show some time labels on the path\n",
    "for t in label_times:\n",
    "    # we can sample at *any* time, which makes this easy to write\n",
    "    drone_pt = drone_path.get(t)\n",
    "    ax.text(drone_pt.x, drone_pt.y, drone_pt.z, f\"{t:.1f}s\")\n"
   ]
  },
  {
   "cell_type": "markdown",
   "metadata": {},
   "source": []
  },
  {
   "cell_type": "markdown",
   "metadata": {},
   "source": [
    "#  C. Extended problems\n",
    "These *extended* problems are optional for students who are keen to learn more. If you've finished the whole lab and want to explore these ideas in more depth, these problems and resources are intended to help you do that. <font color=\"red\"> You do not need to attempt any of this section to receive a tick! </font>\n",
    "\n",
    "## C.1  Manufacturing vectors\n",
    "In Python, we can create classes *dynamically* (as well as instances), using the `type` function. See the example below, or look at this [tutorial](https://www.python-course.eu/python3_classes_and_type.php) for more information."
   ]
  },
  {
   "cell_type": "code",
   "execution_count": 44,
   "metadata": {
    "ExecuteTime": {
     "end_time": "2021-02-05T14:15:16.259887Z",
     "start_time": "2021-02-05T14:15:16.255007Z"
    }
   },
   "outputs": [
    {
     "name": "stdout",
     "output_type": "stream",
     "text": [
      "Hello, EVERYONE!\n",
      "Hello, you\n"
     ]
    }
   ],
   "source": [
    "def hello_init(self, name):\n",
    "    # there is nothing special\n",
    "    # about self; it's just a reference\n",
    "    # to the instance    \n",
    "    self.name = name\n",
    "    \n",
    "# type(classname, superclasses, attributedictionary)    \n",
    "# we won't use superclasses here\n",
    "Hello = type(\"Hello\", (), {         \n",
    "        \"__init__\": hello_init,\n",
    "         # could also use lambda if we want\n",
    "         \"__repr__\": lambda self:  \"Hello, \"+ self.name\n",
    "})\n",
    "h = Hello(\"EVERYONE!\")\n",
    "\n",
    "print(h)\n",
    "other_h = h.__class__(\"you\")\n",
    "print(other_h)"
   ]
  },
  {
   "cell_type": "markdown",
   "metadata": {},
   "source": [
    "Write a function `make_vec(n)` which returns a class `Vec<n>` (like `Vec3` or `Vec4`) that returns a class that performs the same operations as `Vec3` did, but for `n` element vectors."
   ]
  },
  {
   "cell_type": "code",
   "execution_count": 45,
   "metadata": {
    "ExecuteTime": {
     "end_time": "2021-02-05T14:15:16.868574Z",
     "start_time": "2021-02-05T14:15:16.858814Z"
    }
   },
   "outputs": [],
   "source": [
    "## Solution\n"
   ]
  },
  {
   "cell_type": "code",
   "execution_count": 43,
   "metadata": {
    "ExecuteTime": {
     "end_time": "2021-02-05T14:15:08.287616Z",
     "start_time": "2021-02-05T14:15:08.282735Z"
    }
   },
   "outputs": [
    {
     "name": "stdout",
     "output_type": "stream",
     "text": [
      "5.477225575051661\n",
      "<1.0 0.0 0.0 1.0>\n",
      "<2.0 2.0 3.0 5.0>\n",
      "5\n",
      "<3.0 6.0 9.0 12.0>\n"
     ]
    }
   ],
   "source": [
    "## Tests\n",
    "Vec4 = make_vec(4)\n",
    "v4 = Vec4(1,2,3,4)\n",
    "print(v4.length())\n",
    "v4_2 = Vec4(1,0,0,1)\n",
    "print(v4_2)\n",
    "print(v4 + v4_2)\n",
    "print(v4 @ v4_2)\n",
    "print(v4 * 3)\n",
    "\n"
   ]
  }
 ],
 "metadata": {
  "kernelspec": {
   "display_name": "Python 3",
   "language": "python",
   "name": "python3"
  },
  "language_info": {
   "codemirror_mode": {
    "name": "ipython",
    "version": 3
   },
   "file_extension": ".py",
   "mimetype": "text/x-python",
   "name": "python",
   "nbconvert_exporter": "python",
   "pygments_lexer": "ipython3",
   "version": "3.8.3"
  },
  "latex_envs": {
   "LaTeX_envs_menu_present": true,
   "autoclose": false,
   "autocomplete": true,
   "bibliofile": "biblio.bib",
   "cite_by": "apalike",
   "current_citInitial": 1,
   "eqLabelWithNumbers": true,
   "eqNumInitial": 1,
   "hotkeys": {
    "equation": "Ctrl-E",
    "itemize": "Ctrl-I"
   },
   "labels_anchors": false,
   "latex_user_defs": false,
   "report_style_numbering": false,
   "user_envs_cfg": false
  },
  "toc": {
   "base_numbering": 1,
   "nav_menu": {},
   "number_sections": true,
   "sideBar": true,
   "skip_h1_title": true,
   "title_cell": "Table of Contents",
   "title_sidebar": "Contents",
   "toc_cell": false,
   "toc_position": {},
   "toc_section_display": "block",
   "toc_window_display": false
  },
  "varInspector": {
   "cols": {
    "lenName": 16,
    "lenType": 16,
    "lenVar": 40
   },
   "kernels_config": {
    "python": {
     "delete_cmd_postfix": "",
     "delete_cmd_prefix": "del ",
     "library": "var_list.py",
     "varRefreshCmd": "print(var_dic_list())"
    },
    "r": {
     "delete_cmd_postfix": ") ",
     "delete_cmd_prefix": "rm(",
     "library": "var_list.r",
     "varRefreshCmd": "cat(var_dic_list()) "
    }
   },
   "types_to_exclude": [
    "module",
    "function",
    "builtin_function_or_method",
    "instance",
    "_Feature"
   ],
   "window_display": false
  }
 },
 "nbformat": 4,
 "nbformat_minor": 1
}
